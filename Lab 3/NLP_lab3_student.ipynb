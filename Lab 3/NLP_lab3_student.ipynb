{
  "nbformat": 4,
  "nbformat_minor": 0,
  "metadata": {
    "kernelspec": {
      "display_name": "Python 3",
      "language": "python",
      "name": "python3"
    },
    "language_info": {
      "codemirror_mode": {
        "name": "ipython",
        "version": 3
      },
      "file_extension": ".py",
      "mimetype": "text/x-python",
      "name": "python",
      "nbconvert_exporter": "python",
      "pygments_lexer": "ipython3",
      "version": "3.6.1"
    },
    "colab": {
      "name": "NLP_lab3_student.ipynb",
      "provenance": [],
      "collapsed_sections": [
        "-aIDyo0ywTVJ",
        "9H6m7-8AwTV6",
        "vHzDgAxHwTWU",
        "h6X79HinwTWn",
        "2U9vVgIKwTXL",
        "ADggIVnywTXi",
        "M3iNH9QswTX3",
        "X4zgbDquwTYO",
        "-bIv9nawwTZg"
      ],
      "toc_visible": true
    },
    "accelerator": "GPU"
  },
  "cells": [
    {
      "cell_type": "markdown",
      "metadata": {
        "collapsed": true,
        "pycharm": {
          "name": "#%% md\n"
        },
        "id": "q8qFYSLnwTVC",
        "colab_type": "text"
      },
      "source": [
        "# Lab session 3: Word embedding"
      ]
    },
    {
      "cell_type": "markdown",
      "metadata": {
        "id": "-utVHCDjwTVG",
        "colab_type": "text"
      },
      "source": [
        "This lab covers word embedding as seen in the theory lectures (DL lecture 5).\n",
        "\n",
        "General instructions:\n",
        "- Complete the code where needed\n",
        "- Provide answers to questions only in the cell where indicated\n",
        "- **Do not alter the evaluation cells** (`## evaluation`) in any way as they are needed for the partly automated evaluation process"
      ]
    },
    {
      "cell_type": "markdown",
      "metadata": {
        "id": "-aIDyo0ywTVJ",
        "colab_type": "text"
      },
      "source": [
        "## **Embedding; the Steroids for NLP!**\n",
        "\n",
        "Pre-trained embedding have brought NLP a long way. Most of the recent methods include word embeddings into their pipeline to obtain state-of-the-art performance. `Word2vec` is among the most famous methods to efficiently create word embeddings and has been around since 2013. Word2Vec has two different model architectures, namely `Skip-gram` and `CBOW`. `Skip-gram` was explained in more detail in the theory lecture, and today we will play with `CBOW`. We will train our own little embeddings, and use them to visualize text corpora. In the last part, we will download and utilize other pretrained embeddings to build a Part-of-Speech tagging (PoS) model.\n",
        "\n",
        "<img src=\"http://3g1o5q2sqh3w32ohtj4dwggw.wpengine.netdna-cdn.com/wp-content/uploads/2012/08/steroids-before-and-after-480x321.jpg\" alt=\"img\" width=\"512px\"/>\n",
        "\n"
      ]
    },
    {
      "cell_type": "code",
      "metadata": {
        "pycharm": {
          "name": "#%%\n"
        },
        "id": "XLQ_OB-CwTVL",
        "colab_type": "code",
        "outputId": "35d233b6-2a08-473c-86dc-cb3634d8615e",
        "colab": {
          "base_uri": "https://localhost:8080/",
          "height": 0
        }
      },
      "source": [
        "# import necessary packages\n",
        "import random\n",
        "import math\n",
        "import numpy as np\n",
        "\n",
        "from random import shuffle\n",
        "from collections import Counter\n",
        "\n",
        "import torch\n",
        "import torch.nn as nn\n",
        "import torch.nn.functional as F\n",
        "import torch.optim as optim\n",
        "\n",
        "device = torch.device('cuda' if torch.cuda.is_available() else 'cpu')\n",
        "print(device)"
      ],
      "execution_count": 1,
      "outputs": [
        {
          "output_type": "stream",
          "text": [
            "cuda\n"
          ],
          "name": "stdout"
        }
      ]
    },
    {
      "cell_type": "code",
      "metadata": {
        "id": "Hkg8Ixw9wTVY",
        "colab_type": "code",
        "colab": {}
      },
      "source": [
        "# for reproducibility\n",
        "\n",
        "SEED = 42\n",
        "random.seed(SEED)\n",
        "np.random.seed(SEED)\n",
        "torch.manual_seed(SEED)\n",
        "torch.backends.cudnn.deterministic = True\n",
        "torch.backends.cudnn.benchmark = False"
      ],
      "execution_count": 0,
      "outputs": []
    },
    {
      "cell_type": "markdown",
      "metadata": {
        "id": "hHHQoLbEwTVi",
        "colab_type": "text"
      },
      "source": [
        "## 1. Data preparation"
      ]
    },
    {
      "cell_type": "markdown",
      "metadata": {
        "pycharm": {
          "name": "#%% md\n"
        },
        "id": "s5sQQdS7wTVk",
        "colab_type": "text"
      },
      "source": [
        "As always, let's first prepare the data. We shall use the `text8` dataset, which offers cleaned English Wikipedia text. The data is clean UTF-8 and all characters are lower-cased with valid encodings."
      ]
    },
    {
      "cell_type": "code",
      "metadata": {
        "pycharm": {
          "is_executing": true,
          "name": "#%%\n"
        },
        "id": "MZvvmaWfwTVm",
        "colab_type": "code",
        "outputId": "fbf6d679-9fd9-449b-cda9-04b10b1612fd",
        "colab": {
          "base_uri": "https://localhost:8080/",
          "height": 278
        }
      },
      "source": [
        "!wget \"http://mattmahoney.net/dc/text8.zip\" -O text8.zip\n",
        "!unzip -o text8.zip\n",
        "!rm text8.zip\n",
        "!head -c 1b text8 # print first bytes of text8 data"
      ],
      "execution_count": 3,
      "outputs": [
        {
          "output_type": "stream",
          "text": [
            "--2020-04-28 14:51:47--  http://mattmahoney.net/dc/text8.zip\n",
            "Resolving mattmahoney.net (mattmahoney.net)... 67.195.197.75\n",
            "Connecting to mattmahoney.net (mattmahoney.net)|67.195.197.75|:80... connected.\n",
            "HTTP request sent, awaiting response... 200 OK\n",
            "Length: 31344016 (30M) [application/zip]\n",
            "Saving to: ‘text8.zip’\n",
            "\n",
            "text8.zip           100%[===================>]  29.89M   900KB/s    in 34s     \n",
            "\n",
            "2020-04-28 14:52:22 (888 KB/s) - ‘text8.zip’ saved [31344016/31344016]\n",
            "\n",
            "Archive:  text8.zip\n",
            "  inflating: text8                   \n",
            " anarchism originated as a term of abuse first used against early working class radicals including the diggers of the english revolution and the sans culottes of the french revolution whilst the term is still used in a pejorative way to describe any act that used violent means to destroy the organization of society it has also been taken up as a positive label by self defined anarchists the word anarchism is derived from the greek without archons ruler chief king anarchism as a political philosophy is the b"
          ],
          "name": "stdout"
        }
      ]
    },
    {
      "cell_type": "code",
      "metadata": {
        "pycharm": {
          "is_executing": true,
          "name": "#%%\n"
        },
        "id": "P5wEOk75wTVw",
        "colab_type": "code",
        "colab": {}
      },
      "source": [
        "# read text8\n",
        "with open('text8', 'r') as input_file:\n",
        "    text = input_file.read()"
      ],
      "execution_count": 0,
      "outputs": []
    },
    {
      "cell_type": "markdown",
      "metadata": {
        "id": "9H6m7-8AwTV6",
        "colab_type": "text"
      },
      "source": [
        "### Tokenization\n",
        "We first chop our text into pieces using NLTK's `WordPuncTokenizer`:"
      ]
    },
    {
      "cell_type": "code",
      "metadata": {
        "pycharm": {
          "is_executing": true,
          "name": "#%%\n"
        },
        "id": "gt3fOt6LwTV8",
        "colab_type": "code",
        "outputId": "0c739dd7-8905-4716-f862-b856967cb491",
        "colab": {
          "base_uri": "https://localhost:8080/",
          "height": 0
        }
      },
      "source": [
        "from nltk.tokenize import WordPunctTokenizer\n",
        "\n",
        "tknzr = WordPunctTokenizer()\n",
        "tokenized_text = tknzr.tokenize(text)\n",
        "\n",
        "print(tokenized_text[0:20])"
      ],
      "execution_count": 5,
      "outputs": [
        {
          "output_type": "stream",
          "text": [
            "['anarchism', 'originated', 'as', 'a', 'term', 'of', 'abuse', 'first', 'used', 'against', 'early', 'working', 'class', 'radicals', 'including', 'the', 'diggers', 'of', 'the', 'english']\n"
          ],
          "name": "stdout"
        }
      ]
    },
    {
      "cell_type": "markdown",
      "metadata": {
        "id": "YoMbgS_-wTWG",
        "colab_type": "text"
      },
      "source": [
        "### Build dictionary\n",
        "In this step, we convert each word to a unique id. We can define our vocabulary trimming rules, which specify whether certain words should remain in the vocabulary, be trimmed away, or handled differently. In following, we limit our vocabulary size to `vocab_size` words and replace the remaining tokens with `UNK`:"
      ]
    },
    {
      "cell_type": "code",
      "metadata": {
        "pycharm": {
          "is_executing": true,
          "name": "#%%\n"
        },
        "id": "nC4AgTGawTWI",
        "colab_type": "code",
        "colab": {}
      },
      "source": [
        "def get_data(text, vocab_size = None):\n",
        "    \n",
        "    word_counts = Counter(text)\n",
        "    \n",
        "    sorted_token = sorted(word_counts, key=word_counts.get, reverse=True) # sort by frequency\n",
        "    \n",
        "    if vocab_size: # keep most frequent words\n",
        "        sorted_token = sorted_token[:vocab_size-1] \n",
        "    \n",
        "    sorted_token.insert(0, 'UNK') # reserve 0 for UNK\n",
        "    \n",
        "    id_to_token = {k: w for k, w in enumerate(sorted_token)}\n",
        "    token_to_id = {w: k for k, w in id_to_token.items()}\n",
        "    \n",
        "    # tokenize words in vocab and replace rest with UNK\n",
        "    tokenized_ids = [token_to_id[w] if w in token_to_id else 0 for w in text]\n",
        "\n",
        "    return tokenized_ids, id_to_token, token_to_id"
      ],
      "execution_count": 0,
      "outputs": []
    },
    {
      "cell_type": "code",
      "metadata": {
        "pycharm": {
          "is_executing": true
        },
        "id": "yVFlqp6xwTWQ",
        "colab_type": "code",
        "outputId": "41dab733-ab88-4464-ce7c-18539ba6c2a4",
        "colab": {
          "base_uri": "https://localhost:8080/",
          "height": 140
        }
      },
      "source": [
        "tokenized_ids, id_to_token, token_to_id = get_data(tokenized_text)\n",
        "print('-' * 50)\n",
        "print('Number of uniqe tokens: {}'.format(len(id_to_token)))\n",
        "print('-' * 50)\n",
        "print(\"tokenized text: {}\".format(tokenized_text[0:20]))\n",
        "print('-' * 50)\n",
        "print(\"tokenized ids: {}\".format(tokenized_ids[0:20]))"
      ],
      "execution_count": 7,
      "outputs": [
        {
          "output_type": "stream",
          "text": [
            "--------------------------------------------------\n",
            "Number of uniqe tokens: 253855\n",
            "--------------------------------------------------\n",
            "tokenized text: ['anarchism', 'originated', 'as', 'a', 'term', 'of', 'abuse', 'first', 'used', 'against', 'early', 'working', 'class', 'radicals', 'including', 'the', 'diggers', 'of', 'the', 'english']\n",
            "--------------------------------------------------\n",
            "tokenized ids: [5234, 3081, 12, 6, 195, 2, 3134, 46, 59, 156, 128, 742, 477, 10572, 134, 1, 27350, 2, 1, 103]\n"
          ],
          "name": "stdout"
        }
      ]
    },
    {
      "cell_type": "markdown",
      "metadata": {
        "id": "vHzDgAxHwTWU",
        "colab_type": "text"
      },
      "source": [
        "### Generate samples\n",
        " \n",
        "The `CBOW` model architecture tries to predict the current target word (the center word) based on the source context words (surrounding words). The training data thus comprises pairs of `(context_window, target_word)`, for which the model should predict the `target_word` based on the `context_window` words.\n",
        "\n",
        "Considering a simple sentence, __the quick brown fox jumps over the lazy dog__, with a `context_window` of size 1, we have examples like __([quick, fox], brown)__, __([the, brown], quick)__, __([the, dog], lazy)__ and so on. \n",
        "\n",
        "<img src=\"\n",
        "https://cdn-images-1.medium.com/max/800/1*UVe8b6CWYykcxbBOR6uCfg.png\" alt=\"img\" width=\"400px\"/>\n",
        "\n"
      ]
    },
    {
      "cell_type": "markdown",
      "metadata": {
        "id": "YqEuyGPYwTWV",
        "colab_type": "text"
      },
      "source": [
        "Now let us convert our tokenized text from `tokenized_ids` into `(context_window, target_word)` pairs.\n",
        "\n",
        "You should loop over the `tokenized_ids` and build a __generator__ which yields a target word of length 1 and surrounding context of length (2 $\\times$ `window_size`) where we take `window_size` words before and after the target word in our corpus. Remember to pad context words with zeroes to a fixed length if needed."
      ]
    },
    {
      "cell_type": "code",
      "metadata": {
        "pycharm": {
          "is_executing": true
        },
        "id": "0SZaz6MXwTWW",
        "colab_type": "code",
        "colab": {}
      },
      "source": [
        "def generate_sample(tknzd_ids, window_size = 5):\n",
        "    for index, target in enumerate(tknzd_ids):\n",
        "        ############### for student ################\n",
        "        n_before = window_size\n",
        "        n_after = window_size\n",
        "\n",
        "        if index < window_size:\n",
        "            n_before = index\n",
        "\n",
        "        if index > len(tknzd_ids) - window_size - 1:\n",
        "            n_after = len(tknzd_ids) - index - 1\n",
        "\n",
        "        context_window = [0]*(window_size-n_before) + tknzd_ids[index-n_before:index] + tknzd_ids[index+1:index+n_after+1] + [0]*(window_size-n_after)\n",
        "        ############################################\n",
        "        yield context_window, target"
      ],
      "execution_count": 0,
      "outputs": []
    },
    {
      "cell_type": "code",
      "metadata": {
        "pycharm": {
          "is_executing": true
        },
        "id": "F6eYxn1LwTWb",
        "colab_type": "code",
        "outputId": "83637e3d-aef8-4e1c-e4df-5fb92219b912",
        "colab": {
          "base_uri": "https://localhost:8080/",
          "height": 0
        }
      },
      "source": [
        "## evaluation\n",
        "## DON'T CHANGE THIS CELL IN ANY WAY\n",
        "\n",
        "dummy_gen = generate_sample([11, 12, 13, 14, 15], 2)\n",
        "dummy_example = list(dummy_gen)\n",
        "print(dummy_example)\n",
        "\n",
        "assert isinstance(dummy_example[0], tuple), \"Is it a pair?\" \n",
        "assert len(dummy_example[0][0]) == 4, \"Context length should be 2 * window_size\"\n",
        "assert dummy_example[0][1] == 11, \"Did you return the correct target word?\"\n",
        "assert dummy_example[0][0][0] == dummy_example[0][0][1]==0, \"Did you add 0 pads where needed?\"\n",
        "assert len(dummy_example[0]) == len(dummy_example[-1]), \"Length of all instances should be the same due to the padding\"\n",
        "assert dummy_example[0][0] == [0, 0, 12, 13], \"Did you consider contexts before and after the target word?\" \n",
        "\n",
        "print('Well done!')"
      ],
      "execution_count": 9,
      "outputs": [
        {
          "output_type": "stream",
          "text": [
            "[([0, 0, 12, 13], 11), ([0, 11, 13, 14], 12), ([11, 12, 14, 15], 13), ([12, 13, 15, 0], 14), ([13, 14, 0, 0], 15)]\n",
            "Well done!\n"
          ],
          "name": "stdout"
        }
      ]
    },
    {
      "cell_type": "markdown",
      "metadata": {
        "id": "I0OG1WMFwTWf",
        "colab_type": "text"
      },
      "source": [
        "To train our model faster, it is good idea to batchify our data. For your convenience, we implemented it for you: "
      ]
    },
    {
      "cell_type": "code",
      "metadata": {
        "pycharm": {
          "is_executing": true
        },
        "id": "T71YpQiOwTWg",
        "colab_type": "code",
        "colab": {}
      },
      "source": [
        "def batch_gen(tknzd_ids, batch_size = 4,  window_size = 5):\n",
        "    \n",
        "    # shuffling all tokenized ids changes the context of each target word\n",
        "    # shuffle(tknzd_ids) # shuffle is in place and does not return anything\n",
        "    \n",
        "    single_gen = generate_sample(tknzd_ids, window_size) # get sample generator\n",
        "    \n",
        "    while True:\n",
        "        try: \n",
        "            # The end of iterations is indicated by an exception \n",
        "            context_batch = np.zeros([batch_size, window_size * 2], dtype=np.int32)\n",
        "            target_batch = np.zeros([batch_size], dtype=np.int32)\n",
        "            for index in range(batch_size):\n",
        "                context_batch[index], target_batch[index] = next(single_gen)\n",
        "            yield context_batch, target_batch\n",
        "        except StopIteration:\n",
        "            break"
      ],
      "execution_count": 0,
      "outputs": []
    },
    {
      "cell_type": "code",
      "metadata": {
        "pycharm": {
          "is_executing": true
        },
        "id": "v8IEjnxVwTWk",
        "colab_type": "code",
        "outputId": "d2336cbb-0341-4b13-ec25-6a5989ccccff",
        "colab": {
          "base_uri": "https://localhost:8080/",
          "height": 0
        }
      },
      "source": [
        "dummy_batches = batch_gen([11, 12, 13, 14, 15, 16, 17, 18], batch_size=4, window_size=2)\n",
        "\n",
        "print(\"First batch:\\n\", next(dummy_batches))\n",
        "print('-' * 50)\n",
        "print(\"Second batch:\\n\", next(dummy_batches))"
      ],
      "execution_count": 11,
      "outputs": [
        {
          "output_type": "stream",
          "text": [
            "First batch:\n",
            " (array([[ 0,  0, 12, 13],\n",
            "       [ 0, 11, 13, 14],\n",
            "       [11, 12, 14, 15],\n",
            "       [12, 13, 15, 16]], dtype=int32), array([11, 12, 13, 14], dtype=int32))\n",
            "--------------------------------------------------\n",
            "Second batch:\n",
            " (array([[13, 14, 16, 17],\n",
            "       [14, 15, 17, 18],\n",
            "       [15, 16, 18,  0],\n",
            "       [16, 17,  0,  0]], dtype=int32), array([15, 16, 17, 18], dtype=int32))\n"
          ],
          "name": "stdout"
        }
      ]
    },
    {
      "cell_type": "markdown",
      "metadata": {
        "id": "-3Zz9XybwTWn",
        "colab_type": "text"
      },
      "source": [
        "## 2. CBOW Model\n",
        "\n",
        "We now leverage pytorch to build our CBOW model. For this, our inputs will be our context words which are first converted into one-hot vectors, and next projected into a word-vector. Word-vectors will be obtained from an embedding-matrix ($W$) which represents the distributed feature vectors associated with each word in the vocabulary. This embedding-matrix is initialized with a normal distribution.\n",
        "\n",
        "Next, the projected words are averaged out (hence we don’t really consider the order or sequence in the context words when averaged) and then we multiply this averaged vector with another embedding matrix ($W'$), which defines so-called context embeddings to project the CBOW representation back to the one-hot space to match with the target word. (Note: in the theory, this is introduced as the linear output layer, with dimensions equal to the transposed of the embedding matrix.)  We thus apply a log-softmax on the resulting context vectors, to predict the most probable target word given the input context.\n",
        "\n",
        "We match the predicted word with the actual target word, compute the loss by leveraging the cross entropy loss and perform back-propagation with each iteration to update the embedding-matrix in the process.\n",
        "\n",
        "<img src=\"https://cdn-images-1.medium.com/freeze/max/1000/1*uATTt40gbJ1HJQgIqE-VPA.png?q=20\" alt=\"img\" width=\"512px\"/>\n",
        "\n"
      ]
    },
    {
      "cell_type": "markdown",
      "metadata": {
        "id": "h6X79HinwTWn",
        "colab_type": "text"
      },
      "source": [
        "### Question-1\n",
        "\n",
        "- How could we modify the `CBOW` architecture to consider the order and position of the context words?  \n",
        "\n",
        "**<font color=blue>By using max pooling instead of average pooling.</font>**"
      ]
    },
    {
      "cell_type": "markdown",
      "metadata": {
        "id": "BMboeCOLwTWq",
        "colab_type": "text"
      },
      "source": [
        "Now, complete the CBOW class below, following the instructions in the comments."
      ]
    },
    {
      "cell_type": "code",
      "metadata": {
        "pycharm": {
          "is_executing": true
        },
        "id": "aNkWhKE5wTWr",
        "colab_type": "code",
        "colab": {}
      },
      "source": [
        "class CBOW(nn.Module):\n",
        "\n",
        "    def __init__(self, embedding_dim=100, vocab_size=10000):\n",
        "        super(CBOW, self).__init__()\n",
        "        \n",
        "        self.vocab_size = vocab_size\n",
        "        \n",
        "        # use nn.Parameter to define the two matrices W and W' from above, \n",
        "        # thus one for word (W) and one for context (W') embeddings:\n",
        "        # self.embed_in = ...  # word embedding\n",
        "        # self.embed_out = ... # context embedding\n",
        "        ############### for student ################\n",
        "        self.embed_in = nn.Parameter(torch.zeros((embedding_dim, self.vocab_size)))\n",
        "        self.embed_out = nn.Parameter(torch.zeros((self.vocab_size, embedding_dim)))\n",
        "        ############################################\n",
        "        \n",
        "        self.reset_parameters()\n",
        "            \n",
        "    \n",
        "    def reset_parameters(self):\n",
        "        # Initialize parameters\n",
        "        nn.init.kaiming_uniform_(self.embed_in, a=math.sqrt(5))\n",
        "        nn.init.kaiming_uniform_(self.embed_out, a=math.sqrt(5))\n",
        "    \n",
        "    def get_word_embedding(self):\n",
        "        return self.embed_in\n",
        "    \n",
        "    def get_context_embedding(self):\n",
        "        return self.embed_out\n",
        "    \n",
        "    \n",
        "    def forward(self, inps):\n",
        "        \"\"\"\n",
        "        Convert given indices to log-probablities. \n",
        "        Follow these steps:\n",
        "        1) convert the inputs' word indices to one-hot vectors\n",
        "        2) project the one-hot vectors to their embedding (use F.linear, do *NOT* use nn.Embedding)\n",
        "        3) calculate the mean of the embedded vectors\n",
        "        4) project back with the context embedding matrix \n",
        "        5) calculate the log-probability (with F.log_softmax)\n",
        "                \n",
        "        :argument:\n",
        "            inps (list): List of indices\n",
        "        \n",
        "        :return:\n",
        "            log-probablity of words\n",
        "        \"\"\"\n",
        "        ############### for student ################\n",
        "        one_hot = F.one_hot(inps, self.vocab_size)\n",
        "        word_embed = F.linear(one_hot.float(), self.embed_in)\n",
        "        mean = word_embed.mean(dim=1)\n",
        "        context_embed = F.linear(mean, self.embed_out)\n",
        "        log_probs = F.log_softmax(context_embed)\n",
        "        ############################################\n",
        "        return log_probs"
      ],
      "execution_count": 0,
      "outputs": []
    },
    {
      "cell_type": "code",
      "metadata": {
        "pycharm": {
          "is_executing": true
        },
        "id": "KyAe2myfwTWv",
        "colab_type": "code",
        "outputId": "d0056cf8-530a-43a8-f2df-bcf7a22511af",
        "colab": {
          "base_uri": "https://localhost:8080/",
          "height": 0
        }
      },
      "source": [
        "## evaluation\n",
        "## DON'T CHANGE THIS CELL IN ANY WAY\n",
        "\n",
        "dummy_model = CBOW(20, 10)\n",
        "dummy_inps1 = torch.tensor([[6, 7, 9, 0]], dtype=torch.long)\n",
        "dummy_inps2 = torch.tensor([[6, 7, 9, 0], [1, 2, 3, 4]], dtype=torch.long)\n",
        "dummy_pred1 = dummy_model(dummy_inps1)\n",
        "dummy_pred2 = dummy_model(dummy_inps2)\n",
        "\n",
        "assert isinstance(dummy_model.embed_in, nn.Parameter), \"Use nn.Parameter for embed_in\"\n",
        "assert isinstance(dummy_model.embed_out, nn.Parameter), \"Use nn.Parameter for embed_out\"\n",
        "assert dummy_model.embed_in.shape == torch.Size([20, 10]), \"param_in shape is not correct\"\n",
        "assert dummy_model.embed_out.shape == torch.Size([10, 20]), \"param_out shape is not correct\"\n",
        "assert dummy_pred1.shape == torch.Size([1,10]), \"Prediction shape is not correct\"\n",
        "assert dummy_pred2.shape == torch.Size([2,10]), \"Prediction shape is not correct\"\n",
        "assert dummy_pred1.grad_fn.__class__.__name__ == 'LogSoftmaxBackward', \"softmax layer?\"\n",
        "\n",
        "print('Well done!')"
      ],
      "execution_count": 13,
      "outputs": [
        {
          "output_type": "stream",
          "text": [
            "Well done!\n"
          ],
          "name": "stdout"
        },
        {
          "output_type": "stream",
          "text": [
            "/usr/local/lib/python3.6/dist-packages/ipykernel_launcher.py:53: UserWarning: Implicit dimension choice for log_softmax has been deprecated. Change the call to include dim=X as an argument.\n"
          ],
          "name": "stderr"
        }
      ]
    },
    {
      "cell_type": "markdown",
      "metadata": {
        "id": "UuhdlapEwTWz",
        "colab_type": "text"
      },
      "source": [
        "### Train Model"
      ]
    },
    {
      "cell_type": "markdown",
      "metadata": {
        "id": "ZzliSNC_wTW0",
        "colab_type": "text"
      },
      "source": [
        "Before jumping into the training part, we need to define some hyper-parameters:"
      ]
    },
    {
      "cell_type": "code",
      "metadata": {
        "pycharm": {
          "is_executing": true
        },
        "id": "R6jc-It2wTW1",
        "colab_type": "code",
        "colab": {}
      },
      "source": [
        "# embedding hyper-parameters\n",
        "\n",
        "EMBED_DIM = 100\n",
        "WINDOW_SIZE = 5\n",
        "BATCH_SIZE = 128\n",
        "VOCAB_SIZE = 10_000\n",
        "\n",
        "EPOCHS = 1 # to make things faster in this basic setup\n",
        "interval = 1000"
      ],
      "execution_count": 0,
      "outputs": []
    },
    {
      "cell_type": "code",
      "metadata": {
        "pycharm": {
          "is_executing": true
        },
        "id": "-a5smxqRwTW6",
        "colab_type": "code",
        "colab": {}
      },
      "source": [
        "# get data\n",
        "\n",
        "tokenized_ids, id_to_token, _ = get_data(tokenized_text, VOCAB_SIZE)"
      ],
      "execution_count": 0,
      "outputs": []
    },
    {
      "cell_type": "markdown",
      "metadata": {
        "id": "q55CmPACwTXA",
        "colab_type": "text"
      },
      "source": [
        "Now we define our main training loop. Please implement the typical steps for training:\n",
        "- Reset all gradients\n",
        "- Compute output and loss value\n",
        "- Perform back-propagation\n",
        "- Update the network’s parameters"
      ]
    },
    {
      "cell_type": "code",
      "metadata": {
        "pycharm": {
          "is_executing": true
        },
        "id": "JwzksB14wTXC",
        "colab_type": "code",
        "outputId": "7ca5ac79-4243-4554-f8be-286dcdf2813f",
        "colab": {
          "base_uri": "https://localhost:8080/",
          "height": 1000
        }
      },
      "source": [
        "model = CBOW(EMBED_DIM, VOCAB_SIZE)\n",
        "model = model.to(device)\n",
        "\n",
        "criterion = nn.NLLLoss()\n",
        "optimizer = optim.Adam(model.parameters())\n",
        "\n",
        "loss_history = []\n",
        "\n",
        "for e in range(EPOCHS):\n",
        "    \n",
        "    batches = batch_gen(tokenized_ids, batch_size=BATCH_SIZE, window_size=WINDOW_SIZE)\n",
        "    total_loss = 0.0\n",
        "    \n",
        "    for iteration, (context, target) in enumerate(batches):\n",
        "        \n",
        "        # Step 1. Prepare the inputs to be passed to the model (wrap integer indices in tensors)\n",
        "        # Step 2. Recall that torch *accumulates* gradients. Before passing a\n",
        "        #         new instance, you need to zero out the gradients from the old instance\n",
        "        # Step 3. Run the forward pass, getting predicted target words log probabilities\n",
        "        # Step 4. Compute your loss function. \n",
        "        # Step 5. Do the backward pass and update the gradient\n",
        "        \n",
        "        ############### for student ################\n",
        "        context = torch.LongTensor(context).to(device)\n",
        "        target = torch.LongTensor(target).to(device)\n",
        "\n",
        "        optimizer.zero_grad()\n",
        "\n",
        "        log_probs = model.forward(context)\n",
        "        loss = criterion(log_probs, target)\n",
        "\n",
        "        loss.backward()\n",
        "        optimizer.step()\n",
        "        ############################################\n",
        "        \n",
        "        total_loss += loss.item()\n",
        "        \n",
        "        if iteration % interval == 0:\n",
        "            print('Epoch:{}/{},\\tIteration:{},\\tLoss:{}'.format(e, EPOCHS, iteration, total_loss / interval))#, end = \"\\r\", flush = True)\n",
        "            loss_history.append(total_loss / interval)\n",
        "            total_loss = 0.0"
      ],
      "execution_count": 16,
      "outputs": [
        {
          "output_type": "stream",
          "text": [
            "/usr/local/lib/python3.6/dist-packages/ipykernel_launcher.py:53: UserWarning: Implicit dimension choice for log_softmax has been deprecated. Change the call to include dim=X as an argument.\n"
          ],
          "name": "stderr"
        },
        {
          "output_type": "stream",
          "text": [
            "Epoch:0/1,\tIteration:0,\tLoss:0.009210083961486816\n",
            "Epoch:0/1,\tIteration:1000,\tLoss:6.98003680229187\n",
            "Epoch:0/1,\tIteration:2000,\tLoss:6.41237203502655\n",
            "Epoch:0/1,\tIteration:3000,\tLoss:6.355920181751252\n",
            "Epoch:0/1,\tIteration:4000,\tLoss:6.268236405968666\n",
            "Epoch:0/1,\tIteration:5000,\tLoss:6.011583807945251\n",
            "Epoch:0/1,\tIteration:6000,\tLoss:6.0881432962417605\n",
            "Epoch:0/1,\tIteration:7000,\tLoss:5.935342714190483\n",
            "Epoch:0/1,\tIteration:8000,\tLoss:5.704964931488037\n",
            "Epoch:0/1,\tIteration:9000,\tLoss:5.688196800708771\n",
            "Epoch:0/1,\tIteration:10000,\tLoss:6.082110327959061\n",
            "Epoch:0/1,\tIteration:11000,\tLoss:6.02968112373352\n",
            "Epoch:0/1,\tIteration:12000,\tLoss:5.972457123041153\n",
            "Epoch:0/1,\tIteration:13000,\tLoss:5.8920275294780735\n",
            "Epoch:0/1,\tIteration:14000,\tLoss:5.933533553361893\n",
            "Epoch:0/1,\tIteration:15000,\tLoss:5.758544758796692\n",
            "Epoch:0/1,\tIteration:16000,\tLoss:6.000870287895203\n",
            "Epoch:0/1,\tIteration:17000,\tLoss:5.954390692472458\n",
            "Epoch:0/1,\tIteration:18000,\tLoss:5.969454768419266\n",
            "Epoch:0/1,\tIteration:19000,\tLoss:5.980127104520798\n",
            "Epoch:0/1,\tIteration:20000,\tLoss:5.868254191160202\n",
            "Epoch:0/1,\tIteration:21000,\tLoss:5.960954417705536\n",
            "Epoch:0/1,\tIteration:22000,\tLoss:5.928487191200256\n",
            "Epoch:0/1,\tIteration:23000,\tLoss:5.927696528673172\n",
            "Epoch:0/1,\tIteration:24000,\tLoss:5.881724512100219\n",
            "Epoch:0/1,\tIteration:25000,\tLoss:5.850472261190414\n",
            "Epoch:0/1,\tIteration:26000,\tLoss:5.772154316663742\n",
            "Epoch:0/1,\tIteration:27000,\tLoss:5.739269967079163\n",
            "Epoch:0/1,\tIteration:28000,\tLoss:5.897262148857116\n",
            "Epoch:0/1,\tIteration:29000,\tLoss:5.876156377077103\n",
            "Epoch:0/1,\tIteration:30000,\tLoss:5.830652189254761\n",
            "Epoch:0/1,\tIteration:31000,\tLoss:5.952709870576858\n",
            "Epoch:0/1,\tIteration:32000,\tLoss:5.9373462994098665\n",
            "Epoch:0/1,\tIteration:33000,\tLoss:5.5956826369762425\n",
            "Epoch:0/1,\tIteration:34000,\tLoss:5.930290914773941\n",
            "Epoch:0/1,\tIteration:35000,\tLoss:5.815020031929016\n",
            "Epoch:0/1,\tIteration:36000,\tLoss:5.8009558248519895\n",
            "Epoch:0/1,\tIteration:37000,\tLoss:5.89508767080307\n",
            "Epoch:0/1,\tIteration:38000,\tLoss:5.767864404201507\n",
            "Epoch:0/1,\tIteration:39000,\tLoss:5.761582095384598\n",
            "Epoch:0/1,\tIteration:40000,\tLoss:5.622309210538864\n",
            "Epoch:0/1,\tIteration:41000,\tLoss:5.752723930835724\n",
            "Epoch:0/1,\tIteration:42000,\tLoss:5.800832928180695\n",
            "Epoch:0/1,\tIteration:43000,\tLoss:5.7503017930984495\n",
            "Epoch:0/1,\tIteration:44000,\tLoss:5.788173782348633\n",
            "Epoch:0/1,\tIteration:45000,\tLoss:5.7320178942680355\n",
            "Epoch:0/1,\tIteration:46000,\tLoss:5.7810084304809575\n",
            "Epoch:0/1,\tIteration:47000,\tLoss:5.717383912086487\n",
            "Epoch:0/1,\tIteration:48000,\tLoss:5.790286029100418\n",
            "Epoch:0/1,\tIteration:49000,\tLoss:5.723027593374252\n",
            "Epoch:0/1,\tIteration:50000,\tLoss:5.64465229010582\n",
            "Epoch:0/1,\tIteration:51000,\tLoss:5.6001872014999385\n",
            "Epoch:0/1,\tIteration:52000,\tLoss:5.670156351566314\n",
            "Epoch:0/1,\tIteration:53000,\tLoss:5.665253391742707\n",
            "Epoch:0/1,\tIteration:54000,\tLoss:5.63490158200264\n",
            "Epoch:0/1,\tIteration:55000,\tLoss:5.625751535892487\n",
            "Epoch:0/1,\tIteration:56000,\tLoss:5.738576672554016\n",
            "Epoch:0/1,\tIteration:57000,\tLoss:5.733219198465347\n",
            "Epoch:0/1,\tIteration:58000,\tLoss:5.571284301519394\n",
            "Epoch:0/1,\tIteration:59000,\tLoss:5.64305598282814\n",
            "Epoch:0/1,\tIteration:60000,\tLoss:5.58204007768631\n",
            "Epoch:0/1,\tIteration:61000,\tLoss:5.670817386388778\n",
            "Epoch:0/1,\tIteration:62000,\tLoss:5.670162817716599\n",
            "Epoch:0/1,\tIteration:63000,\tLoss:5.5971675368547436\n",
            "Epoch:0/1,\tIteration:64000,\tLoss:5.624200838088989\n",
            "Epoch:0/1,\tIteration:65000,\tLoss:5.5601652076244354\n",
            "Epoch:0/1,\tIteration:66000,\tLoss:5.581682207345962\n",
            "Epoch:0/1,\tIteration:67000,\tLoss:5.681835259437561\n",
            "Epoch:0/1,\tIteration:68000,\tLoss:5.475357088088989\n",
            "Epoch:0/1,\tIteration:69000,\tLoss:5.550533980846405\n",
            "Epoch:0/1,\tIteration:70000,\tLoss:5.625025253772735\n",
            "Epoch:0/1,\tIteration:71000,\tLoss:5.514824985027313\n",
            "Epoch:0/1,\tIteration:72000,\tLoss:5.609921064138413\n",
            "Epoch:0/1,\tIteration:73000,\tLoss:5.6210317995548245\n",
            "Epoch:0/1,\tIteration:74000,\tLoss:5.633709595441818\n",
            "Epoch:0/1,\tIteration:75000,\tLoss:5.647324303388595\n",
            "Epoch:0/1,\tIteration:76000,\tLoss:5.503534961938858\n",
            "Epoch:0/1,\tIteration:77000,\tLoss:5.527165512323379\n",
            "Epoch:0/1,\tIteration:78000,\tLoss:5.587600441217423\n",
            "Epoch:0/1,\tIteration:79000,\tLoss:5.623143375635147\n",
            "Epoch:0/1,\tIteration:80000,\tLoss:5.546127947330475\n",
            "Epoch:0/1,\tIteration:81000,\tLoss:5.5881768581867215\n",
            "Epoch:0/1,\tIteration:82000,\tLoss:5.473987106800079\n",
            "Epoch:0/1,\tIteration:83000,\tLoss:5.4857667939662935\n",
            "Epoch:0/1,\tIteration:84000,\tLoss:5.54457437825203\n",
            "Epoch:0/1,\tIteration:85000,\tLoss:5.6170641911029815\n",
            "Epoch:0/1,\tIteration:86000,\tLoss:5.540236571788788\n",
            "Epoch:0/1,\tIteration:87000,\tLoss:5.501413816690445\n",
            "Epoch:0/1,\tIteration:88000,\tLoss:5.6045894391536715\n",
            "Epoch:0/1,\tIteration:89000,\tLoss:5.525987417221069\n",
            "Epoch:0/1,\tIteration:90000,\tLoss:5.548740170478821\n",
            "Epoch:0/1,\tIteration:91000,\tLoss:5.573115305185318\n",
            "Epoch:0/1,\tIteration:92000,\tLoss:5.519305857658386\n",
            "Epoch:0/1,\tIteration:93000,\tLoss:5.454894805908203\n",
            "Epoch:0/1,\tIteration:94000,\tLoss:5.597678880691529\n",
            "Epoch:0/1,\tIteration:95000,\tLoss:5.641539328575134\n",
            "Epoch:0/1,\tIteration:96000,\tLoss:5.449745023012161\n",
            "Epoch:0/1,\tIteration:97000,\tLoss:5.5708477778434755\n",
            "Epoch:0/1,\tIteration:98000,\tLoss:5.512481455564499\n",
            "Epoch:0/1,\tIteration:99000,\tLoss:5.5466942653656\n",
            "Epoch:0/1,\tIteration:100000,\tLoss:4.950997400283813\n",
            "Epoch:0/1,\tIteration:101000,\tLoss:4.993693469762802\n",
            "Epoch:0/1,\tIteration:102000,\tLoss:5.157804750919342\n",
            "Epoch:0/1,\tIteration:103000,\tLoss:5.2345544228553775\n",
            "Epoch:0/1,\tIteration:104000,\tLoss:5.387575657367706\n",
            "Epoch:0/1,\tIteration:105000,\tLoss:5.4406364030838015\n",
            "Epoch:0/1,\tIteration:106000,\tLoss:5.501149290800095\n",
            "Epoch:0/1,\tIteration:107000,\tLoss:5.470418320417404\n",
            "Epoch:0/1,\tIteration:108000,\tLoss:5.422294109106064\n",
            "Epoch:0/1,\tIteration:109000,\tLoss:5.421575304985047\n",
            "Epoch:0/1,\tIteration:110000,\tLoss:5.3960647859573365\n",
            "Epoch:0/1,\tIteration:111000,\tLoss:5.627514034271241\n",
            "Epoch:0/1,\tIteration:112000,\tLoss:5.46699217414856\n",
            "Epoch:0/1,\tIteration:113000,\tLoss:5.370510830402374\n",
            "Epoch:0/1,\tIteration:114000,\tLoss:5.508462259531021\n",
            "Epoch:0/1,\tIteration:115000,\tLoss:5.447392034053802\n",
            "Epoch:0/1,\tIteration:116000,\tLoss:5.444370437383652\n",
            "Epoch:0/1,\tIteration:117000,\tLoss:5.410220898866654\n",
            "Epoch:0/1,\tIteration:118000,\tLoss:5.585351110219955\n",
            "Epoch:0/1,\tIteration:119000,\tLoss:5.567148096323013\n",
            "Epoch:0/1,\tIteration:120000,\tLoss:5.566078731060028\n",
            "Epoch:0/1,\tIteration:121000,\tLoss:5.286806033372879\n",
            "Epoch:0/1,\tIteration:122000,\tLoss:5.185704100608826\n",
            "Epoch:0/1,\tIteration:123000,\tLoss:5.424082656860351\n",
            "Epoch:0/1,\tIteration:124000,\tLoss:5.493606863498687\n",
            "Epoch:0/1,\tIteration:125000,\tLoss:5.2471918568611144\n",
            "Epoch:0/1,\tIteration:126000,\tLoss:5.439170346736908\n",
            "Epoch:0/1,\tIteration:127000,\tLoss:5.518364778757095\n",
            "Epoch:0/1,\tIteration:128000,\tLoss:5.443316507577896\n",
            "Epoch:0/1,\tIteration:129000,\tLoss:5.283167228460312\n",
            "Epoch:0/1,\tIteration:130000,\tLoss:5.401509329080581\n",
            "Epoch:0/1,\tIteration:131000,\tLoss:5.354206582784653\n",
            "Epoch:0/1,\tIteration:132000,\tLoss:5.472748783826828\n"
          ],
          "name": "stdout"
        }
      ]
    },
    {
      "cell_type": "code",
      "metadata": {
        "pycharm": {
          "is_executing": true
        },
        "id": "vnWU8TCYwTXG",
        "colab_type": "code",
        "outputId": "182d7b39-1f39-407a-9e16-043a54c0331b",
        "colab": {
          "base_uri": "https://localhost:8080/",
          "height": 34
        }
      },
      "source": [
        "## evaluation\n",
        "## DON'T CHANGE THIS CELL IN ANY WAY\n",
        "\n",
        "assert loss_history[-1] < 6.5\n",
        "\n",
        "print('Well done!')"
      ],
      "execution_count": 17,
      "outputs": [
        {
          "output_type": "stream",
          "text": [
            "Well done!\n"
          ],
          "name": "stdout"
        }
      ]
    },
    {
      "cell_type": "markdown",
      "metadata": {
        "id": "2U9vVgIKwTXL",
        "colab_type": "text"
      },
      "source": [
        "### Nearest words\n",
        "\n",
        "So far, we trained the __CBOW__ successfully, now it is time to explore it more. In this part, we want to find the $k$ nearest word to a given word, i.e., nearby in the vector space.\n",
        "\n",
        "<img src=\"https://i0.wp.com/i.imgur.com/IeZt839.png\" alt=\"img\" width=\"480px\"/>\n",
        "\n"
      ]
    },
    {
      "cell_type": "markdown",
      "metadata": {
        "id": "o2dfyhrzwTXL",
        "colab_type": "text"
      },
      "source": [
        "Define a helper function to retrieve the corresponding vector for a given word:"
      ]
    },
    {
      "cell_type": "code",
      "metadata": {
        "pycharm": {
          "is_executing": true
        },
        "id": "JO5N56AYwTXM",
        "colab_type": "code",
        "colab": {}
      },
      "source": [
        "# be sure jupyter session is not terminated!\n",
        "# use token_to_id to retrieve the index\n",
        "\n",
        "def get_vector(embedding, word):\n",
        "    \"\"\"\n",
        "    :argument:\n",
        "        embedding (matrix): embedding matrix \n",
        "        word (str): The given input\n",
        "    :return:\n",
        "        word-vector for a given word\n",
        "    \"\"\"\n",
        "    ############### for student ################\n",
        "    index = token_to_id[word]\n",
        "    word_vector = embedding[:,index].unsqueeze(1)\n",
        "    return word_vector\n",
        "    ############################################"
      ],
      "execution_count": 0,
      "outputs": []
    },
    {
      "cell_type": "code",
      "metadata": {
        "pycharm": {
          "is_executing": true
        },
        "id": "L50ix_3mwTXR",
        "colab_type": "code",
        "outputId": "54f8b7bd-850f-49d4-dde9-7267569883d6",
        "colab": {
          "base_uri": "https://localhost:8080/",
          "height": 0
        }
      },
      "source": [
        "## evaluation\n",
        "## DON'T CHANGE THIS CELL IN ANY WAY\n",
        "\n",
        "embedding = model.embed_in.data\n",
        "\n",
        "assert get_vector(embedding, 'the').shape == torch.Size([100, 1]), \"vector size should be (embed_dim, 1)\"\n",
        "assert np.allclose(embedding[:,(0,)].data.cpu().numpy(), get_vector(embedding, 'UNK').data.cpu().numpy()), \"Do you retrieve correct vector?\"\n",
        "print('Well done!')"
      ],
      "execution_count": 19,
      "outputs": [
        {
          "output_type": "stream",
          "text": [
            "Well done!\n"
          ],
          "name": "stdout"
        }
      ]
    },
    {
      "cell_type": "markdown",
      "metadata": {
        "id": "2_A2NW-OwTXV",
        "colab_type": "text"
      },
      "source": [
        "Define a function to return the list of $k$ most similar words, e.g., based on `cosine-similarity`, to a given word:"
      ]
    },
    {
      "cell_type": "code",
      "metadata": {
        "pycharm": {
          "is_executing": true
        },
        "id": "Pq4DkCXAwTXW",
        "colab_type": "code",
        "colab": {}
      },
      "source": [
        "def most_similar_words(embedding, word, k=1):\n",
        "    \"\"\"\n",
        "    return k similar (based on cosine similarity) items\n",
        "    :argument:\n",
        "        embedding (matrix): embedding matrix \n",
        "        word (str): The given input\n",
        "        k (int): The number of similar items    \n",
        "    :return:\n",
        "        list of k similar items\n",
        "    \"\"\"\n",
        "    x = get_vector(embedding, word) # 100, 1\n",
        "    ############### for student ################\n",
        "    distances = F.cosine_similarity(embedding.T, x.T)\n",
        "    ids = torch.argsort(distances, descending=True)[1:k+1]\n",
        "    most_similar = [id_to_token[id.item()] for id in ids]\n",
        "    ############################################\n",
        "    return most_similar"
      ],
      "execution_count": 0,
      "outputs": []
    },
    {
      "cell_type": "code",
      "metadata": {
        "pycharm": {
          "is_executing": true
        },
        "id": "iclHYllTwTXd",
        "colab_type": "code",
        "outputId": "ff54277f-bff0-42d8-bc0b-3e2af95d9648",
        "colab": {
          "base_uri": "https://localhost:8080/",
          "height": 0
        }
      },
      "source": [
        "## evaluation\n",
        "## DON'T CHANGE THIS CELL IN ANY WAY\n",
        "\n",
        "embedding = model.embed_in.data\n",
        "\n",
        "dummy_list = most_similar_words(embedding, \"mutual\", 3)\n",
        "s1 = F.cosine_similarity(get_vector(embedding, dummy_list[0]).T, get_vector(embedding, \"mutual\").T)\n",
        "s2 = F.cosine_similarity(get_vector(embedding, dummy_list[1]).T, get_vector(embedding, \"mutual\").T)\n",
        "s3 = F.cosine_similarity(get_vector(embedding, dummy_list[2]).T, get_vector(embedding, \"mutual\").T)\n",
        "\n",
        "assert len(dummy_list) == 3, \"return k nearest words\"\n",
        "assert s1.data.cpu().numpy()[0] >= s2.data.cpu().numpy()[0], \"first item should have higher probablity to the given word\"\n",
        "assert s2.data.cpu().numpy()[0] >= s3.data.cpu().numpy()[0], \"second item should have higher probability\"\n",
        "assert s1.data.cpu().numpy()[0] != 1 , \"Similarity score of one means you return the word itself\"\n",
        "\n",
        "print('Well done!')"
      ],
      "execution_count": 21,
      "outputs": [
        {
          "output_type": "stream",
          "text": [
            "Well done!\n"
          ],
          "name": "stdout"
        }
      ]
    },
    {
      "cell_type": "markdown",
      "metadata": {
        "id": "ADggIVnywTXi",
        "colab_type": "text"
      },
      "source": [
        "### Linear projection\n"
      ]
    },
    {
      "cell_type": "markdown",
      "metadata": {
        "pycharm": {
          "name": "#%% md\n"
        },
        "id": "TsFm2GFKwTXk",
        "colab_type": "text"
      },
      "source": [
        "The simplest linear dimensionality reduction method is __P__rincipial __C__omponent __A__nalysis.\n",
        "\n",
        "In geometric terms, PCA tries to find axes along which most of the variance occurs. The \"natural\" axes, if you wish.\n",
        "\n",
        "\n",
        "<img src=\"https://hackernoon.com/hn-images/1*ZFqnPuxa1PtUece-OHBoTA.png\" alt=\"img\" width=\"512px\"/>"
      ]
    },
    {
      "cell_type": "markdown",
      "metadata": {
        "pycharm": {
          "is_executing": true
        },
        "id": "f7PGwfTdwTXl",
        "colab_type": "text"
      },
      "source": [
        "Under the hood, it attempts to decompose an object-feature matrix $X$ into two smaller matrices: $W$ and $\\hat W$ minimizing the *mean squared error*:\n",
        "\n",
        "$$\\min_{W, \\hat{W}} \\ \\ \\|(X W) \\hat{W} - X\\|^2_2 $$\n",
        "\n",
        "with\n",
        "- $X \\in \\mathbb{R}^{n \\times m}$ - object matrix (**centered**);\n",
        "- $W \\in \\mathbb{R}^{m \\times d}$ - matrix of direct transformation;\n",
        "- $\\hat{W} \\in \\mathbb{R}^{d \\times m}$ - matrix of reverse transformation;\n",
        "- $n$ samples, $m$ original dimensions and $d$ target dimensions;\n"
      ]
    },
    {
      "cell_type": "code",
      "metadata": {
        "pycharm": {
          "is_executing": true
        },
        "id": "DyHp3oshwTXm",
        "colab_type": "code",
        "colab": {}
      },
      "source": [
        "from sklearn.decomposition import PCA\n",
        "\n",
        "# Map word vectors onto a 2D plane with PCA. Use the good old sklearn API (fit, transform).\n",
        "# Finally, normalize the mapped vectors, to make sure they have zero mean and unit variance \n",
        "\n",
        "############### for student ################\n",
        "word_vectors = embedding.data.cpu().numpy()\n",
        "pca = PCA(n_components=2, whiten=True)\n",
        "word_vectors_pca = pca.fit_transform(word_vectors)\n",
        "############################################"
      ],
      "execution_count": 0,
      "outputs": []
    },
    {
      "cell_type": "code",
      "metadata": {
        "pycharm": {
          "is_executing": true
        },
        "id": "Sc_vCb7cwTXq",
        "colab_type": "code",
        "outputId": "7d401031-4423-4ac5-eda8-31a1dbe274ce",
        "colab": {
          "base_uri": "https://localhost:8080/",
          "height": 0
        }
      },
      "source": [
        "## evaluation\n",
        "## DON'T CHANGE THIS CELL IN ANY WAY\n",
        "\n",
        "assert word_vectors_pca.shape == (len(word_vectors), 2), \"there must be a 2D vector for each word\"\n",
        "assert max(abs(word_vectors_pca.mean(0))) < 1e-5, \"points must be zero-centered\"\n",
        "assert max(abs(1.0 - word_vectors_pca.std(0))) < 1e-2, \"points must have unit variance\"\n",
        "\n",
        "print('Well done')"
      ],
      "execution_count": 23,
      "outputs": [
        {
          "output_type": "stream",
          "text": [
            "Well done\n"
          ],
          "name": "stdout"
        }
      ]
    },
    {
      "cell_type": "code",
      "metadata": {
        "pycharm": {
          "is_executing": true
        },
        "id": "fSz_knolwTXu",
        "colab_type": "code",
        "colab": {}
      },
      "source": [
        "# !pip install bokeh\n",
        "\n",
        "import bokeh.models as bm, bokeh.plotting as pl\n",
        "from bokeh.io import output_notebook\n",
        "\n",
        "output_notebook()\n",
        "\n",
        "def draw_vectors(x, y, radius=10, alpha=0.25, color='blue',\n",
        "                 width=600, height=400, show=True, **kwargs):\n",
        "    \"\"\" draws an interactive plot for data points with auxiliary info on hover \"\"\"\n",
        "    if isinstance(color, str): color = [color] * len(x)\n",
        "    data_source = bm.ColumnDataSource({ 'x' : x, 'y' : y, 'color': color, **kwargs })\n",
        "\n",
        "    fig = pl.figure(active_scroll='wheel_zoom', width=width, height=height)\n",
        "    fig.scatter('x', 'y', size=radius, color='color', alpha=alpha, source=data_source)\n",
        "\n",
        "    fig.add_tools(bm.HoverTool(tooltips=[(key, \"@\" + key) for key in kwargs.keys()]))\n",
        "    if show: pl.show(fig)\n",
        "    return fig"
      ],
      "execution_count": 0,
      "outputs": []
    },
    {
      "cell_type": "code",
      "metadata": {
        "pycharm": {
          "is_executing": true
        },
        "id": "EmrVBq4XwTXy",
        "colab_type": "code",
        "outputId": "78af003c-79bb-4ffd-be3d-fd9a61c6fd5c",
        "colab": {
          "base_uri": "https://localhost:8080/",
          "height": 0
        }
      },
      "source": [
        "draw_vectors(word_vectors_pca[:, 0], word_vectors_pca[:, 1], token=list(id_to_token.values()))"
      ],
      "execution_count": 25,
      "outputs": [
        {
          "output_type": "stream",
          "text": [
            "BokehUserWarning: ColumnDataSource's columns must be of the same length. Current lengths: ('color', 100), ('token', 10000), ('x', 100), ('y', 100)\n"
          ],
          "name": "stderr"
        },
        {
          "output_type": "display_data",
          "data": {
            "application/javascript": [
              "\n",
              "(function(root) {\n",
              "  function now() {\n",
              "    return new Date();\n",
              "  }\n",
              "\n",
              "  var force = true;\n",
              "\n",
              "  if (typeof root._bokeh_onload_callbacks === \"undefined\" || force === true) {\n",
              "    root._bokeh_onload_callbacks = [];\n",
              "    root._bokeh_is_loading = undefined;\n",
              "  }\n",
              "\n",
              "  var JS_MIME_TYPE = 'application/javascript';\n",
              "  var HTML_MIME_TYPE = 'text/html';\n",
              "  var EXEC_MIME_TYPE = 'application/vnd.bokehjs_exec.v0+json';\n",
              "  var CLASS_NAME = 'output_bokeh rendered_html';\n",
              "\n",
              "  /**\n",
              "   * Render data to the DOM node\n",
              "   */\n",
              "  function render(props, node) {\n",
              "    var script = document.createElement(\"script\");\n",
              "    node.appendChild(script);\n",
              "  }\n",
              "\n",
              "  /**\n",
              "   * Handle when an output is cleared or removed\n",
              "   */\n",
              "  function handleClearOutput(event, handle) {\n",
              "    var cell = handle.cell;\n",
              "\n",
              "    var id = cell.output_area._bokeh_element_id;\n",
              "    var server_id = cell.output_area._bokeh_server_id;\n",
              "    // Clean up Bokeh references\n",
              "    if (id != null && id in Bokeh.index) {\n",
              "      Bokeh.index[id].model.document.clear();\n",
              "      delete Bokeh.index[id];\n",
              "    }\n",
              "\n",
              "    if (server_id !== undefined) {\n",
              "      // Clean up Bokeh references\n",
              "      var cmd = \"from bokeh.io.state import curstate; print(curstate().uuid_to_server['\" + server_id + \"'].get_sessions()[0].document.roots[0]._id)\";\n",
              "      cell.notebook.kernel.execute(cmd, {\n",
              "        iopub: {\n",
              "          output: function(msg) {\n",
              "            var id = msg.content.text.trim();\n",
              "            if (id in Bokeh.index) {\n",
              "              Bokeh.index[id].model.document.clear();\n",
              "              delete Bokeh.index[id];\n",
              "            }\n",
              "          }\n",
              "        }\n",
              "      });\n",
              "      // Destroy server and session\n",
              "      var cmd = \"import bokeh.io.notebook as ion; ion.destroy_server('\" + server_id + \"')\";\n",
              "      cell.notebook.kernel.execute(cmd);\n",
              "    }\n",
              "  }\n",
              "\n",
              "  /**\n",
              "   * Handle when a new output is added\n",
              "   */\n",
              "  function handleAddOutput(event, handle) {\n",
              "    var output_area = handle.output_area;\n",
              "    var output = handle.output;\n",
              "\n",
              "    // limit handleAddOutput to display_data with EXEC_MIME_TYPE content only\n",
              "    if ((output.output_type != \"display_data\") || (!output.data.hasOwnProperty(EXEC_MIME_TYPE))) {\n",
              "      return\n",
              "    }\n",
              "\n",
              "    var toinsert = output_area.element.find(\".\" + CLASS_NAME.split(' ')[0]);\n",
              "\n",
              "    if (output.metadata[EXEC_MIME_TYPE][\"id\"] !== undefined) {\n",
              "      toinsert[toinsert.length - 1].firstChild.textContent = output.data[JS_MIME_TYPE];\n",
              "      // store reference to embed id on output_area\n",
              "      output_area._bokeh_element_id = output.metadata[EXEC_MIME_TYPE][\"id\"];\n",
              "    }\n",
              "    if (output.metadata[EXEC_MIME_TYPE][\"server_id\"] !== undefined) {\n",
              "      var bk_div = document.createElement(\"div\");\n",
              "      bk_div.innerHTML = output.data[HTML_MIME_TYPE];\n",
              "      var script_attrs = bk_div.children[0].attributes;\n",
              "      for (var i = 0; i < script_attrs.length; i++) {\n",
              "        toinsert[toinsert.length - 1].firstChild.setAttribute(script_attrs[i].name, script_attrs[i].value);\n",
              "      }\n",
              "      // store reference to server id on output_area\n",
              "      output_area._bokeh_server_id = output.metadata[EXEC_MIME_TYPE][\"server_id\"];\n",
              "    }\n",
              "  }\n",
              "\n",
              "  function register_renderer(events, OutputArea) {\n",
              "\n",
              "    function append_mime(data, metadata, element) {\n",
              "      // create a DOM node to render to\n",
              "      var toinsert = this.create_output_subarea(\n",
              "        metadata,\n",
              "        CLASS_NAME,\n",
              "        EXEC_MIME_TYPE\n",
              "      );\n",
              "      this.keyboard_manager.register_events(toinsert);\n",
              "      // Render to node\n",
              "      var props = {data: data, metadata: metadata[EXEC_MIME_TYPE]};\n",
              "      render(props, toinsert[toinsert.length - 1]);\n",
              "      element.append(toinsert);\n",
              "      return toinsert\n",
              "    }\n",
              "\n",
              "    /* Handle when an output is cleared or removed */\n",
              "    events.on('clear_output.CodeCell', handleClearOutput);\n",
              "    events.on('delete.Cell', handleClearOutput);\n",
              "\n",
              "    /* Handle when a new output is added */\n",
              "    events.on('output_added.OutputArea', handleAddOutput);\n",
              "\n",
              "    /**\n",
              "     * Register the mime type and append_mime function with output_area\n",
              "     */\n",
              "    OutputArea.prototype.register_mime_type(EXEC_MIME_TYPE, append_mime, {\n",
              "      /* Is output safe? */\n",
              "      safe: true,\n",
              "      /* Index of renderer in `output_area.display_order` */\n",
              "      index: 0\n",
              "    });\n",
              "  }\n",
              "\n",
              "  // register the mime type if in Jupyter Notebook environment and previously unregistered\n",
              "  if (root.Jupyter !== undefined) {\n",
              "    var events = require('base/js/events');\n",
              "    var OutputArea = require('notebook/js/outputarea').OutputArea;\n",
              "\n",
              "    if (OutputArea.prototype.mime_types().indexOf(EXEC_MIME_TYPE) == -1) {\n",
              "      register_renderer(events, OutputArea);\n",
              "    }\n",
              "  }\n",
              "\n",
              "  \n",
              "  if (typeof (root._bokeh_timeout) === \"undefined\" || force === true) {\n",
              "    root._bokeh_timeout = Date.now() + 5000;\n",
              "    root._bokeh_failed_load = false;\n",
              "  }\n",
              "\n",
              "  var NB_LOAD_WARNING = {'data': {'text/html':\n",
              "     \"<div style='background-color: #fdd'>\\n\"+\n",
              "     \"<p>\\n\"+\n",
              "     \"BokehJS does not appear to have successfully loaded. If loading BokehJS from CDN, this \\n\"+\n",
              "     \"may be due to a slow or bad network connection. Possible fixes:\\n\"+\n",
              "     \"</p>\\n\"+\n",
              "     \"<ul>\\n\"+\n",
              "     \"<li>re-rerun `output_notebook()` to attempt to load from CDN again, or</li>\\n\"+\n",
              "     \"<li>use INLINE resources instead, as so:</li>\\n\"+\n",
              "     \"</ul>\\n\"+\n",
              "     \"<code>\\n\"+\n",
              "     \"from bokeh.resources import INLINE\\n\"+\n",
              "     \"output_notebook(resources=INLINE)\\n\"+\n",
              "     \"</code>\\n\"+\n",
              "     \"</div>\"}};\n",
              "\n",
              "  function display_loaded() {\n",
              "    var el = document.getElementById(null);\n",
              "    if (el != null) {\n",
              "      el.textContent = \"BokehJS is loading...\";\n",
              "    }\n",
              "    if (root.Bokeh !== undefined) {\n",
              "      if (el != null) {\n",
              "        el.textContent = \"BokehJS \" + root.Bokeh.version + \" successfully loaded.\";\n",
              "      }\n",
              "    } else if (Date.now() < root._bokeh_timeout) {\n",
              "      setTimeout(display_loaded, 100)\n",
              "    }\n",
              "  }\n",
              "\n",
              "\n",
              "  function run_callbacks() {\n",
              "    try {\n",
              "      root._bokeh_onload_callbacks.forEach(function(callback) {\n",
              "        if (callback != null)\n",
              "          callback();\n",
              "      });\n",
              "    } finally {\n",
              "      delete root._bokeh_onload_callbacks\n",
              "    }\n",
              "    console.debug(\"Bokeh: all callbacks have finished\");\n",
              "  }\n",
              "\n",
              "  function load_libs(css_urls, js_urls, callback) {\n",
              "    if (css_urls == null) css_urls = [];\n",
              "    if (js_urls == null) js_urls = [];\n",
              "\n",
              "    root._bokeh_onload_callbacks.push(callback);\n",
              "    if (root._bokeh_is_loading > 0) {\n",
              "      console.debug(\"Bokeh: BokehJS is being loaded, scheduling callback at\", now());\n",
              "      return null;\n",
              "    }\n",
              "    if (js_urls == null || js_urls.length === 0) {\n",
              "      run_callbacks();\n",
              "      return null;\n",
              "    }\n",
              "    console.debug(\"Bokeh: BokehJS not loaded, scheduling load and callback at\", now());\n",
              "    root._bokeh_is_loading = css_urls.length + js_urls.length;\n",
              "\n",
              "    function on_load() {\n",
              "      root._bokeh_is_loading--;\n",
              "      if (root._bokeh_is_loading === 0) {\n",
              "        console.debug(\"Bokeh: all BokehJS libraries/stylesheets loaded\");\n",
              "        run_callbacks()\n",
              "      }\n",
              "    }\n",
              "\n",
              "    function on_error() {\n",
              "      console.error(\"failed to load \" + url);\n",
              "    }\n",
              "\n",
              "    for (var i = 0; i < css_urls.length; i++) {\n",
              "      var url = css_urls[i];\n",
              "      const element = document.createElement(\"link\");\n",
              "      element.onload = on_load;\n",
              "      element.onerror = on_error;\n",
              "      element.rel = \"stylesheet\";\n",
              "      element.type = \"text/css\";\n",
              "      element.href = url;\n",
              "      console.debug(\"Bokeh: injecting link tag for BokehJS stylesheet: \", url);\n",
              "      document.body.appendChild(element);\n",
              "    }\n",
              "\n",
              "    for (var i = 0; i < js_urls.length; i++) {\n",
              "      var url = js_urls[i];\n",
              "      var element = document.createElement('script');\n",
              "      element.onload = on_load;\n",
              "      element.onerror = on_error;\n",
              "      element.async = false;\n",
              "      element.src = url;\n",
              "      console.debug(\"Bokeh: injecting script tag for BokehJS library: \", url);\n",
              "      document.head.appendChild(element);\n",
              "    }\n",
              "  };\n",
              "\n",
              "  function inject_raw_css(css) {\n",
              "    const element = document.createElement(\"style\");\n",
              "    element.appendChild(document.createTextNode(css));\n",
              "    document.body.appendChild(element);\n",
              "  }\n",
              "\n",
              "  \n",
              "  var js_urls = [\"https://cdn.pydata.org/bokeh/release/bokeh-1.4.0.min.js\", \"https://cdn.pydata.org/bokeh/release/bokeh-widgets-1.4.0.min.js\", \"https://cdn.pydata.org/bokeh/release/bokeh-tables-1.4.0.min.js\", \"https://cdn.pydata.org/bokeh/release/bokeh-gl-1.4.0.min.js\"];\n",
              "  var css_urls = [];\n",
              "  \n",
              "\n",
              "  var inline_js = [\n",
              "    function(Bokeh) {\n",
              "      Bokeh.set_log_level(\"info\");\n",
              "    },\n",
              "    function(Bokeh) {\n",
              "    \n",
              "    \n",
              "    }\n",
              "  ];\n",
              "\n",
              "  function run_inline_js() {\n",
              "    \n",
              "    if (root.Bokeh !== undefined || force === true) {\n",
              "      \n",
              "    for (var i = 0; i < inline_js.length; i++) {\n",
              "      inline_js[i].call(root, root.Bokeh);\n",
              "    }\n",
              "    } else if (Date.now() < root._bokeh_timeout) {\n",
              "      setTimeout(run_inline_js, 100);\n",
              "    } else if (!root._bokeh_failed_load) {\n",
              "      console.log(\"Bokeh: BokehJS failed to load within specified timeout.\");\n",
              "      root._bokeh_failed_load = true;\n",
              "    } else if (force !== true) {\n",
              "      var cell = $(document.getElementById(null)).parents('.cell').data().cell;\n",
              "      cell.output_area.append_execute_result(NB_LOAD_WARNING)\n",
              "    }\n",
              "\n",
              "  }\n",
              "\n",
              "  if (root._bokeh_is_loading === 0) {\n",
              "    console.debug(\"Bokeh: BokehJS loaded, going straight to plotting\");\n",
              "    run_inline_js();\n",
              "  } else {\n",
              "    load_libs(css_urls, js_urls, function() {\n",
              "      console.debug(\"Bokeh: BokehJS plotting callback run at\", now());\n",
              "      run_inline_js();\n",
              "    });\n",
              "  }\n",
              "}(window));"
            ],
            "application/vnd.bokehjs_load.v0+json": "\n(function(root) {\n  function now() {\n    return new Date();\n  }\n\n  var force = true;\n\n  if (typeof root._bokeh_onload_callbacks === \"undefined\" || force === true) {\n    root._bokeh_onload_callbacks = [];\n    root._bokeh_is_loading = undefined;\n  }\n\n  \n\n  \n  if (typeof (root._bokeh_timeout) === \"undefined\" || force === true) {\n    root._bokeh_timeout = Date.now() + 5000;\n    root._bokeh_failed_load = false;\n  }\n\n  var NB_LOAD_WARNING = {'data': {'text/html':\n     \"<div style='background-color: #fdd'>\\n\"+\n     \"<p>\\n\"+\n     \"BokehJS does not appear to have successfully loaded. If loading BokehJS from CDN, this \\n\"+\n     \"may be due to a slow or bad network connection. Possible fixes:\\n\"+\n     \"</p>\\n\"+\n     \"<ul>\\n\"+\n     \"<li>re-rerun `output_notebook()` to attempt to load from CDN again, or</li>\\n\"+\n     \"<li>use INLINE resources instead, as so:</li>\\n\"+\n     \"</ul>\\n\"+\n     \"<code>\\n\"+\n     \"from bokeh.resources import INLINE\\n\"+\n     \"output_notebook(resources=INLINE)\\n\"+\n     \"</code>\\n\"+\n     \"</div>\"}};\n\n  function display_loaded() {\n    var el = document.getElementById(null);\n    if (el != null) {\n      el.textContent = \"BokehJS is loading...\";\n    }\n    if (root.Bokeh !== undefined) {\n      if (el != null) {\n        el.textContent = \"BokehJS \" + root.Bokeh.version + \" successfully loaded.\";\n      }\n    } else if (Date.now() < root._bokeh_timeout) {\n      setTimeout(display_loaded, 100)\n    }\n  }\n\n\n  function run_callbacks() {\n    try {\n      root._bokeh_onload_callbacks.forEach(function(callback) {\n        if (callback != null)\n          callback();\n      });\n    } finally {\n      delete root._bokeh_onload_callbacks\n    }\n    console.debug(\"Bokeh: all callbacks have finished\");\n  }\n\n  function load_libs(css_urls, js_urls, callback) {\n    if (css_urls == null) css_urls = [];\n    if (js_urls == null) js_urls = [];\n\n    root._bokeh_onload_callbacks.push(callback);\n    if (root._bokeh_is_loading > 0) {\n      console.debug(\"Bokeh: BokehJS is being loaded, scheduling callback at\", now());\n      return null;\n    }\n    if (js_urls == null || js_urls.length === 0) {\n      run_callbacks();\n      return null;\n    }\n    console.debug(\"Bokeh: BokehJS not loaded, scheduling load and callback at\", now());\n    root._bokeh_is_loading = css_urls.length + js_urls.length;\n\n    function on_load() {\n      root._bokeh_is_loading--;\n      if (root._bokeh_is_loading === 0) {\n        console.debug(\"Bokeh: all BokehJS libraries/stylesheets loaded\");\n        run_callbacks()\n      }\n    }\n\n    function on_error() {\n      console.error(\"failed to load \" + url);\n    }\n\n    for (var i = 0; i < css_urls.length; i++) {\n      var url = css_urls[i];\n      const element = document.createElement(\"link\");\n      element.onload = on_load;\n      element.onerror = on_error;\n      element.rel = \"stylesheet\";\n      element.type = \"text/css\";\n      element.href = url;\n      console.debug(\"Bokeh: injecting link tag for BokehJS stylesheet: \", url);\n      document.body.appendChild(element);\n    }\n\n    for (var i = 0; i < js_urls.length; i++) {\n      var url = js_urls[i];\n      var element = document.createElement('script');\n      element.onload = on_load;\n      element.onerror = on_error;\n      element.async = false;\n      element.src = url;\n      console.debug(\"Bokeh: injecting script tag for BokehJS library: \", url);\n      document.head.appendChild(element);\n    }\n  };\n\n  function inject_raw_css(css) {\n    const element = document.createElement(\"style\");\n    element.appendChild(document.createTextNode(css));\n    document.body.appendChild(element);\n  }\n\n  \n  var js_urls = [\"https://cdn.pydata.org/bokeh/release/bokeh-1.4.0.min.js\", \"https://cdn.pydata.org/bokeh/release/bokeh-widgets-1.4.0.min.js\", \"https://cdn.pydata.org/bokeh/release/bokeh-tables-1.4.0.min.js\", \"https://cdn.pydata.org/bokeh/release/bokeh-gl-1.4.0.min.js\"];\n  var css_urls = [];\n  \n\n  var inline_js = [\n    function(Bokeh) {\n      Bokeh.set_log_level(\"info\");\n    },\n    function(Bokeh) {\n    \n    \n    }\n  ];\n\n  function run_inline_js() {\n    \n    if (root.Bokeh !== undefined || force === true) {\n      \n    for (var i = 0; i < inline_js.length; i++) {\n      inline_js[i].call(root, root.Bokeh);\n    }\n    } else if (Date.now() < root._bokeh_timeout) {\n      setTimeout(run_inline_js, 100);\n    } else if (!root._bokeh_failed_load) {\n      console.log(\"Bokeh: BokehJS failed to load within specified timeout.\");\n      root._bokeh_failed_load = true;\n    } else if (force !== true) {\n      var cell = $(document.getElementById(null)).parents('.cell').data().cell;\n      cell.output_area.append_execute_result(NB_LOAD_WARNING)\n    }\n\n  }\n\n  if (root._bokeh_is_loading === 0) {\n    console.debug(\"Bokeh: BokehJS loaded, going straight to plotting\");\n    run_inline_js();\n  } else {\n    load_libs(css_urls, js_urls, function() {\n      console.debug(\"Bokeh: BokehJS plotting callback run at\", now());\n      run_inline_js();\n    });\n  }\n}(window));"
          },
          "metadata": {
            "tags": []
          }
        },
        {
          "output_type": "display_data",
          "data": {
            "text/html": [
              "\n",
              "\n",
              "\n",
              "\n",
              "\n",
              "\n",
              "  <div class=\"bk-root\" id=\"91c45110-7747-4b10-a21b-24093916314e\" data-root-id=\"1002\"></div>\n"
            ]
          },
          "metadata": {
            "tags": []
          }
        },
        {
          "output_type": "display_data",
          "data": {
            "application/javascript": [
              "(function(root) {\n",
              "  function embed_document(root) {\n",
              "    \n",
              "  var docs_json = {\"056bbb58-9428-4750-b23f-5844e287370f\":{\"roots\":{\"references\":[{\"attributes\":{\"below\":[{\"id\":\"1011\",\"type\":\"LinearAxis\"}],\"center\":[{\"id\":\"1015\",\"type\":\"Grid\"},{\"id\":\"1020\",\"type\":\"Grid\"}],\"left\":[{\"id\":\"1016\",\"type\":\"LinearAxis\"}],\"plot_height\":400,\"renderers\":[{\"id\":\"1037\",\"type\":\"GlyphRenderer\"}],\"title\":{\"id\":\"1042\",\"type\":\"Title\"},\"toolbar\":{\"id\":\"1027\",\"type\":\"Toolbar\"},\"x_range\":{\"id\":\"1003\",\"type\":\"DataRange1d\"},\"x_scale\":{\"id\":\"1007\",\"type\":\"LinearScale\"},\"y_range\":{\"id\":\"1005\",\"type\":\"DataRange1d\"},\"y_scale\":{\"id\":\"1009\",\"type\":\"LinearScale\"}},\"id\":\"1002\",\"subtype\":\"Figure\",\"type\":\"Plot\"},{\"attributes\":{\"source\":{\"id\":\"1001\",\"type\":\"ColumnDataSource\"}},\"id\":\"1038\",\"type\":\"CDSView\"},{\"attributes\":{},\"id\":\"1012\",\"type\":\"BasicTicker\"},{\"attributes\":{\"ticker\":{\"id\":\"1012\",\"type\":\"BasicTicker\"}},\"id\":\"1015\",\"type\":\"Grid\"},{\"attributes\":{},\"id\":\"1043\",\"type\":\"BasicTickFormatter\"},{\"attributes\":{},\"id\":\"1048\",\"type\":\"UnionRenderers\"},{\"attributes\":{\"formatter\":{\"id\":\"1043\",\"type\":\"BasicTickFormatter\"},\"ticker\":{\"id\":\"1017\",\"type\":\"BasicTicker\"}},\"id\":\"1016\",\"type\":\"LinearAxis\"},{\"attributes\":{\"data_source\":{\"id\":\"1001\",\"type\":\"ColumnDataSource\"},\"glyph\":{\"id\":\"1035\",\"type\":\"Scatter\"},\"hover_glyph\":null,\"muted_glyph\":null,\"nonselection_glyph\":{\"id\":\"1036\",\"type\":\"Scatter\"},\"selection_glyph\":null,\"view\":{\"id\":\"1038\",\"type\":\"CDSView\"}},\"id\":\"1037\",\"type\":\"GlyphRenderer\"},{\"attributes\":{\"active_drag\":\"auto\",\"active_inspect\":\"auto\",\"active_multi\":null,\"active_scroll\":{\"id\":\"1022\",\"type\":\"WheelZoomTool\"},\"active_tap\":\"auto\",\"tools\":[{\"id\":\"1021\",\"type\":\"PanTool\"},{\"id\":\"1022\",\"type\":\"WheelZoomTool\"},{\"id\":\"1023\",\"type\":\"BoxZoomTool\"},{\"id\":\"1024\",\"type\":\"SaveTool\"},{\"id\":\"1025\",\"type\":\"ResetTool\"},{\"id\":\"1026\",\"type\":\"HelpTool\"},{\"id\":\"1039\",\"type\":\"HoverTool\"}]},\"id\":\"1027\",\"type\":\"Toolbar\"},{\"attributes\":{},\"id\":\"1049\",\"type\":\"Selection\"},{\"attributes\":{},\"id\":\"1017\",\"type\":\"BasicTicker\"},{\"attributes\":{\"fill_alpha\":{\"value\":0.1},\"fill_color\":{\"value\":\"#1f77b4\"},\"line_alpha\":{\"value\":0.1},\"line_color\":{\"value\":\"#1f77b4\"},\"size\":{\"units\":\"screen\",\"value\":10},\"x\":{\"field\":\"x\"},\"y\":{\"field\":\"y\"}},\"id\":\"1036\",\"type\":\"Scatter\"},{\"attributes\":{\"callback\":null},\"id\":\"1003\",\"type\":\"DataRange1d\"},{\"attributes\":{\"dimension\":1,\"ticker\":{\"id\":\"1017\",\"type\":\"BasicTicker\"}},\"id\":\"1020\",\"type\":\"Grid\"},{\"attributes\":{},\"id\":\"1021\",\"type\":\"PanTool\"},{\"attributes\":{},\"id\":\"1026\",\"type\":\"HelpTool\"},{\"attributes\":{\"callback\":null,\"data\":{\"color\":[\"blue\",\"blue\",\"blue\",\"blue\",\"blue\",\"blue\",\"blue\",\"blue\",\"blue\",\"blue\",\"blue\",\"blue\",\"blue\",\"blue\",\"blue\",\"blue\",\"blue\",\"blue\",\"blue\",\"blue\",\"blue\",\"blue\",\"blue\",\"blue\",\"blue\",\"blue\",\"blue\",\"blue\",\"blue\",\"blue\",\"blue\",\"blue\",\"blue\",\"blue\",\"blue\",\"blue\",\"blue\",\"blue\",\"blue\",\"blue\",\"blue\",\"blue\",\"blue\",\"blue\",\"blue\",\"blue\",\"blue\",\"blue\",\"blue\",\"blue\",\"blue\",\"blue\",\"blue\",\"blue\",\"blue\",\"blue\",\"blue\",\"blue\",\"blue\",\"blue\",\"blue\",\"blue\",\"blue\",\"blue\",\"blue\",\"blue\",\"blue\",\"blue\",\"blue\",\"blue\",\"blue\",\"blue\",\"blue\",\"blue\",\"blue\",\"blue\",\"blue\",\"blue\",\"blue\",\"blue\",\"blue\",\"blue\",\"blue\",\"blue\",\"blue\",\"blue\",\"blue\",\"blue\",\"blue\",\"blue\",\"blue\",\"blue\",\"blue\",\"blue\",\"blue\",\"blue\",\"blue\",\"blue\",\"blue\",\"blue\"],\"token\":[\"UNK\",\"the\",\"of\",\"and\",\"one\",\"in\",\"a\",\"to\",\"zero\",\"nine\",\"two\",\"is\",\"as\",\"eight\",\"for\",\"s\",\"five\",\"three\",\"was\",\"by\",\"that\",\"four\",\"six\",\"seven\",\"with\",\"on\",\"are\",\"it\",\"from\",\"or\",\"his\",\"an\",\"be\",\"this\",\"which\",\"at\",\"he\",\"also\",\"not\",\"have\",\"were\",\"has\",\"but\",\"other\",\"their\",\"its\",\"first\",\"they\",\"some\",\"had\",\"all\",\"more\",\"most\",\"can\",\"been\",\"such\",\"many\",\"who\",\"new\",\"used\",\"there\",\"after\",\"when\",\"into\",\"american\",\"time\",\"these\",\"only\",\"see\",\"may\",\"than\",\"world\",\"i\",\"b\",\"would\",\"d\",\"no\",\"however\",\"between\",\"about\",\"over\",\"years\",\"states\",\"people\",\"war\",\"during\",\"united\",\"known\",\"if\",\"called\",\"use\",\"th\",\"system\",\"often\",\"state\",\"so\",\"history\",\"will\",\"up\",\"while\",\"where\",\"city\",\"being\",\"english\",\"then\",\"any\",\"both\",\"under\",\"out\",\"made\",\"well\",\"her\",\"e\",\"number\",\"government\",\"them\",\"m\",\"later\",\"since\",\"him\",\"part\",\"name\",\"c\",\"century\",\"through\",\"because\",\"x\",\"university\",\"early\",\"life\",\"british\",\"year\",\"like\",\"same\",\"including\",\"became\",\"example\",\"day\",\"each\",\"even\",\"work\",\"language\",\"although\",\"several\",\"form\",\"john\",\"u\",\"national\",\"very\",\"much\",\"g\",\"french\",\"before\",\"general\",\"what\",\"t\",\"against\",\"n\",\"high\",\"links\",\"could\",\"based\",\"those\",\"now\",\"second\",\"de\",\"music\",\"another\",\"large\",\"she\",\"f\",\"external\",\"german\",\"different\",\"modern\",\"great\",\"do\",\"common\",\"set\",\"list\",\"south\",\"series\",\"major\",\"game\",\"power\",\"long\",\"country\",\"king\",\"law\",\"group\",\"film\",\"still\",\"until\",\"north\",\"international\",\"term\",\"we\",\"end\",\"book\",\"found\",\"own\",\"political\",\"party\",\"order\",\"usually\",\"president\",\"church\",\"you\",\"death\",\"theory\",\"area\",\"around\",\"include\",\"god\",\"ii\",\"way\",\"did\",\"military\",\"population\",\"using\",\"though\",\"small\",\"following\",\"within\",\"non\",\"human\",\"left\",\"main\",\"among\",\"point\",\"r\",\"due\",\"p\",\"considered\",\"public\",\"popular\",\"computer\",\"west\",\"family\",\"east\",\"information\",\"important\",\"european\",\"man\",\"sometimes\",\"right\",\"old\",\"free\",\"word\",\"without\",\"last\",\"us\",\"members\",\"given\",\"times\",\"roman\",\"make\",\"h\",\"age\",\"place\",\"l\",\"thus\",\"science\",\"case\",\"become\",\"systems\",\"union\",\"born\",\"york\",\"line\",\"countries\",\"does\",\"isbn\",\"st\",\"control\",\"various\",\"others\",\"house\",\"article\",\"island\",\"should\",\"led\",\"back\",\"period\",\"player\",\"europe\",\"languages\",\"central\",\"water\",\"few\",\"western\",\"home\",\"began\",\"generally\",\"less\",\"k\",\"similar\",\"written\",\"original\",\"best\",\"must\",\"according\",\"school\",\"france\",\"air\",\"single\",\"force\",\"v\",\"land\",\"groups\",\"down\",\"how\",\"works\",\"development\",\"official\",\"support\",\"england\",\"j\",\"rather\",\"data\",\"space\",\"greek\",\"km\",\"named\",\"germany\",\"just\",\"games\",\"said\",\"version\",\"late\",\"earth\",\"company\",\"every\",\"economic\",\"short\",\"published\",\"black\",\"army\",\"off\",\"london\",\"million\",\"body\",\"field\",\"christian\",\"either\",\"social\",\"empire\",\"o\",\"developed\",\"standard\",\"court\",\"service\",\"kingdom\",\"along\",\"college\",\"republic\",\"sea\",\"america\",\"today\",\"result\",\"held\",\"team\",\"light\",\"means\",\"never\",\"especially\",\"third\",\"further\",\"character\",\"forces\",\"take\",\"men\",\"society\",\"show\",\"open\",\"possible\",\"fact\",\"battle\",\"took\",\"former\",\"books\",\"soviet\",\"river\",\"children\",\"having\",\"good\",\"local\",\"current\",\"son\",\"process\",\"natural\",\"present\",\"himself\",\"islands\",\"total\",\"near\",\"white\",\"days\",\"person\",\"itself\",\"seen\",\"culture\",\"little\",\"above\",\"software\",\"largest\",\"words\",\"upon\",\"level\",\"father\",\"created\",\"side\",\"red\",\"references\",\"press\",\"full\",\"region\",\"almost\",\"image\",\"al\",\"famous\",\"play\",\"came\",\"role\",\"once\",\"certain\",\"league\",\"jewish\",\"james\",\"january\",\"site\",\"again\",\"numbers\",\"art\",\"member\",\"areas\",\"movement\",\"religious\",\"type\",\"march\",\"community\",\"story\",\"played\",\"production\",\"released\",\"center\",\"rights\",\"real\",\"related\",\"foreign\",\"low\",\"ancient\",\"terms\",\"view\",\"source\",\"act\",\"minister\",\"change\",\"energy\",\"produced\",\"research\",\"actor\",\"making\",\"civil\",\"december\",\"women\",\"special\",\"style\",\"william\",\"design\",\"japanese\",\"available\",\"chinese\",\"forms\",\"canada\",\"northern\",\"died\",\"class\",\"living\",\"next\",\"particular\",\"program\",\"council\",\"television\",\"head\",\"david\",\"china\",\"middle\",\"established\",\"hand\",\"bc\",\"far\",\"july\",\"function\",\"position\",\"y\",\"built\",\"george\",\"band\",\"together\",\"w\",\"latin\",\"thought\",\"eastern\",\"charles\",\"parts\",\"instead\",\"study\",\"might\",\"india\",\"code\",\"included\",\"meaning\",\"trade\",\"per\",\"june\",\"least\",\"half\",\"model\",\"economy\",\"prime\",\"traditional\",\"always\",\"capital\",\"range\",\"november\",\"emperor\",\"young\",\"anti\",\"final\",\"text\",\"players\",\"uk\",\"april\",\"run\",\"september\",\"addition\",\"radio\",\"live\",\"august\",\"taken\",\"note\",\"italian\",\"lost\",\"nature\",\"project\",\"technology\",\"spanish\",\"october\",\"recent\",\"rate\",\"won\",\"true\",\"value\",\"uses\",\"russian\",\"est\",\"wrote\",\"effect\",\"album\",\"southern\",\"africa\",\"whose\",\"top\",\"historical\",\"australia\",\"catholic\",\"particularly\",\"self\",\"structure\",\"record\",\"evidence\",\"rule\",\"themselves\",\"influence\",\"cases\",\"subject\",\"referred\",\"continued\",\"nations\",\"below\",\"rock\",\"japan\",\"com\",\"song\",\"throughout\",\"names\",\"female\",\"title\",\"therefore\",\"our\",\"office\",\"star\",\"paul\",\"too\",\"cities\",\"february\",\"independent\",\"author\",\"problem\",\"species\",\"education\",\"done\",\"philosophy\",\"come\",\"higher\",\"originally\",\"market\",\"town\",\"my\",\"season\",\"love\",\"strong\",\"israel\",\"irish\",\"writer\",\"films\",\"elements\",\"robert\",\"whether\",\"despite\",\"eventually\",\"here\",\"football\",\"action\",\"internet\",\"individual\",\"sound\",\"network\",\"described\",\"practice\",\"characters\",\"re\",\"royal\",\"la\",\"events\",\"formed\",\"commonly\",\"base\",\"received\",\"african\",\"problems\",\"food\",\"jews\",\"able\",\"male\",\"typically\",\"mass\",\"complex\",\"lower\",\"includes\",\"outside\",\"legal\",\"complete\",\"significant\",\"parliament\",\"actually\",\"business\",\"fiction\",\"physical\",\"followed\",\"deaths\",\"key\",\"leader\",\"widely\",\"page\",\"basic\",\"types\",\"henry\",\"elected\",\"beginning\",\"fire\",\"building\",\"independence\",\"went\",\"movie\",\"aircraft\",\"ever\",\"canadian\",\"material\",\"births\",\"video\",\"news\",\"future\",\"scientific\",\"simply\",\"go\",\"defined\",\"laws\",\"get\",\"close\",\"industry\",\"specific\",\"examples\",\"believe\",\"services\",\"idea\",\"method\",\"introduced\",\"points\",\"return\",\"cause\",\"indian\",\"britain\",\"features\",\"majority\",\"size\",\"post\",\"lead\",\"organization\",\"cannot\",\"designed\",\"ireland\",\"cross\",\"classical\",\"personal\",\"writing\",\"concept\",\"associated\",\"required\",\"soon\",\"changes\",\"california\",\"located\",\"sense\",\"believed\",\"away\",\"started\",\"co\",\"religion\",\"mother\",\"county\",\"rules\",\"studies\",\"yet\",\"find\",\"knowledge\",\"put\",\"founded\",\"policy\",\"currently\",\"provide\",\"working\",\"media\",\"election\",\"australian\",\"me\",\"thomas\",\"allowed\",\"russia\",\"earlier\",\"greater\",\"limited\",\"object\",\"brought\",\"online\",\"association\",\"lord\",\"mostly\",\"blue\",\"constitution\",\"across\",\"added\",\"interest\",\"things\",\"relations\",\"speed\",\"federal\",\"singer\",\"effects\",\"growth\",\"sources\",\"your\",\"remains\",\"z\",\"probably\",\"gave\",\"simple\",\"attack\",\"longer\",\"reference\",\"saint\",\"success\",\"killed\",\"past\",\"career\",\"need\",\"park\",\"definition\",\"say\",\"etc\",\"give\",\"peace\",\"chief\",\"stories\",\"security\",\"wide\",\"ball\",\"saw\",\"machine\",\"better\",\"cell\",\"leading\",\"becomes\",\"spain\",\"larger\",\"products\",\"parties\",\"night\",\"remained\",\"prize\",\"months\",\"website\",\"big\",\"cultural\",\"money\",\"help\",\"territory\",\"private\",\"moved\",\"letter\",\"wife\",\"politics\",\"lines\",\"largely\",\"contains\",\"companies\",\"lake\",\"perhaps\",\"green\",\"already\",\"dead\",\"iii\",\"library\",\"separate\",\"refer\",\"makes\",\"appeared\",\"dutch\",\"holy\",\"era\",\"novel\",\"successful\",\"italy\",\"letters\",\"results\",\"matter\",\"produce\",\"origin\",\"claim\",\"whole\",\"directly\",\"attempt\",\"actress\",\"surface\",\"revolution\",\"highly\",\"caused\",\"status\",\"musical\",\"richard\",\"commercial\",\"division\",\"color\",\"health\",\"coast\",\"release\",\"latter\",\"authority\",\"treaty\",\"turn\",\"michael\",\"nation\",\"direct\",\"asia\",\"edition\",\"programming\",\"playing\",\"date\",\"mary\",\"native\",\"whom\",\"married\",\"towards\",\"issues\",\"double\",\"primary\",\"basis\",\"allow\",\"enough\",\"memory\",\"reason\",\"web\",\"exist\",\"provided\",\"oil\",\"course\",\"functions\",\"alexander\",\"analysis\",\"chemical\",\"mid\",\"replaced\",\"queen\",\"claims\",\"tv\",\"sun\",\"literature\",\"metal\",\"amount\",\"divided\",\"blood\",\"likely\",\"access\",\"average\",\"length\",\"smaller\",\"medical\",\"property\",\"students\",\"degree\",\"elections\",\"club\",\"claimed\",\"performance\",\"director\",\"digital\",\"front\",\"museum\",\"difficult\",\"tradition\",\"nearly\",\"schools\",\"washington\",\"gas\",\"jesus\",\"map\",\"louis\",\"rome\",\"unit\",\"baseball\",\"mind\",\"peter\",\"mark\",\"collection\",\"product\",\"congress\",\"programs\",\"changed\",\"ideas\",\"moon\",\"entire\",\"user\",\"ground\",\"records\",\"frequently\",\"increase\",\"highest\",\"sent\",\"finally\",\"board\",\"don\",\"notable\",\"read\",\"methods\",\"recently\",\"bit\",\"involved\",\"variety\",\"call\",\"democratic\",\"ten\",\"served\",\"minor\",\"hard\",\"birth\",\"objects\",\"nuclear\",\"increased\",\"section\",\"street\",\"windows\",\"relatively\",\"car\",\"move\",\"create\",\"returned\",\"bank\",\"conditions\",\"operation\",\"adopted\",\"relationship\",\"christ\",\"hall\",\"appear\",\"rest\",\"child\",\"element\",\"appears\",\"takes\",\"fall\",\"bbc\",\"animals\",\"existence\",\"discovered\",\"units\",\"know\",\"heavy\",\"assembly\",\"universe\",\"file\",\"smith\",\"numerous\",\"woman\",\"award\",\"mean\",\"behind\",\"liberal\",\"except\",\"scale\",\"bill\",\"operating\",\"active\",\"construction\",\"institute\",\"taking\",\"pressure\",\"san\",\"experience\",\"account\",\"engine\",\"brother\",\"primarily\",\"recorded\",\"joseph\",\"issue\",\"professional\",\"troops\",\"notes\",\"pope\",\"centre\",\"ice\",\"orthodox\",\"question\",\"something\",\"defense\",\"accepted\",\"grand\",\"mathematics\",\"event\",\"resources\",\"dr\",\"egypt\",\"derived\",\"applied\",\"paris\",\"powers\",\"running\",\"stage\",\"additional\",\"shows\",\"prince\",\"placed\",\"instance\",\"creation\",\"lived\",\"freedom\",\"alternative\",\"http\",\"hit\",\"magazine\",\"nobel\",\"engineering\",\"square\",\"mainly\",\"rise\",\"hold\",\"gold\",\"pre\",\"versions\",\"road\",\"report\",\"test\",\"operations\",\"frac\",\"older\",\"arts\",\"quite\",\"applications\",\"marriage\",\"proposed\",\"channel\",\"shown\",\"consists\",\"bible\",\"governor\",\"police\",\"articles\",\"ocean\",\"cost\",\"writers\",\"volume\",\"previous\",\"race\",\"cells\",\"scotland\",\"levels\",\"regions\",\"quickly\",\"properties\",\"duke\",\"normal\",\"techniques\",\"start\",\"songs\",\"ways\",\"introduction\",\"ability\",\"communist\",\"passed\",\"navy\",\"purpose\",\"approximately\",\"composer\",\"equal\",\"appointed\",\"committee\",\"ed\",\"centuries\",\"table\",\"forced\",\"lack\",\"individuals\",\"places\",\"chicago\",\"belief\",\"consider\",\"hebrew\",\"refers\",\"clear\",\"values\",\"dance\",\"agreement\",\"response\",\"temperature\",\"sexual\",\"comes\",\"faith\",\"environment\",\"paper\",\"climate\",\"carbon\",\"daughter\",\"electric\",\"www\",\"station\",\"ad\",\"speech\",\"sex\",\"ship\",\"evolution\",\"martin\",\"microsoft\",\"noted\",\"usa\",\"supported\",\"via\",\"industrial\",\"border\",\"feature\",\"christianity\",\"treatment\",\"motion\",\"management\",\"computers\",\"performed\",\"summer\",\"necessary\",\"intended\",\"miles\",\"calendar\",\"animal\",\"remain\",\"internal\",\"disease\",\"convention\",\"wars\",\"worked\",\"flight\",\"round\",\"acts\",\"kind\",\"multiple\",\"reading\",\"labour\",\"physics\",\"speaking\",\"users\",\"signed\",\"brown\",\"critical\",\"sir\",\"bridge\",\"mathematical\",\"billion\",\"sets\",\"translation\",\"regarded\",\"branch\",\"beyond\",\"von\",\"medicine\",\"ethnic\",\"polish\",\"write\",\"reached\",\"location\",\"conflict\",\"province\",\"sold\",\"remaining\",\"apple\",\"financial\",\"provides\",\"approach\",\"notably\",\"am\",\"administration\",\"heart\",\"stars\",\"campaign\",\"figure\",\"joined\",\"distribution\",\"theories\",\"port\",\"cut\",\"command\",\"tree\",\"models\",\"influenced\",\"distance\",\"conservative\",\"direction\",\"kings\",\"district\",\"why\",\"intelligence\",\"greece\",\"face\",\"q\",\"leaders\",\"cold\",\"guide\",\"activity\",\"humans\",\"opposition\",\"previously\",\"executive\",\"labor\",\"poor\",\"quality\",\"needed\",\"symbol\",\"logic\",\"extremely\",\"completely\",\"jean\",\"loss\",\"plan\",\"regular\",\"pacific\",\"vote\",\"contemporary\",\"allows\",\"department\",\"advanced\",\"edward\",\"occur\",\"powerful\",\"secret\",\"acid\",\"actual\",\"reported\",\"content\",\"unique\",\"gives\",\"poet\",\"context\",\"iron\",\"stated\",\"cover\",\"becoming\",\"poland\",\"justice\",\"prior\",\"fourth\",\"critics\",\"turned\",\"difference\",\"met\",\"weapons\",\"dark\",\"foundation\",\"na\",\"standards\",\"episode\",\"electronic\",\"address\",\"greatest\",\"musician\",\"usage\",\"fields\",\"featured\",\"training\",\"net\",\"scholars\",\"regional\",\"hours\",\"application\",\"inside\",\"unlike\",\"formal\",\"nd\",\"win\",\"describe\",\"ships\",\"sports\",\"churches\",\"resulting\",\"moving\",\"arabic\",\"et\",\"netherlands\",\"carried\",\"exchange\",\"failed\",\"reasons\",\"brain\",\"month\",\"shot\",\"continue\",\"responsible\",\"nor\",\"going\",\"format\",\"spread\",\"opposed\",\"org\",\"universal\",\"supreme\",\"scottish\",\"mexico\",\"architecture\",\"starting\",\"somewhat\",\"decision\",\"islamic\",\"argument\",\"oxford\",\"berlin\",\"activities\",\"keep\",\"views\",\"materials\",\"spoken\",\"biography\",\"potential\",\"technical\",\"pass\",\"kong\",\"follows\",\"declared\",\"attempts\",\"voice\",\"hands\",\"transport\",\"spirit\",\"indeed\",\"artist\",\"deal\",\"generation\",\"contain\",\"constant\",\"heat\",\"charge\",\"composed\",\"growing\",\"ended\",\"appearance\",\"cambridge\",\"geography\",\"represented\",\"le\",\"flag\",\"encyclopedia\",\"increasing\",\"possibly\",\"families\",\"seems\",\"el\",\"friends\",\"mission\",\"los\",\"dna\",\"upper\",\"look\",\"stations\",\"easily\",\"card\",\"principle\",\"academy\",\"identity\",\"equipment\",\"armed\",\"giving\",\"arab\",\"die\",\"global\",\"master\",\"christians\",\"extended\",\"announced\",\"reform\",\"positive\",\"comic\",\"muslim\",\"causes\",\"compared\",\"income\",\"choice\",\"arthur\",\"technique\",\"golden\",\"string\",\"cup\",\"protection\",\"attacks\",\"decided\",\"plant\",\"serious\",\"sign\",\"prevent\",\"immediately\",\"winter\",\"feet\",\"medieval\",\"fully\",\"efforts\",\"initially\",\"directed\",\"organizations\",\"exists\",\"extensive\",\"traditionally\",\"airport\",\"presence\",\"equivalent\",\"plants\",\"negative\",\"search\",\"argued\",\"deep\",\"fans\",\"austria\",\"link\",\"follow\",\"controlled\",\"alone\",\"valley\",\"combined\",\"signal\",\"occurs\",\"proved\",\"drive\",\"understanding\",\"imperial\",\"linear\",\"bay\",\"differences\",\"student\",\"van\",\"stone\",\"useful\",\"situation\",\"share\",\"serve\",\"distinct\",\"classic\",\"iv\",\"allowing\",\"effective\",\"mentioned\",\"solution\",\"drug\",\"require\",\"measure\",\"expected\",\"boy\",\"urban\",\"device\",\"citizens\",\"initial\",\"classes\",\"debate\",\"guitar\",\"secretary\",\"communities\",\"victory\",\"portuguese\",\"gained\",\"let\",\"nothing\",\"artists\",\"commission\",\"recognized\",\"horse\",\"relative\",\"judaism\",\"ford\",\"bass\",\"entirely\",\"teams\",\"actions\",\"conference\",\"weight\",\"fish\",\"hill\",\"represent\",\"politician\",\"begins\",\"completed\",\"writings\",\"gdp\",\"wing\",\"otherwise\",\"unknown\",\"aid\",\"ruled\",\"sites\",\"journal\",\"audio\",\"finland\",\"cards\",\"domestic\",\"behavior\",\"connected\",\"arms\",\"reaction\",\"earliest\",\"controversy\",\"mountain\",\"suggested\",\"trial\",\"attention\",\"containing\",\"workers\",\"principles\",\"sequence\",\"un\",\"host\",\"jerusalem\",\"literary\",\"cycle\",\"fuel\",\"officially\",\"reduced\",\"scientists\",\"travel\",\"figures\",\"americans\",\"prominent\",\"popularity\",\"fighting\",\"lincoln\",\"scene\",\"instruments\",\"structures\",\"ones\",\"increasingly\",\"frank\",\"iraq\",\"requires\",\"tend\",\"entry\",\"typical\",\"temple\",\"israeli\",\"statement\",\"track\",\"discussion\",\"says\",\"jack\",\"lives\",\"daily\",\"contrast\",\"goal\",\"frequency\",\"specifically\",\"rd\",\"impact\",\"winning\",\"fast\",\"review\",\"atlantic\",\"images\",\"texas\",\"description\",\"depending\",\"senate\",\"dynasty\",\"rich\",\"domain\",\"criticism\",\"islam\",\"importance\",\"inspired\",\"begin\",\"destroyed\",\"price\",\"friend\",\"jones\",\"contact\",\"mm\",\"entered\",\"devices\",\"closely\",\"invasion\",\"texts\",\"background\",\"mountains\",\"toward\",\"closed\",\"corporation\",\"wall\",\"removed\",\"afghanistan\",\"mythology\",\"zealand\",\"killing\",\"rare\",\"apollo\",\"jazz\",\"helped\",\"hong\",\"slightly\",\"quantum\",\"runs\",\"hot\",\"presidential\",\"attempted\",\"boston\",\"asked\",\"kept\",\"fixed\",\"dictionary\",\"agreed\",\"plays\",\"bishop\",\"alphabet\",\"determined\",\"sweden\",\"buildings\",\"traditions\",\"reign\",\"existing\",\"communications\",\"violence\",\"ages\",\"phase\",\"hydrogen\",\"controversial\",\"meant\",\"formation\",\"twenty\",\"thousands\",\"agriculture\",\"resulted\",\"movies\",\"occurred\",\"focus\",\"offered\",\"estimated\",\"heavily\",\"discovery\",\"mi\",\"tour\",\"comics\",\"zone\",\"ring\",\"connection\",\"develop\",\"governments\",\"aspects\",\"argue\",\"damage\",\"austrian\",\"albert\",\"ibm\",\"factors\",\"avoid\",\"combination\",\"combat\",\"pro\",\"affairs\",\"novels\",\"sum\",\"expansion\",\"doctrine\",\"competition\",\"hungary\",\"leadership\",\"category\",\"flow\",\"week\",\"genetic\",\"soldiers\",\"leaving\",\"opened\",\"os\",\"reports\",\"holds\",\"mac\",\"territories\",\"jackson\",\"step\",\"algorithm\",\"stop\",\"truth\",\"reality\",\"theorem\",\"fell\",\"room\",\"origins\",\"bob\",\"effort\",\"care\",\"instrument\",\"crown\",\"defeated\",\"democracy\",\"concepts\",\"hence\",\"picture\",\"permanent\",\"nazi\",\"protocol\",\"gun\",\"wikipedia\",\"tried\",\"fundamental\",\"professor\",\"planet\",\"christmas\",\"communication\",\"told\",\"topics\",\"presented\",\"identified\",\"beliefs\",\"statistics\",\"normally\",\"opening\",\"spent\",\"constitutional\",\"columbia\",\"annual\",\"subsequent\",\"evil\",\"extreme\",\"testament\",\"continues\",\"details\",\"gods\",\"supply\",\"institutions\",\"formula\",\"moral\",\"grew\",\"learning\",\"currency\",\"disk\",\"actors\",\"wanted\",\"fight\",\"defeat\",\"pronounced\",\"creating\",\"subsequently\",\"break\",\"output\",\"marked\",\"goods\",\"leave\",\"hardware\",\"cd\",\"broadcast\",\"bond\",\"thing\",\"environmental\",\"goes\",\"none\",\"decades\",\"forward\",\"expressed\",\"risk\",\"reach\",\"machines\",\"processes\",\"bodies\",\"census\",\"think\",\"lists\",\"glass\",\"organized\",\"pages\",\"murder\",\"vice\",\"angeles\",\"movements\",\"bush\",\"cultures\",\"respect\",\"meeting\",\"roughly\",\"stand\",\"fictional\",\"condition\",\"interpretation\",\"fantasy\",\"historians\",\"policies\",\"questions\",\"display\",\"copyright\",\"founder\",\"maintain\",\"lee\",\"mode\",\"positions\",\"fame\",\"import\",\"carry\",\"chosen\",\"linux\",\"swedish\",\"advantage\",\"raised\",\"observed\",\"receive\",\"formerly\",\"philosopher\",\"atoms\",\"server\",\"jpg\",\"sides\",\"brothers\",\"shortly\",\"resistance\",\"translated\",\"database\",\"super\",\"ch\",\"administrative\",\"message\",\"parents\",\"considerable\",\"shape\",\"target\",\"bad\",\"build\",\"extent\",\"plane\",\"understand\",\"tribes\",\"regarding\",\"mobile\",\"tower\",\"spring\",\"greatly\",\"studied\",\"brazil\",\"tax\",\"transportation\",\"characteristics\",\"wood\",\"railway\",\"screen\",\"needs\",\"equation\",\"piece\",\"chapter\",\"failure\",\"persian\",\"revolutionary\",\"respectively\",\"stock\",\"ordered\",\"pay\",\"chemistry\",\"proper\",\"split\",\"dog\",\"economics\",\"owned\",\"wave\",\"rates\",\"johnson\",\"doctor\",\"projects\",\"iran\",\"pp\",\"peoples\",\"philosophical\",\"match\",\"captain\",\"asian\",\"bring\",\"minutes\",\"symbols\",\"settlement\",\"bar\",\"relation\",\"covered\",\"seats\",\"awarded\",\"launched\",\"representation\",\"neither\",\"crime\",\"percent\",\"refused\",\"naval\",\"sister\",\"gain\",\"describes\",\"whereas\",\"ends\",\"perform\",\"satellite\",\"semi\",\"korea\",\"staff\",\"expression\",\"wild\",\"processing\",\"coming\",\"wales\",\"academic\",\"pieces\",\"comedy\",\"drugs\",\"chain\",\"occasionally\",\"manner\",\"purposes\",\"meet\",\"producer\",\"protestant\",\"mixed\",\"strength\",\"counter\",\"ray\",\"storage\",\"anything\",\"felt\",\"parallel\",\"mental\",\"spiritual\",\"occupied\",\"mr\",\"foot\",\"practical\",\"count\",\"towns\",\"saying\",\"easy\",\"electrical\",\"enemy\",\"speak\",\"inhabitants\",\"plans\",\"medium\",\"courts\",\"quarter\",\"village\",\"persons\",\"layer\",\"factor\",\"degrees\",\"granted\",\"fifth\",\"seat\",\"dialects\",\"sport\",\"pattern\",\"binary\",\"weeks\",\"composition\",\"got\",\"michigan\",\"selected\",\"pop\",\"widespread\",\"algebra\",\"magnetic\",\"blues\",\"alliance\",\"festival\",\"ft\",\"speakers\",\"authors\",\"crew\",\"core\",\"folk\",\"commonwealth\",\"legislative\",\"accept\",\"similarly\",\"divine\",\"achieved\",\"determine\",\"someone\",\"particles\",\"sector\",\"density\",\"influential\",\"dispute\",\"criminal\",\"newspaper\",\"supporters\",\"solar\",\"elizabeth\",\"contract\",\"offer\",\"traffic\",\"orders\",\"houses\",\"rivers\",\"awards\",\"principal\",\"der\",\"worldwide\",\"hitler\",\"files\",\"teaching\",\"apparently\",\"des\",\"gospel\",\"titles\",\"clearly\",\"providing\",\"universities\",\"hungarian\",\"publication\",\"suffered\",\"electricity\",\"camp\",\"cars\",\"doing\",\"crisis\",\"false\",\"issued\",\"perfect\",\"circle\",\"interface\",\"denmark\",\"legend\",\"nfl\",\"nevertheless\",\"ultimately\",\"solid\",\"contained\",\"extra\",\"surrounding\",\"throne\",\"setting\",\"sort\",\"standing\",\"oldest\",\"safety\",\"jordan\",\"measures\",\"plus\",\"danish\",\"agricultural\",\"pictures\",\"practices\",\"showing\",\"commander\",\"strip\",\"block\",\"maps\",\"fan\",\"recording\",\"maximum\",\"gulf\",\"celtic\",\"add\",\"distinction\",\"correct\",\"atomic\",\"reduce\",\"secondary\",\"everything\",\"lies\",\"root\",\"linked\",\"virginia\",\"genre\",\"jr\",\"lands\",\"sons\",\"marine\",\"limit\",\"taught\",\"producing\",\"pure\",\"bwv\",\"huge\",\"engines\",\"sought\",\"shared\",\"agency\",\"steel\",\"cable\",\"mechanics\",\"strongly\",\"accounts\",\"eye\",\"capable\",\"classification\",\"palace\",\"constructed\",\"egyptian\",\"document\",\"religions\",\"resolution\",\"hundred\",\"box\",\"unable\",\"showed\",\"francis\",\"components\",\"muslims\",\"molecules\",\"sciences\",\"radiation\",\"massive\",\"hour\",\"pc\",\"want\",\"ending\",\"mount\",\"judge\",\"opposite\",\"historically\",\"input\",\"continuous\",\"detailed\",\"cast\",\"ministers\",\"shall\",\"vast\",\"alcohol\",\"bus\",\"involves\",\"biology\",\"invented\",\"represents\",\"republican\",\"computing\",\"proof\",\"multi\",\"rejected\",\"succeeded\",\"rarely\",\"expanded\",\"flat\",\"civilization\",\"capacity\",\"documents\",\"impossible\",\"alpha\",\"illinois\",\"lewis\",\"dates\",\"destruction\",\"slow\",\"planned\",\"biological\",\"bottom\",\"championship\",\"theatre\",\"networks\",\"phrase\",\"provinces\",\"francisco\",\"indicate\",\"ratio\",\"molecular\",\"paid\",\"tools\",\"license\",\"route\",\"honor\",\"sub\",\"hollywood\",\"progress\",\"brief\",\"vol\",\"trees\",\"theme\",\"societies\",\"mail\",\"managed\",\"continental\",\"essential\",\"essentially\",\"manager\",\"rail\",\"settled\",\"poetry\",\"turkey\",\"pakistan\",\"viewed\",\"harvard\",\"merely\",\"investment\",\"castle\",\"job\",\"fine\",\"authorities\",\"visit\",\"turkish\",\"understood\",\"ca\",\"eu\",\"captured\",\"fought\",\"severe\",\"transfer\",\"developing\",\"del\",\"colonies\",\"lady\",\"studio\",\"html\",\"depression\",\"kill\",\"gay\",\"wind\",\"caesar\",\"candidate\",\"magic\",\"exports\",\"seem\",\"interests\",\"store\",\"portion\",\"visible\",\"assumed\",\"publishing\",\"editor\",\"exactly\",\"newton\",\"edge\",\"lebanon\",\"weapon\",\"really\",\"directory\",\"fair\",\"dedicated\",\"intellectual\",\"daniel\",\"twelve\",\"significantly\",\"absolute\",\"demand\",\"strategy\",\"obtained\",\"clinton\",\"liquid\",\"florida\",\"plot\",\"java\",\"equations\",\"stadium\",\"desert\",\"artificial\",\"variations\",\"drawn\",\"vector\",\"designs\",\"rose\",\"ran\",\"regard\",\"feel\",\"train\",\"forest\",\"overall\",\"representatives\",\"maintained\",\"bear\",\"arrived\",\"mechanical\",\"jim\",\"philosophers\",\"items\",\"fear\",\"logical\",\"hop\",\"darwin\",\"vary\",\"portugal\",\"guinea\",\"featuring\",\"acting\",\"improved\",\"dominant\",\"causing\",\"modified\",\"bell\",\"dry\",\"enter\",\"cia\",\"officer\",\"path\",\"iso\",\"korean\",\"andrew\",\"tom\",\"minority\",\"occupation\",\"apart\",\"thousand\",\"infinite\",\"oxygen\",\"mathbf\",\"straight\",\"rapidly\",\"revealed\",\"vietnam\",\"heaven\",\"saints\",\"gene\",\"colonial\",\"define\",\"fleet\",\"socialist\",\"kansas\",\"protect\",\"exception\",\"psychology\",\"twice\",\"circuit\",\"cancer\",\"membership\",\"stephen\",\"holding\",\"musicians\",\"soul\",\"index\",\"flying\",\"protein\",\"fashion\",\"exact\",\"indo\",\"recognition\",\"physicist\",\"distributed\",\"listed\",\"apply\",\"ago\",\"virtual\",\"inc\",\"massachusetts\",\"mars\",\"adam\",\"colony\",\"agent\",\"electron\",\"cabinet\",\"extension\",\"separated\",\"coach\",\"forum\",\"coalition\",\"visual\",\"scott\",\"adult\",\"periods\",\"suggests\",\"davis\",\"dominated\",\"employed\",\"hero\",\"reputation\",\"looking\",\"literally\",\"existed\",\"entitled\",\"selection\",\"males\",\"changing\",\"defence\",\"subjects\",\"alfred\",\"grammar\",\"younger\",\"interview\",\"experiment\",\"opinion\",\"howard\",\"jersey\",\"stable\",\"tourism\",\"expensive\",\"publications\",\"finite\",\"radical\",\"audience\",\"pair\",\"decline\",\"mainstream\",\"sky\",\"bits\",\"franklin\",\"bands\",\"necessarily\",\"contributed\",\"effectively\",\"cuba\",\"vi\",\"express\",\"concerning\",\"opera\",\"adams\",\"sounds\",\"choose\",\"broad\",\"historian\",\"signs\",\"mathematician\",\"allied\",\"vehicle\",\"executed\",\"joint\",\"calls\",\"romans\",\"moore\",\"guard\",\"try\",\"affected\",\"eyes\",\"germanic\",\"samuel\",\"atmosphere\",\"yellow\",\"formally\",\"error\",\"vehicles\",\"painter\",\"kennedy\",\"hockey\",\"belgium\",\"albums\",\"hundreds\",\"evolved\",\"philip\",\"trying\",\"husband\",\"compounds\",\"committed\",\"ministry\",\"federation\",\"roots\",\"heard\",\"concerned\",\"coup\",\"temperatures\",\"stands\",\"matters\",\"historic\",\"cape\",\"dvd\",\"underground\",\"attributed\",\"apparent\",\"clock\",\"georgia\",\"officials\",\"instruction\",\"rapid\",\"youth\",\"broken\",\"graphics\",\"carl\",\"broke\",\"prices\",\"treated\",\"residents\",\"nearby\",\"score\",\"kg\",\"else\",\"consciousness\",\"patterns\",\"identical\",\"faster\",\"supporting\",\"gender\",\"relationships\",\"establishment\",\"leads\",\"wealth\",\"learn\",\"chance\",\"grant\",\"join\",\"amounts\",\"renamed\",\"earl\",\"incorporated\",\"fox\",\"serving\",\"silver\",\"warfare\",\"styles\",\"involving\",\"strike\",\"successor\",\"officers\",\"ottoman\",\"beer\",\"russell\",\"banks\",\"lakes\",\"mediterranean\",\"favor\",\"dc\",\"lunar\",\"conventional\",\"height\",\"budget\",\"sales\",\"appeal\",\"regime\",\"decade\",\"poem\",\"disc\",\"leaves\",\"donald\",\"judicial\",\"inner\",\"variable\",\"ordinary\",\"indiana\",\"norway\",\"logo\",\"unusual\",\"costs\",\"biblical\",\"partly\",\"chamber\",\"unless\",\"lie\",\"talk\",\"achieve\",\"episodes\",\"particle\",\"da\",\"trading\",\"declaration\",\"gradually\",\"frame\",\"parliamentary\",\"concentration\",\"fort\",\"legislation\",\"finished\",\"stalin\",\"notion\",\"meters\",\"cult\",\"random\",\"acquired\",\"script\",\"prison\",\"girl\",\"suggest\",\"educational\",\"dialect\",\"comparison\",\"consumption\",\"mike\",\"opponents\",\"distinguished\",\"czech\",\"roll\",\"advance\",\"cat\",\"racing\",\"dangerous\",\"component\",\"joe\",\"byzantine\",\"peninsula\",\"categories\",\"draw\",\"reforms\",\"rural\",\"consisting\",\"anglo\",\"answer\",\"anyone\",\"suicide\",\"substance\",\"finnish\",\"succession\",\"balance\",\"manufacturing\",\"rulers\",\"intelligent\",\"sections\",\"characteristic\",\"successfully\",\"newly\",\"hair\",\"dimensional\",\"mayor\",\"demographics\",\"walls\",\"converted\",\"harry\",\"abandoned\",\"rank\",\"adding\",\"vowel\",\"collected\",\"champion\",\"concerns\",\"fit\",\"branches\",\"codes\",\"selling\",\"theology\",\"birds\",\"prayer\",\"interesting\",\"vs\",\"telephone\",\"drawing\",\"markets\",\"conversion\",\"vision\",\"alternate\",\"notation\",\"knights\",\"phenomenon\",\"williams\",\"learned\",\"stored\",\"indigenous\",\"edited\",\"patients\",\"possibility\",\"heads\",\"onto\",\"steve\",\"threat\",\"escape\",\"boys\",\"accurate\",\"simon\",\"task\",\"swiss\",\"worship\",\"lowest\",\"substantial\",\"bce\",\"superior\",\"hell\",\"einstein\",\"classified\",\"ethics\",\"orbit\",\"divisions\",\"establish\",\"measured\",\"caribbean\",\"olympic\",\"atari\",\"sufficient\",\"intel\",\"allies\",\"conducted\",\"limits\",\"attended\",\"weak\",\"guns\",\"verb\",\"probability\",\"teacher\",\"weather\",\"axis\",\"capture\",\"experienced\",\"struggle\",\"save\",\"passing\",\"hope\",\"offensive\",\"cinema\",\"organisms\",\"operated\",\"emperors\",\"appropriate\",\"di\",\"concert\",\"spectrum\",\"tell\",\"oriented\",\"berkeley\",\"moment\",\"complexity\",\"alan\",\"implementation\",\"lords\",\"holiday\",\"arguments\",\"dollar\",\"violent\",\"copy\",\"genus\",\"interior\",\"compression\",\"geometry\",\"experiments\",\"indonesia\",\"explained\",\"accused\",\"ruth\",\"bomb\",\"corresponding\",\"sin\",\"dependent\",\"painting\",\"mechanism\",\"campus\",\"max\",\"capitalism\",\"minimum\",\"furthermore\",\"giant\",\"calling\",\"walter\",\"functional\",\"label\",\"aids\",\"abraham\",\"industries\",\"inflation\",\"themes\",\"explain\",\"switzerland\",\"strings\",\"charged\",\"lot\",\"alleged\",\"lyrics\",\"karl\",\"infantry\",\"muhammad\",\"priest\",\"perceived\",\"corporate\",\"pennsylvania\",\"instructions\",\"martial\",\"buried\",\"circumstances\",\"brian\",\"proteins\",\"falls\",\"myth\",\"fellow\",\"frequent\",\"cuisine\",\"preferred\",\"scientist\",\"tone\",\"integrated\",\"begun\",\"replace\",\"visited\",\"il\",\"generated\",\"facts\",\"organic\",\"mouse\",\"platform\",\"fairly\",\"approved\",\"assigned\",\"carrier\",\"finding\",\"dropped\",\"wilson\",\"leap\",\"ben\",\"batman\",\"manchester\",\"laureate\",\"desire\",\"launch\",\"amongst\",\"coastal\",\"colleges\",\"bruce\",\"colors\",\"baltic\",\"argentina\",\"douglas\",\"wrong\",\"garden\",\"skills\",\"moves\",\"mississippi\",\"mouth\",\"alexandria\",\"pdf\",\"roles\",\"gnu\",\"forming\",\"greeks\",\"ohio\",\"heritage\",\"diseases\",\"transmission\",\"abstract\",\"chairman\",\"norwegian\",\"statements\",\"retired\",\"request\",\"voting\",\"increases\",\"arm\",\"velocity\",\"illegal\",\"syria\",\"beings\",\"narrow\",\"thinking\",\"influences\",\"moscow\",\"roosevelt\",\"mexican\",\"votes\",\"characterized\",\"missile\",\"founding\",\"spaces\",\"aspect\",\"missouri\",\"memorial\",\"virtually\",\"pilot\",\"profile\",\"du\",\"experimental\",\"soil\",\"bonds\",\"charges\",\"explanation\",\"poems\",\"tracks\",\"ruler\",\"institution\",\"goddess\",\"agents\",\"airlines\",\"assistance\",\"bacteria\",\"chess\",\"researchers\",\"documentary\",\"testing\",\"ip\",\"theoretical\",\"en\",\"ll\",\"aim\",\"hole\",\"gary\",\"supposed\",\"bound\",\"constantine\",\"monster\",\"columbus\",\"delta\",\"definitions\",\"depth\",\"piano\",\"closer\",\"requirements\",\"legacy\",\"hindu\",\"elsewhere\",\"maria\",\"clubs\",\"meat\",\"steps\",\"ensure\",\"depends\",\"preserved\",\"boundaries\",\"spelling\",\"facilities\",\"prove\",\"algorithms\",\"perspective\",\"rising\",\"tropical\",\"northwest\",\"borders\",\"transition\",\"waves\",\"efficient\",\"engineer\",\"door\",\"tool\",\"luther\",\"keyboard\",\"orange\",\"pierre\",\"attached\",\"canal\",\"soft\",\"produces\",\"reserve\",\"coal\",\"signals\",\"electrons\",\"driven\",\"downtown\",\"symptoms\",\"passage\",\"improve\",\"partial\",\"hits\",\"variant\",\"resource\",\"hip\",\"fruit\",\"attacked\",\"imports\",\"metropolitan\",\"node\",\"technologies\",\"entertainment\",\"usual\",\"winner\",\"emerged\",\"additionally\",\"profit\",\"hospital\",\"ideal\",\"salt\",\"shift\",\"sword\",\"laboratory\",\"populations\",\"bird\",\"rice\",\"tests\",\"gravity\",\"consumer\",\"germans\",\"bowl\",\"marx\",\"mainland\",\"opponent\",\"evolutionary\",\"bears\",\"followers\",\"printed\",\"tales\",\"agree\",\"continent\",\"calculus\",\"cpu\",\"emphasis\",\"planning\",\"diamond\",\"frederick\",\"ex\",\"shaped\",\"print\",\"starring\",\"scheme\",\"constantinople\",\"descent\",\"execution\",\"lithuania\",\"boundary\",\"grown\",\"detroit\",\"milk\",\"morning\",\"forth\",\"essay\",\"sugar\",\"peak\",\"basketball\",\"palestinian\",\"napoleon\",\"jurisdiction\",\"laid\",\"hypothesis\",\"dating\",\"chile\",\"certainly\",\"identify\",\"beautiful\",\"keeping\",\"mp\",\"judges\",\"survived\",\"headquarters\",\"concern\",\"channels\",\"skin\",\"bah\",\"snow\",\"decisions\",\"lisp\",\"conquest\",\"kinds\",\"disorder\",\"referring\",\"stay\",\"lay\",\"kilometers\",\"macintosh\",\"longest\",\"residence\",\"integral\",\"acids\",\"driver\",\"motor\",\"prepared\",\"representing\",\"solutions\",\"solo\",\"organisation\",\"responsibility\",\"exile\",\"partially\",\"owner\",\"hiv\",\"bishops\",\"crimes\",\"pronunciation\",\"poverty\",\"athens\",\"districts\",\"filled\",\"variants\",\"diplomatic\",\"patent\",\"benefit\",\"angels\",\"monarchy\",\"meanings\",\"copies\",\"locations\",\"minute\",\"procedure\",\"cited\",\"originated\",\"didn\",\"inducted\",\"matrix\",\"headed\",\"celebrated\",\"naturally\",\"battles\",\"representative\",\"operate\",\"covers\",\"grounds\",\"variation\",\"soldier\",\"knew\",\"protected\",\"medal\",\"relativity\",\"easier\",\"seemed\",\"percentage\",\"cm\",\"wine\",\"roads\",\"unix\",\"rebellion\",\"carrying\",\"incident\",\"roger\",\"sunday\",\"animated\",\"hills\",\"gone\",\"familiar\",\"confused\",\"plain\",\"dylan\",\"ultimate\",\"partner\",\"listing\",\"thirty\",\"directors\",\"composers\",\"getting\",\"angle\",\"briefly\",\"comprehensive\",\"descendants\",\"commentary\",\"varies\",\"seek\",\"knight\",\"holidays\",\"abuse\",\"presidency\",\"extinct\",\"recipient\",\"liberty\",\"armies\",\"victoria\",\"distinguish\",\"dublin\",\"grow\",\"marshall\",\"assassination\",\"landing\",\"papers\",\"overview\",\"ontario\",\"goals\",\"opportunity\",\"defensive\",\"automatic\",\"offers\",\"confirmed\",\"absence\",\"performing\",\"ma\",\"fluid\",\"dos\",\"nasa\",\"sentence\",\"finalist\",\"ports\",\"interpreted\",\"collapse\",\"processor\",\"encouraged\",\"contributions\",\"emergency\",\"fly\",\"remove\",\"bulgaria\",\"register\",\"enemies\",\"vowels\",\"victims\",\"macedonia\",\"png\",\"afterwards\",\"serves\",\"ranked\",\"indicates\",\"difficulty\",\"personality\",\"southeast\",\"floor\",\"credited\",\"renaissance\",\"noun\",\"atom\",\"cathedral\",\"interaction\",\"walk\",\"nato\",\"stages\",\"promote\",\"hamilton\",\"agave\",\"basque\",\"faced\",\"pitch\",\"sacred\",\"unity\",\"tape\",\"eric\",\"bibliography\",\"household\",\"cash\",\"survive\",\"phenomena\",\"colour\",\"forests\",\"drop\",\"obtain\",\"losing\",\"reactions\",\"carter\",\"presidents\",\"boat\",\"vienna\",\"possession\",\"focused\",\"shell\",\"continuing\",\"safe\",\"debt\",\"brand\",\"compact\",\"southwest\",\"substances\",\"titled\",\"passenger\",\"reaching\",\"charter\",\"diverse\",\"discussed\",\"friedrich\",\"funds\",\"highway\",\"tony\",\"credit\",\"transferred\",\"communism\",\"benjamin\",\"happened\",\"monarch\",\"baptism\",\"lesser\",\"challenge\",\"beat\",\"seasons\",\"linguistic\",\"chose\",\"plate\",\"slave\",\"breaking\",\"artistic\",\"engineers\",\"gregorian\",\"beach\",\"crystal\",\"electoral\",\"citizen\",\"carolina\",\"dream\",\"regardless\",\"territorial\",\"clark\",\"mit\",\"journey\",\"dual\",\"everyone\",\"ill\",\"repeated\",\"humanity\",\"twentieth\",\"candidates\",\"christopher\",\"santa\",\"camps\",\"consistent\",\"archive\",\"welsh\",\"copper\",\"bases\",\"gibraltar\",\"jan\",\"survey\",\"ownership\",\"progressive\",\"advertising\",\"worth\",\"immediate\",\"statistical\",\"trained\",\"gallery\",\"commodore\",\"restricted\",\"integer\",\"senior\",\"slaves\",\"operator\",\"horror\",\"client\",\"hotel\",\"corps\",\"disputed\",\"translations\",\"empty\",\"relief\",\"fm\",\"stress\",\"anthony\",\"farm\",\"implemented\",\"involve\",\"keys\",\"sox\",\"esperanto\",\"psychological\",\"canon\",\"restrictions\",\"variables\",\"bureau\",\"criticized\",\"detail\",\"column\",\"uniform\",\"moses\",\"firm\",\"cleveland\",\"virus\",\"specialized\",\"libraries\",\"describing\",\"adapted\",\"drink\",\"outer\",\"ruling\",\"females\",\"offices\",\"send\",\"senator\",\"disney\",\"couple\",\"seconds\",\"reverse\",\"slavery\",\"biggest\",\"verse\",\"inch\",\"depicted\",\"colorado\",\"civilian\",\"conquered\",\"duty\",\"lose\",\"rocks\",\"calvin\",\"contrary\",\"syndrome\",\"situations\",\"ce\",\"array\",\"obvious\",\"compound\",\"architect\",\"streets\",\"rain\",\"engaged\",\"leo\",\"races\",\"varying\",\"ethical\",\"pain\",\"retained\",\"distinctive\",\"isolated\",\"beta\",\"khan\",\"herbert\",\"confusion\",\"fighter\",\"speaker\",\"skill\",\"compatible\",\"herself\",\"morocco\",\"turning\",\"electronics\",\"declined\",\"investigation\",\"precise\",\"dragon\",\"manufacturers\",\"arithmetic\",\"liberation\",\"turns\",\"starts\",\"buddhism\",\"spin\",\"campbell\",\"demonstrated\",\"messages\",\"planets\",\"spacecraft\",\"prophet\",\"reducing\",\"observations\",\"reduction\",\"airports\",\"sovereignty\",\"interested\",\"patient\",\"petroleum\",\"creator\",\"custom\",\"exclusively\",\"neutral\",\"princess\",\"bronze\",\"cyprus\",\"replacement\",\"mining\",\"educated\",\"insurance\",\"differ\",\"animation\",\"camera\",\"scenes\",\"strategic\",\"watch\",\"migration\",\"baby\",\"gate\",\"claiming\",\"tribe\",\"waters\",\"invention\",\"molecule\",\"estate\",\"disaster\",\"te\",\"galaxy\",\"phi\",\"democrats\",\"publicly\",\"arrangement\",\"dramatic\",\"banned\",\"cave\",\"receiving\",\"exclusive\",\"integration\",\"accompanied\",\"lawrence\",\"specified\",\"drew\",\"designated\",\"fund\",\"matthew\",\"regularly\",\"congo\",\"holocaust\",\"owners\",\"behaviour\",\"wear\",\"valid\",\"ve\",\"mile\",\"conspiracy\",\"penalty\",\"sample\",\"genes\",\"geographic\",\"infrastructure\",\"houston\",\"commerce\",\"les\",\"draft\",\"surviving\",\"sam\",\"diet\",\"disambiguation\",\"fled\",\"atlanta\",\"separation\",\"connections\",\"structural\",\"boeing\",\"sixth\",\"gates\",\"missions\",\"strictly\",\"varieties\",\"minnesota\",\"cricket\",\"pollution\",\"isaac\",\"earned\",\"experiences\",\"statue\",\"cooperation\",\"millions\",\"slowly\",\"supports\",\"newspapers\",\"cardinal\",\"benefits\",\"powered\",\"switch\",\"indians\",\"passes\",\"commons\",\"doesn\",\"jet\",\"falling\",\"overseas\",\"montreal\",\"arrested\",\"essays\",\"alaska\",\"plural\",\"purchase\",\"ibn\",\"rational\",\"blind\",\"coffee\",\"dioxide\",\"permitted\",\"estimates\",\"monetary\",\"excellent\",\"bulgarian\",\"prisoners\",\"whatever\",\"doubt\",\"siege\",\"moreover\",\"mixture\",\"personnel\",\"contest\",\"tank\",\"laser\",\"latvia\",\"explorer\",\"gothic\",\"archbishop\",\"tells\",\"jacob\",\"cavalry\",\"anne\",\"considerably\",\"monopoly\",\"confederate\",\"delivered\",\"involvement\",\"marks\",\"taiwan\",\"quantity\",\"teachings\",\"horses\",\"measurement\",\"inventor\",\"cook\",\"torah\",\"lifetime\",\"johann\",\"differential\",\"tale\",\"conclusion\",\"framework\",\"broadcasting\",\"admiral\",\"optical\",\"affect\",\"export\",\"arranged\",\"discipline\",\"whilst\",\"miller\",\"catholics\",\"quebec\",\"yes\",\"consequently\",\"mention\",\"secure\",\"winners\",\"duties\",\"fat\",\"wish\",\"secular\",\"developments\",\"theater\",\"eat\",\"journalist\",\"stability\",\"ethiopia\",\"punishment\",\"sell\",\"row\",\"taylor\",\"allen\",\"disputes\",\"ban\",\"synthesis\",\"racial\",\"temporary\",\"controls\",\"voted\",\"enjoyed\",\"properly\",\"anime\",\"recordings\",\"explicitly\",\"returning\",\"aristotle\",\"isle\",\"footballer\",\"buddhist\",\"pairs\",\"ranges\",\"mystery\",\"blade\",\"curve\",\"seeking\",\"bringing\",\"si\",\"sale\",\"participation\",\"metric\",\"appearances\",\"linguistics\",\"devil\",\"shorter\",\"robinson\",\"politicians\",\"citizenship\",\"volumes\",\"revised\",\"negotiations\",\"dollars\",\"immigration\",\"devoted\",\"immigrants\",\"centers\",\"routes\",\"rival\",\"leg\",\"indicated\",\"approval\",\"suitable\",\"singular\",\"suit\",\"chip\",\"childhood\",\"observation\",\"conduct\",\"purchased\",\"comedian\",\"terminal\",\"iranian\",\"efficiency\",\"missiles\",\"fresh\",\"legendary\",\"abc\",\"establishing\",\"agreements\",\"singing\",\"partners\",\"destroy\",\"implies\",\"fishing\",\"grey\",\"sharp\",\"creative\",\"romania\",\"worst\",\"finance\",\"plastic\",\"restored\",\"orchestra\",\"warm\",\"arizona\",\"covering\",\"wins\",\"termed\",\"tube\",\"consequences\",\"northeast\",\"gets\",\"finds\",\"perception\",\"genesis\",\"hidden\",\"exposed\",\"proposal\",\"metals\",\"drives\",\"guitarist\",\"seeing\",\"vertical\",\"favour\",\"promoted\",\"equally\",\"expedition\",\"photo\",\"superman\",\"concluded\",\"beauty\",\"situated\",\"twin\",\"mounted\",\"theological\",\"caught\",\"scholar\",\"assume\",\"wiki\",\"terminology\",\"gordon\",\"returns\",\"mormon\",\"loop\",\"algebraic\",\"valuable\",\"concentrated\",\"handed\",\"franchise\",\"collective\",\"dave\",\"stopped\",\"ready\",\"concrete\",\"removal\",\"releases\",\"portrait\",\"burning\",\"kuwait\",\"prussia\",\"turing\",\"counties\",\"oral\",\"physician\",\"grain\",\"aware\",\"affair\",\"fusion\",\"fired\",\"maritime\",\"google\",\"nova\",\"gamma\",\"jacques\",\"vii\",\"varied\",\"millennium\",\"width\",\"adjacent\",\"dynamic\",\"margaret\",\"wayne\",\"adventure\",\"singles\",\"difficulties\",\"consequence\",\"funding\",\"jobs\",\"philadelphia\",\"rom\",\"iowa\",\"johnny\",\"voltage\",\"portrayed\",\"recognize\",\"driving\",\"ask\",\"julian\",\"obsolete\",\"flash\",\"circuits\",\"rocket\",\"therapy\",\"astronomy\",\"louisiana\",\"ceremony\",\"trans\",\"collections\",\"housing\",\"recovery\",\"buy\",\"harrison\",\"transformation\",\"revelation\",\"fewer\",\"amateur\",\"fran\",\"virgin\",\"interactive\",\"mix\",\"bach\",\"servers\",\"magnitude\",\"admitted\",\"chancellor\",\"thin\",\"proclaimed\",\"ghost\",\"ne\",\"complicated\",\"rotation\",\"arrival\",\"belong\",\"tourist\",\"gauge\",\"fbi\",\"analog\",\"cognitive\",\"reflected\",\"trust\",\"bernard\",\"capita\",\"editions\",\"bought\",\"phone\",\"tends\",\"storm\",\"crash\",\"thompson\",\"dealing\",\"wings\",\"intervention\",\"employment\",\"mercury\",\"settlements\",\"governing\",\"merged\",\"seventh\",\"muscle\",\"meanwhile\",\"dated\",\"align\",\"ram\",\"kent\",\"handle\",\"topic\",\"railroad\",\"customs\",\"suffering\",\"baroque\",\"median\",\"window\",\"designer\",\"neo\",\"thereby\",\"transform\",\"denied\",\"exceptions\",\"dan\",\"nelson\",\"info\",\"attempting\",\"raise\",\"cellular\",\"romantic\",\"coins\",\"norman\",\"chart\",\"photos\",\"extend\",\"gregory\",\"surrounded\",\"mathematicians\",\"int\",\"entropy\",\"please\",\"murray\",\"augustus\",\"significance\",\"ties\",\"beijing\",\"relevant\",\"summary\",\"advice\",\"tribute\",\"quantities\",\"printing\",\"marketing\",\"buffalo\",\"factory\",\"threatened\",\"belgian\",\"tim\",\"manufactured\",\"accident\",\"reflect\",\"grace\",\"proven\",\"maintains\",\"quick\",\"dimension\",\"alien\",\"pointed\",\"independently\",\"moderate\",\"corruption\",\"option\",\"lenin\",\"hunting\",\"ongoing\",\"refugees\",\"guy\",\"poets\",\"simultaneously\",\"hawaii\",\"jupiter\",\"drum\",\"disorders\",\"participate\",\"accuracy\",\"spot\",\"quoted\",\"operators\",\"anglican\",\"taxes\",\"palestine\",\"liverpool\",\"mood\",\"reader\",\"symbolic\",\"attracted\",\"illness\",\"inches\",\"compare\",\"oscar\",\"performances\",\"noble\",\"eating\",\"malaysia\",\"stores\",\"consonant\",\"adventures\",\"romance\",\"aimed\",\"exercise\",\"strict\",\"wider\",\"alive\",\"minerals\",\"sensitive\",\"stream\",\"tunnel\",\"terrorist\",\"kosovo\",\"stanley\",\"phoenix\",\"log\",\"acceptance\",\"studios\",\"reviews\",\"consist\",\"subset\",\"remainder\",\"gandhi\",\"croatia\",\"extensively\",\"legislature\",\"drama\",\"dick\",\"employees\",\"chemist\",\"euro\",\"session\",\"anderson\",\"assault\",\"baltimore\",\"entity\",\"genres\",\"steam\",\"readers\",\"trivia\",\"happy\",\"struck\",\"luke\",\"blocks\",\"parent\",\"vacuum\",\"agencies\",\"duck\",\"nickname\",\"unions\",\"prefer\",\"se\",\"sphere\",\"unemployment\",\"europeans\",\"versus\",\"resigned\",\"shah\",\"viii\",\"graduate\",\"coined\",\"timeline\",\"wheel\",\"ieee\",\"singapore\",\"hans\",\"approaches\",\"chris\",\"enormous\",\"girls\",\"looks\",\"fallen\",\"clothing\",\"settlers\",\"bone\",\"worlds\",\"narrative\",\"expert\",\"offering\",\"serbia\",\"broadway\",\"monroe\",\"uss\",\"rear\",\"cuban\",\"drinking\",\"sharing\",\"cattle\",\"friendly\",\"toronto\",\"ann\",\"addresses\",\"cartoon\",\"studying\",\"requiring\",\"sovereign\",\"rings\",\"coverage\",\"nationalist\",\"holes\",\"automatically\",\"premier\",\"priests\",\"communists\",\"manual\",\"ph\",\"raw\",\"shock\",\"adoption\",\"marie\",\"geneva\",\"objective\",\"entering\",\"id\",\"trip\",\"conservation\",\"membrane\",\"binding\",\"aka\",\"consensus\",\"injury\",\"rolling\",\"errors\",\"besides\",\"defining\",\"paintings\",\"afc\",\"lasted\",\"arguably\",\"desired\",\"weekly\",\"teach\",\"neck\",\"conventions\",\"angel\",\"faces\",\"brazilian\",\"receives\",\"stones\",\"remote\",\"strange\",\"voters\",\"wire\",\"victor\",\"shares\",\"trains\",\"generations\",\"rfc\",\"larry\",\"observer\",\"aaron\",\"administered\",\"programme\",\"guest\",\"easter\",\"liberalism\",\"sequences\",\"natives\",\"sole\",\"painted\",\"hunt\",\"pan\",\"exposure\",\"autonomous\",\"defend\",\"metres\",\"bull\",\"taste\",\"kingdoms\",\"voyage\",\"championships\",\"exploration\",\"shooting\",\"rifle\",\"diego\",\"colombia\",\"tendency\",\"proportion\",\"elevation\",\"baptist\",\"comments\",\"procedures\",\"momentum\",\"lithuanian\",\"compiler\",\"alongside\",\"argues\",\"cutting\",\"funeral\",\"marvel\",\"generate\",\"schedule\",\"mirror\",\"eve\",\"albania\",\"dogs\",\"underlying\",\"slavic\",\"stronger\",\"semitic\",\"heroes\",\"dimensions\",\"mammals\",\"corner\",\"coat\",\"abolished\",\"truly\",\"revenue\",\"decimal\",\"maryland\",\"eternal\",\"competitive\",\"wilhelm\",\"governed\",\"latest\",\"austin\",\"costa\",\"nationality\",\"bulk\",\"clinical\",\"looked\",\"arc\",\"ascii\",\"grade\",\"jimmy\",\"governors\",\"businesses\",\"lieutenant\",\"shore\",\"formats\",\"dot\",\"trinity\",\"crops\",\"epic\",\"activist\",\"assistant\",\"adaptation\",\"geographical\",\"terrain\",\"saxon\",\"tasks\",\"considering\",\"inspiration\",\"helium\",\"interpretations\",\"hunter\",\"wearing\",\"stood\",\"instrumental\",\"slang\",\"publisher\",\"manga\",\"python\",\"occasions\",\"ac\",\"infection\",\"mickey\",\"franco\",\"electromagnetic\",\"plains\",\"edinburgh\",\"uncle\",\"unfortunately\",\"requirement\",\"libya\",\"supplies\",\"amiga\",\"arose\",\"honour\",\"patrick\",\"ai\",\"installed\",\"replacing\",\"regulations\",\"milan\",\"florence\",\"repeatedly\",\"opposing\",\"mechanisms\",\"sand\",\"politically\",\"bills\",\"trials\",\"tail\",\"scots\",\"hoover\",\"nominated\",\"naming\",\"creates\",\"consonants\",\"unlikely\",\"revival\",\"bombing\",\"applies\",\"ms\",\"intense\",\"battery\",\"protest\",\"seriously\",\"kentucky\",\"purely\",\"jonathan\",\"wright\",\"matches\",\"pioneer\",\"tactics\",\"mineral\",\"manuscript\",\"merchant\",\"hierarchy\",\"liberals\",\"appearing\",\"recommended\",\"entities\",\"centered\",\"babylon\",\"visitors\",\"tables\",\"happen\",\"atlas\",\"ussr\",\"economies\",\"hosts\",\"diamonds\",\"tea\",\"missing\",\"ranging\",\"saudi\",\"deck\",\"serial\",\"belt\",\"jane\",\"silent\",\"creatures\",\"aramaic\",\"philippines\",\"developers\",\"demands\",\"aluminium\",\"consisted\",\"retain\",\"kevin\",\"sydney\",\"cocaine\",\"triple\",\"feast\",\"mao\",\"sees\",\"criteria\",\"identification\",\"arabia\",\"homosexuality\",\"homosexual\",\"invaded\",\"tied\",\"li\",\"cargo\",\"spending\",\"fossil\",\"homer\",\"aside\",\"etymology\",\"derives\",\"reaches\",\"damaged\",\"integers\",\"writes\",\"reject\",\"teachers\",\"amendment\",\"reasoning\",\"feeling\",\"check\",\"abortion\",\"unofficial\",\"transmitted\",\"trotsky\",\"freely\",\"decide\",\"elite\",\"conflicts\",\"vocal\",\"bright\",\"farming\",\"tall\",\"spoke\",\"solve\",\"gravitational\",\"norse\",\"mutual\",\"advocates\",\"proto\",\"explosion\",\"sultan\",\"abroad\",\"evening\",\"coin\",\"warner\",\"juan\",\"jury\",\"bosnia\",\"godzilla\",\"touch\",\"sure\",\"abu\",\"fifty\",\"statesman\",\"pagan\",\"novelist\",\"provincial\",\"massacre\",\"carries\",\"anthropology\",\"physiology\",\"nouns\",\"glucose\",\"hearing\",\"cats\",\"danger\",\"newer\",\"realm\",\"organism\",\"scope\",\"treat\",\"graphic\",\"hash\",\"socialism\",\"defines\",\"genetics\",\"comet\",\"plague\",\"galileo\",\"arbitrary\",\"occasion\",\"ian\",\"aviation\",\"doors\",\"gray\",\"communion\",\"estonia\",\"leibniz\",\"propaganda\",\"reportedly\",\"franz\",\"tennis\",\"tissue\",\"module\",\"item\",\"derivative\",\"diameter\",\"illustrated\",\"losses\",\"facing\",\"speeds\",\"targets\",\"astronomical\",\"judah\",\"sanskrit\",\"manufacturer\",\"graph\",\"wisconsin\",\"unsuccessful\",\"infant\",\"doctors\",\"submarine\",\"quotes\",\"guardian\",\"operates\",\"kernel\",\"warming\",\"survival\",\"thanks\",\"arabs\",\"distant\",\"basin\",\"stanford\",\"trek\",\"consent\",\"sweet\",\"julius\",\"conan\",\"proponents\",\"withdrawal\",\"sight\",\"notice\",\"periodic\",\"likewise\",\"pool\",\"foods\",\"ion\",\"maintaining\",\"yugoslavia\",\"occurring\",\"barry\",\"meetings\",\"chad\",\"vocabulary\",\"alice\",\"artillery\",\"predominantly\",\"modes\",\"estimate\",\"filter\",\"eleven\",\"tennessee\",\"villages\",\"oh\",\"crossing\",\"legs\",\"rabbi\",\"songwriter\",\"nietzsche\",\"chapters\",\"iceland\",\"chemicals\",\"anniversary\",\"wisdom\",\"confidence\",\"serbian\",\"retrieved\",\"hindi\",\"amino\",\"explains\",\"punk\",\"assumption\",\"closest\",\"revolt\",\"unified\",\"stewart\",\"guilty\",\"saved\",\"ritual\",\"archaeological\",\"vessels\",\"runner\",\"permission\",\"trend\",\"practiced\",\"solomon\",\"catholicism\",\"graham\",\"belarus\",\"solely\",\"potentially\",\"noise\",\"sleep\",\"sacrifice\",\"displayed\",\"inhabited\",\"debut\",\"otto\",\"recognised\",\"divide\",\"clean\",\"circles\",\"diagram\",\"jerry\",\"hughes\",\"discrete\",\"enjoy\",\"reliable\",\"deals\",\"masters\",\"ferdinand\",\"tournament\",\"signature\",\"doom\",\"ukraine\",\"hear\",\"imposed\",\"technically\",\"connecticut\",\"regulation\",\"comparative\",\"maintenance\",\"inter\",\"cincinnati\",\"jump\",\"councils\",\"adults\",\"emotional\",\"birthday\",\"automobile\",\"syntax\",\"scored\",\"remarkable\",\"dialogue\",\"updated\",\"canterbury\",\"equipped\",\"constellation\",\"cdot\",\"macau\",\"nonetheless\",\"presents\",\"frontier\",\"pole\",\"shadow\",\"flows\",\"billy\",\"terry\",\"conception\",\"gore\",\"radar\",\"forty\",\"bearing\",\"opens\",\"orientation\",\"junior\",\"morris\",\"examination\",\"civilizations\",\"balls\",\"smooth\",\"explosive\",\"cool\",\"invited\",\"foundations\",\"associate\",\"reed\",\"extends\",\"judgment\",\"watson\",\"desktop\",\"baker\",\"grave\",\"experts\",\"elder\",\"floating\",\"baron\",\"wealthy\",\"salvation\",\"attributes\",\"municipal\",\"creature\",\"catch\",\"insubstantial\",\"mere\",\"primitive\",\"favorite\",\"depend\",\"portions\",\"producers\",\"implement\",\"phrases\",\"corporations\",\"immune\",\"blow\",\"deputy\",\"mbox\",\"claudius\",\"genome\",\"fred\",\"kills\",\"ahead\",\"harbor\",\"elementary\",\"stuart\",\"mhz\",\"horn\",\"vocals\",\"relating\",\"ss\",\"intermediate\",\"ranks\",\"opinions\",\"nucleus\",\"munich\",\"pick\",\"critic\",\"joke\",\"confederation\",\"retirement\",\"namely\",\"scores\",\"allegedly\",\"recovered\",\"capabilities\",\"commands\",\"haiti\",\"organisations\",\"publishers\",\"restoration\",\"nineteenth\",\"correspondence\",\"circular\",\"deeply\",\"courses\",\"homes\",\"smallest\",\"accessed\",\"earthquake\",\"fighters\",\"autonomy\",\"circumcision\",\"landscape\",\"legends\",\"companion\",\"corresponds\",\"masses\",\"bavaria\",\"americas\",\"striking\",\"abilities\",\"directions\",\"stroke\",\"farmers\",\"compiled\",\"generic\",\"facility\",\"diesel\",\"layers\",\"reformation\",\"coding\",\"precisely\",\"specification\",\"believes\",\"antonio\",\"lion\",\"oregon\",\"heir\",\"atheism\",\"milton\",\"elvis\",\"tongue\",\"ross\",\"configuration\",\"sri\",\"salvador\",\"afghan\",\"albanian\",\"qur\",\"console\",\"insulin\",\"decay\",\"hat\",\"surgery\",\"metro\",\"maxwell\",\"respective\",\"bread\",\"expressions\",\"covenant\",\"enlightenment\",\"counts\",\"lebanese\",\"hilbert\",\"buddha\",\"banking\",\"westminster\",\"thereafter\",\"shield\",\"alumni\",\"mine\",\"denominations\",\"tiny\",\"lb\",\"cheese\",\"mtv\",\"railways\",\"monarchs\",\"jamaica\",\"lasting\",\"reconstruction\",\"roy\",\"contribution\",\"frequencies\",\"extinction\",\"cluster\",\"dallas\",\"compete\",\"anthem\",\"realized\",\"fun\",\"avenue\",\"convert\",\"operational\",\"yards\",\"alabama\",\"shakespeare\",\"improvements\",\"campaigns\",\"descriptions\",\"princeton\",\"load\",\"literacy\",\"lights\",\"dancing\",\"legally\",\"madrid\",\"ted\",\"parks\",\"malcolm\",\"everyday\",\"clay\",\"scheduled\",\"hosted\",\"reserves\",\"factbook\",\"victim\",\"duncan\",\"stack\",\"fascist\",\"cotton\",\"bones\",\"arrest\",\"speculation\",\"beam\",\"carriers\",\"astronomer\",\"prose\",\"argentine\",\"luxembourg\",\"forcing\",\"ab\",\"registered\",\"dies\",\"minimal\",\"orbital\",\"tested\",\"autobiography\",\"kazakhstan\",\"uprising\",\"elaborate\",\"convinced\",\"tomb\",\"adopt\",\"symphony\",\"actively\",\"peru\",\"photographs\",\"geometric\",\"plateau\",\"romanian\",\"proportional\",\"pi\",\"anarchist\",\"ideology\",\"rainfall\",\"amazon\",\"preserve\",\"excess\",\"demanded\",\"circa\",\"wooden\",\"volcanic\",\"ali\",\"charts\",\"ira\",\"moldova\",\"poles\",\"tension\",\"diversity\",\"displays\",\"advances\",\"competing\",\"scales\",\"measurements\",\"inuit\",\"collins\",\"stayed\",\"browser\",\"nodes\",\"catherine\",\"finish\",\"harold\",\"rely\",\"editing\",\"interval\",\"completion\",\"humor\",\"accomplished\",\"consecutive\",\"honey\",\"whale\",\"gift\",\"relatives\",\"worn\",\"zeus\",\"stating\",\"thrown\",\"nicholas\",\"entrance\",\"eighth\",\"flowers\",\"backed\",\"nazis\",\"kick\",\"technological\",\"fate\",\"conservatives\",\"supposedly\",\"enterprise\",\"samples\",\"croatian\",\"enabled\",\"lane\",\"organ\",\"computational\",\"golf\",\"egg\",\"oswald\",\"dec\",\"paved\",\"warrior\",\"cousin\",\"signing\",\"ludwig\",\"contents\",\"attitude\",\"cow\",\"package\",\"select\",\"fifteen\",\"expenditures\",\"lambda\",\"kb\",\"omega\",\"advocate\",\"chaos\",\"eugene\",\"globe\",\"bow\",\"cemetery\",\"remembered\",\"intent\",\"morgan\",\"gases\",\"bridges\",\"ipa\",\"persia\",\"dj\",\"capitalist\",\"voices\",\"engage\",\"attorney\",\"burned\",\"precision\",\"productions\",\"waste\",\"encoding\",\"miami\",\"mu\",\"catalan\",\"availability\",\"inherited\",\"transit\",\"crusade\",\"forbidden\",\"brass\",\"dominican\",\"unicode\",\"annually\",\"vital\",\"advent\",\"equilibrium\",\"calculated\",\"surfaces\",\"calculations\",\"adolf\",\"amsterdam\",\"prussian\",\"dune\",\"predicted\",\"horizontal\",\"attend\",\"winds\",\"hinduism\",\"dust\",\"preparation\",\"rough\",\"jurisdictions\",\"tokyo\",\"bed\",\"ronald\",\"jay\",\"homepage\",\"clergy\",\"rendered\",\"embedded\",\"ha\",\"microwave\",\"physically\",\"ken\",\"populated\",\"murdered\",\"differs\",\"feed\",\"nintendo\",\"und\",\"iraqi\",\"altered\",\"till\",\"syrian\",\"scoring\",\"irc\",\"totally\",\"fathers\",\"pascal\",\"archives\",\"environments\",\"crowd\",\"connecting\",\"dubbed\",\"floppy\",\"deemed\",\"manuscripts\",\"instances\",\"locally\",\"telecommunications\",\"olympics\",\"protocols\",\"cameroon\",\"expelled\",\"transformed\",\"comment\",\"spend\",\"peer\",\"wallace\",\"acceptable\",\"remember\",\"suspended\",\"reagan\",\"dealt\",\"discussions\",\"mccarthy\",\"fiscal\",\"observers\",\"documentation\",\"pilots\",\"passengers\",\"tanks\",\"deposits\",\"sheet\",\"weber\",\"honduras\",\"alberta\",\"enforcement\",\"yale\",\"vessel\",\"poe\",\"marxist\",\"explicit\",\"critique\",\"similarities\",\"dramatically\",\"initiated\",\"promised\",\"tense\",\"statute\",\"ions\",\"ba\",\"barrel\",\"galaxies\",\"edgar\",\"tribal\",\"trace\",\"corn\",\"dying\",\"assassinated\",\"wolf\",\"robin\",\"joan\",\"rhythm\",\"lutheran\",\"willing\",\"intention\",\"firing\",\"pleasure\",\"carefully\",\"famously\",\"faculty\",\"paradox\",\"criticisms\",\"nationalism\",\"designation\",\"pushed\",\"myths\",\"thesis\",\"modification\",\"craft\",\"es\",\"hemisphere\",\"boxing\",\"delivery\",\"resident\",\"extending\",\"feminist\",\"verbs\",\"daughters\",\"orleans\",\"lawyer\",\"arkansas\",\"jefferson\",\"legitimate\",\"celebration\",\"brooks\",\"monk\",\"pact\",\"improvement\",\"multiplication\",\"occasional\",\"nobility\",\"prophets\",\"systematic\",\"vegetables\",\"breed\",\"claude\",\"starred\",\"combustion\",\"distances\",\"hubbard\",\"coca\",\"interactions\",\"mild\",\"treaties\",\"killer\",\"hugo\",\"imf\",\"arctic\",\"limitations\",\"bangladesh\",\"coordinates\",\"harmonic\",\"latitude\",\"monastery\",\"monty\",\"removing\",\"descended\",\"push\",\"canonical\",\"manhattan\",\"machinery\",\"processors\",\"semitism\",\"receiver\",\"contribute\",\"ark\",\"babylonian\",\"sending\",\"dawn\",\"cooking\",\"segment\",\"monks\",\"encountered\",\"enhanced\",\"mines\",\"antiquity\",\"presentation\",\"addressed\",\"capability\",\"constantly\",\"rugby\",\"elephant\",\"cornell\",\"continuity\",\"harmony\",\"terrorism\",\"construct\",\"informal\",\"marry\",\"forever\",\"economist\",\"neil\",\"connect\",\"planes\",\"champions\",\"dismissed\",\"restaurants\",\"provisions\",\"liver\",\"midi\",\"participants\",\"steven\",\"charlie\",\"singers\",\"wounded\",\"saturday\",\"edmund\",\"comparable\",\"sectors\",\"landed\",\"municipality\",\"calgary\",\"dice\",\"voiced\",\"equality\",\"indicating\",\"ward\",\"gaining\",\"equatorial\",\"heights\",\"mitchell\",\"traits\",\"happens\",\"uncertain\",\"combinations\",\"bias\",\"jargon\",\"shots\",\"afl\",\"drivers\",\"internationally\",\"arguing\",\"responded\",\"miss\",\"harm\",\"walker\",\"surprise\",\"passages\",\"inverse\",\"denver\",\"gathering\",\"harbour\",\"correctly\",\"proceedings\",\"acted\",\"advantages\",\"cantor\",\"knife\",\"expand\",\"hired\",\"governmental\",\"putting\",\"geology\",\"sophisticated\",\"talks\",\"trademark\",\"documented\",\"substantially\",\"persecution\",\"phases\",\"navigation\",\"mario\",\"licensed\",\"er\",\"adjective\",\"axioms\",\"crucial\",\"kim\",\"convicted\",\"tiger\",\"lighting\",\"organs\",\"chocolate\",\"abbey\",\"cannon\",\"terror\",\"tended\",\"dissolved\",\"virtue\",\"isles\",\"implementations\",\"separately\",\"leaf\",\"au\",\"clusters\",\"exhibit\",\"readily\",\"pocket\",\"surrender\",\"macedonian\",\"essence\",\"sheep\",\"auto\",\"gap\",\"apostles\",\"meter\",\"trigger\",\"eds\",\"ancestors\",\"advocated\",\"magazines\",\"plates\",\"knowing\",\"plato\",\"loyal\",\"witness\",\"ny\",\"constitute\",\"thirteen\",\"ceased\",\"kant\",\"algeria\",\"rays\",\"portal\",\"highways\",\"fires\",\"soccer\",\"travels\",\"fr\",\"anarchism\",\"guided\",\"sitting\",\"sizes\",\"anywhere\",\"numbered\",\"belonging\",\"cycles\",\"default\",\"mortality\",\"fa\",\"trouble\",\"conscious\",\"severely\",\"injured\",\"eggs\",\"ancestry\",\"civilians\",\"chains\",\"genius\",\"helping\",\"bmw\",\"divorce\",\"accounting\",\"raising\",\"extensions\",\"witnesses\",\"parameters\",\"nm\",\"syllable\",\"db\",\"brussels\",\"warning\",\"boats\",\"ride\",\"altitude\",\"prevented\",\"lens\",\"seal\",\"inland\",\"fragments\",\"referendum\",\"condemned\",\"manufacture\",\"powder\",\"genocide\",\"graphical\",\"cambodia\",\"initiative\",\"eliminated\",\"norm\",\"alcoholic\",\"thoughts\",\"welfare\",\"handling\",\"gen\",\"resolved\",\"considers\",\"promoting\",\"hugh\",\"joining\",\"ltd\",\"interference\",\"findings\",\"nitrogen\",\"monitor\",\"controlling\",\"ratified\",\"darkness\",\"soviets\",\"thermal\",\"reasonable\",\"expanding\",\"pound\",\"violin\",\"suspected\",\"determining\",\"assist\",\"coastline\",\"placing\",\"worse\",\"malta\",\"customer\",\"stick\",\"atmospheric\",\"shipping\",\"mice\",\"ada\",\"plasma\",\"greenland\",\"throw\",\"icon\",\"amd\",\"pearl\",\"websites\",\"supplied\",\"trilogy\",\"whenever\",\"monument\",\"insects\",\"meets\",\"wise\",\"rounds\",\"cola\",\"bowie\",\"panel\",\"personally\",\"gps\",\"colonel\",\"folklore\",\"arnold\",\"sessions\",\"coordinate\",\"leagues\",\"rhine\",\"thick\",\"utility\",\"settings\",\"polar\",\"unclear\",\"wake\",\"venice\",\"emerging\",\"aged\",\"universally\",\"pride\",\"spirits\",\"rica\",\"commanded\",\"outcome\",\"puerto\",\"strikes\",\"theologian\",\"guatemala\",\"decrease\",\"suburbs\",\"friendship\",\"wedding\",\"miscellaneous\",\"rio\",\"accessible\",\"georg\",\"rendering\",\"sung\",\"flights\",\"pounds\",\"cosmic\",\"customers\",\"swing\",\"programmers\",\"epistle\",\"ecuador\",\"wasn\",\"bitter\",\"zones\",\"colored\",\"xi\",\"commitment\",\"collaboration\",\"reflects\",\"cf\",\"sized\",\"commissioned\",\"burns\",\"triangle\",\"shop\",\"ois\",\"cornwall\",\"psi\",\"hannibal\",\"robot\",\"burn\",\"successive\",\"nomination\",\"harris\",\"morality\",\"tons\",\"disappeared\",\"chair\",\"mapping\",\"heinrich\",\"lions\",\"ammunition\",\"bicycle\",\"lovecraft\",\"tolkien\",\"ecology\",\"interviews\",\"neighboring\",\"ancestor\",\"crossed\",\"reserved\",\"revenues\",\"portable\",\"rescue\",\"rap\",\"charlemagne\",\"scandal\",\"churchill\",\"behalf\",\"klan\",\"dishes\",\"participated\",\"fascism\",\"rand\",\"awareness\",\"promise\",\"fruits\",\"autumn\",\"archipelago\",\"sa\",\"ninth\",\"entries\",\"bat\",\"viruses\",\"induced\",\"suite\",\"derivatives\",\"joy\",\"absorbed\",\"lighter\",\"denote\",\"economists\",\"summit\",\"volunteers\",\"commercially\",\"synthetic\",\"euclidean\",\"sketch\",\"acceleration\",\"answers\",\"belongs\",\"talking\",\"lectures\",\"dreams\",\"deliberately\",\"wesley\",\"vladimir\",\"options\",\"numerical\",\"departure\",\"gilbert\",\"button\",\"worker\",\"denoted\",\"evident\",\"qualities\",\"delaware\",\"mrs\",\"op\",\"beethoven\",\"communicate\",\"quote\",\"shoot\",\"empirical\",\"utc\",\"melbourne\",\"bytes\",\"monsters\",\"reformed\",\"drums\",\"quest\",\"sicily\",\"lynch\",\"athletic\",\"burial\",\"mentions\",\"encourage\",\"escaped\",\"ignored\",\"scholarship\",\"sk\",\"sodium\",\"papal\",\"dress\",\"suggesting\",\"cap\",\"presumably\",\"ron\",\"breeding\",\"seed\",\"chronicles\",\"fail\",\"respond\",\"uncommon\",\"sing\",\"challenged\",\"bloody\",\"anatomy\",\"discrimination\",\"flower\",\"picked\",\"fill\",\"cryptography\",\"leon\",\"tip\",\"nile\",\"topology\",\"walking\",\"slower\",\"poorly\",\"famine\",\"facto\",\"angles\",\"measuring\",\"cylinder\",\"wage\",\"assets\",\"cache\",\"anarcho\",\"dynamics\",\"preventing\",\"discoveries\",\"hate\",\"assisted\",\"senators\",\"static\",\"detect\",\"hampshire\",\"keith\",\"raymond\",\"discuss\",\"abbreviation\",\"teeth\",\"imported\",\"protests\",\"carlos\",\"suppose\",\"sequel\",\"holland\",\"andr\",\"tie\",\"friction\",\"scripture\",\"knows\",\"waiting\",\"loved\",\"purchasing\",\"hostile\",\"kurt\",\"pen\",\"ghana\",\"episcopal\",\"dean\",\"oliver\",\"evangelical\",\"creed\",\"achievement\",\"borrowed\",\"visiting\",\"compromise\",\"asking\",\"pin\",\"kelly\",\"infrared\",\"wildlife\",\"temples\",\"definite\",\"boom\",\"toxic\",\"buses\",\"parker\",\"demons\",\"opportunities\",\"introducing\",\"publish\",\"contracts\",\"jos\",\"madison\",\"cologne\",\"contexts\",\"finger\",\"giovanni\",\"grandson\",\"seized\",\"mill\",\"conceived\",\"grammatical\",\"las\",\"demon\",\"asimov\",\"patriarch\",\"wireless\",\"ambassador\",\"jokes\",\"armour\",\"jihad\",\"peaceful\",\"dominance\",\"bombs\",\"aa\",\"gross\",\"compositions\",\"barbara\",\"faq\",\"jeff\",\"arch\",\"discover\",\"editors\",\"breaks\",\"gear\",\"thailand\",\"instant\",\"ethanol\",\"computation\",\"cartridge\",\"sh\",\"yahweh\",\"disks\",\"pursued\",\"scholarly\",\"hume\",\"fertility\",\"inheritance\",\"ranking\",\"dam\",\"maine\",\"sp\",\"rocky\",\"topological\",\"crick\",\"doctrines\",\"accurately\",\"feedback\",\"asteroid\",\"odd\",\"drummer\",\"gardens\",\"speaks\",\"municipalities\",\"gathered\",\"strips\",\"sit\",\"cream\",\"fed\",\"axiom\",\"jason\",\"arise\",\"helen\",\"audiences\",\"treatise\",\"assuming\",\"lacking\",\"annexed\",\"possess\",\"ernst\",\"competitions\",\"commodities\",\"destination\",\"armenian\",\"aftermath\",\"geological\",\"radioactive\",\"meditation\",\"mar\",\"victorian\",\"dracula\",\"voluntary\",\"focuses\",\"revision\",\"suddenly\",\"julia\",\"passive\",\"riding\",\"seeds\",\"renowned\",\"traced\",\"simplest\",\"wait\",\"angola\",\"arena\",\"households\",\"predecessor\",\"clarke\",\"saxony\",\"observances\",\"yankees\",\"playoffs\",\"evaluation\",\"digits\",\"armor\",\"guerrilla\",\"ernest\",\"festivals\",\"kenneth\",\"censorship\",\"fiber\",\"beatles\",\"hegel\",\"resurrection\",\"turks\",\"accordingly\",\"duration\",\"hoped\",\"vincent\",\"bang\",\"commissioner\",\"talent\",\"incomplete\",\"withdrew\",\"encounter\",\"danube\",\"informed\",\"gains\",\"hearts\",\"acknowledged\",\"embassy\",\"filmed\",\"restaurant\",\"dennis\",\"flags\",\"giants\",\"fugue\",\"expense\",\"barcelona\",\"applying\",\"funded\",\"consistently\",\"digit\",\"youngest\",\"favored\",\"mankind\",\"demonstrate\",\"prohibited\",\"adelaide\",\"necessity\",\"fuller\",\"travelling\",\"respected\",\"copenhagen\",\"resembles\",\"prefix\",\"sided\",\"barrier\",\"lying\",\"loose\",\"lecture\",\"testimony\",\"yield\",\"princes\",\"counting\",\"lessons\",\"excessive\",\"ace\",\"columns\",\"acute\",\"lock\",\"aberdeen\",\"purple\",\"flood\",\"hms\",\"nowadays\",\"enzymes\",\"parody\",\"brandenburg\",\"fraction\",\"creek\",\"mad\",\"extraordinary\",\"proprietary\",\"suffer\",\"hamburg\",\"calcium\",\"amber\",\"traveled\",\"reproduction\",\"borough\",\"restore\",\"gr\",\"eclipse\",\"bobby\",\"cornish\",\"accordance\",\"activists\",\"factions\",\"cooling\",\"implied\",\"prisoner\",\"retreat\",\"henri\",\"chips\",\"deity\",\"thirds\",\"rogers\",\"feared\",\"credits\",\"simpler\",\"detected\",\"calculation\",\"paint\",\"hamlet\",\"ix\",\"associations\",\"helps\",\"requests\",\"telephones\",\"maurice\",\"excluded\",\"accent\",\"crowned\",\"anna\",\"gm\",\"scattered\",\"indonesian\",\"patents\",\"clown\",\"consumers\",\"organised\",\"imprisoned\",\"boards\",\"garfield\",\"militia\",\"marble\",\"prototype\",\"strongest\",\"gaelic\",\"frames\",\"nfc\",\"pm\",\"infinity\",\"russians\",\"bars\",\"ipv\",\"warren\",\"rooms\",\"managers\",\"compilation\",\"damascus\",\"timber\",\"preceding\",\"sufficiently\",\"layout\",\"kenya\",\"eritrea\",\"wimbledon\",\"ar\",\"harp\",\"diagnosis\",\"sudden\",\"deities\",\"permanently\",\"cooper\",\"practically\",\"mussolini\",\"disciplines\",\"stem\",\"airline\",\"antarctic\",\"chiefs\",\"architectural\",\"rod\",\"transactions\",\"travelled\",\"gpl\",\"mpeg\",\"preservation\",\"professionals\",\"abbreviated\",\"hereditary\",\"arrow\",\"armstrong\",\"improving\",\"chiefly\",\"revived\",\"fortune\",\"shifted\",\"merchants\",\"boxer\",\"outstanding\",\"correspond\",\"springs\",\"cubic\",\"britannica\",\"legion\",\"introduce\",\"bohemia\",\"feelings\",\"arrangements\",\"implications\",\"trail\",\"reduces\",\"wheat\",\"augustine\",\"consideration\",\"comprised\",\"utah\",\"loaded\",\"ease\",\"shopping\",\"sentences\",\"switching\",\"sisters\",\"clause\",\"chromosomes\",\"dancer\",\"peirce\",\"eventual\",\"neighborhood\",\"matt\",\"practitioners\",\"presley\",\"emergence\",\"injuries\",\"missionary\",\"fatal\",\"submitted\",\"icons\",\"merger\",\"frankfurt\",\"packet\",\"eta\",\"lesbian\",\"saga\",\"chromosome\",\"bipolar\",\"imply\",\"differently\",\"pointing\",\"collecting\",\"brunswick\",\"wells\",\"leather\",\"healthy\",\"walt\",\"defendant\",\"lift\",\"determination\",\"drake\",\"carnegie\",\"pitcher\",\"grid\",\"bengal\",\"delay\",\"sponsored\",\"methodist\",\"sudan\",\"attacking\",\"ironically\",\"marcus\",\"bacon\",\"obviously\",\"ni\",\"micro\",\"squadron\",\"byte\",\"settle\",\"centres\",\"indies\",\"solving\",\"jedi\",\"hendrix\",\"dancers\",\"rejection\",\"enters\",\"joshua\",\"glory\",\"wet\",\"classics\",\"designers\",\"foster\",\"departments\",\"beneath\",\"aims\",\"hurricane\",\"liberia\",\"highlands\",\"lit\",\"eagle\",\"flew\",\"interstate\",\"scotia\",\"occurrence\",\"isn\",\"videos\",\"chapel\",\"spelled\",\"brooklyn\",\"platforms\",\"butler\",\"ralph\",\"definitive\",\"grandfather\",\"grass\",\"attendance\",\"clement\",\"paradise\",\"rubber\",\"innovation\",\"intensity\",\"bin\",\"denotes\",\"offense\",\"competitors\",\"powell\",\"chronicle\",\"concentrations\",\"combining\",\"jerome\",\"nixon\",\"flame\",\"ge\",\"conductor\",\"pursuit\",\"iq\",\"cancelled\",\"democrat\",\"incorrect\",\"profound\",\"tobacco\",\"ra\",\"htm\",\"appeals\",\"collect\",\"lithium\",\"conjunction\",\"kashmir\",\"tuning\",\"ethernet\",\"monaco\",\"alfonso\",\"clients\",\"libertarian\",\"rifles\",\"senses\",\"dense\",\"kilometres\",\"rebel\",\"ear\",\"sexuality\",\"colours\",\"lloyd\",\"tries\",\"oxide\",\"shapes\",\"funk\",\"onwards\",\"loosely\",\"equivalence\",\"switched\",\"firearms\",\"talmud\",\"regulated\",\"profits\",\"whereby\",\"attraction\",\"saturn\",\"temporarily\",\"filed\",\"renewed\",\"mozambique\",\"forgotten\",\"traveling\",\"eisenhower\",\"lsd\",\"simplified\",\"mongol\",\"soundtrack\",\"specifications\",\"thatcher\",\"nervous\",\"resort\",\"telling\",\"forums\",\"provisional\",\"revenge\",\"avoided\",\"counted\",\"combine\",\"pink\",\"approached\",\"allah\",\"addiction\",\"registers\",\"feminism\",\"altogether\",\"coupled\",\"skilled\",\"hopes\",\"attractive\",\"museums\",\"concerto\",\"neighbouring\",\"tours\",\"chi\",\"poll\",\"alex\",\"tune\",\"download\",\"orbits\",\"cs\",\"appointment\",\"pack\",\"dinosaurs\",\"chronic\",\"semiconductor\",\"flemish\",\"duchy\",\"believing\",\"inherent\",\"expect\",\"strategies\",\"choosing\",\"rating\",\"preference\",\"wwii\",\"harvey\",\"frankenstein\",\"permit\",\"ng\",\"partnership\",\"programmer\",\"sharon\",\"harsh\",\"mandate\",\"mt\",\"rebels\",\"defended\",\"possessed\",\"gutenberg\",\"pull\",\"boas\",\"franc\",\"graduated\",\"guards\",\"battalion\",\"collectively\",\"streams\",\"honorary\",\"estonian\",\"mali\",\"protestants\",\"malay\",\"andy\",\"telescope\",\"celestial\",\"broadly\",\"hp\",\"mb\",\"mandarin\",\"peasants\",\"seeks\",\"seattle\",\"aggressive\",\"speeches\",\"requested\",\"dartmouth\",\"rush\",\"ally\",\"endangered\",\"pittsburgh\",\"emissions\",\"solved\",\"herzegovina\",\"hemingway\",\"assert\",\"diving\",\"photography\",\"achilles\",\"refuge\",\"vatican\",\"explored\",\"sculpture\",\"valued\",\"owing\",\"employ\",\"contributing\",\"ore\",\"tensions\",\"climbing\",\"hybrid\",\"deployed\",\"successes\",\"fleming\",\"tourists\",\"expectancy\",\"impressive\",\"bore\",\"guitars\",\"fiji\",\"achievements\",\"derive\",\"verses\",\"elect\",\"investigations\",\"magical\",\"merit\",\"prague\",\"continuously\",\"kabul\",\"shi\",\"silicon\",\"ceo\",\"nobles\",\"dances\",\"eliminate\",\"cease\",\"conversation\",\"infected\",\"odyssey\",\"assembled\",\"bullet\",\"passion\",\"payment\",\"isotopes\",\"suited\",\"heating\",\"icelandic\",\"chicken\",\"breton\",\"debated\",\"stops\",\"idaho\",\"dictator\",\"minds\",\"prevention\",\"orthodoxy\",\"gif\",\"prophecy\",\"patron\",\"attractions\",\"czechoslovakia\",\"promotion\",\"penguin\",\"montenegro\",\"openly\",\"ruins\",\"detective\",\"heresy\",\"bnp\",\"wishes\",\"imaginary\",\"attribute\",\"vulnerable\",\"apartment\",\"loyalty\",\"alter\",\"realism\",\"cole\",\"alps\",\"marshal\",\"parity\",\"resemble\",\"leto\",\"woods\",\"threats\",\"ecclesiastical\",\"motorola\",\"euler\",\"satan\",\"acoustic\",\"isaiah\",\"theorists\",\"wants\",\"lifestyle\",\"validity\",\"steady\",\"hub\",\"analogous\",\"humorous\",\"malawi\",\"fur\",\"dolphins\",\"lightning\",\"declares\",\"horizon\",\"hawaiian\",\"trends\",\"heroin\",\"guam\",\"enigma\",\"venus\",\"destroying\",\"metaphor\",\"hopkins\",\"warriors\",\"generals\",\"everywhere\",\"charity\",\"ridge\",\"inquiry\",\"asks\",\"paperback\",\"fossils\",\"discourse\",\"heated\",\"johannes\",\"republics\",\"aided\",\"vietnamese\",\"mathrm\",\"allegations\",\"violation\",\"abundant\",\"enzyme\",\"br\",\"ash\",\"controller\",\"hammer\",\"touring\",\"mongolia\",\"praise\",\"flexible\",\"celebrate\",\"hitchcock\",\"messiah\",\"gram\",\"challenges\",\"seas\",\"corpus\",\"ski\",\"intervals\",\"hudson\",\"sinatra\",\"harder\",\"flesh\",\"fantastic\",\"mandatory\",\"usd\",\"posts\",\"throwing\",\"pace\",\"monday\",\"perfectly\",\"overcome\",\"pa\",\"disciples\",\"domination\",\"prepare\",\"antarctica\",\"arsenal\",\"suffix\",\"outbreak\",\"celebrity\",\"provision\",\"astrology\",\"habsburg\",\"arabian\",\"networking\",\"bubble\",\"manpower\",\"hollow\",\"emission\",\"approximate\",\"bj\",\"smoke\",\"victories\",\"dependence\",\"bachelor\",\"nick\",\"makers\",\"comprises\",\"memories\",\"linguists\",\"qaeda\",\"gaming\",\"numerals\",\"fingers\",\"monthly\",\"equator\",\"exodus\",\"modulation\",\"undergraduate\",\"mg\",\"assessment\",\"motivated\",\"morse\",\"composite\",\"tight\",\"ka\",\"addressing\",\"adds\",\"fastest\",\"albeit\",\"attract\",\"surname\",\"jew\",\"decisive\",\"queens\",\"anonymous\",\"performers\",\"encryption\",\"phonetic\",\"neighbors\",\"oak\",\"draws\",\"justification\",\"effectiveness\",\"enterprises\",\"fails\",\"archaeology\",\"morrison\",\"prix\",\"economically\",\"pr\",\"inclusion\",\"silence\",\"absorption\",\"dish\",\"clan\",\"minorities\",\"ashes\",\"tamil\",\"hello\",\"lennon\",\"differing\",\"alternatively\",\"oklahoma\",\"ingredients\",\"inserted\",\"occupy\",\"recurring\",\"detection\",\"similarity\",\"athlete\",\"nose\",\"fi\",\"hamas\",\"xp\",\"providers\",\"ivan\",\"cloud\",\"indirect\",\"emphasized\",\"saving\",\"lawyers\",\"pursue\",\"friday\",\"acquisition\",\"mysterious\",\"limestone\",\"runways\",\"erosion\",\"byron\",\"exiled\",\"believers\",\"focusing\",\"cipher\",\"arrive\",\"tactical\",\"erected\",\"span\",\"impression\",\"debates\",\"spite\",\"prompted\",\"ammonia\",\"prey\",\"sects\",\"wore\",\"pet\",\"hermann\",\"gambling\",\"symmetry\",\"metallica\",\"faction\",\"prevalent\",\"predict\",\"np\",\"leonard\",\"nicknamed\",\"failing\",\"naked\",\"mosque\",\"susan\",\"reich\",\"nigeria\",\"kid\",\"bet\",\"nominal\",\"irregular\",\"feudal\",\"twins\",\"quad\",\"minneapolis\",\"friedman\",\"anchor\",\"priority\",\"determines\",\"rises\",\"motors\",\"reporting\",\"wittgenstein\",\"flute\",\"prosecution\",\"reversed\",\"demonstration\",\"cookies\",\"peaks\",\"fever\",\"fees\",\"oriental\",\"manuel\",\"caves\",\"xiv\",\"literal\",\"marking\",\"heracles\",\"asserted\",\"widow\",\"exercised\",\"careful\",\"eddie\",\"veterans\",\"reveal\",\"crop\",\"continuation\",\"finals\",\"convenient\",\"parish\",\"sentenced\",\"casualties\",\"mature\",\"pressures\",\"manage\",\"precipitation\",\"radius\",\"supernatural\",\"montgomery\",\"warsaw\",\"hardly\",\"grouped\",\"odds\",\"traces\",\"healing\",\"michel\",\"stance\",\"histories\",\"gnostic\",\"segments\",\"firms\",\"elevated\",\"tsar\",\"gaza\",\"excluding\",\"shuttle\",\"angular\",\"brunei\",\"regiment\",\"chord\",\"ta\",\"prohibition\",\"circus\",\"antony\",\"auxiliary\",\"daleks\",\"handled\",\"establishments\",\"fortress\",\"contemporaries\",\"winters\",\"succeed\",\"relay\",\"decreased\",\"declare\",\"itu\",\"exhibition\",\"notorious\",\"paying\",\"sends\",\"trick\",\"vectors\",\"metre\",\"poetic\",\"discography\",\"playwright\",\"attitudes\",\"oppose\",\"induction\",\"venture\",\"innovations\",\"obscure\",\"chambers\",\"haydn\",\"comprising\",\"traded\",\"keyboards\",\"defending\",\"uranium\",\"specially\",\"licensing\",\"feminine\",\"bolivia\",\"timing\",\"oath\",\"duplicate\",\"kryptonite\",\"nt\",\"shut\",\"imprisonment\",\"innocent\",\"dominate\",\"versa\",\"vikings\",\"kinetic\",\"angry\",\"proposals\",\"temperate\",\"schemes\",\"mauritius\",\"playoff\",\"prosperity\",\"boiling\",\"acronym\",\"somewhere\",\"luthor\",\"eleanor\",\"sins\",\"calculate\",\"coronation\",\"saul\",\"comprise\",\"palm\",\"acres\",\"insisted\",\"artifacts\",\"tenth\",\"justified\",\"realistic\",\"dominion\",\"rotating\",\"painters\",\"confined\",\"cheap\",\"luck\",\"searching\",\"snake\",\"chilean\",\"theatrical\",\"suspension\",\"rna\",\"dukes\",\"rebuilt\",\"cardinals\",\"kde\",\"slight\",\"adequate\",\"functioning\",\"troy\",\"phil\",\"telegraph\",\"eldest\",\"metaphysics\",\"explanations\",\"acclaimed\",\"carthage\",\"closing\",\"mini\",\"isolation\",\"kit\",\"eg\",\"venezuela\",\"consumed\",\"armenia\",\"balkan\",\"allegiance\",\"modifications\",\"ff\",\"motorcycle\",\"rangle\",\"genuine\",\"anxiety\",\"labeled\",\"reprinted\",\"mask\",\"prone\",\"resolve\",\"domains\",\"macdonald\",\"questioned\",\"toll\",\"physicists\",\"cartoons\",\"freight\",\"ferry\",\"unrelated\",\"tribunal\",\"gorbachev\",\"cypriot\",\"scriptures\",\"viking\",\"ithaca\",\"sabbath\",\"compatibility\",\"profession\",\"attending\",\"masculine\",\"associates\",\"nerve\",\"beads\",\"optional\",\"cuts\",\"gibson\",\"conrad\",\"approximation\",\"polynomial\",\"wavelength\",\"armoured\",\"nice\",\"marxism\",\"couples\",\"motto\",\"probe\",\"devised\",\"fertile\",\"deliver\",\"zappa\",\"structured\",\"ecological\",\"fu\",\"carved\",\"architects\",\"strait\",\"dozen\",\"brigade\",\"scandinavian\",\"gospels\",\"lanka\",\"bankruptcy\",\"rite\",\"schwarzenegger\",\"elimination\",\"capitol\",\"colonization\",\"circulation\",\"aligned\",\"empires\",\"astronomers\",\"sierra\",\"arrows\",\"kyoto\",\"resignation\",\"tolerance\",\"wives\",\"aegean\",\"drove\",\"eaten\",\"yard\",\"responses\",\"towers\",\"cairo\",\"manifold\",\"intercourse\",\"dodgers\",\"distributions\",\"mikhail\",\"currents\",\"brick\",\"das\",\"rivals\",\"secured\",\"farms\",\"cosmology\",\"discusses\",\"journals\",\"sexually\",\"lab\",\"acquire\",\"ink\",\"possessions\",\"khmer\",\"handbook\",\"eden\",\"welcome\",\"wheels\",\"hacker\",\"mk\",\"manifesto\",\"taxation\",\"formulation\",\"quiet\",\"reflecting\",\"diary\",\"drag\",\"dante\",\"booth\",\"congressional\",\"seemingly\",\"accession\",\"sahara\",\"loan\",\"conversely\",\"agenda\",\"constitutes\",\"intensive\",\"geoffrey\",\"incorporate\",\"brings\",\"puts\",\"viewers\",\"cruise\",\"malaria\",\"bowling\",\"quarterback\",\"planetary\",\"dickens\",\"chiang\",\"criticised\",\"broader\",\"hart\",\"republicans\",\"illustration\",\"sick\",\"dictionaries\",\"boxes\",\"esoteric\",\"theologians\",\"guidance\",\"algae\",\"pete\",\"browns\",\"fraud\",\"deposed\",\"valve\",\"fitzgerald\",\"unesco\",\"marilyn\",\"conscription\",\"wages\",\"bomber\",\"empress\",\"tin\",\"gnome\",\"suppressed\",\"alternatives\",\"linking\",\"peers\",\"freed\",\"substitute\",\"nephew\",\"successors\",\"reflection\",\"vegetation\",\"timor\",\"prominence\",\"buffer\",\"innovative\",\"xavier\",\"ukrainian\",\"sixteen\",\"tubes\",\"spiral\",\"crystals\",\"octave\",\"explosives\",\"microprocessor\",\"theft\",\"paths\",\"repeat\",\"din\",\"basically\",\"evans\",\"commentators\",\"unstable\",\"potter\",\"franks\",\"jon\",\"eiffel\",\"ticket\",\"drinks\",\"thai\",\"parade\",\"hitting\",\"sony\",\"possibilities\",\"lucas\",\"crete\",\"bombers\",\"fitted\",\"retail\",\"macbeth\",\"bluetooth\",\"congregation\",\"fourier\",\"mumbai\",\"coercion\",\"clouds\",\"cp\",\"protective\",\"pulled\",\"sarah\",\"bind\",\"releasing\",\"stamp\",\"dictatorship\",\"spy\",\"dee\",\"gabriel\",\"calculator\",\"hi\",\"israelites\",\"incidents\",\"inferior\",\"registration\",\"bsd\",\"castile\",\"harmonica\",\"licenses\",\"blackadder\",\"reads\",\"delayed\",\"greenhouse\",\"allan\",\"diffusion\",\"coptic\",\"observe\",\"slovenia\",\"flowing\",\"faithful\",\"scripts\",\"arises\",\"honored\",\"han\",\"regent\",\"carey\",\"resist\",\"thinkers\",\"sometime\",\"mud\",\"treasury\",\"grants\",\"sat\",\"qualified\",\"enforce\",\"compulsory\",\"adaptations\",\"developer\",\"correction\",\"decree\",\"enable\",\"leipzig\",\"gerald\",\"shops\",\"summers\",\"azerbaijan\",\"carroll\",\"invisible\",\"elevator\",\"sail\",\"fee\",\"dissolution\",\"elephants\",\"latvian\",\"cricketer\",\"riots\",\"choices\",\"anger\",\"montana\",\"authorized\",\"analytic\",\"aesthetic\",\"mixing\",\"dwarf\",\"torture\",\"crude\",\"inquisition\",\"judgement\",\"sporting\",\"shells\",\"processed\",\"luis\",\"soap\",\"souls\",\"unification\",\"drawings\",\"tommy\",\"valleys\",\"relates\",\"constituent\",\"undergo\",\"spider\",\"cube\",\"heavier\",\"footage\",\"esa\",\"moments\",\"lung\",\"bug\",\"maker\",\"scandinavia\",\"slot\",\"meme\",\"weakened\",\"imperialism\",\"pipe\",\"chronology\",\"mason\",\"projection\",\"sur\",\"resistant\",\"ren\",\"converts\",\"iec\",\"retains\",\"exploitation\",\"preceded\",\"flip\",\"formulated\",\"quarters\",\"founders\",\"kepler\",\"customary\",\"roof\",\"unpaved\",\"container\",\"transcription\",\"cr\",\"nba\",\"interact\",\"subjective\",\"publicity\",\"mountainous\",\"fragment\",\"cbs\",\"vancouver\",\"brilliant\",\"weakness\",\"syllables\",\"prehistoric\",\"earthquakes\",\"township\",\"fourteen\",\"ears\",\"reporter\",\"nights\",\"copied\",\"targeted\",\"conditional\",\"antioch\",\"gehrig\",\"bandwidth\",\"grail\",\"airways\",\"dns\",\"popularized\",\"counterparts\",\"battlefield\",\"proclamation\",\"accepting\",\"petersburg\",\"crater\",\"popularly\",\"melody\",\"ambitious\",\"judiciary\",\"aboard\",\"squares\",\"muscles\",\"bigger\",\"partition\",\"gifts\",\"thrust\",\"lou\",\"pianist\",\"curves\",\"tigers\",\"anarchists\",\"finest\",\"conclusions\",\"tag\",\"badly\",\"chase\",\"enacted\",\"herman\",\"haven\",\"motivation\",\"obligations\",\"collapsed\",\"descendant\",\"servant\",\"merge\",\"connects\",\"cdots\",\"formations\",\"protecting\",\"viewing\",\"exit\",\"southwestern\",\"boot\",\"alike\",\"gang\",\"yahoo\",\"interim\",\"lateral\",\"aol\",\"swords\",\"clarinet\",\"armored\",\"deny\",\"cent\",\"costume\",\"performs\",\"affiliated\",\"pat\",\"infamous\",\"wholly\",\"palestinians\",\"junction\",\"wa\",\"apostolic\",\"dianetics\",\"sqrt\",\"amplifier\",\"beans\",\"hypnosis\",\"enforced\",\"triumph\",\"assumes\",\"aired\",\"tragedy\",\"coral\",\"suffrage\",\"roberts\",\"aerial\",\"displaced\",\"atoll\",\"printer\",\"airplane\",\"madagascar\",\"admission\",\"affects\",\"soup\",\"pierce\",\"dewey\",\"defeats\",\"oz\",\"diplomat\",\"beverages\",\"inability\",\"md\",\"commit\",\"hood\",\"principally\",\"visits\",\"analogy\",\"bid\",\"punch\",\"pyramid\",\"recreational\",\"generalized\",\"numbering\",\"click\",\"pg\",\"meal\",\"pregnancy\",\"skating\",\"baghdad\",\"joyce\",\"shortened\",\"charlotte\",\"cobain\",\"holder\",\"controversies\",\"backing\",\"sustained\",\"postal\",\"archaic\",\"blacks\",\"terrestrial\",\"volunteer\",\"productive\",\"dose\",\"neumann\",\"reveals\",\"speculated\",\"pot\",\"swimming\",\"jungle\",\"subgroup\",\"ceremonial\",\"privileges\",\"dressed\",\"oxidation\",\"nbc\",\"kurdish\",\"landmark\",\"hobbes\",\"sanctions\",\"theodore\",\"cartoonist\",\"survivors\",\"rick\",\"precursor\",\"ideological\",\"rudolf\",\"subtle\",\"discussing\",\"bold\",\"edwin\",\"sake\",\"zinc\",\"representations\",\"cloth\",\"cheaper\",\"metabolism\",\"manned\",\"gateway\",\"sect\",\"platinum\",\"leonardo\",\"lex\",\"cue\",\"bb\",\"birmingham\",\"phones\",\"afterlife\",\"guinness\",\"lacked\",\"standardized\",\"continuum\",\"photograph\",\"rev\",\"suggestion\",\"bounded\",\"deficit\",\"concerts\",\"programmes\",\"extract\",\"chaucer\",\"journalism\",\"fda\",\"shannon\",\"expectations\",\"peel\",\"prayers\",\"repair\",\"bogart\",\"lodge\",\"labels\",\"lover\",\"probable\",\"skull\",\"chest\",\"relied\",\"absent\",\"dozens\",\"hank\",\"cultivation\",\"relies\",\"analytical\",\"dairy\",\"collision\",\"rivalry\",\"remarks\",\"strain\",\"inscription\",\"fallacy\",\"whales\",\"milwaukee\",\"assumptions\",\"cameo\",\"hausdorff\",\"pirates\",\"eminem\",\"update\",\"residential\",\"ruby\",\"hal\",\"cervantes\",\"masturbation\",\"creationism\",\"spencer\",\"ambiguous\",\"interpret\",\"guidelines\",\"newfoundland\",\"alchemy\",\"continents\",\"mystical\",\"mozart\",\"ivory\",\"balanced\",\"southeastern\",\"poison\",\"slope\",\"tech\",\"sunni\",\"guyana\",\"squad\",\"citing\",\"albanians\",\"comets\",\"nov\",\"absolutely\",\"murders\",\"mercedes\",\"interfaces\",\"coloured\",\"rachel\",\"apostle\",\"eusebius\",\"mips\",\"overthrow\",\"adherents\",\"bahrain\",\"rites\",\"businessman\",\"burton\",\"midnight\",\"beast\",\"counterpart\",\"dinosaur\",\"originating\",\"prevents\",\"meta\",\"botswana\",\"treatments\",\"ie\",\"lawsuit\",\"metallic\",\"avoiding\",\"diaspora\",\"dots\",\"benz\",\"disco\",\"cpus\",\"abbot\",\"privately\",\"socially\",\"proposition\",\"nebraska\",\"beating\",\"committees\",\"homo\",\"grip\",\"limiting\",\"pressed\",\"noting\",\"imaging\",\"insight\",\"clone\",\"stolen\",\"shipped\",\"habitat\",\"anchorage\",\"jumping\",\"breakdown\",\"northwestern\",\"feeding\",\"fencing\",\"risks\",\"cauchy\",\"highland\",\"colleagues\",\"closure\",\"canadians\",\"rows\",\"favourite\",\"gaul\",\"denomination\",\"cleese\",\"rituals\",\"theoretically\",\"wonder\",\"grains\",\"bruno\",\"negotiated\",\"keeps\",\"obligation\",\"accusations\",\"proceeds\",\"sr\",\"shaw\",\"pregnant\",\"homeland\",\"yields\",\"lengthy\",\"beef\",\"indirectly\",\"sullivan\",\"jesuit\",\"shoes\",\"ratings\",\"tuned\",\"owen\",\"execute\",\"apparatus\",\"blog\",\"deeper\",\"administrator\",\"doubles\",\"livestock\",\"rolls\",\"complaints\",\"methane\",\"lang\",\"devon\",\"taliban\",\"delhi\",\"eugenics\",\"memoirs\",\"mutations\",\"boss\",\"cowboys\",\"burroughs\",\"barbados\",\"nehru\",\"proceeded\",\"explaining\",\"integrity\",\"harmful\",\"ideals\",\"defenders\",\"dividing\",\"benedict\",\"seasonal\",\"unlimited\",\"unpopular\",\"breast\",\"reply\",\"min\",\"binomial\",\"regards\",\"freedoms\",\"gem\",\"marketed\",\"habits\",\"codex\",\"belize\",\"hezbollah\",\"expressing\",\"affecting\",\"xml\",\"ordering\",\"obtaining\",\"sorts\",\"temporal\",\"extant\",\"completing\",\"fernando\",\"grows\",\"investors\",\"explore\",\"swept\",\"thumb\",\"infections\",\"colspan\",\"ptolemy\",\"lisbon\",\"ioc\",\"furniture\",\"eligible\",\"gradual\",\"solids\",\"hazards\",\"mafia\",\"rouge\",\"edges\",\"rope\",\"braves\",\"nicaragua\",\"cello\",\"beneficial\",\"clothes\",\"rainbow\",\"nationalists\",\"wished\",\"bottle\",\"harper\",\"cicero\",\"hurt\",\"identifying\",\"arrays\",\"null\",\"violations\",\"generating\",\"terrorists\",\"lp\",\"crescent\",\"constraints\",\"lengths\",\"eva\",\"bare\",\"prc\",\"microscope\",\"helsinki\",\"inca\",\"karate\",\"mod\",\"abd\",\"cubs\",\"blamed\",\"northeastern\",\"verbal\",\"dome\",\"importantly\",\"dakota\",\"contested\",\"locke\",\"proximity\",\"frozen\",\"barely\",\"prolific\",\"messenger\",\"lowlands\",\"recover\",\"exotic\",\"worms\",\"marriages\",\"filming\",\"offspring\",\"theta\",\"ko\",\"witch\",\"frankish\",\"hull\",\"ferrari\",\"interrupt\",\"receptor\",\"overwhelming\",\"fuels\",\"inscriptions\",\"xii\",\"belonged\",\"farmer\",\"irving\",\"comparing\",\"predominant\",\"nautical\",\"slovakia\",\"tertiary\",\"ethiopian\",\"djibouti\",\"mate\",\"announces\",\"bristol\",\"modify\",\"braille\",\"cone\",\"shoulder\",\"mesopotamia\",\"asylum\",\"packages\",\"meaningful\",\"hide\",\"chapman\",\"ep\",\"annexation\",\"leeds\",\"dharma\",\"beck\",\"authoritarian\",\"justify\",\"spreading\",\"emotion\",\"satellites\",\"indication\",\"depicting\",\"confederacy\",\"destructive\",\"laos\",\"blessed\",\"raid\",\"tallest\",\"breathing\",\"payments\",\"atheists\",\"undertaken\",\"berber\",\"proceed\",\"burden\",\"den\",\"treating\",\"dame\",\"africans\",\"complementary\",\"smoking\",\"imdb\",\"spatial\",\"bonding\",\"judged\",\"exponential\",\"treason\",\"bride\",\"carol\",\"lucy\",\"seldom\",\"sociology\",\"hera\",\"considerations\",\"garrison\",\"surrendered\",\"ought\",\"shelter\",\"tens\",\"amnesty\",\"guarantee\",\"functionality\",\"gustav\",\"header\",\"combines\",\"truck\",\"backwards\",\"panama\",\"georges\",\"deputies\",\"silk\",\"flavor\",\"pump\",\"arcade\",\"satisfy\",\"compilers\",\"infty\",\"spears\",\"cure\",\"preparing\",\"marginal\",\"margin\",\"compensation\",\"participating\",\"habit\",\"rider\",\"perceive\",\"atheist\",\"fierce\",\"hadrian\",\"nomenclature\",\"butt\",\"reception\",\"deliberate\",\"arable\",\"crashes\",\"fatty\",\"listen\",\"dover\",\"selective\",\"vampire\",\"wellington\",\"responsibilities\",\"compressed\",\"generator\",\"tiles\",\"honda\",\"usenet\",\"authentic\",\"priesthood\",\"amos\",\"loch\",\"autism\",\"pitched\",\"refined\",\"steadily\",\"replied\",\"happiness\",\"advised\",\"imagery\",\"mistake\",\"recall\",\"kabbalah\",\"egyptians\",\"managing\",\"traders\",\"gasoline\",\"inertial\",\"diffraction\",\"venues\",\"fe\",\"demonstrations\",\"chuck\",\"locomotives\",\"flanders\",\"criminals\",\"graffiti\",\"estates\",\"stake\",\"battleships\",\"bengals\",\"bertrand\",\"referenced\",\"facilitate\",\"spontaneous\",\"iliad\",\"sympathetic\",\"trapped\",\"connor\",\"specialist\",\"immense\",\"nationwide\",\"edu\",\"examined\",\"descriptive\",\"mythological\",\"ads\",\"gabon\",\"amazing\",\"glacier\",\"longitude\",\"maize\",\"slide\",\"modest\",\"objectives\",\"eighteen\",\"symmetric\",\"divorced\",\"aryan\",\"automated\",\"specify\",\"knock\",\"audi\",\"rally\",\"mph\",\"tcp\",\"merlin\",\"math\",\"cos\",\"assyrian\",\"rover\",\"kerala\",\"biochemistry\",\"derivation\",\"wound\",\"oracle\",\"lovers\",\"deceased\",\"watching\",\"banner\",\"imagination\",\"dried\",\"ellis\",\"falkland\",\"outdoor\",\"transparent\",\"pbs\",\"trophy\",\"equals\",\"indoor\",\"ordained\",\"accelerated\",\"sailing\",\"crosses\",\"pit\",\"receptors\",\"spectral\",\"im\",\"temperament\",\"boolean\",\"sigma\",\"congregations\",\"mazda\",\"casino\",\"abolition\",\"emphasize\",\"beloved\",\"aphrodite\",\"secretly\",\"pedro\",\"remnants\",\"mutually\",\"notions\",\"supplement\",\"permits\",\"privy\",\"zimbabwe\",\"vegas\",\"conferences\",\"rounded\",\"winston\",\"blades\",\"proving\",\"granting\",\"calculating\",\"multimedia\",\"morphology\",\"commanders\",\"bacterial\",\"planck\",\"balkans\",\"sixty\",\"thames\",\"rightarrow\",\"erie\",\"earnhardt\",\"krak\",\"cantonese\",\"replication\",\"dalek\",\"crushed\",\"persistent\",\"supporter\",\"defeating\",\"continually\",\"accepts\",\"pioneers\",\"baldwin\",\"conviction\",\"exercises\",\"staged\",\"bantu\",\"col\",\"colin\",\"kids\",\"myanmar\",\"tenure\",\"zoo\",\"missed\",\"hellenistic\",\"playstation\",\"holmes\",\"goths\",\"ratios\",\"castro\",\"orchestral\",\"formulas\",\"mps\",\"spherical\",\"clapton\",\"piercing\",\"fortran\",\"fifa\",\"aggression\",\"granite\",\"emotions\",\"bloc\",\"lineage\",\"surveillance\",\"enabling\",\"transported\",\"divides\",\"manitoba\",\"handful\",\"lots\",\"subjected\",\"simplicity\",\"georgian\",\"curtis\",\"trio\",\"marc\",\"danny\",\"sterling\",\"kart\",\"norton\",\"lds\",\"elves\",\"biafra\",\"factories\",\"withdraw\",\"promising\",\"reviewed\",\"wherein\",\"employee\",\"viewpoint\",\"observatory\",\"queensland\",\"greg\",\"fermentation\",\"stems\",\"sculptor\",\"performer\",\"yourself\",\"render\",\"rigid\",\"isotope\",\"inference\",\"yeltsin\",\"elijah\",\"beowulf\",\"lindy\",\"riel\",\"desirable\",\"transitional\",\"praised\",\"witnessed\",\"birthplace\",\"rhetoric\",\"contradiction\",\"omitted\",\"depicts\",\"humanitarian\",\"ceremonies\",\"emerge\",\"ahmed\",\"extraction\",\"organize\",\"anton\",\"monuments\",\"prestige\",\"aliens\",\"encoded\",\"elector\",\"databases\",\"tissues\",\"catalyst\",\"injection\",\"genera\",\"glasgow\",\"regimes\",\"basil\",\"burnt\",\"coefficient\",\"berry\",\"naples\",\"ham\",\"baptized\",\"elf\",\"grenada\",\"predictions\",\"genetically\",\"chat\",\"refuse\",\"truman\",\"translates\",\"relate\",\"resumed\",\"exploring\",\"buying\",\"depiction\",\"sheets\",\"spectacular\",\"yugoslav\",\"garbage\",\"guaranteed\",\"intersection\",\"socialists\",\"warhol\",\"incest\",\"browsers\",\"dealer\",\"wonderful\",\"smart\",\"patch\",\"associative\",\"hindus\",\"bo\",\"ecumenical\",\"interpreter\",\"consoles\",\"tr\",\"bath\",\"altar\",\"nevada\",\"urged\",\"ambrose\",\"surprisingly\",\"intentionally\",\"ir\",\"loses\",\"reluctant\",\"brands\",\"employs\",\"immigrant\",\"investigate\",\"cloning\",\"mach\",\"sailed\",\"realize\",\"humanist\",\"shallow\",\"salts\",\"astronaut\",\"maybe\",\"aw\",\"pearson\",\"patrol\",\"reliability\",\"kiss\",\"jets\",\"rabbis\",\"caffeine\",\"lois\",\"javascript\",\"pinochet\",\"daredevil\",\"suppression\",\"developmental\",\"overlap\",\"offset\",\"cameras\",\"paramount\",\"discharge\",\"manipulation\",\"laden\",\"lacks\",\"collector\",\"mills\",\"somehow\",\"achieving\",\"farther\",\"civic\",\"melting\",\"liechtenstein\",\"sq\",\"nationals\",\"instituted\",\"hanging\",\"atp\",\"perry\",\"unrest\",\"blocked\",\"joel\",\"volcano\",\"boroughs\",\"hispanic\",\"mann\",\"bi\",\"bent\",\"invaders\",\"rk\",\"arbor\",\"crusades\",\"latex\",\"abba\",\"noir\",\"bassist\",\"likelihood\",\"infinitive\",\"discs\",\"karaoke\",\"lego\",\"predecessors\",\"develops\",\"toy\",\"asteroids\",\"makeup\",\"athena\",\"noticed\",\"ballot\",\"accord\",\"lt\",\"fix\",\"mercy\",\"dorothy\",\"kai\",\"outline\",\"nearest\",\"gnosticism\",\"explorers\",\"reef\",\"glaciers\",\"fungi\",\"lesotho\",\"hatred\",\"insect\",\"fraser\",\"cl\",\"bag\",\"filters\",\"orthography\",\"hotels\",\"extremes\",\"cartridges\",\"authorship\",\"ahmad\",\"threatening\",\"mysteries\",\"gauss\",\"recalled\",\"craig\",\"betting\",\"yeast\",\"battleship\",\"shaft\",\"oct\",\"aclu\",\"bt\",\"faroese\",\"methodology\",\"demanding\",\"ajax\",\"richmond\",\"answered\",\"guests\",\"evolve\",\"diminished\",\"countryside\",\"receivers\",\"recipients\",\"paradigm\",\"tracking\",\"hayek\",\"marines\",\"fao\",\"damages\",\"neighborhoods\",\"sandy\",\"maldives\",\"discontinued\",\"commented\",\"cathode\",\"font\",\"batteries\",\"slogan\",\"isomorphism\",\"intake\",\"crowley\",\"carson\",\"governance\",\"anthropologists\",\"aerospace\",\"wartime\",\"observing\",\"engagement\",\"triggered\",\"progression\",\"applicable\",\"turner\",\"underwent\",\"locomotive\",\"pub\",\"gunpowder\",\"potassium\",\"reinforced\",\"erasmus\",\"tough\",\"sits\",\"ozone\",\"lisa\",\"potatoes\",\"extracted\",\"cowboy\",\"worm\",\"pl\",\"buttons\",\"neutron\",\"teutonic\",\"gwh\",\"bats\",\"pirate\",\"editorial\",\"uncertainty\",\"broadcasts\",\"culturally\",\"organizing\",\"popper\",\"boost\",\"parameter\",\"divinity\",\"stressed\",\"disastrous\",\"timothy\",\"anticipated\",\"gda\",\"ultra\",\"dolphin\",\"attained\",\"flee\",\"beats\",\"rapper\",\"kane\",\"celts\",\"napoleonic\",\"sailors\",\"chaplin\",\"visions\",\"exploited\",\"physicians\",\"synonymous\",\"suburban\",\"oakland\",\"heroic\",\"threw\",\"loans\",\"mongols\",\"bilateral\",\"backward\",\"astronauts\",\"goat\",\"beaches\",\"helmet\",\"rico\",\"goddesses\",\"missionaries\",\"cc\",\"accompanying\",\"purity\",\"debian\",\"basel\",\"dominica\",\"emma\",\"peasant\",\"biodiversity\",\"todd\",\"tremendous\",\"blair\",\"capitals\",\"pushing\",\"presenting\",\"vegetable\",\"consul\",\"ballet\",\"verde\",\"couldn\",\"rape\",\"reconciliation\",\"neolithic\",\"bees\",\"phantom\",\"journalists\",\"swift\",\"ants\",\"encounters\",\"indus\",\"dia\",\"subsidiary\",\"complement\",\"aging\",\"nuclei\",\"ye\",\"sue\",\"babe\",\"serbs\",\"manx\",\"denounced\",\"wrestler\",\"phillips\",\"wilderness\",\"biographies\",\"clocks\",\"nashville\",\"kirby\",\"oceans\",\"herald\",\"fried\",\"veteran\",\"cohen\",\"fears\",\"constants\",\"constellations\",\"borges\",\"felix\",\"raids\",\"dirty\",\"declining\",\"caligula\",\"safely\",\"weekend\",\"percussion\",\"em\",\"impose\",\"trap\",\"freeman\",\"stomach\",\"pioneered\",\"mythical\",\"prominently\",\"tract\",\"resemblance\",\"jo\",\"ibid\",\"persians\",\"singh\",\"euclid\",\"sean\",\"ladies\",\"bronx\",\"simpson\",\"spots\",\"theorems\",\"posted\",\"fritz\",\"hanover\",\"chrysler\",\"hormones\",\"dx\",\"favoured\",\"beginnings\",\"catalonia\",\"routine\",\"mutation\",\"terrible\",\"laura\",\"gather\",\"transmit\",\"fault\",\"illusion\",\"assignment\",\"atta\",\"burst\",\"corrupt\",\"eighty\",\"storms\",\"frost\",\"jointly\",\"robots\",\"monkey\",\"abdul\",\"vendors\",\"arrives\",\"adrian\",\"hd\",\"void\",\"chopin\",\"monastic\",\"metadata\",\"ezra\",\"surnames\",\"dayton\",\"batter\",\"jumps\",\"cayman\",\"militant\",\"illegitimate\",\"incompatible\",\"preserving\",\"cyrillic\",\"desk\",\"materialism\",\"francesco\",\"parallels\",\"surplus\",\"resign\",\"storyline\",\"automobiles\",\"creators\",\"glenn\",\"variously\",\"converting\",\"jose\",\"delphi\",\"proton\",\"nickel\",\"billboard\",\"intelsat\",\"spell\",\"memorable\",\"juice\",\"delegates\",\"impressed\",\"lamp\",\"feb\",\"translate\",\"tanakh\",\"disasters\",\"ryan\",\"ml\",\"gui\",\"duo\",\"nuremberg\",\"coke\",\"inventory\",\"petition\",\"knives\",\"eucharist\",\"pseudonym\",\"cruiser\",\"currencies\",\"mahjong\",\"conclude\",\"arbitration\",\"accidentally\",\"secrets\",\"thou\",\"fundamentally\",\"algebras\",\"foreigners\",\"contacts\",\"extraterrestrial\",\"regulatory\",\"wrestling\",\"ivoire\",\"curse\",\"satire\",\"precious\",\"dental\",\"exceptional\",\"lotus\",\"alternating\",\"breeds\",\"servants\",\"routledge\",\"culminating\",\"frisian\",\"cartesian\",\"universidad\",\"sacrament\",\"perl\",\"cookie\",\"gin\",\"disagreement\",\"embraced\",\"pseudo\",\"outright\",\"sharply\",\"coordination\",\"casting\",\"drafted\",\"appoint\",\"exchanged\",\"exposition\",\"weights\",\"problematic\",\"decides\",\"ti\",\"freud\",\"treasure\",\"wolfgang\",\"photographer\",\"sinai\",\"quit\",\"devastating\",\"nordic\",\"lm\",\"propulsion\",\"distinctions\",\"hypothetical\",\"cyberpunk\",\"dom\",\"ak\",\"hale\",\"libyan\",\"hercules\",\"additions\",\"coil\",\"damaging\",\"fellowship\",\"hipparchus\",\"barnabas\",\"accords\",\"sauce\",\"fc\",\"bolshevik\",\"defunct\",\"nomadic\",\"calendars\",\"identifies\",\"destroyer\",\"prediction\",\"blank\",\"imagine\",\"reproduce\",\"promises\",\"moroccan\",\"personalities\",\"simulation\",\"peculiar\",\"wagner\",\"recipes\",\"hospitals\",\"instability\",\"stretch\",\"bonaparte\",\"restrict\",\"reproductive\",\"trivial\",\"lifted\",\"listening\",\"interestingly\",\"lynx\",\"flies\",\"sketches\",\"mayo\",\"gb\",\"drunk\",\"magnesium\",\"elliptic\",\"ensemble\",\"protestantism\",\"presumed\",\"pixel\",\"texture\",\"cyril\",\"react\",\"celebrities\",\"retaining\",\"offshore\",\"sentiment\",\"commentaries\",\"mighty\",\"fisher\",\"irrational\",\"certified\",\"unto\",\"reward\",\"exploit\",\"superiority\",\"protagonist\",\"trips\",\"alt\",\"approaching\",\"artemis\",\"mothers\",\"ribbentrop\",\"favorable\",\"ant\",\"accidents\",\"rob\",\"artwork\",\"josephus\",\"lim\",\"memphis\",\"afford\",\"biographical\",\"sensitivity\",\"mythos\",\"della\",\"kasparov\",\"cliff\",\"cryptanalysis\",\"mozilla\",\"roma\",\"burke\",\"enron\",\"rousseau\",\"symbolism\",\"bios\",\"psychiatric\",\"palmer\",\"xiii\",\"holders\",\"asserts\",\"afternoon\",\"reliance\",\"encouraging\",\"humanism\",\"subordinate\",\"hymn\",\"boris\",\"accommodate\",\"diabetes\",\"weaker\",\"spectroscopy\",\"flooding\",\"constituted\",\"barrels\",\"klein\",\"mughal\",\"catalogue\",\"privacy\",\"apocalypse\",\"helicopter\",\"subsets\",\"incarnation\",\"engaging\",\"finishing\",\"yoga\",\"saxons\",\"innings\",\"batting\",\"epoch\",\"terminals\",\"hormone\",\"bene\",\"struggles\",\"announcement\",\"zeppelin\",\"declaring\",\"sealed\",\"porter\",\"firearm\",\"nominee\",\"spike\",\"mauritania\",\"prestigious\",\"activated\",\"presently\",\"translator\",\"strauss\",\"authoritative\",\"graves\",\"fl\",\"afrikaans\",\"readings\",\"miracle\",\"letterman\",\"email\",\"opium\",\"installation\",\"sleeping\",\"inadequate\",\"ceded\",\"celebrations\",\"coaches\",\"shirt\",\"nobody\",\"sc\",\"concorde\",\"transaction\",\"midway\",\"abundance\",\"philosophies\",\"rumors\",\"inherently\",\"sensory\",\"unusually\",\"underworld\",\"brutal\",\"exeter\",\"poisoning\",\"athenian\",\"tat\",\"portrayal\",\"switches\",\"investments\",\"monitoring\",\"printers\",\"burkina\",\"bee\",\"jeffrey\",\"conceptual\",\"consolidated\",\"lenses\",\"filmography\",\"pale\",\"caucasus\",\"informally\",\"jaguar\",\"troll\",\"mcgill\",\"marched\",\"gameplay\",\"sworn\",\"monasteries\",\"sagan\",\"ulrich\",\"mirrors\",\"reds\",\"deployment\",\"canton\",\"costello\",\"blast\",\"gsm\",\"pdp\",\"rejects\",\"investigated\",\"numeral\",\"conducting\",\"walks\",\"firmly\",\"guilt\",\"dropping\",\"casual\",\"raiders\",\"transformations\",\"ansi\",\"spheres\",\"curling\",\"loving\",\"pretty\",\"tomorrow\",\"stockholm\",\"counsel\",\"anthology\",\"harvest\",\"luxury\",\"sensation\",\"hamster\",\"prescribed\",\"gardner\",\"druze\",\"jackie\",\"raf\",\"arising\",\"contra\",\"maimonides\",\"rabbinic\",\"auckland\",\"bigfoot\",\"resisted\",\"mediation\",\"upset\",\"occupying\",\"trojan\",\"gettysburg\",\"justin\",\"barriers\",\"fabric\",\"arid\",\"confirm\",\"prolonged\",\"villain\",\"constituencies\",\"enhance\",\"conditioning\",\"arriving\",\"akin\",\"ionic\",\"bike\",\"internally\",\"indianapolis\",\"uniforms\",\"ku\",\"edit\",\"rs\",\"kitchen\",\"liturgy\",\"nicene\",\"denis\",\"fy\",\"freeway\",\"modules\",\"freemasonry\",\"rhythmic\",\"rookie\",\"emacs\",\"deconstruction\",\"labelled\",\"whites\",\"etruscan\",\"mortal\",\"po\",\"spare\",\"appreciation\",\"qualify\",\"perspectives\",\"individually\",\"racism\",\"sebastian\",\"surprising\",\"fauna\",\"samoa\",\"illicit\",\"chloride\",\"bavarian\",\"schr\",\"persuaded\",\"afro\",\"pigs\",\"inaugurated\",\"unprecedented\",\"reactive\",\"incorrectly\",\"sunset\",\"herodotus\",\"deforestation\",\"exhibited\",\"recreation\",\"guild\",\"conquer\",\"doses\",\"expresses\",\"plots\",\"willie\",\"deng\",\"coefficients\",\"resembling\",\"seminary\",\"icc\",\"centauri\",\"esther\",\"benzene\",\"premise\",\"tones\",\"rests\",\"immortal\",\"hades\",\"reprint\",\"assertion\",\"comparisons\",\"radios\",\"abandon\",\"inventors\",\"sampling\",\"collectors\",\"wizard\",\"migrated\",\"saddam\",\"embrace\",\"antoine\",\"viable\",\"captivity\",\"aloe\",\"turkic\",\"unfinished\",\"possesses\",\"enables\",\"flexibility\",\"unexpected\",\"decorated\",\"displacement\",\"superhero\",\"steep\",\"cider\",\"prelude\",\"reactor\",\"auschwitz\",\"jail\",\"strand\",\"hebrews\",\"dragons\",\"loading\",\"afonso\",\"characterised\",\"victorious\",\"inevitable\",\"suspect\",\"behaviors\",\"mentally\",\"speculative\",\"mathbb\",\"dale\",\"liberties\",\"punished\",\"hastings\",\"decreasing\",\"sartre\",\"laying\",\"suburb\",\"advancing\",\"diocese\",\"matching\",\"teaches\",\"commandments\",\"curriculum\",\"owns\",\"designing\",\"freezing\",\"substitution\",\"clerk\",\"reynolds\",\"placement\",\"suits\",\"hbo\",\"encyclop\",\"semantics\",\"synonym\",\"grande\",\"jam\",\"banach\",\"competitor\",\"distortion\",\"ulster\",\"cgi\",\"gel\",\"dipole\",\"rahman\",\"hypoglycemia\",\"scrooge\",\"mandelbrot\",\"bolsheviks\",\"intentions\",\"withdrawn\",\"destiny\",\"refusal\",\"richardson\",\"skeptical\",\"academics\",\"biologists\",\"wool\",\"flora\",\"inequality\",\"halt\",\"optics\",\"coded\",\"embryo\",\"neutrality\",\"remarkably\",\"separating\",\"deadly\",\"wouldn\",\"mint\",\"advisor\",\"insufficient\",\"simultaneous\",\"pointer\",\"penalties\",\"upcoming\",\"hadith\",\"webster\",\"poster\",\"espionage\",\"carlo\",\"bismarck\",\"critically\",\"tu\",\"lasers\",\"josef\",\"usaf\",\"quixote\",\"onset\",\"unchanged\",\"interrupted\",\"statues\",\"preliminary\",\"uniquely\",\"submit\",\"overhead\",\"psychologists\",\"exceed\",\"niger\",\"populous\",\"saharan\",\"mohammed\",\"reconstructed\",\"con\",\"respects\",\"checking\",\"coasts\",\"comoros\",\"blake\",\"hussein\",\"distinguishing\",\"prefixes\",\"tightly\",\"designations\",\"kyrgyzstan\",\"prevailing\",\"spawned\",\"fundamentalist\",\"greenwich\",\"su\",\"synod\",\"voiceless\",\"dangers\",\"canals\",\"bicycles\",\"risc\",\"quotations\",\"eliminating\",\"atm\",\"puzzle\",\"maya\",\"algol\",\"essex\",\"tel\",\"descartes\",\"hook\",\"beavis\",\"mcduck\",\"fredericton\",\"objections\",\"supervision\",\"negotiate\",\"polk\",\"fights\",\"departed\",\"abstraction\",\"horns\",\"stretched\",\"seventeen\",\"confusing\",\"dependency\",\"reasonably\",\"noticeable\",\"colts\",\"bradley\",\"orwell\",\"expulsion\",\"kidney\",\"viewer\",\"px\",\"chances\",\"bremen\",\"portland\",\"mistaken\",\"levy\",\"intellectuals\",\"invasions\",\"ki\",\"insert\",\"enthusiasts\",\"postwar\",\"bisexual\",\"enclosed\",\"alloys\",\"aragon\",\"apache\",\"ivy\",\"capacitor\",\"spam\",\"shooter\",\"kissinger\",\"capoeira\",\"unnecessary\",\"legitimacy\",\"privilege\",\"pine\",\"busy\",\"acre\",\"johnston\",\"contrasted\",\"behave\",\"huxley\",\"encompasses\",\"imperfect\",\"allocated\",\"peacekeeping\",\"thread\",\"earn\",\"surprised\",\"projected\",\"crosby\",\"researcher\",\"counterpoint\",\"disabled\",\"immunity\",\"clockwise\",\"modernism\",\"ida\",\"semantic\",\"confirmation\",\"hesse\",\"cdu\",\"doubled\",\"somerset\",\"reigned\",\"nl\",\"piston\",\"funny\",\"jules\",\"rn\",\"routing\",\"ching\",\"crimson\",\"inning\",\"conservatism\",\"grammy\",\"watt\",\"copyleft\",\"textiles\",\"baba\",\"sonata\",\"fractal\",\"myself\",\"conscience\",\"behavioral\",\"indicator\",\"enjoys\",\"emancipation\",\"vermont\",\"metaphysical\",\"illustrations\",\"novelists\",\"ensuing\",\"pursuing\",\"worthy\",\"brave\",\"disagree\",\"genealogy\",\"diagrams\",\"tricks\",\"landlocked\",\"berg\",\"bulletin\",\"pressing\",\"faso\",\"helena\",\"simpsons\",\"tibetan\",\"misleading\",\"allocation\",\"stretching\",\"protons\",\"slopes\",\"hz\",\"peripheral\",\"echo\",\"glacial\",\"martha\",\"questionable\",\"troubles\",\"buddy\",\"companions\",\"confession\",\"murphy\",\"tunes\",\"coleman\",\"ido\",\"excel\",\"ddt\",\"confucius\",\"comfort\",\"professors\",\"wired\",\"advocacy\",\"drainage\",\"incorporating\",\"intact\",\"savage\",\"drift\",\"concludes\",\"inventions\",\"liked\",\"truths\",\"satirical\",\"implementing\",\"emblem\",\"substrate\",\"stationed\",\"pig\",\"santiago\",\"sued\",\"bermuda\",\"gt\",\"mos\",\"pakistani\",\"glossary\",\"preferences\",\"comparatively\",\"centralized\",\"complications\",\"rectangular\",\"recursive\",\"cds\",\"isomorphic\",\"eurovision\",\"normandy\",\"commodity\",\"chelsea\",\"tuberculosis\",\"villa\",\"manson\",\"beers\",\"disadvantages\",\"dyson\",\"harpsichord\",\"consistency\",\"proud\",\"darker\",\"ipcc\",\"humid\",\"flourished\",\"tactic\",\"tide\",\"borne\",\"idle\",\"pistol\",\"griffith\",\"vols\",\"deeds\",\"convince\",\"advancement\",\"colonists\",\"dynasties\",\"nominally\",\"contracted\",\"hellenic\",\"acupuncture\",\"tournaments\",\"famed\",\"recommendation\",\"geographically\",\"abuses\",\"cults\",\"kgb\",\"crazy\",\"blindness\",\"resonance\",\"perpendicular\",\"ah\",\"constitutions\",\"khazar\",\"belfast\",\"denial\",\"televisions\",\"roland\",\"foul\",\"screens\",\"babbage\",\"barbarian\",\"ballad\",\"api\",\"cocoa\",\"talents\",\"synthesized\",\"charlton\",\"fibonacci\",\"ori\",\"miguel\",\"pitching\",\"organizational\",\"reminiscent\",\"sunlight\",\"energies\",\"defects\",\"curious\",\"helpful\",\"par\",\"feels\",\"thoroughly\",\"aboriginal\",\"deciding\",\"modeling\",\"rex\",\"tis\",\"subdivisions\",\"macro\",\"anal\",\"melodic\",\"vedic\",\"adobe\",\"rainy\",\"failures\",\"equinox\",\"impulse\",\"catalog\",\"beirut\",\"tunnels\",\"reservoir\",\"styled\",\"conjecture\",\"parsons\",\"apartheid\",\"ds\",\"chords\",\"brahms\",\"ghosts\",\"andrews\",\"hierarchical\",\"breath\",\"trumpet\",\"hoping\",\"cox\",\"directing\",\"periodically\",\"inn\",\"norms\",\"cyclic\",\"exported\",\"neighbours\",\"originate\",\"bodily\",\"heading\",\"phillip\",\"criterion\",\"ambiguity\",\"cruz\",\"principality\",\"orbitals\",\"proportions\",\"mel\",\"mobility\",\"cosmological\",\"subspecies\",\"occupies\",\"privatization\",\"aug\",\"mc\",\"incorporates\",\"efficiently\",\"curved\",\"drops\",\"lowered\",\"dynamical\",\"motorcycles\",\"utilized\",\"posthumously\",\"spells\",\"venue\",\"zen\",\"rho\",\"aurangzeb\",\"qquad\",\"gotham\",\"attachment\",\"licence\",\"invitation\",\"pork\",\"classify\",\"statutes\",\"fulfilled\",\"diablo\",\"govern\",\"amendments\",\"invading\",\"upright\",\"emigrated\",\"thermodynamics\",\"launching\",\"concentrate\",\"lib\",\"qu\",\"tributaries\",\"amplitude\",\"impacts\",\"aires\",\"focal\",\"invade\",\"exploits\",\"epilepsy\",\"helix\",\"clash\",\"cruel\",\"upgraded\",\"inexpensive\",\"ftp\",\"feudalism\",\"brewers\",\"luftwaffe\",\"quartet\",\"compliance\",\"mishnah\",\"mainz\",\"medication\",\"obey\",\"coherent\",\"accounted\",\"deaf\",\"tips\",\"absorb\",\"nutrition\",\"assassin\",\"publishes\",\"pays\",\"schism\",\"cement\",\"demographic\",\"ambient\",\"nero\",\"hermes\",\"deserts\",\"slam\",\"sorting\",\"practicing\",\"lungs\",\"expertise\",\"skiing\",\"useless\",\"cavity\",\"outward\",\"muscular\",\"guiana\",\"mo\",\"prevalence\",\"prefecture\",\"centred\",\"mercenaries\",\"recommendations\",\"lattice\",\"predicate\",\"nash\",\"jamal\",\"convex\",\"wikisource\",\"chrono\",\"tendencies\",\"generates\",\"propose\",\"edwards\",\"diplomacy\",\"refusing\",\"expenses\",\"salmon\",\"jeremiah\",\"regained\",\"stuck\",\"breach\",\"optimal\",\"pioneering\",\"productivity\",\"profitable\",\"tunisia\",\"caste\",\"allegory\",\"adverse\",\"nanotechnology\",\"dunes\",\"registry\",\"suez\",\"diana\",\"shanghai\",\"bart\",\"dinner\",\"waterways\",\"schumacher\",\"recognizes\",\"straits\",\"weimar\",\"hoc\",\"hydraulic\",\"tyler\",\"deposition\",\"syriac\",\"contend\",\"adjustment\",\"scrimmage\",\"twelfth\",\"mainframe\",\"upgrade\",\"introductory\",\"langle\",\"honolulu\",\"joey\",\"logos\",\"dundee\",\"livingstone\",\"microprocessors\",\"countless\",\"remarked\",\"pinyin\",\"drought\",\"pottery\",\"elderly\",\"illustrate\",\"earning\",\"rooted\",\"examine\",\"resolutions\",\"subdivided\",\"burundi\",\"establishes\",\"compelled\",\"blame\",\"homage\",\"mart\",\"macmillan\",\"babylonia\",\"cam\",\"codified\",\"taxonomy\",\"manganese\",\"navigable\",\"stationary\",\"survives\",\"az\",\"buenos\",\"subway\",\"rosa\",\"seventy\",\"sang\",\"laurent\",\"powerpc\",\"mob\",\"samurai\",\"restriction\",\"bros\",\"recruited\",\"ness\",\"guernsey\",\"cruisers\",\"absinthe\",\"cryonics\",\"exhibits\",\"affinity\",\"wto\",\"mistakes\",\"negro\",\"psychologist\",\"justinian\",\"admit\",\"hostility\",\"helicopters\",\"textbook\",\"packed\",\"ancestral\",\"eighteenth\",\"ignorance\",\"magnus\",\"noteworthy\",\"elemental\",\"influx\",\"whitlam\",\"bean\",\"anyway\",\"bend\",\"emitted\",\"ber\",\"pepper\",\"attain\",\"photographic\",\"mare\",\"var\",\"convergence\",\"harbors\",\"tanker\",\"andes\",\"junta\",\"linda\",\"maternal\",\"viral\",\"loud\",\"clones\",\"grouping\",\"ether\",\"ec\",\"careers\",\"obedience\",\"menu\",\"implicit\",\"crust\",\"interstellar\",\"disneyland\",\"pius\",\"windsor\",\"specimen\",\"abelian\",\"heterosexual\",\"jehovah\",\"septuagint\",\"latino\",\"chandler\",\"leet\",\"strands\",\"oneself\",\"gov\",\"footnotes\",\"bounds\",\"intimate\",\"admired\",\"pupil\",\"neighbor\",\"entrepreneur\",\"bureaucracy\",\"bordered\",\"ethnicity\",\"introduces\",\"wavelengths\",\"tao\",\"holdings\",\"metropolis\",\"tito\",\"infectious\",\"scenario\",\"annotated\",\"emigration\",\"subcontinent\",\"modeled\",\"bolt\",\"guides\",\"walked\",\"monica\",\"crack\",\"triangular\",\"shortwave\",\"grt\",\"springer\",\"painful\",\"therapeutic\",\"giuseppe\",\"neural\",\"gundam\",\"candy\",\"lineup\",\"sci\",\"alcoholism\",\"cromwell\",\"chromatic\",\"addison\",\"grammars\",\"pradesh\",\"mrna\",\"racist\",\"adjectives\",\"stamps\",\"balloon\",\"nancy\",\"buchanan\",\"theaters\",\"prizes\",\"aesthetics\",\"memes\",\"staying\",\"camouflage\",\"leslie\",\"examining\",\"derby\",\"nicolas\",\"utilize\",\"leopold\",\"desertification\",\"cows\",\"guru\",\"costly\",\"brigades\",\"adopting\",\"biologist\",\"wax\",\"cables\",\"flown\",\"rated\",\"italians\",\"caspian\",\"geologic\",\"cooled\",\"stretches\",\"lethal\",\"rat\",\"refugee\",\"mosques\",\"potato\",\"maltese\",\"landmarks\",\"celebrating\",\"strengthened\",\"pmid\",\"buckingham\",\"broadcaster\",\"riemann\",\"ezekiel\",\"valves\",\"gradient\",\"mecca\",\"aztec\",\"crashed\",\"cpc\",\"invariant\",\"tucker\",\"regulate\",\"athletics\",\"exaggerated\",\"crowds\",\"shortest\",\"minded\",\"laboratories\",\"rabbit\",\"rebuilding\",\"covert\",\"stan\",\"sulfur\",\"monarchies\",\"colombian\",\"sacrifices\",\"enlarged\",\"garcia\",\"attested\",\"conjugation\",\"adaptive\",\"vastly\",\"dietary\",\"chlorine\",\"sink\",\"recognizable\",\"crews\",\"orbiting\",\"lucid\",\"filmmakers\",\"patented\",\"debts\",\"submarines\",\"unconscious\",\"werner\",\"leisure\",\"imperative\",\"operas\",\"ur\",\"satie\",\"mus\",\"archer\",\"spellings\",\"involuntary\",\"kiribati\",\"eichmann\",\"quasi\",\"homomorphism\",\"doubtful\",\"karachi\",\"asbestos\",\"divisional\",\"revolutions\",\"outlined\",\"feminists\",\"bullets\",\"diagnostic\",\"differentiate\",\"earnings\",\"warned\",\"sunk\",\"wounds\",\"kirk\",\"hunters\",\"screenplay\",\"inconsistent\",\"rigorous\",\"planted\",\"indicative\",\"austro\",\"prophetic\",\"blown\",\"hung\",\"breakthrough\",\"baptists\",\"propelled\",\"membranes\",\"trinidad\",\"majesty\",\"foremost\",\"consortium\",\"migrant\",\"moisture\",\"shelf\",\"contributors\",\"chaotic\",\"superseded\",\"consult\",\"demonstrating\",\"cleaning\",\"authored\",\"jeremy\",\"flux\",\"proofs\",\"idealism\",\"housed\",\"cyanide\",\"programmable\",\"boron\",\"presided\",\"advisory\",\"nirvana\",\"cameron\",\"logarithm\",\"invoked\",\"unite\",\"culminated\",\"desires\",\"literate\",\"lowercase\",\"worshipped\",\"martyr\",\"mall\",\"bust\",\"cite\",\"pulitzer\",\"narrowly\",\"burma\",\"alloy\",\"encourages\",\"enduring\",\"alphabetical\",\"inputs\",\"distillation\",\"flowering\",\"markup\",\"somalia\",\"ensuring\",\"banning\",\"anatolia\",\"alkanes\",\"penis\",\"yearly\",\"memoir\",\"seals\",\"crystalline\",\"stopping\",\"glorious\",\"observable\",\"pulling\",\"disadvantage\",\"bahamas\",\"peters\",\"bennett\",\"accents\",\"monte\",\"distribute\",\"condoms\",\"handheld\",\"tablets\",\"kate\",\"dolly\",\"rent\",\"val\",\"papacy\",\"diatonic\",\"abbreviations\",\"gis\",\"relational\",\"downward\",\"moby\",\"graphite\",\"homogeneous\",\"bud\",\"eastenders\",\"siberia\",\"pleasant\",\"defender\",\"sparked\",\"shifting\",\"panic\",\"quarterly\",\"prosperous\",\"cry\",\"compute\",\"struggled\",\"lucky\",\"discarded\",\"reside\",\"wherever\",\"blend\",\"invariably\",\"ottawa\",\"invested\",\"wu\",\"troubled\",\"beside\",\"doug\",\"shepherd\",\"cord\",\"jonah\",\"carbonate\",\"metabolic\",\"ic\",\"knee\",\"maiden\",\"correlation\",\"ncaa\",\"desperate\",\"offence\",\"liturgical\",\"insane\",\"grandmother\",\"janet\",\"supremacy\",\"goth\",\"financing\",\"cites\",\"djs\",\"spice\",\"cholesterol\",\"ciphers\",\"checks\",\"fluids\",\"dive\",\"marlowe\",\"dodo\",\"jain\",\"epsilon\",\"overthrown\",\"chomsky\",\"riot\",\"trucks\",\"presbyterian\",\"sanctuary\",\"colleague\",\"lifelong\",\"keen\",\"accidental\",\"vita\",\"irrelevant\",\"discovering\",\"irrigation\",\"occult\",\"shelley\",\"vernacular\",\"canary\",\"ascension\",\"catcher\",\"amended\",\"jesse\",\"manages\",\"sums\",\"smell\",\"genitive\",\"preparations\",\"griffin\",\"yorkshire\",\"interpol\",\"doctorate\",\"synagogue\",\"honors\",\"strengthen\",\"regain\",\"hobby\",\"backs\",\"fairy\",\"unitary\",\"additive\",\"chorus\",\"panels\",\"mailing\",\"diodes\",\"pilgrimage\",\"fide\",\"amplifiers\",\"caliph\",\"jakarta\",\"pronouns\",\"ddr\",\"finns\",\"emphasizes\",\"seminal\",\"weird\",\"stripped\",\"inform\",\"horace\",\"interfere\",\"endless\",\"steal\",\"exclusion\",\"marker\",\"institutional\",\"visitor\",\"obliged\",\"physiological\",\"australians\",\"leone\",\"assign\",\"bissau\",\"stepped\",\"blocking\",\"complaint\",\"cleared\",\"dial\",\"spinal\",\"yang\",\"creole\",\"rift\",\"surroundings\",\"faiths\",\"aromatic\",\"climb\",\"electorate\",\"judo\",\"liability\",\"salary\",\"octavian\",\"emulation\",\"marco\",\"ignatius\",\"honours\",\"percy\",\"kubrick\",\"neurons\",\"connotations\",\"hiding\",\"soprano\",\"vested\",\"cannibalism\",\"cheers\",\"fricative\",\"dada\",\"inclined\",\"diagnosed\",\"dressing\",\"inaugural\",\"instantly\",\"precedent\",\"tribune\",\"seizures\",\"barnes\",\"seated\",\"ballistic\",\"heretics\",\"prejudice\",\"dogma\",\"heirs\",\"creations\",\"decoration\",\"appendix\",\"flaws\",\"posthumous\",\"obstacles\",\"locks\",\"marvin\",\"labyrinth\",\"susceptible\",\"navigator\",\"robust\",\"acknowledge\",\"mascot\",\"cnn\",\"electors\",\"hosting\",\"donated\",\"violated\",\"adapt\",\"convenience\",\"sticks\",\"mega\",\"modular\",\"reconnaissance\",\"mcluhan\",\"nest\",\"shores\",\"contrasts\",\"inaccurate\",\"seventeenth\",\"locked\",\"christine\",\"aikido\",\"throws\",\"checked\",\"beaten\",\"shrine\",\"pharaoh\",\"hazardous\",\"snyder\",\"scientology\",\"proliferation\",\"tudor\",\"identities\",\"tutorial\",\"karma\",\"acclaim\",\"knots\",\"bugs\",\"blizzard\",\"tile\",\"chiropractic\",\"beckham\",\"recognise\"],\"x\":{\"__ndarray__\":\"ENVAPn0fLD8jaWY/ucquvho2uL/FRwo+ZzQ4PosZKD82f2W+s+7yPhLtt76a7LY+efLZP42YbL7f22O9WQBAP840Qb7ALga/0dFwvrwKV7/4Q6+/AdckP16MBECI2Im/SMasPRLKiT+60jY+Sz65v4tqir4x6Um+/1VTP9i+Yb/v4wO/B/+lP1ppvb9tHvY/W+MnPtZniD7A4O4/C/ykPzz9Hb8BCPG86Vmjv0TgPL8Imxo9jDhKPaPIPj829Ve+PHIYv1fSwD6tYbU/LxObv7bKXT/jzOE9oOWCPehrh7+aZie/bjMVPQso5z3IzUW/gSFuPyHcET4elyK/VKyEPr8G9D0ZDyW/6wkuvw/WxDyMRTi/B1QdQIuEqL7/pjy+gB1iP3ht7b6wVoK+zlTmvyr7ij//Zck++5gcPxNohz9zhzNA42aPvxOwYT9ePPk/ZyhXv16ljb4kLZS+/EKzvFYF9L+mf5K+Vzwkv7xOGUCzeg7AqoyLPk4Y+r9SFFg+d7/MvrdU3r9/7Cu/vYaJvw==\",\"dtype\":\"float32\",\"shape\":[100]},\"y\":{\"__ndarray__\":\"4JFFvlPKtT+yZkc/nyFYvz6iHT5c1Q+/e5fJvhwssL463xpAdJ4Nvvlskb+4gEm9Vl32Pv+6cL/WQ3y+pLOUvxkAyj2mo6o/f/+1vh/XFUDPBRg+MzIzv5mHjD/vJpa8PvjyPcEkfz8gevW/9BP5Pq4q0L4v9wo+LN2pP0P/QL8B/+2+KaLqvwDMd78HRnA/81mQP6D3lz+03Wa/j+VjP+G0Gr8DO5+9pQG7Ptsfpz8XVI4//Ijnv+P6gr5QqzBAVzwrvX0ck7/lpyY+GdnWvi6ohb9ohH4/m28LwMtLvz4PvP+9xpOQP0lnWr7FaMU+4QjSv9thMT9gdUg/Hg8CwO3FwL6DHrm/0Xxjvhkdlr/DJ0O9jC2Bv34nvz7ZPye/E82pvtOXVb8LViw+tm5Pv8KBFT8mpxi9ewx/PsIH6L2IlSI/wIYBv/ZY4D2ysIA/zgnJP2A1I705lT+9HtNPv/pCD7+ZmL4+tcxaPSecUj+lTz4/7RLLPhk9P0BsNWm/Ke9EP7W8mL+reI6+SoCIvw==\",\"dtype\":\"float32\",\"shape\":[100]}},\"selected\":{\"id\":\"1049\",\"type\":\"Selection\"},\"selection_policy\":{\"id\":\"1048\",\"type\":\"UnionRenderers\"}},\"id\":\"1001\",\"type\":\"ColumnDataSource\"},{\"attributes\":{},\"id\":\"1025\",\"type\":\"ResetTool\"},{\"attributes\":{},\"id\":\"1007\",\"type\":\"LinearScale\"},{\"attributes\":{},\"id\":\"1045\",\"type\":\"BasicTickFormatter\"},{\"attributes\":{},\"id\":\"1022\",\"type\":\"WheelZoomTool\"},{\"attributes\":{\"fill_alpha\":{\"value\":0.25},\"fill_color\":{\"field\":\"color\"},\"line_alpha\":{\"value\":0.25},\"line_color\":{\"field\":\"color\"},\"size\":{\"units\":\"screen\",\"value\":10},\"x\":{\"field\":\"x\"},\"y\":{\"field\":\"y\"}},\"id\":\"1035\",\"type\":\"Scatter\"},{\"attributes\":{\"bottom_units\":\"screen\",\"fill_alpha\":{\"value\":0.5},\"fill_color\":{\"value\":\"lightgrey\"},\"left_units\":\"screen\",\"level\":\"overlay\",\"line_alpha\":{\"value\":1.0},\"line_color\":{\"value\":\"black\"},\"line_dash\":[4,4],\"line_width\":{\"value\":2},\"render_mode\":\"css\",\"right_units\":\"screen\",\"top_units\":\"screen\"},\"id\":\"1047\",\"type\":\"BoxAnnotation\"},{\"attributes\":{\"overlay\":{\"id\":\"1047\",\"type\":\"BoxAnnotation\"}},\"id\":\"1023\",\"type\":\"BoxZoomTool\"},{\"attributes\":{\"text\":\"\"},\"id\":\"1042\",\"type\":\"Title\"},{\"attributes\":{},\"id\":\"1024\",\"type\":\"SaveTool\"},{\"attributes\":{},\"id\":\"1009\",\"type\":\"LinearScale\"},{\"attributes\":{\"formatter\":{\"id\":\"1045\",\"type\":\"BasicTickFormatter\"},\"ticker\":{\"id\":\"1012\",\"type\":\"BasicTicker\"}},\"id\":\"1011\",\"type\":\"LinearAxis\"},{\"attributes\":{\"callback\":null},\"id\":\"1005\",\"type\":\"DataRange1d\"},{\"attributes\":{\"callback\":null,\"tooltips\":[[\"token\",\"@token\"]]},\"id\":\"1039\",\"type\":\"HoverTool\"}],\"root_ids\":[\"1002\"]},\"title\":\"Bokeh Application\",\"version\":\"1.4.0\"}};\n",
              "  var render_items = [{\"docid\":\"056bbb58-9428-4750-b23f-5844e287370f\",\"roots\":{\"1002\":\"91c45110-7747-4b10-a21b-24093916314e\"}}];\n",
              "  root.Bokeh.embed.embed_items_notebook(docs_json, render_items);\n",
              "\n",
              "  }\n",
              "  if (root.Bokeh !== undefined) {\n",
              "    embed_document(root);\n",
              "  } else {\n",
              "    var attempts = 0;\n",
              "    var timer = setInterval(function(root) {\n",
              "      if (root.Bokeh !== undefined) {\n",
              "        clearInterval(timer);\n",
              "        embed_document(root);\n",
              "      } else {\n",
              "        attempts++;\n",
              "        if (attempts > 100) {\n",
              "          clearInterval(timer);\n",
              "          console.log(\"Bokeh: ERROR: Unable to run BokehJS code because BokehJS library is missing\");\n",
              "        }\n",
              "      }\n",
              "    }, 10, root)\n",
              "  }\n",
              "})(window);"
            ],
            "application/vnd.bokehjs_exec.v0+json": ""
          },
          "metadata": {
            "tags": [],
            "application/vnd.bokehjs_exec.v0+json": {
              "id": "1002"
            }
          }
        },
        {
          "output_type": "execute_result",
          "data": {
            "text/html": [
              "<div style=\"display: table;\"><div style=\"display: table-row;\"><div style=\"display: table-cell;\"><b title=\"bokeh.plotting.figure.Figure\">Figure</b>(</div><div style=\"display: table-cell;\">id&nbsp;=&nbsp;'1002', <span id=\"1105\" style=\"cursor: pointer;\">&hellip;)</span></div></div><div class=\"1104\" style=\"display: none;\"><div style=\"display: table-cell;\"></div><div style=\"display: table-cell;\">above&nbsp;=&nbsp;[],</div></div><div class=\"1104\" style=\"display: none;\"><div style=\"display: table-cell;\"></div><div style=\"display: table-cell;\">align&nbsp;=&nbsp;'start',</div></div><div class=\"1104\" style=\"display: none;\"><div style=\"display: table-cell;\"></div><div style=\"display: table-cell;\">aspect_ratio&nbsp;=&nbsp;None,</div></div><div class=\"1104\" style=\"display: none;\"><div style=\"display: table-cell;\"></div><div style=\"display: table-cell;\">aspect_scale&nbsp;=&nbsp;1,</div></div><div class=\"1104\" style=\"display: none;\"><div style=\"display: table-cell;\"></div><div style=\"display: table-cell;\">background&nbsp;=&nbsp;None,</div></div><div class=\"1104\" style=\"display: none;\"><div style=\"display: table-cell;\"></div><div style=\"display: table-cell;\">background_fill_alpha&nbsp;=&nbsp;{'value': 1.0},</div></div><div class=\"1104\" style=\"display: none;\"><div style=\"display: table-cell;\"></div><div style=\"display: table-cell;\">background_fill_color&nbsp;=&nbsp;{'value': '#ffffff'},</div></div><div class=\"1104\" style=\"display: none;\"><div style=\"display: table-cell;\"></div><div style=\"display: table-cell;\">below&nbsp;=&nbsp;[LinearAxis(id='1011', ...)],</div></div><div class=\"1104\" style=\"display: none;\"><div style=\"display: table-cell;\"></div><div style=\"display: table-cell;\">border_fill_alpha&nbsp;=&nbsp;{'value': 1.0},</div></div><div class=\"1104\" style=\"display: none;\"><div style=\"display: table-cell;\"></div><div style=\"display: table-cell;\">border_fill_color&nbsp;=&nbsp;{'value': '#ffffff'},</div></div><div class=\"1104\" style=\"display: none;\"><div style=\"display: table-cell;\"></div><div style=\"display: table-cell;\">center&nbsp;=&nbsp;[Grid(id='1015', ...), Grid(id='1020', ...)],</div></div><div class=\"1104\" style=\"display: none;\"><div style=\"display: table-cell;\"></div><div style=\"display: table-cell;\">css_classes&nbsp;=&nbsp;[],</div></div><div class=\"1104\" style=\"display: none;\"><div style=\"display: table-cell;\"></div><div style=\"display: table-cell;\">disabled&nbsp;=&nbsp;False,</div></div><div class=\"1104\" style=\"display: none;\"><div style=\"display: table-cell;\"></div><div style=\"display: table-cell;\">extra_x_ranges&nbsp;=&nbsp;{},</div></div><div class=\"1104\" style=\"display: none;\"><div style=\"display: table-cell;\"></div><div style=\"display: table-cell;\">extra_y_ranges&nbsp;=&nbsp;{},</div></div><div class=\"1104\" style=\"display: none;\"><div style=\"display: table-cell;\"></div><div style=\"display: table-cell;\">frame_height&nbsp;=&nbsp;None,</div></div><div class=\"1104\" style=\"display: none;\"><div style=\"display: table-cell;\"></div><div style=\"display: table-cell;\">frame_width&nbsp;=&nbsp;None,</div></div><div class=\"1104\" style=\"display: none;\"><div style=\"display: table-cell;\"></div><div style=\"display: table-cell;\">height&nbsp;=&nbsp;None,</div></div><div class=\"1104\" style=\"display: none;\"><div style=\"display: table-cell;\"></div><div style=\"display: table-cell;\">height_policy&nbsp;=&nbsp;'auto',</div></div><div class=\"1104\" style=\"display: none;\"><div style=\"display: table-cell;\"></div><div style=\"display: table-cell;\">hidpi&nbsp;=&nbsp;True,</div></div><div class=\"1104\" style=\"display: none;\"><div style=\"display: table-cell;\"></div><div style=\"display: table-cell;\">js_event_callbacks&nbsp;=&nbsp;{},</div></div><div class=\"1104\" style=\"display: none;\"><div style=\"display: table-cell;\"></div><div style=\"display: table-cell;\">js_property_callbacks&nbsp;=&nbsp;{},</div></div><div class=\"1104\" style=\"display: none;\"><div style=\"display: table-cell;\"></div><div style=\"display: table-cell;\">left&nbsp;=&nbsp;[LinearAxis(id='1016', ...)],</div></div><div class=\"1104\" style=\"display: none;\"><div style=\"display: table-cell;\"></div><div style=\"display: table-cell;\">lod_factor&nbsp;=&nbsp;10,</div></div><div class=\"1104\" style=\"display: none;\"><div style=\"display: table-cell;\"></div><div style=\"display: table-cell;\">lod_interval&nbsp;=&nbsp;300,</div></div><div class=\"1104\" style=\"display: none;\"><div style=\"display: table-cell;\"></div><div style=\"display: table-cell;\">lod_threshold&nbsp;=&nbsp;2000,</div></div><div class=\"1104\" style=\"display: none;\"><div style=\"display: table-cell;\"></div><div style=\"display: table-cell;\">lod_timeout&nbsp;=&nbsp;500,</div></div><div class=\"1104\" style=\"display: none;\"><div style=\"display: table-cell;\"></div><div style=\"display: table-cell;\">margin&nbsp;=&nbsp;(0, 0, 0, 0),</div></div><div class=\"1104\" style=\"display: none;\"><div style=\"display: table-cell;\"></div><div style=\"display: table-cell;\">match_aspect&nbsp;=&nbsp;False,</div></div><div class=\"1104\" style=\"display: none;\"><div style=\"display: table-cell;\"></div><div style=\"display: table-cell;\">max_height&nbsp;=&nbsp;None,</div></div><div class=\"1104\" style=\"display: none;\"><div style=\"display: table-cell;\"></div><div style=\"display: table-cell;\">max_width&nbsp;=&nbsp;None,</div></div><div class=\"1104\" style=\"display: none;\"><div style=\"display: table-cell;\"></div><div style=\"display: table-cell;\">min_border&nbsp;=&nbsp;5,</div></div><div class=\"1104\" style=\"display: none;\"><div style=\"display: table-cell;\"></div><div style=\"display: table-cell;\">min_border_bottom&nbsp;=&nbsp;None,</div></div><div class=\"1104\" style=\"display: none;\"><div style=\"display: table-cell;\"></div><div style=\"display: table-cell;\">min_border_left&nbsp;=&nbsp;None,</div></div><div class=\"1104\" style=\"display: none;\"><div style=\"display: table-cell;\"></div><div style=\"display: table-cell;\">min_border_right&nbsp;=&nbsp;None,</div></div><div class=\"1104\" style=\"display: none;\"><div style=\"display: table-cell;\"></div><div style=\"display: table-cell;\">min_border_top&nbsp;=&nbsp;None,</div></div><div class=\"1104\" style=\"display: none;\"><div style=\"display: table-cell;\"></div><div style=\"display: table-cell;\">min_height&nbsp;=&nbsp;None,</div></div><div class=\"1104\" style=\"display: none;\"><div style=\"display: table-cell;\"></div><div style=\"display: table-cell;\">min_width&nbsp;=&nbsp;None,</div></div><div class=\"1104\" style=\"display: none;\"><div style=\"display: table-cell;\"></div><div style=\"display: table-cell;\">name&nbsp;=&nbsp;None,</div></div><div class=\"1104\" style=\"display: none;\"><div style=\"display: table-cell;\"></div><div style=\"display: table-cell;\">outline_line_alpha&nbsp;=&nbsp;{'value': 1.0},</div></div><div class=\"1104\" style=\"display: none;\"><div style=\"display: table-cell;\"></div><div style=\"display: table-cell;\">outline_line_cap&nbsp;=&nbsp;'butt',</div></div><div class=\"1104\" style=\"display: none;\"><div style=\"display: table-cell;\"></div><div style=\"display: table-cell;\">outline_line_color&nbsp;=&nbsp;{'value': '#e5e5e5'},</div></div><div class=\"1104\" style=\"display: none;\"><div style=\"display: table-cell;\"></div><div style=\"display: table-cell;\">outline_line_dash&nbsp;=&nbsp;[],</div></div><div class=\"1104\" style=\"display: none;\"><div style=\"display: table-cell;\"></div><div style=\"display: table-cell;\">outline_line_dash_offset&nbsp;=&nbsp;0,</div></div><div class=\"1104\" style=\"display: none;\"><div style=\"display: table-cell;\"></div><div style=\"display: table-cell;\">outline_line_join&nbsp;=&nbsp;'bevel',</div></div><div class=\"1104\" style=\"display: none;\"><div style=\"display: table-cell;\"></div><div style=\"display: table-cell;\">outline_line_width&nbsp;=&nbsp;{'value': 1},</div></div><div class=\"1104\" style=\"display: none;\"><div style=\"display: table-cell;\"></div><div style=\"display: table-cell;\">output_backend&nbsp;=&nbsp;'canvas',</div></div><div class=\"1104\" style=\"display: none;\"><div style=\"display: table-cell;\"></div><div style=\"display: table-cell;\">plot_height&nbsp;=&nbsp;400,</div></div><div class=\"1104\" style=\"display: none;\"><div style=\"display: table-cell;\"></div><div style=\"display: table-cell;\">plot_width&nbsp;=&nbsp;600,</div></div><div class=\"1104\" style=\"display: none;\"><div style=\"display: table-cell;\"></div><div style=\"display: table-cell;\">renderers&nbsp;=&nbsp;[GlyphRenderer(id='1037', ...)],</div></div><div class=\"1104\" style=\"display: none;\"><div style=\"display: table-cell;\"></div><div style=\"display: table-cell;\">reset_policy&nbsp;=&nbsp;'standard',</div></div><div class=\"1104\" style=\"display: none;\"><div style=\"display: table-cell;\"></div><div style=\"display: table-cell;\">right&nbsp;=&nbsp;[],</div></div><div class=\"1104\" style=\"display: none;\"><div style=\"display: table-cell;\"></div><div style=\"display: table-cell;\">sizing_mode&nbsp;=&nbsp;None,</div></div><div class=\"1104\" style=\"display: none;\"><div style=\"display: table-cell;\"></div><div style=\"display: table-cell;\">subscribed_events&nbsp;=&nbsp;[],</div></div><div class=\"1104\" style=\"display: none;\"><div style=\"display: table-cell;\"></div><div style=\"display: table-cell;\">tags&nbsp;=&nbsp;[],</div></div><div class=\"1104\" style=\"display: none;\"><div style=\"display: table-cell;\"></div><div style=\"display: table-cell;\">title&nbsp;=&nbsp;Title(id='1042', ...),</div></div><div class=\"1104\" style=\"display: none;\"><div style=\"display: table-cell;\"></div><div style=\"display: table-cell;\">title_location&nbsp;=&nbsp;'above',</div></div><div class=\"1104\" style=\"display: none;\"><div style=\"display: table-cell;\"></div><div style=\"display: table-cell;\">toolbar&nbsp;=&nbsp;Toolbar(id='1027', ...),</div></div><div class=\"1104\" style=\"display: none;\"><div style=\"display: table-cell;\"></div><div style=\"display: table-cell;\">toolbar_location&nbsp;=&nbsp;'right',</div></div><div class=\"1104\" style=\"display: none;\"><div style=\"display: table-cell;\"></div><div style=\"display: table-cell;\">toolbar_sticky&nbsp;=&nbsp;True,</div></div><div class=\"1104\" style=\"display: none;\"><div style=\"display: table-cell;\"></div><div style=\"display: table-cell;\">visible&nbsp;=&nbsp;True,</div></div><div class=\"1104\" style=\"display: none;\"><div style=\"display: table-cell;\"></div><div style=\"display: table-cell;\">width&nbsp;=&nbsp;None,</div></div><div class=\"1104\" style=\"display: none;\"><div style=\"display: table-cell;\"></div><div style=\"display: table-cell;\">width_policy&nbsp;=&nbsp;'auto',</div></div><div class=\"1104\" style=\"display: none;\"><div style=\"display: table-cell;\"></div><div style=\"display: table-cell;\">x_range&nbsp;=&nbsp;DataRange1d(id='1003', ...),</div></div><div class=\"1104\" style=\"display: none;\"><div style=\"display: table-cell;\"></div><div style=\"display: table-cell;\">x_scale&nbsp;=&nbsp;LinearScale(id='1007', ...),</div></div><div class=\"1104\" style=\"display: none;\"><div style=\"display: table-cell;\"></div><div style=\"display: table-cell;\">y_range&nbsp;=&nbsp;DataRange1d(id='1005', ...),</div></div><div class=\"1104\" style=\"display: none;\"><div style=\"display: table-cell;\"></div><div style=\"display: table-cell;\">y_scale&nbsp;=&nbsp;LinearScale(id='1009', ...))</div></div></div>\n",
              "<script>\n",
              "(function() {\n",
              "  var expanded = false;\n",
              "  var ellipsis = document.getElementById(\"1105\");\n",
              "  ellipsis.addEventListener(\"click\", function() {\n",
              "    var rows = document.getElementsByClassName(\"1104\");\n",
              "    for (var i = 0; i < rows.length; i++) {\n",
              "      var el = rows[i];\n",
              "      el.style.display = expanded ? \"none\" : \"table-row\";\n",
              "    }\n",
              "    ellipsis.innerHTML = expanded ? \"&hellip;)\" : \"&lsaquo;&lsaquo;&lsaquo;\";\n",
              "    expanded = !expanded;\n",
              "  });\n",
              "})();\n",
              "</script>\n"
            ],
            "text/plain": [
              "Figure(id='1002', ...)"
            ]
          },
          "metadata": {
            "tags": []
          },
          "execution_count": 25
        }
      ]
    },
    {
      "cell_type": "markdown",
      "metadata": {
        "id": "M3iNH9QswTX3",
        "colab_type": "text"
      },
      "source": [
        "### Visualizing neighbors with t-SNE\n",
        "PCA is nice but it's strictly linear and thus only able to capture coarse high-level structure of the data.\n",
        "\n",
        "If we instead want to focus on keeping neighboring points near, we could use TSNE, which is itself an embedding method. Here you can read __[more on TSNE](https://distill.pub/2016/misread-tsne/)__."
      ]
    },
    {
      "cell_type": "code",
      "metadata": {
        "pycharm": {
          "is_executing": true
        },
        "id": "slqZlkRHwTX3",
        "colab_type": "code",
        "outputId": "a20498ea-dd4f-4573-e34a-628c0774777c",
        "colab": {
          "base_uri": "https://localhost:8080/",
          "height": 0
        }
      },
      "source": [
        "from sklearn.manifold import TSNE\n",
        "\n",
        "# Map word vectors onto a 2d plane with TSNE. (Hint: use verbose=100 to see what it's doing.)\n",
        "# Normalize them just like with PCA into word_tsne\n",
        "\n",
        "############### for student ################\n",
        "tsne = TSNE(n_components=2,verbose=100)\n",
        "word_tsne = tsne.fit_transform(word_vectors)\n",
        "############################################"
      ],
      "execution_count": 26,
      "outputs": [
        {
          "output_type": "stream",
          "text": [
            "[t-SNE] Computing 91 nearest neighbors...\n",
            "[t-SNE] Indexed 100 samples in 0.001s...\n",
            "[t-SNE] Computed neighbors for 100 samples in 0.022s...\n",
            "[t-SNE] Computed conditional probabilities for sample 100 / 100\n",
            "[t-SNE] Mean sigma: 17.458122\n",
            "[t-SNE] Computed conditional probabilities in 0.017s\n",
            "[t-SNE] Iteration 50: error = 78.5850754, gradient norm = 0.4589480 (50 iterations in 1.593s)\n",
            "[t-SNE] Iteration 100: error = 80.7489929, gradient norm = 0.4475091 (50 iterations in 0.601s)\n",
            "[t-SNE] Iteration 150: error = 78.4852066, gradient norm = 0.4269891 (50 iterations in 0.531s)\n",
            "[t-SNE] Iteration 200: error = 77.9681549, gradient norm = 0.3681235 (50 iterations in 0.862s)\n",
            "[t-SNE] Iteration 250: error = 82.4722595, gradient norm = 0.3647962 (50 iterations in 0.450s)\n",
            "[t-SNE] KL divergence after 250 iterations with early exaggeration: 82.472260\n",
            "[t-SNE] Iteration 300: error = 1.6267133, gradient norm = 0.0027350 (50 iterations in 0.430s)\n",
            "[t-SNE] Iteration 350: error = 1.2485536, gradient norm = 0.0015089 (50 iterations in 0.317s)\n",
            "[t-SNE] Iteration 400: error = 1.0238191, gradient norm = 0.0008637 (50 iterations in 0.244s)\n",
            "[t-SNE] Iteration 450: error = 0.9600518, gradient norm = 0.0004800 (50 iterations in 0.246s)\n",
            "[t-SNE] Iteration 500: error = 0.9353474, gradient norm = 0.0003480 (50 iterations in 0.254s)\n",
            "[t-SNE] Iteration 550: error = 0.9235736, gradient norm = 0.0001749 (50 iterations in 0.239s)\n",
            "[t-SNE] Iteration 600: error = 0.9096045, gradient norm = 0.0002098 (50 iterations in 0.599s)\n",
            "[t-SNE] Iteration 650: error = 0.8973476, gradient norm = 0.0001988 (50 iterations in 0.433s)\n",
            "[t-SNE] Iteration 700: error = 0.8899725, gradient norm = 0.0001523 (50 iterations in 0.256s)\n",
            "[t-SNE] Iteration 750: error = 0.8864837, gradient norm = 0.0000731 (50 iterations in 0.221s)\n",
            "[t-SNE] Iteration 800: error = 0.8850515, gradient norm = 0.0000552 (50 iterations in 0.253s)\n",
            "[t-SNE] Iteration 850: error = 0.8824284, gradient norm = 0.0000743 (50 iterations in 0.286s)\n",
            "[t-SNE] Iteration 900: error = 0.8811055, gradient norm = 0.0000643 (50 iterations in 0.217s)\n",
            "[t-SNE] Iteration 950: error = 0.8790839, gradient norm = 0.0000787 (50 iterations in 0.251s)\n",
            "[t-SNE] Iteration 1000: error = 0.8770589, gradient norm = 0.0000959 (50 iterations in 0.226s)\n",
            "[t-SNE] KL divergence after 1000 iterations: 0.877059\n"
          ],
          "name": "stdout"
        }
      ]
    },
    {
      "cell_type": "code",
      "metadata": {
        "pycharm": {
          "is_executing": true
        },
        "scrolled": true,
        "id": "gX7kyxDAwTX8",
        "colab_type": "code",
        "outputId": "b643c933-dba0-4286-c89e-9c5204a72f9b",
        "colab": {
          "base_uri": "https://localhost:8080/",
          "height": 0
        }
      },
      "source": [
        "draw_vectors(word_tsne[:, 0], word_tsne[:, 1], color='green', token=list(id_to_token.values()))"
      ],
      "execution_count": 27,
      "outputs": [
        {
          "output_type": "stream",
          "text": [
            "BokehUserWarning: ColumnDataSource's columns must be of the same length. Current lengths: ('color', 100), ('token', 10000), ('x', 100), ('y', 100)\n"
          ],
          "name": "stderr"
        },
        {
          "output_type": "display_data",
          "data": {
            "application/javascript": [
              "\n",
              "(function(root) {\n",
              "  function now() {\n",
              "    return new Date();\n",
              "  }\n",
              "\n",
              "  var force = true;\n",
              "\n",
              "  if (typeof root._bokeh_onload_callbacks === \"undefined\" || force === true) {\n",
              "    root._bokeh_onload_callbacks = [];\n",
              "    root._bokeh_is_loading = undefined;\n",
              "  }\n",
              "\n",
              "  var JS_MIME_TYPE = 'application/javascript';\n",
              "  var HTML_MIME_TYPE = 'text/html';\n",
              "  var EXEC_MIME_TYPE = 'application/vnd.bokehjs_exec.v0+json';\n",
              "  var CLASS_NAME = 'output_bokeh rendered_html';\n",
              "\n",
              "  /**\n",
              "   * Render data to the DOM node\n",
              "   */\n",
              "  function render(props, node) {\n",
              "    var script = document.createElement(\"script\");\n",
              "    node.appendChild(script);\n",
              "  }\n",
              "\n",
              "  /**\n",
              "   * Handle when an output is cleared or removed\n",
              "   */\n",
              "  function handleClearOutput(event, handle) {\n",
              "    var cell = handle.cell;\n",
              "\n",
              "    var id = cell.output_area._bokeh_element_id;\n",
              "    var server_id = cell.output_area._bokeh_server_id;\n",
              "    // Clean up Bokeh references\n",
              "    if (id != null && id in Bokeh.index) {\n",
              "      Bokeh.index[id].model.document.clear();\n",
              "      delete Bokeh.index[id];\n",
              "    }\n",
              "\n",
              "    if (server_id !== undefined) {\n",
              "      // Clean up Bokeh references\n",
              "      var cmd = \"from bokeh.io.state import curstate; print(curstate().uuid_to_server['\" + server_id + \"'].get_sessions()[0].document.roots[0]._id)\";\n",
              "      cell.notebook.kernel.execute(cmd, {\n",
              "        iopub: {\n",
              "          output: function(msg) {\n",
              "            var id = msg.content.text.trim();\n",
              "            if (id in Bokeh.index) {\n",
              "              Bokeh.index[id].model.document.clear();\n",
              "              delete Bokeh.index[id];\n",
              "            }\n",
              "          }\n",
              "        }\n",
              "      });\n",
              "      // Destroy server and session\n",
              "      var cmd = \"import bokeh.io.notebook as ion; ion.destroy_server('\" + server_id + \"')\";\n",
              "      cell.notebook.kernel.execute(cmd);\n",
              "    }\n",
              "  }\n",
              "\n",
              "  /**\n",
              "   * Handle when a new output is added\n",
              "   */\n",
              "  function handleAddOutput(event, handle) {\n",
              "    var output_area = handle.output_area;\n",
              "    var output = handle.output;\n",
              "\n",
              "    // limit handleAddOutput to display_data with EXEC_MIME_TYPE content only\n",
              "    if ((output.output_type != \"display_data\") || (!output.data.hasOwnProperty(EXEC_MIME_TYPE))) {\n",
              "      return\n",
              "    }\n",
              "\n",
              "    var toinsert = output_area.element.find(\".\" + CLASS_NAME.split(' ')[0]);\n",
              "\n",
              "    if (output.metadata[EXEC_MIME_TYPE][\"id\"] !== undefined) {\n",
              "      toinsert[toinsert.length - 1].firstChild.textContent = output.data[JS_MIME_TYPE];\n",
              "      // store reference to embed id on output_area\n",
              "      output_area._bokeh_element_id = output.metadata[EXEC_MIME_TYPE][\"id\"];\n",
              "    }\n",
              "    if (output.metadata[EXEC_MIME_TYPE][\"server_id\"] !== undefined) {\n",
              "      var bk_div = document.createElement(\"div\");\n",
              "      bk_div.innerHTML = output.data[HTML_MIME_TYPE];\n",
              "      var script_attrs = bk_div.children[0].attributes;\n",
              "      for (var i = 0; i < script_attrs.length; i++) {\n",
              "        toinsert[toinsert.length - 1].firstChild.setAttribute(script_attrs[i].name, script_attrs[i].value);\n",
              "      }\n",
              "      // store reference to server id on output_area\n",
              "      output_area._bokeh_server_id = output.metadata[EXEC_MIME_TYPE][\"server_id\"];\n",
              "    }\n",
              "  }\n",
              "\n",
              "  function register_renderer(events, OutputArea) {\n",
              "\n",
              "    function append_mime(data, metadata, element) {\n",
              "      // create a DOM node to render to\n",
              "      var toinsert = this.create_output_subarea(\n",
              "        metadata,\n",
              "        CLASS_NAME,\n",
              "        EXEC_MIME_TYPE\n",
              "      );\n",
              "      this.keyboard_manager.register_events(toinsert);\n",
              "      // Render to node\n",
              "      var props = {data: data, metadata: metadata[EXEC_MIME_TYPE]};\n",
              "      render(props, toinsert[toinsert.length - 1]);\n",
              "      element.append(toinsert);\n",
              "      return toinsert\n",
              "    }\n",
              "\n",
              "    /* Handle when an output is cleared or removed */\n",
              "    events.on('clear_output.CodeCell', handleClearOutput);\n",
              "    events.on('delete.Cell', handleClearOutput);\n",
              "\n",
              "    /* Handle when a new output is added */\n",
              "    events.on('output_added.OutputArea', handleAddOutput);\n",
              "\n",
              "    /**\n",
              "     * Register the mime type and append_mime function with output_area\n",
              "     */\n",
              "    OutputArea.prototype.register_mime_type(EXEC_MIME_TYPE, append_mime, {\n",
              "      /* Is output safe? */\n",
              "      safe: true,\n",
              "      /* Index of renderer in `output_area.display_order` */\n",
              "      index: 0\n",
              "    });\n",
              "  }\n",
              "\n",
              "  // register the mime type if in Jupyter Notebook environment and previously unregistered\n",
              "  if (root.Jupyter !== undefined) {\n",
              "    var events = require('base/js/events');\n",
              "    var OutputArea = require('notebook/js/outputarea').OutputArea;\n",
              "\n",
              "    if (OutputArea.prototype.mime_types().indexOf(EXEC_MIME_TYPE) == -1) {\n",
              "      register_renderer(events, OutputArea);\n",
              "    }\n",
              "  }\n",
              "\n",
              "  \n",
              "  if (typeof (root._bokeh_timeout) === \"undefined\" || force === true) {\n",
              "    root._bokeh_timeout = Date.now() + 5000;\n",
              "    root._bokeh_failed_load = false;\n",
              "  }\n",
              "\n",
              "  var NB_LOAD_WARNING = {'data': {'text/html':\n",
              "     \"<div style='background-color: #fdd'>\\n\"+\n",
              "     \"<p>\\n\"+\n",
              "     \"BokehJS does not appear to have successfully loaded. If loading BokehJS from CDN, this \\n\"+\n",
              "     \"may be due to a slow or bad network connection. Possible fixes:\\n\"+\n",
              "     \"</p>\\n\"+\n",
              "     \"<ul>\\n\"+\n",
              "     \"<li>re-rerun `output_notebook()` to attempt to load from CDN again, or</li>\\n\"+\n",
              "     \"<li>use INLINE resources instead, as so:</li>\\n\"+\n",
              "     \"</ul>\\n\"+\n",
              "     \"<code>\\n\"+\n",
              "     \"from bokeh.resources import INLINE\\n\"+\n",
              "     \"output_notebook(resources=INLINE)\\n\"+\n",
              "     \"</code>\\n\"+\n",
              "     \"</div>\"}};\n",
              "\n",
              "  function display_loaded() {\n",
              "    var el = document.getElementById(null);\n",
              "    if (el != null) {\n",
              "      el.textContent = \"BokehJS is loading...\";\n",
              "    }\n",
              "    if (root.Bokeh !== undefined) {\n",
              "      if (el != null) {\n",
              "        el.textContent = \"BokehJS \" + root.Bokeh.version + \" successfully loaded.\";\n",
              "      }\n",
              "    } else if (Date.now() < root._bokeh_timeout) {\n",
              "      setTimeout(display_loaded, 100)\n",
              "    }\n",
              "  }\n",
              "\n",
              "\n",
              "  function run_callbacks() {\n",
              "    try {\n",
              "      root._bokeh_onload_callbacks.forEach(function(callback) {\n",
              "        if (callback != null)\n",
              "          callback();\n",
              "      });\n",
              "    } finally {\n",
              "      delete root._bokeh_onload_callbacks\n",
              "    }\n",
              "    console.debug(\"Bokeh: all callbacks have finished\");\n",
              "  }\n",
              "\n",
              "  function load_libs(css_urls, js_urls, callback) {\n",
              "    if (css_urls == null) css_urls = [];\n",
              "    if (js_urls == null) js_urls = [];\n",
              "\n",
              "    root._bokeh_onload_callbacks.push(callback);\n",
              "    if (root._bokeh_is_loading > 0) {\n",
              "      console.debug(\"Bokeh: BokehJS is being loaded, scheduling callback at\", now());\n",
              "      return null;\n",
              "    }\n",
              "    if (js_urls == null || js_urls.length === 0) {\n",
              "      run_callbacks();\n",
              "      return null;\n",
              "    }\n",
              "    console.debug(\"Bokeh: BokehJS not loaded, scheduling load and callback at\", now());\n",
              "    root._bokeh_is_loading = css_urls.length + js_urls.length;\n",
              "\n",
              "    function on_load() {\n",
              "      root._bokeh_is_loading--;\n",
              "      if (root._bokeh_is_loading === 0) {\n",
              "        console.debug(\"Bokeh: all BokehJS libraries/stylesheets loaded\");\n",
              "        run_callbacks()\n",
              "      }\n",
              "    }\n",
              "\n",
              "    function on_error() {\n",
              "      console.error(\"failed to load \" + url);\n",
              "    }\n",
              "\n",
              "    for (var i = 0; i < css_urls.length; i++) {\n",
              "      var url = css_urls[i];\n",
              "      const element = document.createElement(\"link\");\n",
              "      element.onload = on_load;\n",
              "      element.onerror = on_error;\n",
              "      element.rel = \"stylesheet\";\n",
              "      element.type = \"text/css\";\n",
              "      element.href = url;\n",
              "      console.debug(\"Bokeh: injecting link tag for BokehJS stylesheet: \", url);\n",
              "      document.body.appendChild(element);\n",
              "    }\n",
              "\n",
              "    for (var i = 0; i < js_urls.length; i++) {\n",
              "      var url = js_urls[i];\n",
              "      var element = document.createElement('script');\n",
              "      element.onload = on_load;\n",
              "      element.onerror = on_error;\n",
              "      element.async = false;\n",
              "      element.src = url;\n",
              "      console.debug(\"Bokeh: injecting script tag for BokehJS library: \", url);\n",
              "      document.head.appendChild(element);\n",
              "    }\n",
              "  };\n",
              "\n",
              "  function inject_raw_css(css) {\n",
              "    const element = document.createElement(\"style\");\n",
              "    element.appendChild(document.createTextNode(css));\n",
              "    document.body.appendChild(element);\n",
              "  }\n",
              "\n",
              "  \n",
              "  var js_urls = [\"https://cdn.pydata.org/bokeh/release/bokeh-1.4.0.min.js\", \"https://cdn.pydata.org/bokeh/release/bokeh-widgets-1.4.0.min.js\", \"https://cdn.pydata.org/bokeh/release/bokeh-tables-1.4.0.min.js\", \"https://cdn.pydata.org/bokeh/release/bokeh-gl-1.4.0.min.js\"];\n",
              "  var css_urls = [];\n",
              "  \n",
              "\n",
              "  var inline_js = [\n",
              "    function(Bokeh) {\n",
              "      Bokeh.set_log_level(\"info\");\n",
              "    },\n",
              "    function(Bokeh) {\n",
              "    \n",
              "    \n",
              "    }\n",
              "  ];\n",
              "\n",
              "  function run_inline_js() {\n",
              "    \n",
              "    if (root.Bokeh !== undefined || force === true) {\n",
              "      \n",
              "    for (var i = 0; i < inline_js.length; i++) {\n",
              "      inline_js[i].call(root, root.Bokeh);\n",
              "    }\n",
              "    } else if (Date.now() < root._bokeh_timeout) {\n",
              "      setTimeout(run_inline_js, 100);\n",
              "    } else if (!root._bokeh_failed_load) {\n",
              "      console.log(\"Bokeh: BokehJS failed to load within specified timeout.\");\n",
              "      root._bokeh_failed_load = true;\n",
              "    } else if (force !== true) {\n",
              "      var cell = $(document.getElementById(null)).parents('.cell').data().cell;\n",
              "      cell.output_area.append_execute_result(NB_LOAD_WARNING)\n",
              "    }\n",
              "\n",
              "  }\n",
              "\n",
              "  if (root._bokeh_is_loading === 0) {\n",
              "    console.debug(\"Bokeh: BokehJS loaded, going straight to plotting\");\n",
              "    run_inline_js();\n",
              "  } else {\n",
              "    load_libs(css_urls, js_urls, function() {\n",
              "      console.debug(\"Bokeh: BokehJS plotting callback run at\", now());\n",
              "      run_inline_js();\n",
              "    });\n",
              "  }\n",
              "}(window));"
            ],
            "application/vnd.bokehjs_load.v0+json": "\n(function(root) {\n  function now() {\n    return new Date();\n  }\n\n  var force = true;\n\n  if (typeof root._bokeh_onload_callbacks === \"undefined\" || force === true) {\n    root._bokeh_onload_callbacks = [];\n    root._bokeh_is_loading = undefined;\n  }\n\n  \n\n  \n  if (typeof (root._bokeh_timeout) === \"undefined\" || force === true) {\n    root._bokeh_timeout = Date.now() + 5000;\n    root._bokeh_failed_load = false;\n  }\n\n  var NB_LOAD_WARNING = {'data': {'text/html':\n     \"<div style='background-color: #fdd'>\\n\"+\n     \"<p>\\n\"+\n     \"BokehJS does not appear to have successfully loaded. If loading BokehJS from CDN, this \\n\"+\n     \"may be due to a slow or bad network connection. Possible fixes:\\n\"+\n     \"</p>\\n\"+\n     \"<ul>\\n\"+\n     \"<li>re-rerun `output_notebook()` to attempt to load from CDN again, or</li>\\n\"+\n     \"<li>use INLINE resources instead, as so:</li>\\n\"+\n     \"</ul>\\n\"+\n     \"<code>\\n\"+\n     \"from bokeh.resources import INLINE\\n\"+\n     \"output_notebook(resources=INLINE)\\n\"+\n     \"</code>\\n\"+\n     \"</div>\"}};\n\n  function display_loaded() {\n    var el = document.getElementById(null);\n    if (el != null) {\n      el.textContent = \"BokehJS is loading...\";\n    }\n    if (root.Bokeh !== undefined) {\n      if (el != null) {\n        el.textContent = \"BokehJS \" + root.Bokeh.version + \" successfully loaded.\";\n      }\n    } else if (Date.now() < root._bokeh_timeout) {\n      setTimeout(display_loaded, 100)\n    }\n  }\n\n\n  function run_callbacks() {\n    try {\n      root._bokeh_onload_callbacks.forEach(function(callback) {\n        if (callback != null)\n          callback();\n      });\n    } finally {\n      delete root._bokeh_onload_callbacks\n    }\n    console.debug(\"Bokeh: all callbacks have finished\");\n  }\n\n  function load_libs(css_urls, js_urls, callback) {\n    if (css_urls == null) css_urls = [];\n    if (js_urls == null) js_urls = [];\n\n    root._bokeh_onload_callbacks.push(callback);\n    if (root._bokeh_is_loading > 0) {\n      console.debug(\"Bokeh: BokehJS is being loaded, scheduling callback at\", now());\n      return null;\n    }\n    if (js_urls == null || js_urls.length === 0) {\n      run_callbacks();\n      return null;\n    }\n    console.debug(\"Bokeh: BokehJS not loaded, scheduling load and callback at\", now());\n    root._bokeh_is_loading = css_urls.length + js_urls.length;\n\n    function on_load() {\n      root._bokeh_is_loading--;\n      if (root._bokeh_is_loading === 0) {\n        console.debug(\"Bokeh: all BokehJS libraries/stylesheets loaded\");\n        run_callbacks()\n      }\n    }\n\n    function on_error() {\n      console.error(\"failed to load \" + url);\n    }\n\n    for (var i = 0; i < css_urls.length; i++) {\n      var url = css_urls[i];\n      const element = document.createElement(\"link\");\n      element.onload = on_load;\n      element.onerror = on_error;\n      element.rel = \"stylesheet\";\n      element.type = \"text/css\";\n      element.href = url;\n      console.debug(\"Bokeh: injecting link tag for BokehJS stylesheet: \", url);\n      document.body.appendChild(element);\n    }\n\n    for (var i = 0; i < js_urls.length; i++) {\n      var url = js_urls[i];\n      var element = document.createElement('script');\n      element.onload = on_load;\n      element.onerror = on_error;\n      element.async = false;\n      element.src = url;\n      console.debug(\"Bokeh: injecting script tag for BokehJS library: \", url);\n      document.head.appendChild(element);\n    }\n  };\n\n  function inject_raw_css(css) {\n    const element = document.createElement(\"style\");\n    element.appendChild(document.createTextNode(css));\n    document.body.appendChild(element);\n  }\n\n  \n  var js_urls = [\"https://cdn.pydata.org/bokeh/release/bokeh-1.4.0.min.js\", \"https://cdn.pydata.org/bokeh/release/bokeh-widgets-1.4.0.min.js\", \"https://cdn.pydata.org/bokeh/release/bokeh-tables-1.4.0.min.js\", \"https://cdn.pydata.org/bokeh/release/bokeh-gl-1.4.0.min.js\"];\n  var css_urls = [];\n  \n\n  var inline_js = [\n    function(Bokeh) {\n      Bokeh.set_log_level(\"info\");\n    },\n    function(Bokeh) {\n    \n    \n    }\n  ];\n\n  function run_inline_js() {\n    \n    if (root.Bokeh !== undefined || force === true) {\n      \n    for (var i = 0; i < inline_js.length; i++) {\n      inline_js[i].call(root, root.Bokeh);\n    }\n    } else if (Date.now() < root._bokeh_timeout) {\n      setTimeout(run_inline_js, 100);\n    } else if (!root._bokeh_failed_load) {\n      console.log(\"Bokeh: BokehJS failed to load within specified timeout.\");\n      root._bokeh_failed_load = true;\n    } else if (force !== true) {\n      var cell = $(document.getElementById(null)).parents('.cell').data().cell;\n      cell.output_area.append_execute_result(NB_LOAD_WARNING)\n    }\n\n  }\n\n  if (root._bokeh_is_loading === 0) {\n    console.debug(\"Bokeh: BokehJS loaded, going straight to plotting\");\n    run_inline_js();\n  } else {\n    load_libs(css_urls, js_urls, function() {\n      console.debug(\"Bokeh: BokehJS plotting callback run at\", now());\n      run_inline_js();\n    });\n  }\n}(window));"
          },
          "metadata": {
            "tags": []
          }
        },
        {
          "output_type": "display_data",
          "data": {
            "text/html": [
              "\n",
              "\n",
              "\n",
              "\n",
              "\n",
              "\n",
              "  <div class=\"bk-root\" id=\"648675f9-7467-4a77-b445-bbd97e4a19d7\" data-root-id=\"1109\"></div>\n"
            ]
          },
          "metadata": {
            "tags": []
          }
        },
        {
          "output_type": "display_data",
          "data": {
            "application/javascript": [
              "(function(root) {\n",
              "  function embed_document(root) {\n",
              "    \n",
              "  var docs_json = {\"94a955d0-e69f-4719-96b4-996ef08a2d46\":{\"roots\":{\"references\":[{\"attributes\":{\"below\":[{\"id\":\"1118\",\"type\":\"LinearAxis\"}],\"center\":[{\"id\":\"1122\",\"type\":\"Grid\"},{\"id\":\"1127\",\"type\":\"Grid\"}],\"left\":[{\"id\":\"1123\",\"type\":\"LinearAxis\"}],\"plot_height\":400,\"renderers\":[{\"id\":\"1144\",\"type\":\"GlyphRenderer\"}],\"title\":{\"id\":\"1158\",\"type\":\"Title\"},\"toolbar\":{\"id\":\"1134\",\"type\":\"Toolbar\"},\"x_range\":{\"id\":\"1110\",\"type\":\"DataRange1d\"},\"x_scale\":{\"id\":\"1114\",\"type\":\"LinearScale\"},\"y_range\":{\"id\":\"1112\",\"type\":\"DataRange1d\"},\"y_scale\":{\"id\":\"1116\",\"type\":\"LinearScale\"}},\"id\":\"1109\",\"subtype\":\"Figure\",\"type\":\"Plot\"},{\"attributes\":{\"fill_alpha\":{\"value\":0.25},\"fill_color\":{\"field\":\"color\"},\"line_alpha\":{\"value\":0.25},\"line_color\":{\"field\":\"color\"},\"size\":{\"units\":\"screen\",\"value\":10},\"x\":{\"field\":\"x\"},\"y\":{\"field\":\"y\"}},\"id\":\"1142\",\"type\":\"Scatter\"},{\"attributes\":{},\"id\":\"1165\",\"type\":\"Selection\"},{\"attributes\":{\"callback\":null},\"id\":\"1112\",\"type\":\"DataRange1d\"},{\"attributes\":{\"active_drag\":\"auto\",\"active_inspect\":\"auto\",\"active_multi\":null,\"active_scroll\":{\"id\":\"1129\",\"type\":\"WheelZoomTool\"},\"active_tap\":\"auto\",\"tools\":[{\"id\":\"1128\",\"type\":\"PanTool\"},{\"id\":\"1129\",\"type\":\"WheelZoomTool\"},{\"id\":\"1130\",\"type\":\"BoxZoomTool\"},{\"id\":\"1131\",\"type\":\"SaveTool\"},{\"id\":\"1132\",\"type\":\"ResetTool\"},{\"id\":\"1133\",\"type\":\"HelpTool\"},{\"id\":\"1146\",\"type\":\"HoverTool\"}]},\"id\":\"1134\",\"type\":\"Toolbar\"},{\"attributes\":{},\"id\":\"1114\",\"type\":\"LinearScale\"},{\"attributes\":{},\"id\":\"1128\",\"type\":\"PanTool\"},{\"attributes\":{\"formatter\":{\"id\":\"1161\",\"type\":\"BasicTickFormatter\"},\"ticker\":{\"id\":\"1119\",\"type\":\"BasicTicker\"}},\"id\":\"1118\",\"type\":\"LinearAxis\"},{\"attributes\":{},\"id\":\"1129\",\"type\":\"WheelZoomTool\"},{\"attributes\":{\"overlay\":{\"id\":\"1163\",\"type\":\"BoxAnnotation\"}},\"id\":\"1130\",\"type\":\"BoxZoomTool\"},{\"attributes\":{},\"id\":\"1131\",\"type\":\"SaveTool\"},{\"attributes\":{},\"id\":\"1132\",\"type\":\"ResetTool\"},{\"attributes\":{},\"id\":\"1116\",\"type\":\"LinearScale\"},{\"attributes\":{},\"id\":\"1133\",\"type\":\"HelpTool\"},{\"attributes\":{\"data_source\":{\"id\":\"1108\",\"type\":\"ColumnDataSource\"},\"glyph\":{\"id\":\"1142\",\"type\":\"Scatter\"},\"hover_glyph\":null,\"muted_glyph\":null,\"nonselection_glyph\":{\"id\":\"1143\",\"type\":\"Scatter\"},\"selection_glyph\":null,\"view\":{\"id\":\"1145\",\"type\":\"CDSView\"}},\"id\":\"1144\",\"type\":\"GlyphRenderer\"},{\"attributes\":{\"source\":{\"id\":\"1108\",\"type\":\"ColumnDataSource\"}},\"id\":\"1145\",\"type\":\"CDSView\"},{\"attributes\":{\"callback\":null,\"data\":{\"color\":[\"green\",\"green\",\"green\",\"green\",\"green\",\"green\",\"green\",\"green\",\"green\",\"green\",\"green\",\"green\",\"green\",\"green\",\"green\",\"green\",\"green\",\"green\",\"green\",\"green\",\"green\",\"green\",\"green\",\"green\",\"green\",\"green\",\"green\",\"green\",\"green\",\"green\",\"green\",\"green\",\"green\",\"green\",\"green\",\"green\",\"green\",\"green\",\"green\",\"green\",\"green\",\"green\",\"green\",\"green\",\"green\",\"green\",\"green\",\"green\",\"green\",\"green\",\"green\",\"green\",\"green\",\"green\",\"green\",\"green\",\"green\",\"green\",\"green\",\"green\",\"green\",\"green\",\"green\",\"green\",\"green\",\"green\",\"green\",\"green\",\"green\",\"green\",\"green\",\"green\",\"green\",\"green\",\"green\",\"green\",\"green\",\"green\",\"green\",\"green\",\"green\",\"green\",\"green\",\"green\",\"green\",\"green\",\"green\",\"green\",\"green\",\"green\",\"green\",\"green\",\"green\",\"green\",\"green\",\"green\",\"green\",\"green\",\"green\",\"green\"],\"token\":[\"UNK\",\"the\",\"of\",\"and\",\"one\",\"in\",\"a\",\"to\",\"zero\",\"nine\",\"two\",\"is\",\"as\",\"eight\",\"for\",\"s\",\"five\",\"three\",\"was\",\"by\",\"that\",\"four\",\"six\",\"seven\",\"with\",\"on\",\"are\",\"it\",\"from\",\"or\",\"his\",\"an\",\"be\",\"this\",\"which\",\"at\",\"he\",\"also\",\"not\",\"have\",\"were\",\"has\",\"but\",\"other\",\"their\",\"its\",\"first\",\"they\",\"some\",\"had\",\"all\",\"more\",\"most\",\"can\",\"been\",\"such\",\"many\",\"who\",\"new\",\"used\",\"there\",\"after\",\"when\",\"into\",\"american\",\"time\",\"these\",\"only\",\"see\",\"may\",\"than\",\"world\",\"i\",\"b\",\"would\",\"d\",\"no\",\"however\",\"between\",\"about\",\"over\",\"years\",\"states\",\"people\",\"war\",\"during\",\"united\",\"known\",\"if\",\"called\",\"use\",\"th\",\"system\",\"often\",\"state\",\"so\",\"history\",\"will\",\"up\",\"while\",\"where\",\"city\",\"being\",\"english\",\"then\",\"any\",\"both\",\"under\",\"out\",\"made\",\"well\",\"her\",\"e\",\"number\",\"government\",\"them\",\"m\",\"later\",\"since\",\"him\",\"part\",\"name\",\"c\",\"century\",\"through\",\"because\",\"x\",\"university\",\"early\",\"life\",\"british\",\"year\",\"like\",\"same\",\"including\",\"became\",\"example\",\"day\",\"each\",\"even\",\"work\",\"language\",\"although\",\"several\",\"form\",\"john\",\"u\",\"national\",\"very\",\"much\",\"g\",\"french\",\"before\",\"general\",\"what\",\"t\",\"against\",\"n\",\"high\",\"links\",\"could\",\"based\",\"those\",\"now\",\"second\",\"de\",\"music\",\"another\",\"large\",\"she\",\"f\",\"external\",\"german\",\"different\",\"modern\",\"great\",\"do\",\"common\",\"set\",\"list\",\"south\",\"series\",\"major\",\"game\",\"power\",\"long\",\"country\",\"king\",\"law\",\"group\",\"film\",\"still\",\"until\",\"north\",\"international\",\"term\",\"we\",\"end\",\"book\",\"found\",\"own\",\"political\",\"party\",\"order\",\"usually\",\"president\",\"church\",\"you\",\"death\",\"theory\",\"area\",\"around\",\"include\",\"god\",\"ii\",\"way\",\"did\",\"military\",\"population\",\"using\",\"though\",\"small\",\"following\",\"within\",\"non\",\"human\",\"left\",\"main\",\"among\",\"point\",\"r\",\"due\",\"p\",\"considered\",\"public\",\"popular\",\"computer\",\"west\",\"family\",\"east\",\"information\",\"important\",\"european\",\"man\",\"sometimes\",\"right\",\"old\",\"free\",\"word\",\"without\",\"last\",\"us\",\"members\",\"given\",\"times\",\"roman\",\"make\",\"h\",\"age\",\"place\",\"l\",\"thus\",\"science\",\"case\",\"become\",\"systems\",\"union\",\"born\",\"york\",\"line\",\"countries\",\"does\",\"isbn\",\"st\",\"control\",\"various\",\"others\",\"house\",\"article\",\"island\",\"should\",\"led\",\"back\",\"period\",\"player\",\"europe\",\"languages\",\"central\",\"water\",\"few\",\"western\",\"home\",\"began\",\"generally\",\"less\",\"k\",\"similar\",\"written\",\"original\",\"best\",\"must\",\"according\",\"school\",\"france\",\"air\",\"single\",\"force\",\"v\",\"land\",\"groups\",\"down\",\"how\",\"works\",\"development\",\"official\",\"support\",\"england\",\"j\",\"rather\",\"data\",\"space\",\"greek\",\"km\",\"named\",\"germany\",\"just\",\"games\",\"said\",\"version\",\"late\",\"earth\",\"company\",\"every\",\"economic\",\"short\",\"published\",\"black\",\"army\",\"off\",\"london\",\"million\",\"body\",\"field\",\"christian\",\"either\",\"social\",\"empire\",\"o\",\"developed\",\"standard\",\"court\",\"service\",\"kingdom\",\"along\",\"college\",\"republic\",\"sea\",\"america\",\"today\",\"result\",\"held\",\"team\",\"light\",\"means\",\"never\",\"especially\",\"third\",\"further\",\"character\",\"forces\",\"take\",\"men\",\"society\",\"show\",\"open\",\"possible\",\"fact\",\"battle\",\"took\",\"former\",\"books\",\"soviet\",\"river\",\"children\",\"having\",\"good\",\"local\",\"current\",\"son\",\"process\",\"natural\",\"present\",\"himself\",\"islands\",\"total\",\"near\",\"white\",\"days\",\"person\",\"itself\",\"seen\",\"culture\",\"little\",\"above\",\"software\",\"largest\",\"words\",\"upon\",\"level\",\"father\",\"created\",\"side\",\"red\",\"references\",\"press\",\"full\",\"region\",\"almost\",\"image\",\"al\",\"famous\",\"play\",\"came\",\"role\",\"once\",\"certain\",\"league\",\"jewish\",\"james\",\"january\",\"site\",\"again\",\"numbers\",\"art\",\"member\",\"areas\",\"movement\",\"religious\",\"type\",\"march\",\"community\",\"story\",\"played\",\"production\",\"released\",\"center\",\"rights\",\"real\",\"related\",\"foreign\",\"low\",\"ancient\",\"terms\",\"view\",\"source\",\"act\",\"minister\",\"change\",\"energy\",\"produced\",\"research\",\"actor\",\"making\",\"civil\",\"december\",\"women\",\"special\",\"style\",\"william\",\"design\",\"japanese\",\"available\",\"chinese\",\"forms\",\"canada\",\"northern\",\"died\",\"class\",\"living\",\"next\",\"particular\",\"program\",\"council\",\"television\",\"head\",\"david\",\"china\",\"middle\",\"established\",\"hand\",\"bc\",\"far\",\"july\",\"function\",\"position\",\"y\",\"built\",\"george\",\"band\",\"together\",\"w\",\"latin\",\"thought\",\"eastern\",\"charles\",\"parts\",\"instead\",\"study\",\"might\",\"india\",\"code\",\"included\",\"meaning\",\"trade\",\"per\",\"june\",\"least\",\"half\",\"model\",\"economy\",\"prime\",\"traditional\",\"always\",\"capital\",\"range\",\"november\",\"emperor\",\"young\",\"anti\",\"final\",\"text\",\"players\",\"uk\",\"april\",\"run\",\"september\",\"addition\",\"radio\",\"live\",\"august\",\"taken\",\"note\",\"italian\",\"lost\",\"nature\",\"project\",\"technology\",\"spanish\",\"october\",\"recent\",\"rate\",\"won\",\"true\",\"value\",\"uses\",\"russian\",\"est\",\"wrote\",\"effect\",\"album\",\"southern\",\"africa\",\"whose\",\"top\",\"historical\",\"australia\",\"catholic\",\"particularly\",\"self\",\"structure\",\"record\",\"evidence\",\"rule\",\"themselves\",\"influence\",\"cases\",\"subject\",\"referred\",\"continued\",\"nations\",\"below\",\"rock\",\"japan\",\"com\",\"song\",\"throughout\",\"names\",\"female\",\"title\",\"therefore\",\"our\",\"office\",\"star\",\"paul\",\"too\",\"cities\",\"february\",\"independent\",\"author\",\"problem\",\"species\",\"education\",\"done\",\"philosophy\",\"come\",\"higher\",\"originally\",\"market\",\"town\",\"my\",\"season\",\"love\",\"strong\",\"israel\",\"irish\",\"writer\",\"films\",\"elements\",\"robert\",\"whether\",\"despite\",\"eventually\",\"here\",\"football\",\"action\",\"internet\",\"individual\",\"sound\",\"network\",\"described\",\"practice\",\"characters\",\"re\",\"royal\",\"la\",\"events\",\"formed\",\"commonly\",\"base\",\"received\",\"african\",\"problems\",\"food\",\"jews\",\"able\",\"male\",\"typically\",\"mass\",\"complex\",\"lower\",\"includes\",\"outside\",\"legal\",\"complete\",\"significant\",\"parliament\",\"actually\",\"business\",\"fiction\",\"physical\",\"followed\",\"deaths\",\"key\",\"leader\",\"widely\",\"page\",\"basic\",\"types\",\"henry\",\"elected\",\"beginning\",\"fire\",\"building\",\"independence\",\"went\",\"movie\",\"aircraft\",\"ever\",\"canadian\",\"material\",\"births\",\"video\",\"news\",\"future\",\"scientific\",\"simply\",\"go\",\"defined\",\"laws\",\"get\",\"close\",\"industry\",\"specific\",\"examples\",\"believe\",\"services\",\"idea\",\"method\",\"introduced\",\"points\",\"return\",\"cause\",\"indian\",\"britain\",\"features\",\"majority\",\"size\",\"post\",\"lead\",\"organization\",\"cannot\",\"designed\",\"ireland\",\"cross\",\"classical\",\"personal\",\"writing\",\"concept\",\"associated\",\"required\",\"soon\",\"changes\",\"california\",\"located\",\"sense\",\"believed\",\"away\",\"started\",\"co\",\"religion\",\"mother\",\"county\",\"rules\",\"studies\",\"yet\",\"find\",\"knowledge\",\"put\",\"founded\",\"policy\",\"currently\",\"provide\",\"working\",\"media\",\"election\",\"australian\",\"me\",\"thomas\",\"allowed\",\"russia\",\"earlier\",\"greater\",\"limited\",\"object\",\"brought\",\"online\",\"association\",\"lord\",\"mostly\",\"blue\",\"constitution\",\"across\",\"added\",\"interest\",\"things\",\"relations\",\"speed\",\"federal\",\"singer\",\"effects\",\"growth\",\"sources\",\"your\",\"remains\",\"z\",\"probably\",\"gave\",\"simple\",\"attack\",\"longer\",\"reference\",\"saint\",\"success\",\"killed\",\"past\",\"career\",\"need\",\"park\",\"definition\",\"say\",\"etc\",\"give\",\"peace\",\"chief\",\"stories\",\"security\",\"wide\",\"ball\",\"saw\",\"machine\",\"better\",\"cell\",\"leading\",\"becomes\",\"spain\",\"larger\",\"products\",\"parties\",\"night\",\"remained\",\"prize\",\"months\",\"website\",\"big\",\"cultural\",\"money\",\"help\",\"territory\",\"private\",\"moved\",\"letter\",\"wife\",\"politics\",\"lines\",\"largely\",\"contains\",\"companies\",\"lake\",\"perhaps\",\"green\",\"already\",\"dead\",\"iii\",\"library\",\"separate\",\"refer\",\"makes\",\"appeared\",\"dutch\",\"holy\",\"era\",\"novel\",\"successful\",\"italy\",\"letters\",\"results\",\"matter\",\"produce\",\"origin\",\"claim\",\"whole\",\"directly\",\"attempt\",\"actress\",\"surface\",\"revolution\",\"highly\",\"caused\",\"status\",\"musical\",\"richard\",\"commercial\",\"division\",\"color\",\"health\",\"coast\",\"release\",\"latter\",\"authority\",\"treaty\",\"turn\",\"michael\",\"nation\",\"direct\",\"asia\",\"edition\",\"programming\",\"playing\",\"date\",\"mary\",\"native\",\"whom\",\"married\",\"towards\",\"issues\",\"double\",\"primary\",\"basis\",\"allow\",\"enough\",\"memory\",\"reason\",\"web\",\"exist\",\"provided\",\"oil\",\"course\",\"functions\",\"alexander\",\"analysis\",\"chemical\",\"mid\",\"replaced\",\"queen\",\"claims\",\"tv\",\"sun\",\"literature\",\"metal\",\"amount\",\"divided\",\"blood\",\"likely\",\"access\",\"average\",\"length\",\"smaller\",\"medical\",\"property\",\"students\",\"degree\",\"elections\",\"club\",\"claimed\",\"performance\",\"director\",\"digital\",\"front\",\"museum\",\"difficult\",\"tradition\",\"nearly\",\"schools\",\"washington\",\"gas\",\"jesus\",\"map\",\"louis\",\"rome\",\"unit\",\"baseball\",\"mind\",\"peter\",\"mark\",\"collection\",\"product\",\"congress\",\"programs\",\"changed\",\"ideas\",\"moon\",\"entire\",\"user\",\"ground\",\"records\",\"frequently\",\"increase\",\"highest\",\"sent\",\"finally\",\"board\",\"don\",\"notable\",\"read\",\"methods\",\"recently\",\"bit\",\"involved\",\"variety\",\"call\",\"democratic\",\"ten\",\"served\",\"minor\",\"hard\",\"birth\",\"objects\",\"nuclear\",\"increased\",\"section\",\"street\",\"windows\",\"relatively\",\"car\",\"move\",\"create\",\"returned\",\"bank\",\"conditions\",\"operation\",\"adopted\",\"relationship\",\"christ\",\"hall\",\"appear\",\"rest\",\"child\",\"element\",\"appears\",\"takes\",\"fall\",\"bbc\",\"animals\",\"existence\",\"discovered\",\"units\",\"know\",\"heavy\",\"assembly\",\"universe\",\"file\",\"smith\",\"numerous\",\"woman\",\"award\",\"mean\",\"behind\",\"liberal\",\"except\",\"scale\",\"bill\",\"operating\",\"active\",\"construction\",\"institute\",\"taking\",\"pressure\",\"san\",\"experience\",\"account\",\"engine\",\"brother\",\"primarily\",\"recorded\",\"joseph\",\"issue\",\"professional\",\"troops\",\"notes\",\"pope\",\"centre\",\"ice\",\"orthodox\",\"question\",\"something\",\"defense\",\"accepted\",\"grand\",\"mathematics\",\"event\",\"resources\",\"dr\",\"egypt\",\"derived\",\"applied\",\"paris\",\"powers\",\"running\",\"stage\",\"additional\",\"shows\",\"prince\",\"placed\",\"instance\",\"creation\",\"lived\",\"freedom\",\"alternative\",\"http\",\"hit\",\"magazine\",\"nobel\",\"engineering\",\"square\",\"mainly\",\"rise\",\"hold\",\"gold\",\"pre\",\"versions\",\"road\",\"report\",\"test\",\"operations\",\"frac\",\"older\",\"arts\",\"quite\",\"applications\",\"marriage\",\"proposed\",\"channel\",\"shown\",\"consists\",\"bible\",\"governor\",\"police\",\"articles\",\"ocean\",\"cost\",\"writers\",\"volume\",\"previous\",\"race\",\"cells\",\"scotland\",\"levels\",\"regions\",\"quickly\",\"properties\",\"duke\",\"normal\",\"techniques\",\"start\",\"songs\",\"ways\",\"introduction\",\"ability\",\"communist\",\"passed\",\"navy\",\"purpose\",\"approximately\",\"composer\",\"equal\",\"appointed\",\"committee\",\"ed\",\"centuries\",\"table\",\"forced\",\"lack\",\"individuals\",\"places\",\"chicago\",\"belief\",\"consider\",\"hebrew\",\"refers\",\"clear\",\"values\",\"dance\",\"agreement\",\"response\",\"temperature\",\"sexual\",\"comes\",\"faith\",\"environment\",\"paper\",\"climate\",\"carbon\",\"daughter\",\"electric\",\"www\",\"station\",\"ad\",\"speech\",\"sex\",\"ship\",\"evolution\",\"martin\",\"microsoft\",\"noted\",\"usa\",\"supported\",\"via\",\"industrial\",\"border\",\"feature\",\"christianity\",\"treatment\",\"motion\",\"management\",\"computers\",\"performed\",\"summer\",\"necessary\",\"intended\",\"miles\",\"calendar\",\"animal\",\"remain\",\"internal\",\"disease\",\"convention\",\"wars\",\"worked\",\"flight\",\"round\",\"acts\",\"kind\",\"multiple\",\"reading\",\"labour\",\"physics\",\"speaking\",\"users\",\"signed\",\"brown\",\"critical\",\"sir\",\"bridge\",\"mathematical\",\"billion\",\"sets\",\"translation\",\"regarded\",\"branch\",\"beyond\",\"von\",\"medicine\",\"ethnic\",\"polish\",\"write\",\"reached\",\"location\",\"conflict\",\"province\",\"sold\",\"remaining\",\"apple\",\"financial\",\"provides\",\"approach\",\"notably\",\"am\",\"administration\",\"heart\",\"stars\",\"campaign\",\"figure\",\"joined\",\"distribution\",\"theories\",\"port\",\"cut\",\"command\",\"tree\",\"models\",\"influenced\",\"distance\",\"conservative\",\"direction\",\"kings\",\"district\",\"why\",\"intelligence\",\"greece\",\"face\",\"q\",\"leaders\",\"cold\",\"guide\",\"activity\",\"humans\",\"opposition\",\"previously\",\"executive\",\"labor\",\"poor\",\"quality\",\"needed\",\"symbol\",\"logic\",\"extremely\",\"completely\",\"jean\",\"loss\",\"plan\",\"regular\",\"pacific\",\"vote\",\"contemporary\",\"allows\",\"department\",\"advanced\",\"edward\",\"occur\",\"powerful\",\"secret\",\"acid\",\"actual\",\"reported\",\"content\",\"unique\",\"gives\",\"poet\",\"context\",\"iron\",\"stated\",\"cover\",\"becoming\",\"poland\",\"justice\",\"prior\",\"fourth\",\"critics\",\"turned\",\"difference\",\"met\",\"weapons\",\"dark\",\"foundation\",\"na\",\"standards\",\"episode\",\"electronic\",\"address\",\"greatest\",\"musician\",\"usage\",\"fields\",\"featured\",\"training\",\"net\",\"scholars\",\"regional\",\"hours\",\"application\",\"inside\",\"unlike\",\"formal\",\"nd\",\"win\",\"describe\",\"ships\",\"sports\",\"churches\",\"resulting\",\"moving\",\"arabic\",\"et\",\"netherlands\",\"carried\",\"exchange\",\"failed\",\"reasons\",\"brain\",\"month\",\"shot\",\"continue\",\"responsible\",\"nor\",\"going\",\"format\",\"spread\",\"opposed\",\"org\",\"universal\",\"supreme\",\"scottish\",\"mexico\",\"architecture\",\"starting\",\"somewhat\",\"decision\",\"islamic\",\"argument\",\"oxford\",\"berlin\",\"activities\",\"keep\",\"views\",\"materials\",\"spoken\",\"biography\",\"potential\",\"technical\",\"pass\",\"kong\",\"follows\",\"declared\",\"attempts\",\"voice\",\"hands\",\"transport\",\"spirit\",\"indeed\",\"artist\",\"deal\",\"generation\",\"contain\",\"constant\",\"heat\",\"charge\",\"composed\",\"growing\",\"ended\",\"appearance\",\"cambridge\",\"geography\",\"represented\",\"le\",\"flag\",\"encyclopedia\",\"increasing\",\"possibly\",\"families\",\"seems\",\"el\",\"friends\",\"mission\",\"los\",\"dna\",\"upper\",\"look\",\"stations\",\"easily\",\"card\",\"principle\",\"academy\",\"identity\",\"equipment\",\"armed\",\"giving\",\"arab\",\"die\",\"global\",\"master\",\"christians\",\"extended\",\"announced\",\"reform\",\"positive\",\"comic\",\"muslim\",\"causes\",\"compared\",\"income\",\"choice\",\"arthur\",\"technique\",\"golden\",\"string\",\"cup\",\"protection\",\"attacks\",\"decided\",\"plant\",\"serious\",\"sign\",\"prevent\",\"immediately\",\"winter\",\"feet\",\"medieval\",\"fully\",\"efforts\",\"initially\",\"directed\",\"organizations\",\"exists\",\"extensive\",\"traditionally\",\"airport\",\"presence\",\"equivalent\",\"plants\",\"negative\",\"search\",\"argued\",\"deep\",\"fans\",\"austria\",\"link\",\"follow\",\"controlled\",\"alone\",\"valley\",\"combined\",\"signal\",\"occurs\",\"proved\",\"drive\",\"understanding\",\"imperial\",\"linear\",\"bay\",\"differences\",\"student\",\"van\",\"stone\",\"useful\",\"situation\",\"share\",\"serve\",\"distinct\",\"classic\",\"iv\",\"allowing\",\"effective\",\"mentioned\",\"solution\",\"drug\",\"require\",\"measure\",\"expected\",\"boy\",\"urban\",\"device\",\"citizens\",\"initial\",\"classes\",\"debate\",\"guitar\",\"secretary\",\"communities\",\"victory\",\"portuguese\",\"gained\",\"let\",\"nothing\",\"artists\",\"commission\",\"recognized\",\"horse\",\"relative\",\"judaism\",\"ford\",\"bass\",\"entirely\",\"teams\",\"actions\",\"conference\",\"weight\",\"fish\",\"hill\",\"represent\",\"politician\",\"begins\",\"completed\",\"writings\",\"gdp\",\"wing\",\"otherwise\",\"unknown\",\"aid\",\"ruled\",\"sites\",\"journal\",\"audio\",\"finland\",\"cards\",\"domestic\",\"behavior\",\"connected\",\"arms\",\"reaction\",\"earliest\",\"controversy\",\"mountain\",\"suggested\",\"trial\",\"attention\",\"containing\",\"workers\",\"principles\",\"sequence\",\"un\",\"host\",\"jerusalem\",\"literary\",\"cycle\",\"fuel\",\"officially\",\"reduced\",\"scientists\",\"travel\",\"figures\",\"americans\",\"prominent\",\"popularity\",\"fighting\",\"lincoln\",\"scene\",\"instruments\",\"structures\",\"ones\",\"increasingly\",\"frank\",\"iraq\",\"requires\",\"tend\",\"entry\",\"typical\",\"temple\",\"israeli\",\"statement\",\"track\",\"discussion\",\"says\",\"jack\",\"lives\",\"daily\",\"contrast\",\"goal\",\"frequency\",\"specifically\",\"rd\",\"impact\",\"winning\",\"fast\",\"review\",\"atlantic\",\"images\",\"texas\",\"description\",\"depending\",\"senate\",\"dynasty\",\"rich\",\"domain\",\"criticism\",\"islam\",\"importance\",\"inspired\",\"begin\",\"destroyed\",\"price\",\"friend\",\"jones\",\"contact\",\"mm\",\"entered\",\"devices\",\"closely\",\"invasion\",\"texts\",\"background\",\"mountains\",\"toward\",\"closed\",\"corporation\",\"wall\",\"removed\",\"afghanistan\",\"mythology\",\"zealand\",\"killing\",\"rare\",\"apollo\",\"jazz\",\"helped\",\"hong\",\"slightly\",\"quantum\",\"runs\",\"hot\",\"presidential\",\"attempted\",\"boston\",\"asked\",\"kept\",\"fixed\",\"dictionary\",\"agreed\",\"plays\",\"bishop\",\"alphabet\",\"determined\",\"sweden\",\"buildings\",\"traditions\",\"reign\",\"existing\",\"communications\",\"violence\",\"ages\",\"phase\",\"hydrogen\",\"controversial\",\"meant\",\"formation\",\"twenty\",\"thousands\",\"agriculture\",\"resulted\",\"movies\",\"occurred\",\"focus\",\"offered\",\"estimated\",\"heavily\",\"discovery\",\"mi\",\"tour\",\"comics\",\"zone\",\"ring\",\"connection\",\"develop\",\"governments\",\"aspects\",\"argue\",\"damage\",\"austrian\",\"albert\",\"ibm\",\"factors\",\"avoid\",\"combination\",\"combat\",\"pro\",\"affairs\",\"novels\",\"sum\",\"expansion\",\"doctrine\",\"competition\",\"hungary\",\"leadership\",\"category\",\"flow\",\"week\",\"genetic\",\"soldiers\",\"leaving\",\"opened\",\"os\",\"reports\",\"holds\",\"mac\",\"territories\",\"jackson\",\"step\",\"algorithm\",\"stop\",\"truth\",\"reality\",\"theorem\",\"fell\",\"room\",\"origins\",\"bob\",\"effort\",\"care\",\"instrument\",\"crown\",\"defeated\",\"democracy\",\"concepts\",\"hence\",\"picture\",\"permanent\",\"nazi\",\"protocol\",\"gun\",\"wikipedia\",\"tried\",\"fundamental\",\"professor\",\"planet\",\"christmas\",\"communication\",\"told\",\"topics\",\"presented\",\"identified\",\"beliefs\",\"statistics\",\"normally\",\"opening\",\"spent\",\"constitutional\",\"columbia\",\"annual\",\"subsequent\",\"evil\",\"extreme\",\"testament\",\"continues\",\"details\",\"gods\",\"supply\",\"institutions\",\"formula\",\"moral\",\"grew\",\"learning\",\"currency\",\"disk\",\"actors\",\"wanted\",\"fight\",\"defeat\",\"pronounced\",\"creating\",\"subsequently\",\"break\",\"output\",\"marked\",\"goods\",\"leave\",\"hardware\",\"cd\",\"broadcast\",\"bond\",\"thing\",\"environmental\",\"goes\",\"none\",\"decades\",\"forward\",\"expressed\",\"risk\",\"reach\",\"machines\",\"processes\",\"bodies\",\"census\",\"think\",\"lists\",\"glass\",\"organized\",\"pages\",\"murder\",\"vice\",\"angeles\",\"movements\",\"bush\",\"cultures\",\"respect\",\"meeting\",\"roughly\",\"stand\",\"fictional\",\"condition\",\"interpretation\",\"fantasy\",\"historians\",\"policies\",\"questions\",\"display\",\"copyright\",\"founder\",\"maintain\",\"lee\",\"mode\",\"positions\",\"fame\",\"import\",\"carry\",\"chosen\",\"linux\",\"swedish\",\"advantage\",\"raised\",\"observed\",\"receive\",\"formerly\",\"philosopher\",\"atoms\",\"server\",\"jpg\",\"sides\",\"brothers\",\"shortly\",\"resistance\",\"translated\",\"database\",\"super\",\"ch\",\"administrative\",\"message\",\"parents\",\"considerable\",\"shape\",\"target\",\"bad\",\"build\",\"extent\",\"plane\",\"understand\",\"tribes\",\"regarding\",\"mobile\",\"tower\",\"spring\",\"greatly\",\"studied\",\"brazil\",\"tax\",\"transportation\",\"characteristics\",\"wood\",\"railway\",\"screen\",\"needs\",\"equation\",\"piece\",\"chapter\",\"failure\",\"persian\",\"revolutionary\",\"respectively\",\"stock\",\"ordered\",\"pay\",\"chemistry\",\"proper\",\"split\",\"dog\",\"economics\",\"owned\",\"wave\",\"rates\",\"johnson\",\"doctor\",\"projects\",\"iran\",\"pp\",\"peoples\",\"philosophical\",\"match\",\"captain\",\"asian\",\"bring\",\"minutes\",\"symbols\",\"settlement\",\"bar\",\"relation\",\"covered\",\"seats\",\"awarded\",\"launched\",\"representation\",\"neither\",\"crime\",\"percent\",\"refused\",\"naval\",\"sister\",\"gain\",\"describes\",\"whereas\",\"ends\",\"perform\",\"satellite\",\"semi\",\"korea\",\"staff\",\"expression\",\"wild\",\"processing\",\"coming\",\"wales\",\"academic\",\"pieces\",\"comedy\",\"drugs\",\"chain\",\"occasionally\",\"manner\",\"purposes\",\"meet\",\"producer\",\"protestant\",\"mixed\",\"strength\",\"counter\",\"ray\",\"storage\",\"anything\",\"felt\",\"parallel\",\"mental\",\"spiritual\",\"occupied\",\"mr\",\"foot\",\"practical\",\"count\",\"towns\",\"saying\",\"easy\",\"electrical\",\"enemy\",\"speak\",\"inhabitants\",\"plans\",\"medium\",\"courts\",\"quarter\",\"village\",\"persons\",\"layer\",\"factor\",\"degrees\",\"granted\",\"fifth\",\"seat\",\"dialects\",\"sport\",\"pattern\",\"binary\",\"weeks\",\"composition\",\"got\",\"michigan\",\"selected\",\"pop\",\"widespread\",\"algebra\",\"magnetic\",\"blues\",\"alliance\",\"festival\",\"ft\",\"speakers\",\"authors\",\"crew\",\"core\",\"folk\",\"commonwealth\",\"legislative\",\"accept\",\"similarly\",\"divine\",\"achieved\",\"determine\",\"someone\",\"particles\",\"sector\",\"density\",\"influential\",\"dispute\",\"criminal\",\"newspaper\",\"supporters\",\"solar\",\"elizabeth\",\"contract\",\"offer\",\"traffic\",\"orders\",\"houses\",\"rivers\",\"awards\",\"principal\",\"der\",\"worldwide\",\"hitler\",\"files\",\"teaching\",\"apparently\",\"des\",\"gospel\",\"titles\",\"clearly\",\"providing\",\"universities\",\"hungarian\",\"publication\",\"suffered\",\"electricity\",\"camp\",\"cars\",\"doing\",\"crisis\",\"false\",\"issued\",\"perfect\",\"circle\",\"interface\",\"denmark\",\"legend\",\"nfl\",\"nevertheless\",\"ultimately\",\"solid\",\"contained\",\"extra\",\"surrounding\",\"throne\",\"setting\",\"sort\",\"standing\",\"oldest\",\"safety\",\"jordan\",\"measures\",\"plus\",\"danish\",\"agricultural\",\"pictures\",\"practices\",\"showing\",\"commander\",\"strip\",\"block\",\"maps\",\"fan\",\"recording\",\"maximum\",\"gulf\",\"celtic\",\"add\",\"distinction\",\"correct\",\"atomic\",\"reduce\",\"secondary\",\"everything\",\"lies\",\"root\",\"linked\",\"virginia\",\"genre\",\"jr\",\"lands\",\"sons\",\"marine\",\"limit\",\"taught\",\"producing\",\"pure\",\"bwv\",\"huge\",\"engines\",\"sought\",\"shared\",\"agency\",\"steel\",\"cable\",\"mechanics\",\"strongly\",\"accounts\",\"eye\",\"capable\",\"classification\",\"palace\",\"constructed\",\"egyptian\",\"document\",\"religions\",\"resolution\",\"hundred\",\"box\",\"unable\",\"showed\",\"francis\",\"components\",\"muslims\",\"molecules\",\"sciences\",\"radiation\",\"massive\",\"hour\",\"pc\",\"want\",\"ending\",\"mount\",\"judge\",\"opposite\",\"historically\",\"input\",\"continuous\",\"detailed\",\"cast\",\"ministers\",\"shall\",\"vast\",\"alcohol\",\"bus\",\"involves\",\"biology\",\"invented\",\"represents\",\"republican\",\"computing\",\"proof\",\"multi\",\"rejected\",\"succeeded\",\"rarely\",\"expanded\",\"flat\",\"civilization\",\"capacity\",\"documents\",\"impossible\",\"alpha\",\"illinois\",\"lewis\",\"dates\",\"destruction\",\"slow\",\"planned\",\"biological\",\"bottom\",\"championship\",\"theatre\",\"networks\",\"phrase\",\"provinces\",\"francisco\",\"indicate\",\"ratio\",\"molecular\",\"paid\",\"tools\",\"license\",\"route\",\"honor\",\"sub\",\"hollywood\",\"progress\",\"brief\",\"vol\",\"trees\",\"theme\",\"societies\",\"mail\",\"managed\",\"continental\",\"essential\",\"essentially\",\"manager\",\"rail\",\"settled\",\"poetry\",\"turkey\",\"pakistan\",\"viewed\",\"harvard\",\"merely\",\"investment\",\"castle\",\"job\",\"fine\",\"authorities\",\"visit\",\"turkish\",\"understood\",\"ca\",\"eu\",\"captured\",\"fought\",\"severe\",\"transfer\",\"developing\",\"del\",\"colonies\",\"lady\",\"studio\",\"html\",\"depression\",\"kill\",\"gay\",\"wind\",\"caesar\",\"candidate\",\"magic\",\"exports\",\"seem\",\"interests\",\"store\",\"portion\",\"visible\",\"assumed\",\"publishing\",\"editor\",\"exactly\",\"newton\",\"edge\",\"lebanon\",\"weapon\",\"really\",\"directory\",\"fair\",\"dedicated\",\"intellectual\",\"daniel\",\"twelve\",\"significantly\",\"absolute\",\"demand\",\"strategy\",\"obtained\",\"clinton\",\"liquid\",\"florida\",\"plot\",\"java\",\"equations\",\"stadium\",\"desert\",\"artificial\",\"variations\",\"drawn\",\"vector\",\"designs\",\"rose\",\"ran\",\"regard\",\"feel\",\"train\",\"forest\",\"overall\",\"representatives\",\"maintained\",\"bear\",\"arrived\",\"mechanical\",\"jim\",\"philosophers\",\"items\",\"fear\",\"logical\",\"hop\",\"darwin\",\"vary\",\"portugal\",\"guinea\",\"featuring\",\"acting\",\"improved\",\"dominant\",\"causing\",\"modified\",\"bell\",\"dry\",\"enter\",\"cia\",\"officer\",\"path\",\"iso\",\"korean\",\"andrew\",\"tom\",\"minority\",\"occupation\",\"apart\",\"thousand\",\"infinite\",\"oxygen\",\"mathbf\",\"straight\",\"rapidly\",\"revealed\",\"vietnam\",\"heaven\",\"saints\",\"gene\",\"colonial\",\"define\",\"fleet\",\"socialist\",\"kansas\",\"protect\",\"exception\",\"psychology\",\"twice\",\"circuit\",\"cancer\",\"membership\",\"stephen\",\"holding\",\"musicians\",\"soul\",\"index\",\"flying\",\"protein\",\"fashion\",\"exact\",\"indo\",\"recognition\",\"physicist\",\"distributed\",\"listed\",\"apply\",\"ago\",\"virtual\",\"inc\",\"massachusetts\",\"mars\",\"adam\",\"colony\",\"agent\",\"electron\",\"cabinet\",\"extension\",\"separated\",\"coach\",\"forum\",\"coalition\",\"visual\",\"scott\",\"adult\",\"periods\",\"suggests\",\"davis\",\"dominated\",\"employed\",\"hero\",\"reputation\",\"looking\",\"literally\",\"existed\",\"entitled\",\"selection\",\"males\",\"changing\",\"defence\",\"subjects\",\"alfred\",\"grammar\",\"younger\",\"interview\",\"experiment\",\"opinion\",\"howard\",\"jersey\",\"stable\",\"tourism\",\"expensive\",\"publications\",\"finite\",\"radical\",\"audience\",\"pair\",\"decline\",\"mainstream\",\"sky\",\"bits\",\"franklin\",\"bands\",\"necessarily\",\"contributed\",\"effectively\",\"cuba\",\"vi\",\"express\",\"concerning\",\"opera\",\"adams\",\"sounds\",\"choose\",\"broad\",\"historian\",\"signs\",\"mathematician\",\"allied\",\"vehicle\",\"executed\",\"joint\",\"calls\",\"romans\",\"moore\",\"guard\",\"try\",\"affected\",\"eyes\",\"germanic\",\"samuel\",\"atmosphere\",\"yellow\",\"formally\",\"error\",\"vehicles\",\"painter\",\"kennedy\",\"hockey\",\"belgium\",\"albums\",\"hundreds\",\"evolved\",\"philip\",\"trying\",\"husband\",\"compounds\",\"committed\",\"ministry\",\"federation\",\"roots\",\"heard\",\"concerned\",\"coup\",\"temperatures\",\"stands\",\"matters\",\"historic\",\"cape\",\"dvd\",\"underground\",\"attributed\",\"apparent\",\"clock\",\"georgia\",\"officials\",\"instruction\",\"rapid\",\"youth\",\"broken\",\"graphics\",\"carl\",\"broke\",\"prices\",\"treated\",\"residents\",\"nearby\",\"score\",\"kg\",\"else\",\"consciousness\",\"patterns\",\"identical\",\"faster\",\"supporting\",\"gender\",\"relationships\",\"establishment\",\"leads\",\"wealth\",\"learn\",\"chance\",\"grant\",\"join\",\"amounts\",\"renamed\",\"earl\",\"incorporated\",\"fox\",\"serving\",\"silver\",\"warfare\",\"styles\",\"involving\",\"strike\",\"successor\",\"officers\",\"ottoman\",\"beer\",\"russell\",\"banks\",\"lakes\",\"mediterranean\",\"favor\",\"dc\",\"lunar\",\"conventional\",\"height\",\"budget\",\"sales\",\"appeal\",\"regime\",\"decade\",\"poem\",\"disc\",\"leaves\",\"donald\",\"judicial\",\"inner\",\"variable\",\"ordinary\",\"indiana\",\"norway\",\"logo\",\"unusual\",\"costs\",\"biblical\",\"partly\",\"chamber\",\"unless\",\"lie\",\"talk\",\"achieve\",\"episodes\",\"particle\",\"da\",\"trading\",\"declaration\",\"gradually\",\"frame\",\"parliamentary\",\"concentration\",\"fort\",\"legislation\",\"finished\",\"stalin\",\"notion\",\"meters\",\"cult\",\"random\",\"acquired\",\"script\",\"prison\",\"girl\",\"suggest\",\"educational\",\"dialect\",\"comparison\",\"consumption\",\"mike\",\"opponents\",\"distinguished\",\"czech\",\"roll\",\"advance\",\"cat\",\"racing\",\"dangerous\",\"component\",\"joe\",\"byzantine\",\"peninsula\",\"categories\",\"draw\",\"reforms\",\"rural\",\"consisting\",\"anglo\",\"answer\",\"anyone\",\"suicide\",\"substance\",\"finnish\",\"succession\",\"balance\",\"manufacturing\",\"rulers\",\"intelligent\",\"sections\",\"characteristic\",\"successfully\",\"newly\",\"hair\",\"dimensional\",\"mayor\",\"demographics\",\"walls\",\"converted\",\"harry\",\"abandoned\",\"rank\",\"adding\",\"vowel\",\"collected\",\"champion\",\"concerns\",\"fit\",\"branches\",\"codes\",\"selling\",\"theology\",\"birds\",\"prayer\",\"interesting\",\"vs\",\"telephone\",\"drawing\",\"markets\",\"conversion\",\"vision\",\"alternate\",\"notation\",\"knights\",\"phenomenon\",\"williams\",\"learned\",\"stored\",\"indigenous\",\"edited\",\"patients\",\"possibility\",\"heads\",\"onto\",\"steve\",\"threat\",\"escape\",\"boys\",\"accurate\",\"simon\",\"task\",\"swiss\",\"worship\",\"lowest\",\"substantial\",\"bce\",\"superior\",\"hell\",\"einstein\",\"classified\",\"ethics\",\"orbit\",\"divisions\",\"establish\",\"measured\",\"caribbean\",\"olympic\",\"atari\",\"sufficient\",\"intel\",\"allies\",\"conducted\",\"limits\",\"attended\",\"weak\",\"guns\",\"verb\",\"probability\",\"teacher\",\"weather\",\"axis\",\"capture\",\"experienced\",\"struggle\",\"save\",\"passing\",\"hope\",\"offensive\",\"cinema\",\"organisms\",\"operated\",\"emperors\",\"appropriate\",\"di\",\"concert\",\"spectrum\",\"tell\",\"oriented\",\"berkeley\",\"moment\",\"complexity\",\"alan\",\"implementation\",\"lords\",\"holiday\",\"arguments\",\"dollar\",\"violent\",\"copy\",\"genus\",\"interior\",\"compression\",\"geometry\",\"experiments\",\"indonesia\",\"explained\",\"accused\",\"ruth\",\"bomb\",\"corresponding\",\"sin\",\"dependent\",\"painting\",\"mechanism\",\"campus\",\"max\",\"capitalism\",\"minimum\",\"furthermore\",\"giant\",\"calling\",\"walter\",\"functional\",\"label\",\"aids\",\"abraham\",\"industries\",\"inflation\",\"themes\",\"explain\",\"switzerland\",\"strings\",\"charged\",\"lot\",\"alleged\",\"lyrics\",\"karl\",\"infantry\",\"muhammad\",\"priest\",\"perceived\",\"corporate\",\"pennsylvania\",\"instructions\",\"martial\",\"buried\",\"circumstances\",\"brian\",\"proteins\",\"falls\",\"myth\",\"fellow\",\"frequent\",\"cuisine\",\"preferred\",\"scientist\",\"tone\",\"integrated\",\"begun\",\"replace\",\"visited\",\"il\",\"generated\",\"facts\",\"organic\",\"mouse\",\"platform\",\"fairly\",\"approved\",\"assigned\",\"carrier\",\"finding\",\"dropped\",\"wilson\",\"leap\",\"ben\",\"batman\",\"manchester\",\"laureate\",\"desire\",\"launch\",\"amongst\",\"coastal\",\"colleges\",\"bruce\",\"colors\",\"baltic\",\"argentina\",\"douglas\",\"wrong\",\"garden\",\"skills\",\"moves\",\"mississippi\",\"mouth\",\"alexandria\",\"pdf\",\"roles\",\"gnu\",\"forming\",\"greeks\",\"ohio\",\"heritage\",\"diseases\",\"transmission\",\"abstract\",\"chairman\",\"norwegian\",\"statements\",\"retired\",\"request\",\"voting\",\"increases\",\"arm\",\"velocity\",\"illegal\",\"syria\",\"beings\",\"narrow\",\"thinking\",\"influences\",\"moscow\",\"roosevelt\",\"mexican\",\"votes\",\"characterized\",\"missile\",\"founding\",\"spaces\",\"aspect\",\"missouri\",\"memorial\",\"virtually\",\"pilot\",\"profile\",\"du\",\"experimental\",\"soil\",\"bonds\",\"charges\",\"explanation\",\"poems\",\"tracks\",\"ruler\",\"institution\",\"goddess\",\"agents\",\"airlines\",\"assistance\",\"bacteria\",\"chess\",\"researchers\",\"documentary\",\"testing\",\"ip\",\"theoretical\",\"en\",\"ll\",\"aim\",\"hole\",\"gary\",\"supposed\",\"bound\",\"constantine\",\"monster\",\"columbus\",\"delta\",\"definitions\",\"depth\",\"piano\",\"closer\",\"requirements\",\"legacy\",\"hindu\",\"elsewhere\",\"maria\",\"clubs\",\"meat\",\"steps\",\"ensure\",\"depends\",\"preserved\",\"boundaries\",\"spelling\",\"facilities\",\"prove\",\"algorithms\",\"perspective\",\"rising\",\"tropical\",\"northwest\",\"borders\",\"transition\",\"waves\",\"efficient\",\"engineer\",\"door\",\"tool\",\"luther\",\"keyboard\",\"orange\",\"pierre\",\"attached\",\"canal\",\"soft\",\"produces\",\"reserve\",\"coal\",\"signals\",\"electrons\",\"driven\",\"downtown\",\"symptoms\",\"passage\",\"improve\",\"partial\",\"hits\",\"variant\",\"resource\",\"hip\",\"fruit\",\"attacked\",\"imports\",\"metropolitan\",\"node\",\"technologies\",\"entertainment\",\"usual\",\"winner\",\"emerged\",\"additionally\",\"profit\",\"hospital\",\"ideal\",\"salt\",\"shift\",\"sword\",\"laboratory\",\"populations\",\"bird\",\"rice\",\"tests\",\"gravity\",\"consumer\",\"germans\",\"bowl\",\"marx\",\"mainland\",\"opponent\",\"evolutionary\",\"bears\",\"followers\",\"printed\",\"tales\",\"agree\",\"continent\",\"calculus\",\"cpu\",\"emphasis\",\"planning\",\"diamond\",\"frederick\",\"ex\",\"shaped\",\"print\",\"starring\",\"scheme\",\"constantinople\",\"descent\",\"execution\",\"lithuania\",\"boundary\",\"grown\",\"detroit\",\"milk\",\"morning\",\"forth\",\"essay\",\"sugar\",\"peak\",\"basketball\",\"palestinian\",\"napoleon\",\"jurisdiction\",\"laid\",\"hypothesis\",\"dating\",\"chile\",\"certainly\",\"identify\",\"beautiful\",\"keeping\",\"mp\",\"judges\",\"survived\",\"headquarters\",\"concern\",\"channels\",\"skin\",\"bah\",\"snow\",\"decisions\",\"lisp\",\"conquest\",\"kinds\",\"disorder\",\"referring\",\"stay\",\"lay\",\"kilometers\",\"macintosh\",\"longest\",\"residence\",\"integral\",\"acids\",\"driver\",\"motor\",\"prepared\",\"representing\",\"solutions\",\"solo\",\"organisation\",\"responsibility\",\"exile\",\"partially\",\"owner\",\"hiv\",\"bishops\",\"crimes\",\"pronunciation\",\"poverty\",\"athens\",\"districts\",\"filled\",\"variants\",\"diplomatic\",\"patent\",\"benefit\",\"angels\",\"monarchy\",\"meanings\",\"copies\",\"locations\",\"minute\",\"procedure\",\"cited\",\"originated\",\"didn\",\"inducted\",\"matrix\",\"headed\",\"celebrated\",\"naturally\",\"battles\",\"representative\",\"operate\",\"covers\",\"grounds\",\"variation\",\"soldier\",\"knew\",\"protected\",\"medal\",\"relativity\",\"easier\",\"seemed\",\"percentage\",\"cm\",\"wine\",\"roads\",\"unix\",\"rebellion\",\"carrying\",\"incident\",\"roger\",\"sunday\",\"animated\",\"hills\",\"gone\",\"familiar\",\"confused\",\"plain\",\"dylan\",\"ultimate\",\"partner\",\"listing\",\"thirty\",\"directors\",\"composers\",\"getting\",\"angle\",\"briefly\",\"comprehensive\",\"descendants\",\"commentary\",\"varies\",\"seek\",\"knight\",\"holidays\",\"abuse\",\"presidency\",\"extinct\",\"recipient\",\"liberty\",\"armies\",\"victoria\",\"distinguish\",\"dublin\",\"grow\",\"marshall\",\"assassination\",\"landing\",\"papers\",\"overview\",\"ontario\",\"goals\",\"opportunity\",\"defensive\",\"automatic\",\"offers\",\"confirmed\",\"absence\",\"performing\",\"ma\",\"fluid\",\"dos\",\"nasa\",\"sentence\",\"finalist\",\"ports\",\"interpreted\",\"collapse\",\"processor\",\"encouraged\",\"contributions\",\"emergency\",\"fly\",\"remove\",\"bulgaria\",\"register\",\"enemies\",\"vowels\",\"victims\",\"macedonia\",\"png\",\"afterwards\",\"serves\",\"ranked\",\"indicates\",\"difficulty\",\"personality\",\"southeast\",\"floor\",\"credited\",\"renaissance\",\"noun\",\"atom\",\"cathedral\",\"interaction\",\"walk\",\"nato\",\"stages\",\"promote\",\"hamilton\",\"agave\",\"basque\",\"faced\",\"pitch\",\"sacred\",\"unity\",\"tape\",\"eric\",\"bibliography\",\"household\",\"cash\",\"survive\",\"phenomena\",\"colour\",\"forests\",\"drop\",\"obtain\",\"losing\",\"reactions\",\"carter\",\"presidents\",\"boat\",\"vienna\",\"possession\",\"focused\",\"shell\",\"continuing\",\"safe\",\"debt\",\"brand\",\"compact\",\"southwest\",\"substances\",\"titled\",\"passenger\",\"reaching\",\"charter\",\"diverse\",\"discussed\",\"friedrich\",\"funds\",\"highway\",\"tony\",\"credit\",\"transferred\",\"communism\",\"benjamin\",\"happened\",\"monarch\",\"baptism\",\"lesser\",\"challenge\",\"beat\",\"seasons\",\"linguistic\",\"chose\",\"plate\",\"slave\",\"breaking\",\"artistic\",\"engineers\",\"gregorian\",\"beach\",\"crystal\",\"electoral\",\"citizen\",\"carolina\",\"dream\",\"regardless\",\"territorial\",\"clark\",\"mit\",\"journey\",\"dual\",\"everyone\",\"ill\",\"repeated\",\"humanity\",\"twentieth\",\"candidates\",\"christopher\",\"santa\",\"camps\",\"consistent\",\"archive\",\"welsh\",\"copper\",\"bases\",\"gibraltar\",\"jan\",\"survey\",\"ownership\",\"progressive\",\"advertising\",\"worth\",\"immediate\",\"statistical\",\"trained\",\"gallery\",\"commodore\",\"restricted\",\"integer\",\"senior\",\"slaves\",\"operator\",\"horror\",\"client\",\"hotel\",\"corps\",\"disputed\",\"translations\",\"empty\",\"relief\",\"fm\",\"stress\",\"anthony\",\"farm\",\"implemented\",\"involve\",\"keys\",\"sox\",\"esperanto\",\"psychological\",\"canon\",\"restrictions\",\"variables\",\"bureau\",\"criticized\",\"detail\",\"column\",\"uniform\",\"moses\",\"firm\",\"cleveland\",\"virus\",\"specialized\",\"libraries\",\"describing\",\"adapted\",\"drink\",\"outer\",\"ruling\",\"females\",\"offices\",\"send\",\"senator\",\"disney\",\"couple\",\"seconds\",\"reverse\",\"slavery\",\"biggest\",\"verse\",\"inch\",\"depicted\",\"colorado\",\"civilian\",\"conquered\",\"duty\",\"lose\",\"rocks\",\"calvin\",\"contrary\",\"syndrome\",\"situations\",\"ce\",\"array\",\"obvious\",\"compound\",\"architect\",\"streets\",\"rain\",\"engaged\",\"leo\",\"races\",\"varying\",\"ethical\",\"pain\",\"retained\",\"distinctive\",\"isolated\",\"beta\",\"khan\",\"herbert\",\"confusion\",\"fighter\",\"speaker\",\"skill\",\"compatible\",\"herself\",\"morocco\",\"turning\",\"electronics\",\"declined\",\"investigation\",\"precise\",\"dragon\",\"manufacturers\",\"arithmetic\",\"liberation\",\"turns\",\"starts\",\"buddhism\",\"spin\",\"campbell\",\"demonstrated\",\"messages\",\"planets\",\"spacecraft\",\"prophet\",\"reducing\",\"observations\",\"reduction\",\"airports\",\"sovereignty\",\"interested\",\"patient\",\"petroleum\",\"creator\",\"custom\",\"exclusively\",\"neutral\",\"princess\",\"bronze\",\"cyprus\",\"replacement\",\"mining\",\"educated\",\"insurance\",\"differ\",\"animation\",\"camera\",\"scenes\",\"strategic\",\"watch\",\"migration\",\"baby\",\"gate\",\"claiming\",\"tribe\",\"waters\",\"invention\",\"molecule\",\"estate\",\"disaster\",\"te\",\"galaxy\",\"phi\",\"democrats\",\"publicly\",\"arrangement\",\"dramatic\",\"banned\",\"cave\",\"receiving\",\"exclusive\",\"integration\",\"accompanied\",\"lawrence\",\"specified\",\"drew\",\"designated\",\"fund\",\"matthew\",\"regularly\",\"congo\",\"holocaust\",\"owners\",\"behaviour\",\"wear\",\"valid\",\"ve\",\"mile\",\"conspiracy\",\"penalty\",\"sample\",\"genes\",\"geographic\",\"infrastructure\",\"houston\",\"commerce\",\"les\",\"draft\",\"surviving\",\"sam\",\"diet\",\"disambiguation\",\"fled\",\"atlanta\",\"separation\",\"connections\",\"structural\",\"boeing\",\"sixth\",\"gates\",\"missions\",\"strictly\",\"varieties\",\"minnesota\",\"cricket\",\"pollution\",\"isaac\",\"earned\",\"experiences\",\"statue\",\"cooperation\",\"millions\",\"slowly\",\"supports\",\"newspapers\",\"cardinal\",\"benefits\",\"powered\",\"switch\",\"indians\",\"passes\",\"commons\",\"doesn\",\"jet\",\"falling\",\"overseas\",\"montreal\",\"arrested\",\"essays\",\"alaska\",\"plural\",\"purchase\",\"ibn\",\"rational\",\"blind\",\"coffee\",\"dioxide\",\"permitted\",\"estimates\",\"monetary\",\"excellent\",\"bulgarian\",\"prisoners\",\"whatever\",\"doubt\",\"siege\",\"moreover\",\"mixture\",\"personnel\",\"contest\",\"tank\",\"laser\",\"latvia\",\"explorer\",\"gothic\",\"archbishop\",\"tells\",\"jacob\",\"cavalry\",\"anne\",\"considerably\",\"monopoly\",\"confederate\",\"delivered\",\"involvement\",\"marks\",\"taiwan\",\"quantity\",\"teachings\",\"horses\",\"measurement\",\"inventor\",\"cook\",\"torah\",\"lifetime\",\"johann\",\"differential\",\"tale\",\"conclusion\",\"framework\",\"broadcasting\",\"admiral\",\"optical\",\"affect\",\"export\",\"arranged\",\"discipline\",\"whilst\",\"miller\",\"catholics\",\"quebec\",\"yes\",\"consequently\",\"mention\",\"secure\",\"winners\",\"duties\",\"fat\",\"wish\",\"secular\",\"developments\",\"theater\",\"eat\",\"journalist\",\"stability\",\"ethiopia\",\"punishment\",\"sell\",\"row\",\"taylor\",\"allen\",\"disputes\",\"ban\",\"synthesis\",\"racial\",\"temporary\",\"controls\",\"voted\",\"enjoyed\",\"properly\",\"anime\",\"recordings\",\"explicitly\",\"returning\",\"aristotle\",\"isle\",\"footballer\",\"buddhist\",\"pairs\",\"ranges\",\"mystery\",\"blade\",\"curve\",\"seeking\",\"bringing\",\"si\",\"sale\",\"participation\",\"metric\",\"appearances\",\"linguistics\",\"devil\",\"shorter\",\"robinson\",\"politicians\",\"citizenship\",\"volumes\",\"revised\",\"negotiations\",\"dollars\",\"immigration\",\"devoted\",\"immigrants\",\"centers\",\"routes\",\"rival\",\"leg\",\"indicated\",\"approval\",\"suitable\",\"singular\",\"suit\",\"chip\",\"childhood\",\"observation\",\"conduct\",\"purchased\",\"comedian\",\"terminal\",\"iranian\",\"efficiency\",\"missiles\",\"fresh\",\"legendary\",\"abc\",\"establishing\",\"agreements\",\"singing\",\"partners\",\"destroy\",\"implies\",\"fishing\",\"grey\",\"sharp\",\"creative\",\"romania\",\"worst\",\"finance\",\"plastic\",\"restored\",\"orchestra\",\"warm\",\"arizona\",\"covering\",\"wins\",\"termed\",\"tube\",\"consequences\",\"northeast\",\"gets\",\"finds\",\"perception\",\"genesis\",\"hidden\",\"exposed\",\"proposal\",\"metals\",\"drives\",\"guitarist\",\"seeing\",\"vertical\",\"favour\",\"promoted\",\"equally\",\"expedition\",\"photo\",\"superman\",\"concluded\",\"beauty\",\"situated\",\"twin\",\"mounted\",\"theological\",\"caught\",\"scholar\",\"assume\",\"wiki\",\"terminology\",\"gordon\",\"returns\",\"mormon\",\"loop\",\"algebraic\",\"valuable\",\"concentrated\",\"handed\",\"franchise\",\"collective\",\"dave\",\"stopped\",\"ready\",\"concrete\",\"removal\",\"releases\",\"portrait\",\"burning\",\"kuwait\",\"prussia\",\"turing\",\"counties\",\"oral\",\"physician\",\"grain\",\"aware\",\"affair\",\"fusion\",\"fired\",\"maritime\",\"google\",\"nova\",\"gamma\",\"jacques\",\"vii\",\"varied\",\"millennium\",\"width\",\"adjacent\",\"dynamic\",\"margaret\",\"wayne\",\"adventure\",\"singles\",\"difficulties\",\"consequence\",\"funding\",\"jobs\",\"philadelphia\",\"rom\",\"iowa\",\"johnny\",\"voltage\",\"portrayed\",\"recognize\",\"driving\",\"ask\",\"julian\",\"obsolete\",\"flash\",\"circuits\",\"rocket\",\"therapy\",\"astronomy\",\"louisiana\",\"ceremony\",\"trans\",\"collections\",\"housing\",\"recovery\",\"buy\",\"harrison\",\"transformation\",\"revelation\",\"fewer\",\"amateur\",\"fran\",\"virgin\",\"interactive\",\"mix\",\"bach\",\"servers\",\"magnitude\",\"admitted\",\"chancellor\",\"thin\",\"proclaimed\",\"ghost\",\"ne\",\"complicated\",\"rotation\",\"arrival\",\"belong\",\"tourist\",\"gauge\",\"fbi\",\"analog\",\"cognitive\",\"reflected\",\"trust\",\"bernard\",\"capita\",\"editions\",\"bought\",\"phone\",\"tends\",\"storm\",\"crash\",\"thompson\",\"dealing\",\"wings\",\"intervention\",\"employment\",\"mercury\",\"settlements\",\"governing\",\"merged\",\"seventh\",\"muscle\",\"meanwhile\",\"dated\",\"align\",\"ram\",\"kent\",\"handle\",\"topic\",\"railroad\",\"customs\",\"suffering\",\"baroque\",\"median\",\"window\",\"designer\",\"neo\",\"thereby\",\"transform\",\"denied\",\"exceptions\",\"dan\",\"nelson\",\"info\",\"attempting\",\"raise\",\"cellular\",\"romantic\",\"coins\",\"norman\",\"chart\",\"photos\",\"extend\",\"gregory\",\"surrounded\",\"mathematicians\",\"int\",\"entropy\",\"please\",\"murray\",\"augustus\",\"significance\",\"ties\",\"beijing\",\"relevant\",\"summary\",\"advice\",\"tribute\",\"quantities\",\"printing\",\"marketing\",\"buffalo\",\"factory\",\"threatened\",\"belgian\",\"tim\",\"manufactured\",\"accident\",\"reflect\",\"grace\",\"proven\",\"maintains\",\"quick\",\"dimension\",\"alien\",\"pointed\",\"independently\",\"moderate\",\"corruption\",\"option\",\"lenin\",\"hunting\",\"ongoing\",\"refugees\",\"guy\",\"poets\",\"simultaneously\",\"hawaii\",\"jupiter\",\"drum\",\"disorders\",\"participate\",\"accuracy\",\"spot\",\"quoted\",\"operators\",\"anglican\",\"taxes\",\"palestine\",\"liverpool\",\"mood\",\"reader\",\"symbolic\",\"attracted\",\"illness\",\"inches\",\"compare\",\"oscar\",\"performances\",\"noble\",\"eating\",\"malaysia\",\"stores\",\"consonant\",\"adventures\",\"romance\",\"aimed\",\"exercise\",\"strict\",\"wider\",\"alive\",\"minerals\",\"sensitive\",\"stream\",\"tunnel\",\"terrorist\",\"kosovo\",\"stanley\",\"phoenix\",\"log\",\"acceptance\",\"studios\",\"reviews\",\"consist\",\"subset\",\"remainder\",\"gandhi\",\"croatia\",\"extensively\",\"legislature\",\"drama\",\"dick\",\"employees\",\"chemist\",\"euro\",\"session\",\"anderson\",\"assault\",\"baltimore\",\"entity\",\"genres\",\"steam\",\"readers\",\"trivia\",\"happy\",\"struck\",\"luke\",\"blocks\",\"parent\",\"vacuum\",\"agencies\",\"duck\",\"nickname\",\"unions\",\"prefer\",\"se\",\"sphere\",\"unemployment\",\"europeans\",\"versus\",\"resigned\",\"shah\",\"viii\",\"graduate\",\"coined\",\"timeline\",\"wheel\",\"ieee\",\"singapore\",\"hans\",\"approaches\",\"chris\",\"enormous\",\"girls\",\"looks\",\"fallen\",\"clothing\",\"settlers\",\"bone\",\"worlds\",\"narrative\",\"expert\",\"offering\",\"serbia\",\"broadway\",\"monroe\",\"uss\",\"rear\",\"cuban\",\"drinking\",\"sharing\",\"cattle\",\"friendly\",\"toronto\",\"ann\",\"addresses\",\"cartoon\",\"studying\",\"requiring\",\"sovereign\",\"rings\",\"coverage\",\"nationalist\",\"holes\",\"automatically\",\"premier\",\"priests\",\"communists\",\"manual\",\"ph\",\"raw\",\"shock\",\"adoption\",\"marie\",\"geneva\",\"objective\",\"entering\",\"id\",\"trip\",\"conservation\",\"membrane\",\"binding\",\"aka\",\"consensus\",\"injury\",\"rolling\",\"errors\",\"besides\",\"defining\",\"paintings\",\"afc\",\"lasted\",\"arguably\",\"desired\",\"weekly\",\"teach\",\"neck\",\"conventions\",\"angel\",\"faces\",\"brazilian\",\"receives\",\"stones\",\"remote\",\"strange\",\"voters\",\"wire\",\"victor\",\"shares\",\"trains\",\"generations\",\"rfc\",\"larry\",\"observer\",\"aaron\",\"administered\",\"programme\",\"guest\",\"easter\",\"liberalism\",\"sequences\",\"natives\",\"sole\",\"painted\",\"hunt\",\"pan\",\"exposure\",\"autonomous\",\"defend\",\"metres\",\"bull\",\"taste\",\"kingdoms\",\"voyage\",\"championships\",\"exploration\",\"shooting\",\"rifle\",\"diego\",\"colombia\",\"tendency\",\"proportion\",\"elevation\",\"baptist\",\"comments\",\"procedures\",\"momentum\",\"lithuanian\",\"compiler\",\"alongside\",\"argues\",\"cutting\",\"funeral\",\"marvel\",\"generate\",\"schedule\",\"mirror\",\"eve\",\"albania\",\"dogs\",\"underlying\",\"slavic\",\"stronger\",\"semitic\",\"heroes\",\"dimensions\",\"mammals\",\"corner\",\"coat\",\"abolished\",\"truly\",\"revenue\",\"decimal\",\"maryland\",\"eternal\",\"competitive\",\"wilhelm\",\"governed\",\"latest\",\"austin\",\"costa\",\"nationality\",\"bulk\",\"clinical\",\"looked\",\"arc\",\"ascii\",\"grade\",\"jimmy\",\"governors\",\"businesses\",\"lieutenant\",\"shore\",\"formats\",\"dot\",\"trinity\",\"crops\",\"epic\",\"activist\",\"assistant\",\"adaptation\",\"geographical\",\"terrain\",\"saxon\",\"tasks\",\"considering\",\"inspiration\",\"helium\",\"interpretations\",\"hunter\",\"wearing\",\"stood\",\"instrumental\",\"slang\",\"publisher\",\"manga\",\"python\",\"occasions\",\"ac\",\"infection\",\"mickey\",\"franco\",\"electromagnetic\",\"plains\",\"edinburgh\",\"uncle\",\"unfortunately\",\"requirement\",\"libya\",\"supplies\",\"amiga\",\"arose\",\"honour\",\"patrick\",\"ai\",\"installed\",\"replacing\",\"regulations\",\"milan\",\"florence\",\"repeatedly\",\"opposing\",\"mechanisms\",\"sand\",\"politically\",\"bills\",\"trials\",\"tail\",\"scots\",\"hoover\",\"nominated\",\"naming\",\"creates\",\"consonants\",\"unlikely\",\"revival\",\"bombing\",\"applies\",\"ms\",\"intense\",\"battery\",\"protest\",\"seriously\",\"kentucky\",\"purely\",\"jonathan\",\"wright\",\"matches\",\"pioneer\",\"tactics\",\"mineral\",\"manuscript\",\"merchant\",\"hierarchy\",\"liberals\",\"appearing\",\"recommended\",\"entities\",\"centered\",\"babylon\",\"visitors\",\"tables\",\"happen\",\"atlas\",\"ussr\",\"economies\",\"hosts\",\"diamonds\",\"tea\",\"missing\",\"ranging\",\"saudi\",\"deck\",\"serial\",\"belt\",\"jane\",\"silent\",\"creatures\",\"aramaic\",\"philippines\",\"developers\",\"demands\",\"aluminium\",\"consisted\",\"retain\",\"kevin\",\"sydney\",\"cocaine\",\"triple\",\"feast\",\"mao\",\"sees\",\"criteria\",\"identification\",\"arabia\",\"homosexuality\",\"homosexual\",\"invaded\",\"tied\",\"li\",\"cargo\",\"spending\",\"fossil\",\"homer\",\"aside\",\"etymology\",\"derives\",\"reaches\",\"damaged\",\"integers\",\"writes\",\"reject\",\"teachers\",\"amendment\",\"reasoning\",\"feeling\",\"check\",\"abortion\",\"unofficial\",\"transmitted\",\"trotsky\",\"freely\",\"decide\",\"elite\",\"conflicts\",\"vocal\",\"bright\",\"farming\",\"tall\",\"spoke\",\"solve\",\"gravitational\",\"norse\",\"mutual\",\"advocates\",\"proto\",\"explosion\",\"sultan\",\"abroad\",\"evening\",\"coin\",\"warner\",\"juan\",\"jury\",\"bosnia\",\"godzilla\",\"touch\",\"sure\",\"abu\",\"fifty\",\"statesman\",\"pagan\",\"novelist\",\"provincial\",\"massacre\",\"carries\",\"anthropology\",\"physiology\",\"nouns\",\"glucose\",\"hearing\",\"cats\",\"danger\",\"newer\",\"realm\",\"organism\",\"scope\",\"treat\",\"graphic\",\"hash\",\"socialism\",\"defines\",\"genetics\",\"comet\",\"plague\",\"galileo\",\"arbitrary\",\"occasion\",\"ian\",\"aviation\",\"doors\",\"gray\",\"communion\",\"estonia\",\"leibniz\",\"propaganda\",\"reportedly\",\"franz\",\"tennis\",\"tissue\",\"module\",\"item\",\"derivative\",\"diameter\",\"illustrated\",\"losses\",\"facing\",\"speeds\",\"targets\",\"astronomical\",\"judah\",\"sanskrit\",\"manufacturer\",\"graph\",\"wisconsin\",\"unsuccessful\",\"infant\",\"doctors\",\"submarine\",\"quotes\",\"guardian\",\"operates\",\"kernel\",\"warming\",\"survival\",\"thanks\",\"arabs\",\"distant\",\"basin\",\"stanford\",\"trek\",\"consent\",\"sweet\",\"julius\",\"conan\",\"proponents\",\"withdrawal\",\"sight\",\"notice\",\"periodic\",\"likewise\",\"pool\",\"foods\",\"ion\",\"maintaining\",\"yugoslavia\",\"occurring\",\"barry\",\"meetings\",\"chad\",\"vocabulary\",\"alice\",\"artillery\",\"predominantly\",\"modes\",\"estimate\",\"filter\",\"eleven\",\"tennessee\",\"villages\",\"oh\",\"crossing\",\"legs\",\"rabbi\",\"songwriter\",\"nietzsche\",\"chapters\",\"iceland\",\"chemicals\",\"anniversary\",\"wisdom\",\"confidence\",\"serbian\",\"retrieved\",\"hindi\",\"amino\",\"explains\",\"punk\",\"assumption\",\"closest\",\"revolt\",\"unified\",\"stewart\",\"guilty\",\"saved\",\"ritual\",\"archaeological\",\"vessels\",\"runner\",\"permission\",\"trend\",\"practiced\",\"solomon\",\"catholicism\",\"graham\",\"belarus\",\"solely\",\"potentially\",\"noise\",\"sleep\",\"sacrifice\",\"displayed\",\"inhabited\",\"debut\",\"otto\",\"recognised\",\"divide\",\"clean\",\"circles\",\"diagram\",\"jerry\",\"hughes\",\"discrete\",\"enjoy\",\"reliable\",\"deals\",\"masters\",\"ferdinand\",\"tournament\",\"signature\",\"doom\",\"ukraine\",\"hear\",\"imposed\",\"technically\",\"connecticut\",\"regulation\",\"comparative\",\"maintenance\",\"inter\",\"cincinnati\",\"jump\",\"councils\",\"adults\",\"emotional\",\"birthday\",\"automobile\",\"syntax\",\"scored\",\"remarkable\",\"dialogue\",\"updated\",\"canterbury\",\"equipped\",\"constellation\",\"cdot\",\"macau\",\"nonetheless\",\"presents\",\"frontier\",\"pole\",\"shadow\",\"flows\",\"billy\",\"terry\",\"conception\",\"gore\",\"radar\",\"forty\",\"bearing\",\"opens\",\"orientation\",\"junior\",\"morris\",\"examination\",\"civilizations\",\"balls\",\"smooth\",\"explosive\",\"cool\",\"invited\",\"foundations\",\"associate\",\"reed\",\"extends\",\"judgment\",\"watson\",\"desktop\",\"baker\",\"grave\",\"experts\",\"elder\",\"floating\",\"baron\",\"wealthy\",\"salvation\",\"attributes\",\"municipal\",\"creature\",\"catch\",\"insubstantial\",\"mere\",\"primitive\",\"favorite\",\"depend\",\"portions\",\"producers\",\"implement\",\"phrases\",\"corporations\",\"immune\",\"blow\",\"deputy\",\"mbox\",\"claudius\",\"genome\",\"fred\",\"kills\",\"ahead\",\"harbor\",\"elementary\",\"stuart\",\"mhz\",\"horn\",\"vocals\",\"relating\",\"ss\",\"intermediate\",\"ranks\",\"opinions\",\"nucleus\",\"munich\",\"pick\",\"critic\",\"joke\",\"confederation\",\"retirement\",\"namely\",\"scores\",\"allegedly\",\"recovered\",\"capabilities\",\"commands\",\"haiti\",\"organisations\",\"publishers\",\"restoration\",\"nineteenth\",\"correspondence\",\"circular\",\"deeply\",\"courses\",\"homes\",\"smallest\",\"accessed\",\"earthquake\",\"fighters\",\"autonomy\",\"circumcision\",\"landscape\",\"legends\",\"companion\",\"corresponds\",\"masses\",\"bavaria\",\"americas\",\"striking\",\"abilities\",\"directions\",\"stroke\",\"farmers\",\"compiled\",\"generic\",\"facility\",\"diesel\",\"layers\",\"reformation\",\"coding\",\"precisely\",\"specification\",\"believes\",\"antonio\",\"lion\",\"oregon\",\"heir\",\"atheism\",\"milton\",\"elvis\",\"tongue\",\"ross\",\"configuration\",\"sri\",\"salvador\",\"afghan\",\"albanian\",\"qur\",\"console\",\"insulin\",\"decay\",\"hat\",\"surgery\",\"metro\",\"maxwell\",\"respective\",\"bread\",\"expressions\",\"covenant\",\"enlightenment\",\"counts\",\"lebanese\",\"hilbert\",\"buddha\",\"banking\",\"westminster\",\"thereafter\",\"shield\",\"alumni\",\"mine\",\"denominations\",\"tiny\",\"lb\",\"cheese\",\"mtv\",\"railways\",\"monarchs\",\"jamaica\",\"lasting\",\"reconstruction\",\"roy\",\"contribution\",\"frequencies\",\"extinction\",\"cluster\",\"dallas\",\"compete\",\"anthem\",\"realized\",\"fun\",\"avenue\",\"convert\",\"operational\",\"yards\",\"alabama\",\"shakespeare\",\"improvements\",\"campaigns\",\"descriptions\",\"princeton\",\"load\",\"literacy\",\"lights\",\"dancing\",\"legally\",\"madrid\",\"ted\",\"parks\",\"malcolm\",\"everyday\",\"clay\",\"scheduled\",\"hosted\",\"reserves\",\"factbook\",\"victim\",\"duncan\",\"stack\",\"fascist\",\"cotton\",\"bones\",\"arrest\",\"speculation\",\"beam\",\"carriers\",\"astronomer\",\"prose\",\"argentine\",\"luxembourg\",\"forcing\",\"ab\",\"registered\",\"dies\",\"minimal\",\"orbital\",\"tested\",\"autobiography\",\"kazakhstan\",\"uprising\",\"elaborate\",\"convinced\",\"tomb\",\"adopt\",\"symphony\",\"actively\",\"peru\",\"photographs\",\"geometric\",\"plateau\",\"romanian\",\"proportional\",\"pi\",\"anarchist\",\"ideology\",\"rainfall\",\"amazon\",\"preserve\",\"excess\",\"demanded\",\"circa\",\"wooden\",\"volcanic\",\"ali\",\"charts\",\"ira\",\"moldova\",\"poles\",\"tension\",\"diversity\",\"displays\",\"advances\",\"competing\",\"scales\",\"measurements\",\"inuit\",\"collins\",\"stayed\",\"browser\",\"nodes\",\"catherine\",\"finish\",\"harold\",\"rely\",\"editing\",\"interval\",\"completion\",\"humor\",\"accomplished\",\"consecutive\",\"honey\",\"whale\",\"gift\",\"relatives\",\"worn\",\"zeus\",\"stating\",\"thrown\",\"nicholas\",\"entrance\",\"eighth\",\"flowers\",\"backed\",\"nazis\",\"kick\",\"technological\",\"fate\",\"conservatives\",\"supposedly\",\"enterprise\",\"samples\",\"croatian\",\"enabled\",\"lane\",\"organ\",\"computational\",\"golf\",\"egg\",\"oswald\",\"dec\",\"paved\",\"warrior\",\"cousin\",\"signing\",\"ludwig\",\"contents\",\"attitude\",\"cow\",\"package\",\"select\",\"fifteen\",\"expenditures\",\"lambda\",\"kb\",\"omega\",\"advocate\",\"chaos\",\"eugene\",\"globe\",\"bow\",\"cemetery\",\"remembered\",\"intent\",\"morgan\",\"gases\",\"bridges\",\"ipa\",\"persia\",\"dj\",\"capitalist\",\"voices\",\"engage\",\"attorney\",\"burned\",\"precision\",\"productions\",\"waste\",\"encoding\",\"miami\",\"mu\",\"catalan\",\"availability\",\"inherited\",\"transit\",\"crusade\",\"forbidden\",\"brass\",\"dominican\",\"unicode\",\"annually\",\"vital\",\"advent\",\"equilibrium\",\"calculated\",\"surfaces\",\"calculations\",\"adolf\",\"amsterdam\",\"prussian\",\"dune\",\"predicted\",\"horizontal\",\"attend\",\"winds\",\"hinduism\",\"dust\",\"preparation\",\"rough\",\"jurisdictions\",\"tokyo\",\"bed\",\"ronald\",\"jay\",\"homepage\",\"clergy\",\"rendered\",\"embedded\",\"ha\",\"microwave\",\"physically\",\"ken\",\"populated\",\"murdered\",\"differs\",\"feed\",\"nintendo\",\"und\",\"iraqi\",\"altered\",\"till\",\"syrian\",\"scoring\",\"irc\",\"totally\",\"fathers\",\"pascal\",\"archives\",\"environments\",\"crowd\",\"connecting\",\"dubbed\",\"floppy\",\"deemed\",\"manuscripts\",\"instances\",\"locally\",\"telecommunications\",\"olympics\",\"protocols\",\"cameroon\",\"expelled\",\"transformed\",\"comment\",\"spend\",\"peer\",\"wallace\",\"acceptable\",\"remember\",\"suspended\",\"reagan\",\"dealt\",\"discussions\",\"mccarthy\",\"fiscal\",\"observers\",\"documentation\",\"pilots\",\"passengers\",\"tanks\",\"deposits\",\"sheet\",\"weber\",\"honduras\",\"alberta\",\"enforcement\",\"yale\",\"vessel\",\"poe\",\"marxist\",\"explicit\",\"critique\",\"similarities\",\"dramatically\",\"initiated\",\"promised\",\"tense\",\"statute\",\"ions\",\"ba\",\"barrel\",\"galaxies\",\"edgar\",\"tribal\",\"trace\",\"corn\",\"dying\",\"assassinated\",\"wolf\",\"robin\",\"joan\",\"rhythm\",\"lutheran\",\"willing\",\"intention\",\"firing\",\"pleasure\",\"carefully\",\"famously\",\"faculty\",\"paradox\",\"criticisms\",\"nationalism\",\"designation\",\"pushed\",\"myths\",\"thesis\",\"modification\",\"craft\",\"es\",\"hemisphere\",\"boxing\",\"delivery\",\"resident\",\"extending\",\"feminist\",\"verbs\",\"daughters\",\"orleans\",\"lawyer\",\"arkansas\",\"jefferson\",\"legitimate\",\"celebration\",\"brooks\",\"monk\",\"pact\",\"improvement\",\"multiplication\",\"occasional\",\"nobility\",\"prophets\",\"systematic\",\"vegetables\",\"breed\",\"claude\",\"starred\",\"combustion\",\"distances\",\"hubbard\",\"coca\",\"interactions\",\"mild\",\"treaties\",\"killer\",\"hugo\",\"imf\",\"arctic\",\"limitations\",\"bangladesh\",\"coordinates\",\"harmonic\",\"latitude\",\"monastery\",\"monty\",\"removing\",\"descended\",\"push\",\"canonical\",\"manhattan\",\"machinery\",\"processors\",\"semitism\",\"receiver\",\"contribute\",\"ark\",\"babylonian\",\"sending\",\"dawn\",\"cooking\",\"segment\",\"monks\",\"encountered\",\"enhanced\",\"mines\",\"antiquity\",\"presentation\",\"addressed\",\"capability\",\"constantly\",\"rugby\",\"elephant\",\"cornell\",\"continuity\",\"harmony\",\"terrorism\",\"construct\",\"informal\",\"marry\",\"forever\",\"economist\",\"neil\",\"connect\",\"planes\",\"champions\",\"dismissed\",\"restaurants\",\"provisions\",\"liver\",\"midi\",\"participants\",\"steven\",\"charlie\",\"singers\",\"wounded\",\"saturday\",\"edmund\",\"comparable\",\"sectors\",\"landed\",\"municipality\",\"calgary\",\"dice\",\"voiced\",\"equality\",\"indicating\",\"ward\",\"gaining\",\"equatorial\",\"heights\",\"mitchell\",\"traits\",\"happens\",\"uncertain\",\"combinations\",\"bias\",\"jargon\",\"shots\",\"afl\",\"drivers\",\"internationally\",\"arguing\",\"responded\",\"miss\",\"harm\",\"walker\",\"surprise\",\"passages\",\"inverse\",\"denver\",\"gathering\",\"harbour\",\"correctly\",\"proceedings\",\"acted\",\"advantages\",\"cantor\",\"knife\",\"expand\",\"hired\",\"governmental\",\"putting\",\"geology\",\"sophisticated\",\"talks\",\"trademark\",\"documented\",\"substantially\",\"persecution\",\"phases\",\"navigation\",\"mario\",\"licensed\",\"er\",\"adjective\",\"axioms\",\"crucial\",\"kim\",\"convicted\",\"tiger\",\"lighting\",\"organs\",\"chocolate\",\"abbey\",\"cannon\",\"terror\",\"tended\",\"dissolved\",\"virtue\",\"isles\",\"implementations\",\"separately\",\"leaf\",\"au\",\"clusters\",\"exhibit\",\"readily\",\"pocket\",\"surrender\",\"macedonian\",\"essence\",\"sheep\",\"auto\",\"gap\",\"apostles\",\"meter\",\"trigger\",\"eds\",\"ancestors\",\"advocated\",\"magazines\",\"plates\",\"knowing\",\"plato\",\"loyal\",\"witness\",\"ny\",\"constitute\",\"thirteen\",\"ceased\",\"kant\",\"algeria\",\"rays\",\"portal\",\"highways\",\"fires\",\"soccer\",\"travels\",\"fr\",\"anarchism\",\"guided\",\"sitting\",\"sizes\",\"anywhere\",\"numbered\",\"belonging\",\"cycles\",\"default\",\"mortality\",\"fa\",\"trouble\",\"conscious\",\"severely\",\"injured\",\"eggs\",\"ancestry\",\"civilians\",\"chains\",\"genius\",\"helping\",\"bmw\",\"divorce\",\"accounting\",\"raising\",\"extensions\",\"witnesses\",\"parameters\",\"nm\",\"syllable\",\"db\",\"brussels\",\"warning\",\"boats\",\"ride\",\"altitude\",\"prevented\",\"lens\",\"seal\",\"inland\",\"fragments\",\"referendum\",\"condemned\",\"manufacture\",\"powder\",\"genocide\",\"graphical\",\"cambodia\",\"initiative\",\"eliminated\",\"norm\",\"alcoholic\",\"thoughts\",\"welfare\",\"handling\",\"gen\",\"resolved\",\"considers\",\"promoting\",\"hugh\",\"joining\",\"ltd\",\"interference\",\"findings\",\"nitrogen\",\"monitor\",\"controlling\",\"ratified\",\"darkness\",\"soviets\",\"thermal\",\"reasonable\",\"expanding\",\"pound\",\"violin\",\"suspected\",\"determining\",\"assist\",\"coastline\",\"placing\",\"worse\",\"malta\",\"customer\",\"stick\",\"atmospheric\",\"shipping\",\"mice\",\"ada\",\"plasma\",\"greenland\",\"throw\",\"icon\",\"amd\",\"pearl\",\"websites\",\"supplied\",\"trilogy\",\"whenever\",\"monument\",\"insects\",\"meets\",\"wise\",\"rounds\",\"cola\",\"bowie\",\"panel\",\"personally\",\"gps\",\"colonel\",\"folklore\",\"arnold\",\"sessions\",\"coordinate\",\"leagues\",\"rhine\",\"thick\",\"utility\",\"settings\",\"polar\",\"unclear\",\"wake\",\"venice\",\"emerging\",\"aged\",\"universally\",\"pride\",\"spirits\",\"rica\",\"commanded\",\"outcome\",\"puerto\",\"strikes\",\"theologian\",\"guatemala\",\"decrease\",\"suburbs\",\"friendship\",\"wedding\",\"miscellaneous\",\"rio\",\"accessible\",\"georg\",\"rendering\",\"sung\",\"flights\",\"pounds\",\"cosmic\",\"customers\",\"swing\",\"programmers\",\"epistle\",\"ecuador\",\"wasn\",\"bitter\",\"zones\",\"colored\",\"xi\",\"commitment\",\"collaboration\",\"reflects\",\"cf\",\"sized\",\"commissioned\",\"burns\",\"triangle\",\"shop\",\"ois\",\"cornwall\",\"psi\",\"hannibal\",\"robot\",\"burn\",\"successive\",\"nomination\",\"harris\",\"morality\",\"tons\",\"disappeared\",\"chair\",\"mapping\",\"heinrich\",\"lions\",\"ammunition\",\"bicycle\",\"lovecraft\",\"tolkien\",\"ecology\",\"interviews\",\"neighboring\",\"ancestor\",\"crossed\",\"reserved\",\"revenues\",\"portable\",\"rescue\",\"rap\",\"charlemagne\",\"scandal\",\"churchill\",\"behalf\",\"klan\",\"dishes\",\"participated\",\"fascism\",\"rand\",\"awareness\",\"promise\",\"fruits\",\"autumn\",\"archipelago\",\"sa\",\"ninth\",\"entries\",\"bat\",\"viruses\",\"induced\",\"suite\",\"derivatives\",\"joy\",\"absorbed\",\"lighter\",\"denote\",\"economists\",\"summit\",\"volunteers\",\"commercially\",\"synthetic\",\"euclidean\",\"sketch\",\"acceleration\",\"answers\",\"belongs\",\"talking\",\"lectures\",\"dreams\",\"deliberately\",\"wesley\",\"vladimir\",\"options\",\"numerical\",\"departure\",\"gilbert\",\"button\",\"worker\",\"denoted\",\"evident\",\"qualities\",\"delaware\",\"mrs\",\"op\",\"beethoven\",\"communicate\",\"quote\",\"shoot\",\"empirical\",\"utc\",\"melbourne\",\"bytes\",\"monsters\",\"reformed\",\"drums\",\"quest\",\"sicily\",\"lynch\",\"athletic\",\"burial\",\"mentions\",\"encourage\",\"escaped\",\"ignored\",\"scholarship\",\"sk\",\"sodium\",\"papal\",\"dress\",\"suggesting\",\"cap\",\"presumably\",\"ron\",\"breeding\",\"seed\",\"chronicles\",\"fail\",\"respond\",\"uncommon\",\"sing\",\"challenged\",\"bloody\",\"anatomy\",\"discrimination\",\"flower\",\"picked\",\"fill\",\"cryptography\",\"leon\",\"tip\",\"nile\",\"topology\",\"walking\",\"slower\",\"poorly\",\"famine\",\"facto\",\"angles\",\"measuring\",\"cylinder\",\"wage\",\"assets\",\"cache\",\"anarcho\",\"dynamics\",\"preventing\",\"discoveries\",\"hate\",\"assisted\",\"senators\",\"static\",\"detect\",\"hampshire\",\"keith\",\"raymond\",\"discuss\",\"abbreviation\",\"teeth\",\"imported\",\"protests\",\"carlos\",\"suppose\",\"sequel\",\"holland\",\"andr\",\"tie\",\"friction\",\"scripture\",\"knows\",\"waiting\",\"loved\",\"purchasing\",\"hostile\",\"kurt\",\"pen\",\"ghana\",\"episcopal\",\"dean\",\"oliver\",\"evangelical\",\"creed\",\"achievement\",\"borrowed\",\"visiting\",\"compromise\",\"asking\",\"pin\",\"kelly\",\"infrared\",\"wildlife\",\"temples\",\"definite\",\"boom\",\"toxic\",\"buses\",\"parker\",\"demons\",\"opportunities\",\"introducing\",\"publish\",\"contracts\",\"jos\",\"madison\",\"cologne\",\"contexts\",\"finger\",\"giovanni\",\"grandson\",\"seized\",\"mill\",\"conceived\",\"grammatical\",\"las\",\"demon\",\"asimov\",\"patriarch\",\"wireless\",\"ambassador\",\"jokes\",\"armour\",\"jihad\",\"peaceful\",\"dominance\",\"bombs\",\"aa\",\"gross\",\"compositions\",\"barbara\",\"faq\",\"jeff\",\"arch\",\"discover\",\"editors\",\"breaks\",\"gear\",\"thailand\",\"instant\",\"ethanol\",\"computation\",\"cartridge\",\"sh\",\"yahweh\",\"disks\",\"pursued\",\"scholarly\",\"hume\",\"fertility\",\"inheritance\",\"ranking\",\"dam\",\"maine\",\"sp\",\"rocky\",\"topological\",\"crick\",\"doctrines\",\"accurately\",\"feedback\",\"asteroid\",\"odd\",\"drummer\",\"gardens\",\"speaks\",\"municipalities\",\"gathered\",\"strips\",\"sit\",\"cream\",\"fed\",\"axiom\",\"jason\",\"arise\",\"helen\",\"audiences\",\"treatise\",\"assuming\",\"lacking\",\"annexed\",\"possess\",\"ernst\",\"competitions\",\"commodities\",\"destination\",\"armenian\",\"aftermath\",\"geological\",\"radioactive\",\"meditation\",\"mar\",\"victorian\",\"dracula\",\"voluntary\",\"focuses\",\"revision\",\"suddenly\",\"julia\",\"passive\",\"riding\",\"seeds\",\"renowned\",\"traced\",\"simplest\",\"wait\",\"angola\",\"arena\",\"households\",\"predecessor\",\"clarke\",\"saxony\",\"observances\",\"yankees\",\"playoffs\",\"evaluation\",\"digits\",\"armor\",\"guerrilla\",\"ernest\",\"festivals\",\"kenneth\",\"censorship\",\"fiber\",\"beatles\",\"hegel\",\"resurrection\",\"turks\",\"accordingly\",\"duration\",\"hoped\",\"vincent\",\"bang\",\"commissioner\",\"talent\",\"incomplete\",\"withdrew\",\"encounter\",\"danube\",\"informed\",\"gains\",\"hearts\",\"acknowledged\",\"embassy\",\"filmed\",\"restaurant\",\"dennis\",\"flags\",\"giants\",\"fugue\",\"expense\",\"barcelona\",\"applying\",\"funded\",\"consistently\",\"digit\",\"youngest\",\"favored\",\"mankind\",\"demonstrate\",\"prohibited\",\"adelaide\",\"necessity\",\"fuller\",\"travelling\",\"respected\",\"copenhagen\",\"resembles\",\"prefix\",\"sided\",\"barrier\",\"lying\",\"loose\",\"lecture\",\"testimony\",\"yield\",\"princes\",\"counting\",\"lessons\",\"excessive\",\"ace\",\"columns\",\"acute\",\"lock\",\"aberdeen\",\"purple\",\"flood\",\"hms\",\"nowadays\",\"enzymes\",\"parody\",\"brandenburg\",\"fraction\",\"creek\",\"mad\",\"extraordinary\",\"proprietary\",\"suffer\",\"hamburg\",\"calcium\",\"amber\",\"traveled\",\"reproduction\",\"borough\",\"restore\",\"gr\",\"eclipse\",\"bobby\",\"cornish\",\"accordance\",\"activists\",\"factions\",\"cooling\",\"implied\",\"prisoner\",\"retreat\",\"henri\",\"chips\",\"deity\",\"thirds\",\"rogers\",\"feared\",\"credits\",\"simpler\",\"detected\",\"calculation\",\"paint\",\"hamlet\",\"ix\",\"associations\",\"helps\",\"requests\",\"telephones\",\"maurice\",\"excluded\",\"accent\",\"crowned\",\"anna\",\"gm\",\"scattered\",\"indonesian\",\"patents\",\"clown\",\"consumers\",\"organised\",\"imprisoned\",\"boards\",\"garfield\",\"militia\",\"marble\",\"prototype\",\"strongest\",\"gaelic\",\"frames\",\"nfc\",\"pm\",\"infinity\",\"russians\",\"bars\",\"ipv\",\"warren\",\"rooms\",\"managers\",\"compilation\",\"damascus\",\"timber\",\"preceding\",\"sufficiently\",\"layout\",\"kenya\",\"eritrea\",\"wimbledon\",\"ar\",\"harp\",\"diagnosis\",\"sudden\",\"deities\",\"permanently\",\"cooper\",\"practically\",\"mussolini\",\"disciplines\",\"stem\",\"airline\",\"antarctic\",\"chiefs\",\"architectural\",\"rod\",\"transactions\",\"travelled\",\"gpl\",\"mpeg\",\"preservation\",\"professionals\",\"abbreviated\",\"hereditary\",\"arrow\",\"armstrong\",\"improving\",\"chiefly\",\"revived\",\"fortune\",\"shifted\",\"merchants\",\"boxer\",\"outstanding\",\"correspond\",\"springs\",\"cubic\",\"britannica\",\"legion\",\"introduce\",\"bohemia\",\"feelings\",\"arrangements\",\"implications\",\"trail\",\"reduces\",\"wheat\",\"augustine\",\"consideration\",\"comprised\",\"utah\",\"loaded\",\"ease\",\"shopping\",\"sentences\",\"switching\",\"sisters\",\"clause\",\"chromosomes\",\"dancer\",\"peirce\",\"eventual\",\"neighborhood\",\"matt\",\"practitioners\",\"presley\",\"emergence\",\"injuries\",\"missionary\",\"fatal\",\"submitted\",\"icons\",\"merger\",\"frankfurt\",\"packet\",\"eta\",\"lesbian\",\"saga\",\"chromosome\",\"bipolar\",\"imply\",\"differently\",\"pointing\",\"collecting\",\"brunswick\",\"wells\",\"leather\",\"healthy\",\"walt\",\"defendant\",\"lift\",\"determination\",\"drake\",\"carnegie\",\"pitcher\",\"grid\",\"bengal\",\"delay\",\"sponsored\",\"methodist\",\"sudan\",\"attacking\",\"ironically\",\"marcus\",\"bacon\",\"obviously\",\"ni\",\"micro\",\"squadron\",\"byte\",\"settle\",\"centres\",\"indies\",\"solving\",\"jedi\",\"hendrix\",\"dancers\",\"rejection\",\"enters\",\"joshua\",\"glory\",\"wet\",\"classics\",\"designers\",\"foster\",\"departments\",\"beneath\",\"aims\",\"hurricane\",\"liberia\",\"highlands\",\"lit\",\"eagle\",\"flew\",\"interstate\",\"scotia\",\"occurrence\",\"isn\",\"videos\",\"chapel\",\"spelled\",\"brooklyn\",\"platforms\",\"butler\",\"ralph\",\"definitive\",\"grandfather\",\"grass\",\"attendance\",\"clement\",\"paradise\",\"rubber\",\"innovation\",\"intensity\",\"bin\",\"denotes\",\"offense\",\"competitors\",\"powell\",\"chronicle\",\"concentrations\",\"combining\",\"jerome\",\"nixon\",\"flame\",\"ge\",\"conductor\",\"pursuit\",\"iq\",\"cancelled\",\"democrat\",\"incorrect\",\"profound\",\"tobacco\",\"ra\",\"htm\",\"appeals\",\"collect\",\"lithium\",\"conjunction\",\"kashmir\",\"tuning\",\"ethernet\",\"monaco\",\"alfonso\",\"clients\",\"libertarian\",\"rifles\",\"senses\",\"dense\",\"kilometres\",\"rebel\",\"ear\",\"sexuality\",\"colours\",\"lloyd\",\"tries\",\"oxide\",\"shapes\",\"funk\",\"onwards\",\"loosely\",\"equivalence\",\"switched\",\"firearms\",\"talmud\",\"regulated\",\"profits\",\"whereby\",\"attraction\",\"saturn\",\"temporarily\",\"filed\",\"renewed\",\"mozambique\",\"forgotten\",\"traveling\",\"eisenhower\",\"lsd\",\"simplified\",\"mongol\",\"soundtrack\",\"specifications\",\"thatcher\",\"nervous\",\"resort\",\"telling\",\"forums\",\"provisional\",\"revenge\",\"avoided\",\"counted\",\"combine\",\"pink\",\"approached\",\"allah\",\"addiction\",\"registers\",\"feminism\",\"altogether\",\"coupled\",\"skilled\",\"hopes\",\"attractive\",\"museums\",\"concerto\",\"neighbouring\",\"tours\",\"chi\",\"poll\",\"alex\",\"tune\",\"download\",\"orbits\",\"cs\",\"appointment\",\"pack\",\"dinosaurs\",\"chronic\",\"semiconductor\",\"flemish\",\"duchy\",\"believing\",\"inherent\",\"expect\",\"strategies\",\"choosing\",\"rating\",\"preference\",\"wwii\",\"harvey\",\"frankenstein\",\"permit\",\"ng\",\"partnership\",\"programmer\",\"sharon\",\"harsh\",\"mandate\",\"mt\",\"rebels\",\"defended\",\"possessed\",\"gutenberg\",\"pull\",\"boas\",\"franc\",\"graduated\",\"guards\",\"battalion\",\"collectively\",\"streams\",\"honorary\",\"estonian\",\"mali\",\"protestants\",\"malay\",\"andy\",\"telescope\",\"celestial\",\"broadly\",\"hp\",\"mb\",\"mandarin\",\"peasants\",\"seeks\",\"seattle\",\"aggressive\",\"speeches\",\"requested\",\"dartmouth\",\"rush\",\"ally\",\"endangered\",\"pittsburgh\",\"emissions\",\"solved\",\"herzegovina\",\"hemingway\",\"assert\",\"diving\",\"photography\",\"achilles\",\"refuge\",\"vatican\",\"explored\",\"sculpture\",\"valued\",\"owing\",\"employ\",\"contributing\",\"ore\",\"tensions\",\"climbing\",\"hybrid\",\"deployed\",\"successes\",\"fleming\",\"tourists\",\"expectancy\",\"impressive\",\"bore\",\"guitars\",\"fiji\",\"achievements\",\"derive\",\"verses\",\"elect\",\"investigations\",\"magical\",\"merit\",\"prague\",\"continuously\",\"kabul\",\"shi\",\"silicon\",\"ceo\",\"nobles\",\"dances\",\"eliminate\",\"cease\",\"conversation\",\"infected\",\"odyssey\",\"assembled\",\"bullet\",\"passion\",\"payment\",\"isotopes\",\"suited\",\"heating\",\"icelandic\",\"chicken\",\"breton\",\"debated\",\"stops\",\"idaho\",\"dictator\",\"minds\",\"prevention\",\"orthodoxy\",\"gif\",\"prophecy\",\"patron\",\"attractions\",\"czechoslovakia\",\"promotion\",\"penguin\",\"montenegro\",\"openly\",\"ruins\",\"detective\",\"heresy\",\"bnp\",\"wishes\",\"imaginary\",\"attribute\",\"vulnerable\",\"apartment\",\"loyalty\",\"alter\",\"realism\",\"cole\",\"alps\",\"marshal\",\"parity\",\"resemble\",\"leto\",\"woods\",\"threats\",\"ecclesiastical\",\"motorola\",\"euler\",\"satan\",\"acoustic\",\"isaiah\",\"theorists\",\"wants\",\"lifestyle\",\"validity\",\"steady\",\"hub\",\"analogous\",\"humorous\",\"malawi\",\"fur\",\"dolphins\",\"lightning\",\"declares\",\"horizon\",\"hawaiian\",\"trends\",\"heroin\",\"guam\",\"enigma\",\"venus\",\"destroying\",\"metaphor\",\"hopkins\",\"warriors\",\"generals\",\"everywhere\",\"charity\",\"ridge\",\"inquiry\",\"asks\",\"paperback\",\"fossils\",\"discourse\",\"heated\",\"johannes\",\"republics\",\"aided\",\"vietnamese\",\"mathrm\",\"allegations\",\"violation\",\"abundant\",\"enzyme\",\"br\",\"ash\",\"controller\",\"hammer\",\"touring\",\"mongolia\",\"praise\",\"flexible\",\"celebrate\",\"hitchcock\",\"messiah\",\"gram\",\"challenges\",\"seas\",\"corpus\",\"ski\",\"intervals\",\"hudson\",\"sinatra\",\"harder\",\"flesh\",\"fantastic\",\"mandatory\",\"usd\",\"posts\",\"throwing\",\"pace\",\"monday\",\"perfectly\",\"overcome\",\"pa\",\"disciples\",\"domination\",\"prepare\",\"antarctica\",\"arsenal\",\"suffix\",\"outbreak\",\"celebrity\",\"provision\",\"astrology\",\"habsburg\",\"arabian\",\"networking\",\"bubble\",\"manpower\",\"hollow\",\"emission\",\"approximate\",\"bj\",\"smoke\",\"victories\",\"dependence\",\"bachelor\",\"nick\",\"makers\",\"comprises\",\"memories\",\"linguists\",\"qaeda\",\"gaming\",\"numerals\",\"fingers\",\"monthly\",\"equator\",\"exodus\",\"modulation\",\"undergraduate\",\"mg\",\"assessment\",\"motivated\",\"morse\",\"composite\",\"tight\",\"ka\",\"addressing\",\"adds\",\"fastest\",\"albeit\",\"attract\",\"surname\",\"jew\",\"decisive\",\"queens\",\"anonymous\",\"performers\",\"encryption\",\"phonetic\",\"neighbors\",\"oak\",\"draws\",\"justification\",\"effectiveness\",\"enterprises\",\"fails\",\"archaeology\",\"morrison\",\"prix\",\"economically\",\"pr\",\"inclusion\",\"silence\",\"absorption\",\"dish\",\"clan\",\"minorities\",\"ashes\",\"tamil\",\"hello\",\"lennon\",\"differing\",\"alternatively\",\"oklahoma\",\"ingredients\",\"inserted\",\"occupy\",\"recurring\",\"detection\",\"similarity\",\"athlete\",\"nose\",\"fi\",\"hamas\",\"xp\",\"providers\",\"ivan\",\"cloud\",\"indirect\",\"emphasized\",\"saving\",\"lawyers\",\"pursue\",\"friday\",\"acquisition\",\"mysterious\",\"limestone\",\"runways\",\"erosion\",\"byron\",\"exiled\",\"believers\",\"focusing\",\"cipher\",\"arrive\",\"tactical\",\"erected\",\"span\",\"impression\",\"debates\",\"spite\",\"prompted\",\"ammonia\",\"prey\",\"sects\",\"wore\",\"pet\",\"hermann\",\"gambling\",\"symmetry\",\"metallica\",\"faction\",\"prevalent\",\"predict\",\"np\",\"leonard\",\"nicknamed\",\"failing\",\"naked\",\"mosque\",\"susan\",\"reich\",\"nigeria\",\"kid\",\"bet\",\"nominal\",\"irregular\",\"feudal\",\"twins\",\"quad\",\"minneapolis\",\"friedman\",\"anchor\",\"priority\",\"determines\",\"rises\",\"motors\",\"reporting\",\"wittgenstein\",\"flute\",\"prosecution\",\"reversed\",\"demonstration\",\"cookies\",\"peaks\",\"fever\",\"fees\",\"oriental\",\"manuel\",\"caves\",\"xiv\",\"literal\",\"marking\",\"heracles\",\"asserted\",\"widow\",\"exercised\",\"careful\",\"eddie\",\"veterans\",\"reveal\",\"crop\",\"continuation\",\"finals\",\"convenient\",\"parish\",\"sentenced\",\"casualties\",\"mature\",\"pressures\",\"manage\",\"precipitation\",\"radius\",\"supernatural\",\"montgomery\",\"warsaw\",\"hardly\",\"grouped\",\"odds\",\"traces\",\"healing\",\"michel\",\"stance\",\"histories\",\"gnostic\",\"segments\",\"firms\",\"elevated\",\"tsar\",\"gaza\",\"excluding\",\"shuttle\",\"angular\",\"brunei\",\"regiment\",\"chord\",\"ta\",\"prohibition\",\"circus\",\"antony\",\"auxiliary\",\"daleks\",\"handled\",\"establishments\",\"fortress\",\"contemporaries\",\"winters\",\"succeed\",\"relay\",\"decreased\",\"declare\",\"itu\",\"exhibition\",\"notorious\",\"paying\",\"sends\",\"trick\",\"vectors\",\"metre\",\"poetic\",\"discography\",\"playwright\",\"attitudes\",\"oppose\",\"induction\",\"venture\",\"innovations\",\"obscure\",\"chambers\",\"haydn\",\"comprising\",\"traded\",\"keyboards\",\"defending\",\"uranium\",\"specially\",\"licensing\",\"feminine\",\"bolivia\",\"timing\",\"oath\",\"duplicate\",\"kryptonite\",\"nt\",\"shut\",\"imprisonment\",\"innocent\",\"dominate\",\"versa\",\"vikings\",\"kinetic\",\"angry\",\"proposals\",\"temperate\",\"schemes\",\"mauritius\",\"playoff\",\"prosperity\",\"boiling\",\"acronym\",\"somewhere\",\"luthor\",\"eleanor\",\"sins\",\"calculate\",\"coronation\",\"saul\",\"comprise\",\"palm\",\"acres\",\"insisted\",\"artifacts\",\"tenth\",\"justified\",\"realistic\",\"dominion\",\"rotating\",\"painters\",\"confined\",\"cheap\",\"luck\",\"searching\",\"snake\",\"chilean\",\"theatrical\",\"suspension\",\"rna\",\"dukes\",\"rebuilt\",\"cardinals\",\"kde\",\"slight\",\"adequate\",\"functioning\",\"troy\",\"phil\",\"telegraph\",\"eldest\",\"metaphysics\",\"explanations\",\"acclaimed\",\"carthage\",\"closing\",\"mini\",\"isolation\",\"kit\",\"eg\",\"venezuela\",\"consumed\",\"armenia\",\"balkan\",\"allegiance\",\"modifications\",\"ff\",\"motorcycle\",\"rangle\",\"genuine\",\"anxiety\",\"labeled\",\"reprinted\",\"mask\",\"prone\",\"resolve\",\"domains\",\"macdonald\",\"questioned\",\"toll\",\"physicists\",\"cartoons\",\"freight\",\"ferry\",\"unrelated\",\"tribunal\",\"gorbachev\",\"cypriot\",\"scriptures\",\"viking\",\"ithaca\",\"sabbath\",\"compatibility\",\"profession\",\"attending\",\"masculine\",\"associates\",\"nerve\",\"beads\",\"optional\",\"cuts\",\"gibson\",\"conrad\",\"approximation\",\"polynomial\",\"wavelength\",\"armoured\",\"nice\",\"marxism\",\"couples\",\"motto\",\"probe\",\"devised\",\"fertile\",\"deliver\",\"zappa\",\"structured\",\"ecological\",\"fu\",\"carved\",\"architects\",\"strait\",\"dozen\",\"brigade\",\"scandinavian\",\"gospels\",\"lanka\",\"bankruptcy\",\"rite\",\"schwarzenegger\",\"elimination\",\"capitol\",\"colonization\",\"circulation\",\"aligned\",\"empires\",\"astronomers\",\"sierra\",\"arrows\",\"kyoto\",\"resignation\",\"tolerance\",\"wives\",\"aegean\",\"drove\",\"eaten\",\"yard\",\"responses\",\"towers\",\"cairo\",\"manifold\",\"intercourse\",\"dodgers\",\"distributions\",\"mikhail\",\"currents\",\"brick\",\"das\",\"rivals\",\"secured\",\"farms\",\"cosmology\",\"discusses\",\"journals\",\"sexually\",\"lab\",\"acquire\",\"ink\",\"possessions\",\"khmer\",\"handbook\",\"eden\",\"welcome\",\"wheels\",\"hacker\",\"mk\",\"manifesto\",\"taxation\",\"formulation\",\"quiet\",\"reflecting\",\"diary\",\"drag\",\"dante\",\"booth\",\"congressional\",\"seemingly\",\"accession\",\"sahara\",\"loan\",\"conversely\",\"agenda\",\"constitutes\",\"intensive\",\"geoffrey\",\"incorporate\",\"brings\",\"puts\",\"viewers\",\"cruise\",\"malaria\",\"bowling\",\"quarterback\",\"planetary\",\"dickens\",\"chiang\",\"criticised\",\"broader\",\"hart\",\"republicans\",\"illustration\",\"sick\",\"dictionaries\",\"boxes\",\"esoteric\",\"theologians\",\"guidance\",\"algae\",\"pete\",\"browns\",\"fraud\",\"deposed\",\"valve\",\"fitzgerald\",\"unesco\",\"marilyn\",\"conscription\",\"wages\",\"bomber\",\"empress\",\"tin\",\"gnome\",\"suppressed\",\"alternatives\",\"linking\",\"peers\",\"freed\",\"substitute\",\"nephew\",\"successors\",\"reflection\",\"vegetation\",\"timor\",\"prominence\",\"buffer\",\"innovative\",\"xavier\",\"ukrainian\",\"sixteen\",\"tubes\",\"spiral\",\"crystals\",\"octave\",\"explosives\",\"microprocessor\",\"theft\",\"paths\",\"repeat\",\"din\",\"basically\",\"evans\",\"commentators\",\"unstable\",\"potter\",\"franks\",\"jon\",\"eiffel\",\"ticket\",\"drinks\",\"thai\",\"parade\",\"hitting\",\"sony\",\"possibilities\",\"lucas\",\"crete\",\"bombers\",\"fitted\",\"retail\",\"macbeth\",\"bluetooth\",\"congregation\",\"fourier\",\"mumbai\",\"coercion\",\"clouds\",\"cp\",\"protective\",\"pulled\",\"sarah\",\"bind\",\"releasing\",\"stamp\",\"dictatorship\",\"spy\",\"dee\",\"gabriel\",\"calculator\",\"hi\",\"israelites\",\"incidents\",\"inferior\",\"registration\",\"bsd\",\"castile\",\"harmonica\",\"licenses\",\"blackadder\",\"reads\",\"delayed\",\"greenhouse\",\"allan\",\"diffusion\",\"coptic\",\"observe\",\"slovenia\",\"flowing\",\"faithful\",\"scripts\",\"arises\",\"honored\",\"han\",\"regent\",\"carey\",\"resist\",\"thinkers\",\"sometime\",\"mud\",\"treasury\",\"grants\",\"sat\",\"qualified\",\"enforce\",\"compulsory\",\"adaptations\",\"developer\",\"correction\",\"decree\",\"enable\",\"leipzig\",\"gerald\",\"shops\",\"summers\",\"azerbaijan\",\"carroll\",\"invisible\",\"elevator\",\"sail\",\"fee\",\"dissolution\",\"elephants\",\"latvian\",\"cricketer\",\"riots\",\"choices\",\"anger\",\"montana\",\"authorized\",\"analytic\",\"aesthetic\",\"mixing\",\"dwarf\",\"torture\",\"crude\",\"inquisition\",\"judgement\",\"sporting\",\"shells\",\"processed\",\"luis\",\"soap\",\"souls\",\"unification\",\"drawings\",\"tommy\",\"valleys\",\"relates\",\"constituent\",\"undergo\",\"spider\",\"cube\",\"heavier\",\"footage\",\"esa\",\"moments\",\"lung\",\"bug\",\"maker\",\"scandinavia\",\"slot\",\"meme\",\"weakened\",\"imperialism\",\"pipe\",\"chronology\",\"mason\",\"projection\",\"sur\",\"resistant\",\"ren\",\"converts\",\"iec\",\"retains\",\"exploitation\",\"preceded\",\"flip\",\"formulated\",\"quarters\",\"founders\",\"kepler\",\"customary\",\"roof\",\"unpaved\",\"container\",\"transcription\",\"cr\",\"nba\",\"interact\",\"subjective\",\"publicity\",\"mountainous\",\"fragment\",\"cbs\",\"vancouver\",\"brilliant\",\"weakness\",\"syllables\",\"prehistoric\",\"earthquakes\",\"township\",\"fourteen\",\"ears\",\"reporter\",\"nights\",\"copied\",\"targeted\",\"conditional\",\"antioch\",\"gehrig\",\"bandwidth\",\"grail\",\"airways\",\"dns\",\"popularized\",\"counterparts\",\"battlefield\",\"proclamation\",\"accepting\",\"petersburg\",\"crater\",\"popularly\",\"melody\",\"ambitious\",\"judiciary\",\"aboard\",\"squares\",\"muscles\",\"bigger\",\"partition\",\"gifts\",\"thrust\",\"lou\",\"pianist\",\"curves\",\"tigers\",\"anarchists\",\"finest\",\"conclusions\",\"tag\",\"badly\",\"chase\",\"enacted\",\"herman\",\"haven\",\"motivation\",\"obligations\",\"collapsed\",\"descendant\",\"servant\",\"merge\",\"connects\",\"cdots\",\"formations\",\"protecting\",\"viewing\",\"exit\",\"southwestern\",\"boot\",\"alike\",\"gang\",\"yahoo\",\"interim\",\"lateral\",\"aol\",\"swords\",\"clarinet\",\"armored\",\"deny\",\"cent\",\"costume\",\"performs\",\"affiliated\",\"pat\",\"infamous\",\"wholly\",\"palestinians\",\"junction\",\"wa\",\"apostolic\",\"dianetics\",\"sqrt\",\"amplifier\",\"beans\",\"hypnosis\",\"enforced\",\"triumph\",\"assumes\",\"aired\",\"tragedy\",\"coral\",\"suffrage\",\"roberts\",\"aerial\",\"displaced\",\"atoll\",\"printer\",\"airplane\",\"madagascar\",\"admission\",\"affects\",\"soup\",\"pierce\",\"dewey\",\"defeats\",\"oz\",\"diplomat\",\"beverages\",\"inability\",\"md\",\"commit\",\"hood\",\"principally\",\"visits\",\"analogy\",\"bid\",\"punch\",\"pyramid\",\"recreational\",\"generalized\",\"numbering\",\"click\",\"pg\",\"meal\",\"pregnancy\",\"skating\",\"baghdad\",\"joyce\",\"shortened\",\"charlotte\",\"cobain\",\"holder\",\"controversies\",\"backing\",\"sustained\",\"postal\",\"archaic\",\"blacks\",\"terrestrial\",\"volunteer\",\"productive\",\"dose\",\"neumann\",\"reveals\",\"speculated\",\"pot\",\"swimming\",\"jungle\",\"subgroup\",\"ceremonial\",\"privileges\",\"dressed\",\"oxidation\",\"nbc\",\"kurdish\",\"landmark\",\"hobbes\",\"sanctions\",\"theodore\",\"cartoonist\",\"survivors\",\"rick\",\"precursor\",\"ideological\",\"rudolf\",\"subtle\",\"discussing\",\"bold\",\"edwin\",\"sake\",\"zinc\",\"representations\",\"cloth\",\"cheaper\",\"metabolism\",\"manned\",\"gateway\",\"sect\",\"platinum\",\"leonardo\",\"lex\",\"cue\",\"bb\",\"birmingham\",\"phones\",\"afterlife\",\"guinness\",\"lacked\",\"standardized\",\"continuum\",\"photograph\",\"rev\",\"suggestion\",\"bounded\",\"deficit\",\"concerts\",\"programmes\",\"extract\",\"chaucer\",\"journalism\",\"fda\",\"shannon\",\"expectations\",\"peel\",\"prayers\",\"repair\",\"bogart\",\"lodge\",\"labels\",\"lover\",\"probable\",\"skull\",\"chest\",\"relied\",\"absent\",\"dozens\",\"hank\",\"cultivation\",\"relies\",\"analytical\",\"dairy\",\"collision\",\"rivalry\",\"remarks\",\"strain\",\"inscription\",\"fallacy\",\"whales\",\"milwaukee\",\"assumptions\",\"cameo\",\"hausdorff\",\"pirates\",\"eminem\",\"update\",\"residential\",\"ruby\",\"hal\",\"cervantes\",\"masturbation\",\"creationism\",\"spencer\",\"ambiguous\",\"interpret\",\"guidelines\",\"newfoundland\",\"alchemy\",\"continents\",\"mystical\",\"mozart\",\"ivory\",\"balanced\",\"southeastern\",\"poison\",\"slope\",\"tech\",\"sunni\",\"guyana\",\"squad\",\"citing\",\"albanians\",\"comets\",\"nov\",\"absolutely\",\"murders\",\"mercedes\",\"interfaces\",\"coloured\",\"rachel\",\"apostle\",\"eusebius\",\"mips\",\"overthrow\",\"adherents\",\"bahrain\",\"rites\",\"businessman\",\"burton\",\"midnight\",\"beast\",\"counterpart\",\"dinosaur\",\"originating\",\"prevents\",\"meta\",\"botswana\",\"treatments\",\"ie\",\"lawsuit\",\"metallic\",\"avoiding\",\"diaspora\",\"dots\",\"benz\",\"disco\",\"cpus\",\"abbot\",\"privately\",\"socially\",\"proposition\",\"nebraska\",\"beating\",\"committees\",\"homo\",\"grip\",\"limiting\",\"pressed\",\"noting\",\"imaging\",\"insight\",\"clone\",\"stolen\",\"shipped\",\"habitat\",\"anchorage\",\"jumping\",\"breakdown\",\"northwestern\",\"feeding\",\"fencing\",\"risks\",\"cauchy\",\"highland\",\"colleagues\",\"closure\",\"canadians\",\"rows\",\"favourite\",\"gaul\",\"denomination\",\"cleese\",\"rituals\",\"theoretically\",\"wonder\",\"grains\",\"bruno\",\"negotiated\",\"keeps\",\"obligation\",\"accusations\",\"proceeds\",\"sr\",\"shaw\",\"pregnant\",\"homeland\",\"yields\",\"lengthy\",\"beef\",\"indirectly\",\"sullivan\",\"jesuit\",\"shoes\",\"ratings\",\"tuned\",\"owen\",\"execute\",\"apparatus\",\"blog\",\"deeper\",\"administrator\",\"doubles\",\"livestock\",\"rolls\",\"complaints\",\"methane\",\"lang\",\"devon\",\"taliban\",\"delhi\",\"eugenics\",\"memoirs\",\"mutations\",\"boss\",\"cowboys\",\"burroughs\",\"barbados\",\"nehru\",\"proceeded\",\"explaining\",\"integrity\",\"harmful\",\"ideals\",\"defenders\",\"dividing\",\"benedict\",\"seasonal\",\"unlimited\",\"unpopular\",\"breast\",\"reply\",\"min\",\"binomial\",\"regards\",\"freedoms\",\"gem\",\"marketed\",\"habits\",\"codex\",\"belize\",\"hezbollah\",\"expressing\",\"affecting\",\"xml\",\"ordering\",\"obtaining\",\"sorts\",\"temporal\",\"extant\",\"completing\",\"fernando\",\"grows\",\"investors\",\"explore\",\"swept\",\"thumb\",\"infections\",\"colspan\",\"ptolemy\",\"lisbon\",\"ioc\",\"furniture\",\"eligible\",\"gradual\",\"solids\",\"hazards\",\"mafia\",\"rouge\",\"edges\",\"rope\",\"braves\",\"nicaragua\",\"cello\",\"beneficial\",\"clothes\",\"rainbow\",\"nationalists\",\"wished\",\"bottle\",\"harper\",\"cicero\",\"hurt\",\"identifying\",\"arrays\",\"null\",\"violations\",\"generating\",\"terrorists\",\"lp\",\"crescent\",\"constraints\",\"lengths\",\"eva\",\"bare\",\"prc\",\"microscope\",\"helsinki\",\"inca\",\"karate\",\"mod\",\"abd\",\"cubs\",\"blamed\",\"northeastern\",\"verbal\",\"dome\",\"importantly\",\"dakota\",\"contested\",\"locke\",\"proximity\",\"frozen\",\"barely\",\"prolific\",\"messenger\",\"lowlands\",\"recover\",\"exotic\",\"worms\",\"marriages\",\"filming\",\"offspring\",\"theta\",\"ko\",\"witch\",\"frankish\",\"hull\",\"ferrari\",\"interrupt\",\"receptor\",\"overwhelming\",\"fuels\",\"inscriptions\",\"xii\",\"belonged\",\"farmer\",\"irving\",\"comparing\",\"predominant\",\"nautical\",\"slovakia\",\"tertiary\",\"ethiopian\",\"djibouti\",\"mate\",\"announces\",\"bristol\",\"modify\",\"braille\",\"cone\",\"shoulder\",\"mesopotamia\",\"asylum\",\"packages\",\"meaningful\",\"hide\",\"chapman\",\"ep\",\"annexation\",\"leeds\",\"dharma\",\"beck\",\"authoritarian\",\"justify\",\"spreading\",\"emotion\",\"satellites\",\"indication\",\"depicting\",\"confederacy\",\"destructive\",\"laos\",\"blessed\",\"raid\",\"tallest\",\"breathing\",\"payments\",\"atheists\",\"undertaken\",\"berber\",\"proceed\",\"burden\",\"den\",\"treating\",\"dame\",\"africans\",\"complementary\",\"smoking\",\"imdb\",\"spatial\",\"bonding\",\"judged\",\"exponential\",\"treason\",\"bride\",\"carol\",\"lucy\",\"seldom\",\"sociology\",\"hera\",\"considerations\",\"garrison\",\"surrendered\",\"ought\",\"shelter\",\"tens\",\"amnesty\",\"guarantee\",\"functionality\",\"gustav\",\"header\",\"combines\",\"truck\",\"backwards\",\"panama\",\"georges\",\"deputies\",\"silk\",\"flavor\",\"pump\",\"arcade\",\"satisfy\",\"compilers\",\"infty\",\"spears\",\"cure\",\"preparing\",\"marginal\",\"margin\",\"compensation\",\"participating\",\"habit\",\"rider\",\"perceive\",\"atheist\",\"fierce\",\"hadrian\",\"nomenclature\",\"butt\",\"reception\",\"deliberate\",\"arable\",\"crashes\",\"fatty\",\"listen\",\"dover\",\"selective\",\"vampire\",\"wellington\",\"responsibilities\",\"compressed\",\"generator\",\"tiles\",\"honda\",\"usenet\",\"authentic\",\"priesthood\",\"amos\",\"loch\",\"autism\",\"pitched\",\"refined\",\"steadily\",\"replied\",\"happiness\",\"advised\",\"imagery\",\"mistake\",\"recall\",\"kabbalah\",\"egyptians\",\"managing\",\"traders\",\"gasoline\",\"inertial\",\"diffraction\",\"venues\",\"fe\",\"demonstrations\",\"chuck\",\"locomotives\",\"flanders\",\"criminals\",\"graffiti\",\"estates\",\"stake\",\"battleships\",\"bengals\",\"bertrand\",\"referenced\",\"facilitate\",\"spontaneous\",\"iliad\",\"sympathetic\",\"trapped\",\"connor\",\"specialist\",\"immense\",\"nationwide\",\"edu\",\"examined\",\"descriptive\",\"mythological\",\"ads\",\"gabon\",\"amazing\",\"glacier\",\"longitude\",\"maize\",\"slide\",\"modest\",\"objectives\",\"eighteen\",\"symmetric\",\"divorced\",\"aryan\",\"automated\",\"specify\",\"knock\",\"audi\",\"rally\",\"mph\",\"tcp\",\"merlin\",\"math\",\"cos\",\"assyrian\",\"rover\",\"kerala\",\"biochemistry\",\"derivation\",\"wound\",\"oracle\",\"lovers\",\"deceased\",\"watching\",\"banner\",\"imagination\",\"dried\",\"ellis\",\"falkland\",\"outdoor\",\"transparent\",\"pbs\",\"trophy\",\"equals\",\"indoor\",\"ordained\",\"accelerated\",\"sailing\",\"crosses\",\"pit\",\"receptors\",\"spectral\",\"im\",\"temperament\",\"boolean\",\"sigma\",\"congregations\",\"mazda\",\"casino\",\"abolition\",\"emphasize\",\"beloved\",\"aphrodite\",\"secretly\",\"pedro\",\"remnants\",\"mutually\",\"notions\",\"supplement\",\"permits\",\"privy\",\"zimbabwe\",\"vegas\",\"conferences\",\"rounded\",\"winston\",\"blades\",\"proving\",\"granting\",\"calculating\",\"multimedia\",\"morphology\",\"commanders\",\"bacterial\",\"planck\",\"balkans\",\"sixty\",\"thames\",\"rightarrow\",\"erie\",\"earnhardt\",\"krak\",\"cantonese\",\"replication\",\"dalek\",\"crushed\",\"persistent\",\"supporter\",\"defeating\",\"continually\",\"accepts\",\"pioneers\",\"baldwin\",\"conviction\",\"exercises\",\"staged\",\"bantu\",\"col\",\"colin\",\"kids\",\"myanmar\",\"tenure\",\"zoo\",\"missed\",\"hellenistic\",\"playstation\",\"holmes\",\"goths\",\"ratios\",\"castro\",\"orchestral\",\"formulas\",\"mps\",\"spherical\",\"clapton\",\"piercing\",\"fortran\",\"fifa\",\"aggression\",\"granite\",\"emotions\",\"bloc\",\"lineage\",\"surveillance\",\"enabling\",\"transported\",\"divides\",\"manitoba\",\"handful\",\"lots\",\"subjected\",\"simplicity\",\"georgian\",\"curtis\",\"trio\",\"marc\",\"danny\",\"sterling\",\"kart\",\"norton\",\"lds\",\"elves\",\"biafra\",\"factories\",\"withdraw\",\"promising\",\"reviewed\",\"wherein\",\"employee\",\"viewpoint\",\"observatory\",\"queensland\",\"greg\",\"fermentation\",\"stems\",\"sculptor\",\"performer\",\"yourself\",\"render\",\"rigid\",\"isotope\",\"inference\",\"yeltsin\",\"elijah\",\"beowulf\",\"lindy\",\"riel\",\"desirable\",\"transitional\",\"praised\",\"witnessed\",\"birthplace\",\"rhetoric\",\"contradiction\",\"omitted\",\"depicts\",\"humanitarian\",\"ceremonies\",\"emerge\",\"ahmed\",\"extraction\",\"organize\",\"anton\",\"monuments\",\"prestige\",\"aliens\",\"encoded\",\"elector\",\"databases\",\"tissues\",\"catalyst\",\"injection\",\"genera\",\"glasgow\",\"regimes\",\"basil\",\"burnt\",\"coefficient\",\"berry\",\"naples\",\"ham\",\"baptized\",\"elf\",\"grenada\",\"predictions\",\"genetically\",\"chat\",\"refuse\",\"truman\",\"translates\",\"relate\",\"resumed\",\"exploring\",\"buying\",\"depiction\",\"sheets\",\"spectacular\",\"yugoslav\",\"garbage\",\"guaranteed\",\"intersection\",\"socialists\",\"warhol\",\"incest\",\"browsers\",\"dealer\",\"wonderful\",\"smart\",\"patch\",\"associative\",\"hindus\",\"bo\",\"ecumenical\",\"interpreter\",\"consoles\",\"tr\",\"bath\",\"altar\",\"nevada\",\"urged\",\"ambrose\",\"surprisingly\",\"intentionally\",\"ir\",\"loses\",\"reluctant\",\"brands\",\"employs\",\"immigrant\",\"investigate\",\"cloning\",\"mach\",\"sailed\",\"realize\",\"humanist\",\"shallow\",\"salts\",\"astronaut\",\"maybe\",\"aw\",\"pearson\",\"patrol\",\"reliability\",\"kiss\",\"jets\",\"rabbis\",\"caffeine\",\"lois\",\"javascript\",\"pinochet\",\"daredevil\",\"suppression\",\"developmental\",\"overlap\",\"offset\",\"cameras\",\"paramount\",\"discharge\",\"manipulation\",\"laden\",\"lacks\",\"collector\",\"mills\",\"somehow\",\"achieving\",\"farther\",\"civic\",\"melting\",\"liechtenstein\",\"sq\",\"nationals\",\"instituted\",\"hanging\",\"atp\",\"perry\",\"unrest\",\"blocked\",\"joel\",\"volcano\",\"boroughs\",\"hispanic\",\"mann\",\"bi\",\"bent\",\"invaders\",\"rk\",\"arbor\",\"crusades\",\"latex\",\"abba\",\"noir\",\"bassist\",\"likelihood\",\"infinitive\",\"discs\",\"karaoke\",\"lego\",\"predecessors\",\"develops\",\"toy\",\"asteroids\",\"makeup\",\"athena\",\"noticed\",\"ballot\",\"accord\",\"lt\",\"fix\",\"mercy\",\"dorothy\",\"kai\",\"outline\",\"nearest\",\"gnosticism\",\"explorers\",\"reef\",\"glaciers\",\"fungi\",\"lesotho\",\"hatred\",\"insect\",\"fraser\",\"cl\",\"bag\",\"filters\",\"orthography\",\"hotels\",\"extremes\",\"cartridges\",\"authorship\",\"ahmad\",\"threatening\",\"mysteries\",\"gauss\",\"recalled\",\"craig\",\"betting\",\"yeast\",\"battleship\",\"shaft\",\"oct\",\"aclu\",\"bt\",\"faroese\",\"methodology\",\"demanding\",\"ajax\",\"richmond\",\"answered\",\"guests\",\"evolve\",\"diminished\",\"countryside\",\"receivers\",\"recipients\",\"paradigm\",\"tracking\",\"hayek\",\"marines\",\"fao\",\"damages\",\"neighborhoods\",\"sandy\",\"maldives\",\"discontinued\",\"commented\",\"cathode\",\"font\",\"batteries\",\"slogan\",\"isomorphism\",\"intake\",\"crowley\",\"carson\",\"governance\",\"anthropologists\",\"aerospace\",\"wartime\",\"observing\",\"engagement\",\"triggered\",\"progression\",\"applicable\",\"turner\",\"underwent\",\"locomotive\",\"pub\",\"gunpowder\",\"potassium\",\"reinforced\",\"erasmus\",\"tough\",\"sits\",\"ozone\",\"lisa\",\"potatoes\",\"extracted\",\"cowboy\",\"worm\",\"pl\",\"buttons\",\"neutron\",\"teutonic\",\"gwh\",\"bats\",\"pirate\",\"editorial\",\"uncertainty\",\"broadcasts\",\"culturally\",\"organizing\",\"popper\",\"boost\",\"parameter\",\"divinity\",\"stressed\",\"disastrous\",\"timothy\",\"anticipated\",\"gda\",\"ultra\",\"dolphin\",\"attained\",\"flee\",\"beats\",\"rapper\",\"kane\",\"celts\",\"napoleonic\",\"sailors\",\"chaplin\",\"visions\",\"exploited\",\"physicians\",\"synonymous\",\"suburban\",\"oakland\",\"heroic\",\"threw\",\"loans\",\"mongols\",\"bilateral\",\"backward\",\"astronauts\",\"goat\",\"beaches\",\"helmet\",\"rico\",\"goddesses\",\"missionaries\",\"cc\",\"accompanying\",\"purity\",\"debian\",\"basel\",\"dominica\",\"emma\",\"peasant\",\"biodiversity\",\"todd\",\"tremendous\",\"blair\",\"capitals\",\"pushing\",\"presenting\",\"vegetable\",\"consul\",\"ballet\",\"verde\",\"couldn\",\"rape\",\"reconciliation\",\"neolithic\",\"bees\",\"phantom\",\"journalists\",\"swift\",\"ants\",\"encounters\",\"indus\",\"dia\",\"subsidiary\",\"complement\",\"aging\",\"nuclei\",\"ye\",\"sue\",\"babe\",\"serbs\",\"manx\",\"denounced\",\"wrestler\",\"phillips\",\"wilderness\",\"biographies\",\"clocks\",\"nashville\",\"kirby\",\"oceans\",\"herald\",\"fried\",\"veteran\",\"cohen\",\"fears\",\"constants\",\"constellations\",\"borges\",\"felix\",\"raids\",\"dirty\",\"declining\",\"caligula\",\"safely\",\"weekend\",\"percussion\",\"em\",\"impose\",\"trap\",\"freeman\",\"stomach\",\"pioneered\",\"mythical\",\"prominently\",\"tract\",\"resemblance\",\"jo\",\"ibid\",\"persians\",\"singh\",\"euclid\",\"sean\",\"ladies\",\"bronx\",\"simpson\",\"spots\",\"theorems\",\"posted\",\"fritz\",\"hanover\",\"chrysler\",\"hormones\",\"dx\",\"favoured\",\"beginnings\",\"catalonia\",\"routine\",\"mutation\",\"terrible\",\"laura\",\"gather\",\"transmit\",\"fault\",\"illusion\",\"assignment\",\"atta\",\"burst\",\"corrupt\",\"eighty\",\"storms\",\"frost\",\"jointly\",\"robots\",\"monkey\",\"abdul\",\"vendors\",\"arrives\",\"adrian\",\"hd\",\"void\",\"chopin\",\"monastic\",\"metadata\",\"ezra\",\"surnames\",\"dayton\",\"batter\",\"jumps\",\"cayman\",\"militant\",\"illegitimate\",\"incompatible\",\"preserving\",\"cyrillic\",\"desk\",\"materialism\",\"francesco\",\"parallels\",\"surplus\",\"resign\",\"storyline\",\"automobiles\",\"creators\",\"glenn\",\"variously\",\"converting\",\"jose\",\"delphi\",\"proton\",\"nickel\",\"billboard\",\"intelsat\",\"spell\",\"memorable\",\"juice\",\"delegates\",\"impressed\",\"lamp\",\"feb\",\"translate\",\"tanakh\",\"disasters\",\"ryan\",\"ml\",\"gui\",\"duo\",\"nuremberg\",\"coke\",\"inventory\",\"petition\",\"knives\",\"eucharist\",\"pseudonym\",\"cruiser\",\"currencies\",\"mahjong\",\"conclude\",\"arbitration\",\"accidentally\",\"secrets\",\"thou\",\"fundamentally\",\"algebras\",\"foreigners\",\"contacts\",\"extraterrestrial\",\"regulatory\",\"wrestling\",\"ivoire\",\"curse\",\"satire\",\"precious\",\"dental\",\"exceptional\",\"lotus\",\"alternating\",\"breeds\",\"servants\",\"routledge\",\"culminating\",\"frisian\",\"cartesian\",\"universidad\",\"sacrament\",\"perl\",\"cookie\",\"gin\",\"disagreement\",\"embraced\",\"pseudo\",\"outright\",\"sharply\",\"coordination\",\"casting\",\"drafted\",\"appoint\",\"exchanged\",\"exposition\",\"weights\",\"problematic\",\"decides\",\"ti\",\"freud\",\"treasure\",\"wolfgang\",\"photographer\",\"sinai\",\"quit\",\"devastating\",\"nordic\",\"lm\",\"propulsion\",\"distinctions\",\"hypothetical\",\"cyberpunk\",\"dom\",\"ak\",\"hale\",\"libyan\",\"hercules\",\"additions\",\"coil\",\"damaging\",\"fellowship\",\"hipparchus\",\"barnabas\",\"accords\",\"sauce\",\"fc\",\"bolshevik\",\"defunct\",\"nomadic\",\"calendars\",\"identifies\",\"destroyer\",\"prediction\",\"blank\",\"imagine\",\"reproduce\",\"promises\",\"moroccan\",\"personalities\",\"simulation\",\"peculiar\",\"wagner\",\"recipes\",\"hospitals\",\"instability\",\"stretch\",\"bonaparte\",\"restrict\",\"reproductive\",\"trivial\",\"lifted\",\"listening\",\"interestingly\",\"lynx\",\"flies\",\"sketches\",\"mayo\",\"gb\",\"drunk\",\"magnesium\",\"elliptic\",\"ensemble\",\"protestantism\",\"presumed\",\"pixel\",\"texture\",\"cyril\",\"react\",\"celebrities\",\"retaining\",\"offshore\",\"sentiment\",\"commentaries\",\"mighty\",\"fisher\",\"irrational\",\"certified\",\"unto\",\"reward\",\"exploit\",\"superiority\",\"protagonist\",\"trips\",\"alt\",\"approaching\",\"artemis\",\"mothers\",\"ribbentrop\",\"favorable\",\"ant\",\"accidents\",\"rob\",\"artwork\",\"josephus\",\"lim\",\"memphis\",\"afford\",\"biographical\",\"sensitivity\",\"mythos\",\"della\",\"kasparov\",\"cliff\",\"cryptanalysis\",\"mozilla\",\"roma\",\"burke\",\"enron\",\"rousseau\",\"symbolism\",\"bios\",\"psychiatric\",\"palmer\",\"xiii\",\"holders\",\"asserts\",\"afternoon\",\"reliance\",\"encouraging\",\"humanism\",\"subordinate\",\"hymn\",\"boris\",\"accommodate\",\"diabetes\",\"weaker\",\"spectroscopy\",\"flooding\",\"constituted\",\"barrels\",\"klein\",\"mughal\",\"catalogue\",\"privacy\",\"apocalypse\",\"helicopter\",\"subsets\",\"incarnation\",\"engaging\",\"finishing\",\"yoga\",\"saxons\",\"innings\",\"batting\",\"epoch\",\"terminals\",\"hormone\",\"bene\",\"struggles\",\"announcement\",\"zeppelin\",\"declaring\",\"sealed\",\"porter\",\"firearm\",\"nominee\",\"spike\",\"mauritania\",\"prestigious\",\"activated\",\"presently\",\"translator\",\"strauss\",\"authoritative\",\"graves\",\"fl\",\"afrikaans\",\"readings\",\"miracle\",\"letterman\",\"email\",\"opium\",\"installation\",\"sleeping\",\"inadequate\",\"ceded\",\"celebrations\",\"coaches\",\"shirt\",\"nobody\",\"sc\",\"concorde\",\"transaction\",\"midway\",\"abundance\",\"philosophies\",\"rumors\",\"inherently\",\"sensory\",\"unusually\",\"underworld\",\"brutal\",\"exeter\",\"poisoning\",\"athenian\",\"tat\",\"portrayal\",\"switches\",\"investments\",\"monitoring\",\"printers\",\"burkina\",\"bee\",\"jeffrey\",\"conceptual\",\"consolidated\",\"lenses\",\"filmography\",\"pale\",\"caucasus\",\"informally\",\"jaguar\",\"troll\",\"mcgill\",\"marched\",\"gameplay\",\"sworn\",\"monasteries\",\"sagan\",\"ulrich\",\"mirrors\",\"reds\",\"deployment\",\"canton\",\"costello\",\"blast\",\"gsm\",\"pdp\",\"rejects\",\"investigated\",\"numeral\",\"conducting\",\"walks\",\"firmly\",\"guilt\",\"dropping\",\"casual\",\"raiders\",\"transformations\",\"ansi\",\"spheres\",\"curling\",\"loving\",\"pretty\",\"tomorrow\",\"stockholm\",\"counsel\",\"anthology\",\"harvest\",\"luxury\",\"sensation\",\"hamster\",\"prescribed\",\"gardner\",\"druze\",\"jackie\",\"raf\",\"arising\",\"contra\",\"maimonides\",\"rabbinic\",\"auckland\",\"bigfoot\",\"resisted\",\"mediation\",\"upset\",\"occupying\",\"trojan\",\"gettysburg\",\"justin\",\"barriers\",\"fabric\",\"arid\",\"confirm\",\"prolonged\",\"villain\",\"constituencies\",\"enhance\",\"conditioning\",\"arriving\",\"akin\",\"ionic\",\"bike\",\"internally\",\"indianapolis\",\"uniforms\",\"ku\",\"edit\",\"rs\",\"kitchen\",\"liturgy\",\"nicene\",\"denis\",\"fy\",\"freeway\",\"modules\",\"freemasonry\",\"rhythmic\",\"rookie\",\"emacs\",\"deconstruction\",\"labelled\",\"whites\",\"etruscan\",\"mortal\",\"po\",\"spare\",\"appreciation\",\"qualify\",\"perspectives\",\"individually\",\"racism\",\"sebastian\",\"surprising\",\"fauna\",\"samoa\",\"illicit\",\"chloride\",\"bavarian\",\"schr\",\"persuaded\",\"afro\",\"pigs\",\"inaugurated\",\"unprecedented\",\"reactive\",\"incorrectly\",\"sunset\",\"herodotus\",\"deforestation\",\"exhibited\",\"recreation\",\"guild\",\"conquer\",\"doses\",\"expresses\",\"plots\",\"willie\",\"deng\",\"coefficients\",\"resembling\",\"seminary\",\"icc\",\"centauri\",\"esther\",\"benzene\",\"premise\",\"tones\",\"rests\",\"immortal\",\"hades\",\"reprint\",\"assertion\",\"comparisons\",\"radios\",\"abandon\",\"inventors\",\"sampling\",\"collectors\",\"wizard\",\"migrated\",\"saddam\",\"embrace\",\"antoine\",\"viable\",\"captivity\",\"aloe\",\"turkic\",\"unfinished\",\"possesses\",\"enables\",\"flexibility\",\"unexpected\",\"decorated\",\"displacement\",\"superhero\",\"steep\",\"cider\",\"prelude\",\"reactor\",\"auschwitz\",\"jail\",\"strand\",\"hebrews\",\"dragons\",\"loading\",\"afonso\",\"characterised\",\"victorious\",\"inevitable\",\"suspect\",\"behaviors\",\"mentally\",\"speculative\",\"mathbb\",\"dale\",\"liberties\",\"punished\",\"hastings\",\"decreasing\",\"sartre\",\"laying\",\"suburb\",\"advancing\",\"diocese\",\"matching\",\"teaches\",\"commandments\",\"curriculum\",\"owns\",\"designing\",\"freezing\",\"substitution\",\"clerk\",\"reynolds\",\"placement\",\"suits\",\"hbo\",\"encyclop\",\"semantics\",\"synonym\",\"grande\",\"jam\",\"banach\",\"competitor\",\"distortion\",\"ulster\",\"cgi\",\"gel\",\"dipole\",\"rahman\",\"hypoglycemia\",\"scrooge\",\"mandelbrot\",\"bolsheviks\",\"intentions\",\"withdrawn\",\"destiny\",\"refusal\",\"richardson\",\"skeptical\",\"academics\",\"biologists\",\"wool\",\"flora\",\"inequality\",\"halt\",\"optics\",\"coded\",\"embryo\",\"neutrality\",\"remarkably\",\"separating\",\"deadly\",\"wouldn\",\"mint\",\"advisor\",\"insufficient\",\"simultaneous\",\"pointer\",\"penalties\",\"upcoming\",\"hadith\",\"webster\",\"poster\",\"espionage\",\"carlo\",\"bismarck\",\"critically\",\"tu\",\"lasers\",\"josef\",\"usaf\",\"quixote\",\"onset\",\"unchanged\",\"interrupted\",\"statues\",\"preliminary\",\"uniquely\",\"submit\",\"overhead\",\"psychologists\",\"exceed\",\"niger\",\"populous\",\"saharan\",\"mohammed\",\"reconstructed\",\"con\",\"respects\",\"checking\",\"coasts\",\"comoros\",\"blake\",\"hussein\",\"distinguishing\",\"prefixes\",\"tightly\",\"designations\",\"kyrgyzstan\",\"prevailing\",\"spawned\",\"fundamentalist\",\"greenwich\",\"su\",\"synod\",\"voiceless\",\"dangers\",\"canals\",\"bicycles\",\"risc\",\"quotations\",\"eliminating\",\"atm\",\"puzzle\",\"maya\",\"algol\",\"essex\",\"tel\",\"descartes\",\"hook\",\"beavis\",\"mcduck\",\"fredericton\",\"objections\",\"supervision\",\"negotiate\",\"polk\",\"fights\",\"departed\",\"abstraction\",\"horns\",\"stretched\",\"seventeen\",\"confusing\",\"dependency\",\"reasonably\",\"noticeable\",\"colts\",\"bradley\",\"orwell\",\"expulsion\",\"kidney\",\"viewer\",\"px\",\"chances\",\"bremen\",\"portland\",\"mistaken\",\"levy\",\"intellectuals\",\"invasions\",\"ki\",\"insert\",\"enthusiasts\",\"postwar\",\"bisexual\",\"enclosed\",\"alloys\",\"aragon\",\"apache\",\"ivy\",\"capacitor\",\"spam\",\"shooter\",\"kissinger\",\"capoeira\",\"unnecessary\",\"legitimacy\",\"privilege\",\"pine\",\"busy\",\"acre\",\"johnston\",\"contrasted\",\"behave\",\"huxley\",\"encompasses\",\"imperfect\",\"allocated\",\"peacekeeping\",\"thread\",\"earn\",\"surprised\",\"projected\",\"crosby\",\"researcher\",\"counterpoint\",\"disabled\",\"immunity\",\"clockwise\",\"modernism\",\"ida\",\"semantic\",\"confirmation\",\"hesse\",\"cdu\",\"doubled\",\"somerset\",\"reigned\",\"nl\",\"piston\",\"funny\",\"jules\",\"rn\",\"routing\",\"ching\",\"crimson\",\"inning\",\"conservatism\",\"grammy\",\"watt\",\"copyleft\",\"textiles\",\"baba\",\"sonata\",\"fractal\",\"myself\",\"conscience\",\"behavioral\",\"indicator\",\"enjoys\",\"emancipation\",\"vermont\",\"metaphysical\",\"illustrations\",\"novelists\",\"ensuing\",\"pursuing\",\"worthy\",\"brave\",\"disagree\",\"genealogy\",\"diagrams\",\"tricks\",\"landlocked\",\"berg\",\"bulletin\",\"pressing\",\"faso\",\"helena\",\"simpsons\",\"tibetan\",\"misleading\",\"allocation\",\"stretching\",\"protons\",\"slopes\",\"hz\",\"peripheral\",\"echo\",\"glacial\",\"martha\",\"questionable\",\"troubles\",\"buddy\",\"companions\",\"confession\",\"murphy\",\"tunes\",\"coleman\",\"ido\",\"excel\",\"ddt\",\"confucius\",\"comfort\",\"professors\",\"wired\",\"advocacy\",\"drainage\",\"incorporating\",\"intact\",\"savage\",\"drift\",\"concludes\",\"inventions\",\"liked\",\"truths\",\"satirical\",\"implementing\",\"emblem\",\"substrate\",\"stationed\",\"pig\",\"santiago\",\"sued\",\"bermuda\",\"gt\",\"mos\",\"pakistani\",\"glossary\",\"preferences\",\"comparatively\",\"centralized\",\"complications\",\"rectangular\",\"recursive\",\"cds\",\"isomorphic\",\"eurovision\",\"normandy\",\"commodity\",\"chelsea\",\"tuberculosis\",\"villa\",\"manson\",\"beers\",\"disadvantages\",\"dyson\",\"harpsichord\",\"consistency\",\"proud\",\"darker\",\"ipcc\",\"humid\",\"flourished\",\"tactic\",\"tide\",\"borne\",\"idle\",\"pistol\",\"griffith\",\"vols\",\"deeds\",\"convince\",\"advancement\",\"colonists\",\"dynasties\",\"nominally\",\"contracted\",\"hellenic\",\"acupuncture\",\"tournaments\",\"famed\",\"recommendation\",\"geographically\",\"abuses\",\"cults\",\"kgb\",\"crazy\",\"blindness\",\"resonance\",\"perpendicular\",\"ah\",\"constitutions\",\"khazar\",\"belfast\",\"denial\",\"televisions\",\"roland\",\"foul\",\"screens\",\"babbage\",\"barbarian\",\"ballad\",\"api\",\"cocoa\",\"talents\",\"synthesized\",\"charlton\",\"fibonacci\",\"ori\",\"miguel\",\"pitching\",\"organizational\",\"reminiscent\",\"sunlight\",\"energies\",\"defects\",\"curious\",\"helpful\",\"par\",\"feels\",\"thoroughly\",\"aboriginal\",\"deciding\",\"modeling\",\"rex\",\"tis\",\"subdivisions\",\"macro\",\"anal\",\"melodic\",\"vedic\",\"adobe\",\"rainy\",\"failures\",\"equinox\",\"impulse\",\"catalog\",\"beirut\",\"tunnels\",\"reservoir\",\"styled\",\"conjecture\",\"parsons\",\"apartheid\",\"ds\",\"chords\",\"brahms\",\"ghosts\",\"andrews\",\"hierarchical\",\"breath\",\"trumpet\",\"hoping\",\"cox\",\"directing\",\"periodically\",\"inn\",\"norms\",\"cyclic\",\"exported\",\"neighbours\",\"originate\",\"bodily\",\"heading\",\"phillip\",\"criterion\",\"ambiguity\",\"cruz\",\"principality\",\"orbitals\",\"proportions\",\"mel\",\"mobility\",\"cosmological\",\"subspecies\",\"occupies\",\"privatization\",\"aug\",\"mc\",\"incorporates\",\"efficiently\",\"curved\",\"drops\",\"lowered\",\"dynamical\",\"motorcycles\",\"utilized\",\"posthumously\",\"spells\",\"venue\",\"zen\",\"rho\",\"aurangzeb\",\"qquad\",\"gotham\",\"attachment\",\"licence\",\"invitation\",\"pork\",\"classify\",\"statutes\",\"fulfilled\",\"diablo\",\"govern\",\"amendments\",\"invading\",\"upright\",\"emigrated\",\"thermodynamics\",\"launching\",\"concentrate\",\"lib\",\"qu\",\"tributaries\",\"amplitude\",\"impacts\",\"aires\",\"focal\",\"invade\",\"exploits\",\"epilepsy\",\"helix\",\"clash\",\"cruel\",\"upgraded\",\"inexpensive\",\"ftp\",\"feudalism\",\"brewers\",\"luftwaffe\",\"quartet\",\"compliance\",\"mishnah\",\"mainz\",\"medication\",\"obey\",\"coherent\",\"accounted\",\"deaf\",\"tips\",\"absorb\",\"nutrition\",\"assassin\",\"publishes\",\"pays\",\"schism\",\"cement\",\"demographic\",\"ambient\",\"nero\",\"hermes\",\"deserts\",\"slam\",\"sorting\",\"practicing\",\"lungs\",\"expertise\",\"skiing\",\"useless\",\"cavity\",\"outward\",\"muscular\",\"guiana\",\"mo\",\"prevalence\",\"prefecture\",\"centred\",\"mercenaries\",\"recommendations\",\"lattice\",\"predicate\",\"nash\",\"jamal\",\"convex\",\"wikisource\",\"chrono\",\"tendencies\",\"generates\",\"propose\",\"edwards\",\"diplomacy\",\"refusing\",\"expenses\",\"salmon\",\"jeremiah\",\"regained\",\"stuck\",\"breach\",\"optimal\",\"pioneering\",\"productivity\",\"profitable\",\"tunisia\",\"caste\",\"allegory\",\"adverse\",\"nanotechnology\",\"dunes\",\"registry\",\"suez\",\"diana\",\"shanghai\",\"bart\",\"dinner\",\"waterways\",\"schumacher\",\"recognizes\",\"straits\",\"weimar\",\"hoc\",\"hydraulic\",\"tyler\",\"deposition\",\"syriac\",\"contend\",\"adjustment\",\"scrimmage\",\"twelfth\",\"mainframe\",\"upgrade\",\"introductory\",\"langle\",\"honolulu\",\"joey\",\"logos\",\"dundee\",\"livingstone\",\"microprocessors\",\"countless\",\"remarked\",\"pinyin\",\"drought\",\"pottery\",\"elderly\",\"illustrate\",\"earning\",\"rooted\",\"examine\",\"resolutions\",\"subdivided\",\"burundi\",\"establishes\",\"compelled\",\"blame\",\"homage\",\"mart\",\"macmillan\",\"babylonia\",\"cam\",\"codified\",\"taxonomy\",\"manganese\",\"navigable\",\"stationary\",\"survives\",\"az\",\"buenos\",\"subway\",\"rosa\",\"seventy\",\"sang\",\"laurent\",\"powerpc\",\"mob\",\"samurai\",\"restriction\",\"bros\",\"recruited\",\"ness\",\"guernsey\",\"cruisers\",\"absinthe\",\"cryonics\",\"exhibits\",\"affinity\",\"wto\",\"mistakes\",\"negro\",\"psychologist\",\"justinian\",\"admit\",\"hostility\",\"helicopters\",\"textbook\",\"packed\",\"ancestral\",\"eighteenth\",\"ignorance\",\"magnus\",\"noteworthy\",\"elemental\",\"influx\",\"whitlam\",\"bean\",\"anyway\",\"bend\",\"emitted\",\"ber\",\"pepper\",\"attain\",\"photographic\",\"mare\",\"var\",\"convergence\",\"harbors\",\"tanker\",\"andes\",\"junta\",\"linda\",\"maternal\",\"viral\",\"loud\",\"clones\",\"grouping\",\"ether\",\"ec\",\"careers\",\"obedience\",\"menu\",\"implicit\",\"crust\",\"interstellar\",\"disneyland\",\"pius\",\"windsor\",\"specimen\",\"abelian\",\"heterosexual\",\"jehovah\",\"septuagint\",\"latino\",\"chandler\",\"leet\",\"strands\",\"oneself\",\"gov\",\"footnotes\",\"bounds\",\"intimate\",\"admired\",\"pupil\",\"neighbor\",\"entrepreneur\",\"bureaucracy\",\"bordered\",\"ethnicity\",\"introduces\",\"wavelengths\",\"tao\",\"holdings\",\"metropolis\",\"tito\",\"infectious\",\"scenario\",\"annotated\",\"emigration\",\"subcontinent\",\"modeled\",\"bolt\",\"guides\",\"walked\",\"monica\",\"crack\",\"triangular\",\"shortwave\",\"grt\",\"springer\",\"painful\",\"therapeutic\",\"giuseppe\",\"neural\",\"gundam\",\"candy\",\"lineup\",\"sci\",\"alcoholism\",\"cromwell\",\"chromatic\",\"addison\",\"grammars\",\"pradesh\",\"mrna\",\"racist\",\"adjectives\",\"stamps\",\"balloon\",\"nancy\",\"buchanan\",\"theaters\",\"prizes\",\"aesthetics\",\"memes\",\"staying\",\"camouflage\",\"leslie\",\"examining\",\"derby\",\"nicolas\",\"utilize\",\"leopold\",\"desertification\",\"cows\",\"guru\",\"costly\",\"brigades\",\"adopting\",\"biologist\",\"wax\",\"cables\",\"flown\",\"rated\",\"italians\",\"caspian\",\"geologic\",\"cooled\",\"stretches\",\"lethal\",\"rat\",\"refugee\",\"mosques\",\"potato\",\"maltese\",\"landmarks\",\"celebrating\",\"strengthened\",\"pmid\",\"buckingham\",\"broadcaster\",\"riemann\",\"ezekiel\",\"valves\",\"gradient\",\"mecca\",\"aztec\",\"crashed\",\"cpc\",\"invariant\",\"tucker\",\"regulate\",\"athletics\",\"exaggerated\",\"crowds\",\"shortest\",\"minded\",\"laboratories\",\"rabbit\",\"rebuilding\",\"covert\",\"stan\",\"sulfur\",\"monarchies\",\"colombian\",\"sacrifices\",\"enlarged\",\"garcia\",\"attested\",\"conjugation\",\"adaptive\",\"vastly\",\"dietary\",\"chlorine\",\"sink\",\"recognizable\",\"crews\",\"orbiting\",\"lucid\",\"filmmakers\",\"patented\",\"debts\",\"submarines\",\"unconscious\",\"werner\",\"leisure\",\"imperative\",\"operas\",\"ur\",\"satie\",\"mus\",\"archer\",\"spellings\",\"involuntary\",\"kiribati\",\"eichmann\",\"quasi\",\"homomorphism\",\"doubtful\",\"karachi\",\"asbestos\",\"divisional\",\"revolutions\",\"outlined\",\"feminists\",\"bullets\",\"diagnostic\",\"differentiate\",\"earnings\",\"warned\",\"sunk\",\"wounds\",\"kirk\",\"hunters\",\"screenplay\",\"inconsistent\",\"rigorous\",\"planted\",\"indicative\",\"austro\",\"prophetic\",\"blown\",\"hung\",\"breakthrough\",\"baptists\",\"propelled\",\"membranes\",\"trinidad\",\"majesty\",\"foremost\",\"consortium\",\"migrant\",\"moisture\",\"shelf\",\"contributors\",\"chaotic\",\"superseded\",\"consult\",\"demonstrating\",\"cleaning\",\"authored\",\"jeremy\",\"flux\",\"proofs\",\"idealism\",\"housed\",\"cyanide\",\"programmable\",\"boron\",\"presided\",\"advisory\",\"nirvana\",\"cameron\",\"logarithm\",\"invoked\",\"unite\",\"culminated\",\"desires\",\"literate\",\"lowercase\",\"worshipped\",\"martyr\",\"mall\",\"bust\",\"cite\",\"pulitzer\",\"narrowly\",\"burma\",\"alloy\",\"encourages\",\"enduring\",\"alphabetical\",\"inputs\",\"distillation\",\"flowering\",\"markup\",\"somalia\",\"ensuring\",\"banning\",\"anatolia\",\"alkanes\",\"penis\",\"yearly\",\"memoir\",\"seals\",\"crystalline\",\"stopping\",\"glorious\",\"observable\",\"pulling\",\"disadvantage\",\"bahamas\",\"peters\",\"bennett\",\"accents\",\"monte\",\"distribute\",\"condoms\",\"handheld\",\"tablets\",\"kate\",\"dolly\",\"rent\",\"val\",\"papacy\",\"diatonic\",\"abbreviations\",\"gis\",\"relational\",\"downward\",\"moby\",\"graphite\",\"homogeneous\",\"bud\",\"eastenders\",\"siberia\",\"pleasant\",\"defender\",\"sparked\",\"shifting\",\"panic\",\"quarterly\",\"prosperous\",\"cry\",\"compute\",\"struggled\",\"lucky\",\"discarded\",\"reside\",\"wherever\",\"blend\",\"invariably\",\"ottawa\",\"invested\",\"wu\",\"troubled\",\"beside\",\"doug\",\"shepherd\",\"cord\",\"jonah\",\"carbonate\",\"metabolic\",\"ic\",\"knee\",\"maiden\",\"correlation\",\"ncaa\",\"desperate\",\"offence\",\"liturgical\",\"insane\",\"grandmother\",\"janet\",\"supremacy\",\"goth\",\"financing\",\"cites\",\"djs\",\"spice\",\"cholesterol\",\"ciphers\",\"checks\",\"fluids\",\"dive\",\"marlowe\",\"dodo\",\"jain\",\"epsilon\",\"overthrown\",\"chomsky\",\"riot\",\"trucks\",\"presbyterian\",\"sanctuary\",\"colleague\",\"lifelong\",\"keen\",\"accidental\",\"vita\",\"irrelevant\",\"discovering\",\"irrigation\",\"occult\",\"shelley\",\"vernacular\",\"canary\",\"ascension\",\"catcher\",\"amended\",\"jesse\",\"manages\",\"sums\",\"smell\",\"genitive\",\"preparations\",\"griffin\",\"yorkshire\",\"interpol\",\"doctorate\",\"synagogue\",\"honors\",\"strengthen\",\"regain\",\"hobby\",\"backs\",\"fairy\",\"unitary\",\"additive\",\"chorus\",\"panels\",\"mailing\",\"diodes\",\"pilgrimage\",\"fide\",\"amplifiers\",\"caliph\",\"jakarta\",\"pronouns\",\"ddr\",\"finns\",\"emphasizes\",\"seminal\",\"weird\",\"stripped\",\"inform\",\"horace\",\"interfere\",\"endless\",\"steal\",\"exclusion\",\"marker\",\"institutional\",\"visitor\",\"obliged\",\"physiological\",\"australians\",\"leone\",\"assign\",\"bissau\",\"stepped\",\"blocking\",\"complaint\",\"cleared\",\"dial\",\"spinal\",\"yang\",\"creole\",\"rift\",\"surroundings\",\"faiths\",\"aromatic\",\"climb\",\"electorate\",\"judo\",\"liability\",\"salary\",\"octavian\",\"emulation\",\"marco\",\"ignatius\",\"honours\",\"percy\",\"kubrick\",\"neurons\",\"connotations\",\"hiding\",\"soprano\",\"vested\",\"cannibalism\",\"cheers\",\"fricative\",\"dada\",\"inclined\",\"diagnosed\",\"dressing\",\"inaugural\",\"instantly\",\"precedent\",\"tribune\",\"seizures\",\"barnes\",\"seated\",\"ballistic\",\"heretics\",\"prejudice\",\"dogma\",\"heirs\",\"creations\",\"decoration\",\"appendix\",\"flaws\",\"posthumous\",\"obstacles\",\"locks\",\"marvin\",\"labyrinth\",\"susceptible\",\"navigator\",\"robust\",\"acknowledge\",\"mascot\",\"cnn\",\"electors\",\"hosting\",\"donated\",\"violated\",\"adapt\",\"convenience\",\"sticks\",\"mega\",\"modular\",\"reconnaissance\",\"mcluhan\",\"nest\",\"shores\",\"contrasts\",\"inaccurate\",\"seventeenth\",\"locked\",\"christine\",\"aikido\",\"throws\",\"checked\",\"beaten\",\"shrine\",\"pharaoh\",\"hazardous\",\"snyder\",\"scientology\",\"proliferation\",\"tudor\",\"identities\",\"tutorial\",\"karma\",\"acclaim\",\"knots\",\"bugs\",\"blizzard\",\"tile\",\"chiropractic\",\"beckham\",\"recognise\"],\"x\":{\"__ndarray__\":\"0JsQwsXQi8KiRatC3sonwl20JkE4JARCioNkQU8cLULpKcXBpFGZwPfBE8IKqEhCfylsQuSSjb8sqVpA/RRqwp3/B0EMTIBCoZy2wMrm4cGo/FxBZ4axweW58kGkZJ5CzoNLQUG8X8LyXZJC7LgFQJmYuUFFSXbBunIJQtcOJkCbaijBD91yQjyLAcImVfm/ivt9wYwtwj8VdHlCEt9kQiAVksFH9UE/plstwe6CiEH3iwPCz5+awoS/60GQ9UHC04wQwl1nWEFgArBC+f2VQW0oLULMV+LAYkVCQnCrtcFwCKHAzCYdQXwr0kHVkCdC4itzwrRcpsBZqOBBVPL2wOMfCULXMBdCuQJAQYvaI0KgjtlBmjZQQgfdk8Eu31/C/I8gQtzVyUGBPo9B3u0ywW/LBkFKPWXCOdf6Qd6MmkJEJYRBsyHhwR7/VkKMyY1CHZcbwjF4V0BOXrFBZbUqwtJ9msFlCjXBpN2IQOlwG0KDx2xCgk2EQY9HGsLBZDXC0h5qv9jypMFqWpXBMPqTwQ==\",\"dtype\":\"float32\",\"shape\":[100]},\"y\":{\"__ndarray__\":\"PiWUQp1rFELCms1BHd2AwkOJKcLllb5BDD5uwR/IzkHXf2lCt3fmQSSjAsJHQBVCCZ8VP7l1rcFy0LVBdE8+wq0vT0CK8XbCoPYMwUUHI0EHNVfC+MiiwipkrEIsGBnCLH+LwHyObUKnCmLBpOCowvM128DZTRxBrhCCQvLRBsK/XpfBpbjdwcIFPcLFkSdCj8pEQhw1X0IBH+BBMndZQtTHO8EEFeq+8KaPQv+tbULbowVCjBulwC7KEEJYWxlCa1kPwVJjxsF4pxxA30+SwtTyQUCznY1B7V9HwnBr67/qwzfCwOqXQsIQJUDQxwjCsNjQwdMFCkEPsjvCpRa8QtGPxsCPAYXC6bZwQRuWnsFOqZXBF0AqweUpqEHc1bXA0RBUQan/+sGiLMxBukcAwvZGDEKdjIdBI/5UQZQsNULNSzBCX1elwehYcEFGUixB1O8+QoCOJ0HNgmZBH0COQPTz7sEcOoE/LOcqwaciQUIn45tCAqCtQP4LpEG/CrbBMaJ5wrLnJcIB7ghC0M9wwg==\",\"dtype\":\"float32\",\"shape\":[100]}},\"selected\":{\"id\":\"1165\",\"type\":\"Selection\"},\"selection_policy\":{\"id\":\"1164\",\"type\":\"UnionRenderers\"}},\"id\":\"1108\",\"type\":\"ColumnDataSource\"},{\"attributes\":{\"text\":\"\"},\"id\":\"1158\",\"type\":\"Title\"},{\"attributes\":{\"callback\":null,\"tooltips\":[[\"token\",\"@token\"]]},\"id\":\"1146\",\"type\":\"HoverTool\"},{\"attributes\":{},\"id\":\"1164\",\"type\":\"UnionRenderers\"},{\"attributes\":{\"callback\":null},\"id\":\"1110\",\"type\":\"DataRange1d\"},{\"attributes\":{\"ticker\":{\"id\":\"1119\",\"type\":\"BasicTicker\"}},\"id\":\"1122\",\"type\":\"Grid\"},{\"attributes\":{\"bottom_units\":\"screen\",\"fill_alpha\":{\"value\":0.5},\"fill_color\":{\"value\":\"lightgrey\"},\"left_units\":\"screen\",\"level\":\"overlay\",\"line_alpha\":{\"value\":1.0},\"line_color\":{\"value\":\"black\"},\"line_dash\":[4,4],\"line_width\":{\"value\":2},\"render_mode\":\"css\",\"right_units\":\"screen\",\"top_units\":\"screen\"},\"id\":\"1163\",\"type\":\"BoxAnnotation\"},{\"attributes\":{\"formatter\":{\"id\":\"1159\",\"type\":\"BasicTickFormatter\"},\"ticker\":{\"id\":\"1124\",\"type\":\"BasicTicker\"}},\"id\":\"1123\",\"type\":\"LinearAxis\"},{\"attributes\":{},\"id\":\"1124\",\"type\":\"BasicTicker\"},{\"attributes\":{},\"id\":\"1159\",\"type\":\"BasicTickFormatter\"},{\"attributes\":{\"dimension\":1,\"ticker\":{\"id\":\"1124\",\"type\":\"BasicTicker\"}},\"id\":\"1127\",\"type\":\"Grid\"},{\"attributes\":{},\"id\":\"1119\",\"type\":\"BasicTicker\"},{\"attributes\":{},\"id\":\"1161\",\"type\":\"BasicTickFormatter\"},{\"attributes\":{\"fill_alpha\":{\"value\":0.1},\"fill_color\":{\"value\":\"#1f77b4\"},\"line_alpha\":{\"value\":0.1},\"line_color\":{\"value\":\"#1f77b4\"},\"size\":{\"units\":\"screen\",\"value\":10},\"x\":{\"field\":\"x\"},\"y\":{\"field\":\"y\"}},\"id\":\"1143\",\"type\":\"Scatter\"}],\"root_ids\":[\"1109\"]},\"title\":\"Bokeh Application\",\"version\":\"1.4.0\"}};\n",
              "  var render_items = [{\"docid\":\"94a955d0-e69f-4719-96b4-996ef08a2d46\",\"roots\":{\"1109\":\"648675f9-7467-4a77-b445-bbd97e4a19d7\"}}];\n",
              "  root.Bokeh.embed.embed_items_notebook(docs_json, render_items);\n",
              "\n",
              "  }\n",
              "  if (root.Bokeh !== undefined) {\n",
              "    embed_document(root);\n",
              "  } else {\n",
              "    var attempts = 0;\n",
              "    var timer = setInterval(function(root) {\n",
              "      if (root.Bokeh !== undefined) {\n",
              "        clearInterval(timer);\n",
              "        embed_document(root);\n",
              "      } else {\n",
              "        attempts++;\n",
              "        if (attempts > 100) {\n",
              "          clearInterval(timer);\n",
              "          console.log(\"Bokeh: ERROR: Unable to run BokehJS code because BokehJS library is missing\");\n",
              "        }\n",
              "      }\n",
              "    }, 10, root)\n",
              "  }\n",
              "})(window);"
            ],
            "application/vnd.bokehjs_exec.v0+json": ""
          },
          "metadata": {
            "tags": [],
            "application/vnd.bokehjs_exec.v0+json": {
              "id": "1109"
            }
          }
        },
        {
          "output_type": "execute_result",
          "data": {
            "text/html": [
              "<div style=\"display: table;\"><div style=\"display: table-row;\"><div style=\"display: table-cell;\"><b title=\"bokeh.plotting.figure.Figure\">Figure</b>(</div><div style=\"display: table-cell;\">id&nbsp;=&nbsp;'1109', <span id=\"1221\" style=\"cursor: pointer;\">&hellip;)</span></div></div><div class=\"1220\" style=\"display: none;\"><div style=\"display: table-cell;\"></div><div style=\"display: table-cell;\">above&nbsp;=&nbsp;[],</div></div><div class=\"1220\" style=\"display: none;\"><div style=\"display: table-cell;\"></div><div style=\"display: table-cell;\">align&nbsp;=&nbsp;'start',</div></div><div class=\"1220\" style=\"display: none;\"><div style=\"display: table-cell;\"></div><div style=\"display: table-cell;\">aspect_ratio&nbsp;=&nbsp;None,</div></div><div class=\"1220\" style=\"display: none;\"><div style=\"display: table-cell;\"></div><div style=\"display: table-cell;\">aspect_scale&nbsp;=&nbsp;1,</div></div><div class=\"1220\" style=\"display: none;\"><div style=\"display: table-cell;\"></div><div style=\"display: table-cell;\">background&nbsp;=&nbsp;None,</div></div><div class=\"1220\" style=\"display: none;\"><div style=\"display: table-cell;\"></div><div style=\"display: table-cell;\">background_fill_alpha&nbsp;=&nbsp;{'value': 1.0},</div></div><div class=\"1220\" style=\"display: none;\"><div style=\"display: table-cell;\"></div><div style=\"display: table-cell;\">background_fill_color&nbsp;=&nbsp;{'value': '#ffffff'},</div></div><div class=\"1220\" style=\"display: none;\"><div style=\"display: table-cell;\"></div><div style=\"display: table-cell;\">below&nbsp;=&nbsp;[LinearAxis(id='1118', ...)],</div></div><div class=\"1220\" style=\"display: none;\"><div style=\"display: table-cell;\"></div><div style=\"display: table-cell;\">border_fill_alpha&nbsp;=&nbsp;{'value': 1.0},</div></div><div class=\"1220\" style=\"display: none;\"><div style=\"display: table-cell;\"></div><div style=\"display: table-cell;\">border_fill_color&nbsp;=&nbsp;{'value': '#ffffff'},</div></div><div class=\"1220\" style=\"display: none;\"><div style=\"display: table-cell;\"></div><div style=\"display: table-cell;\">center&nbsp;=&nbsp;[Grid(id='1122', ...), Grid(id='1127', ...)],</div></div><div class=\"1220\" style=\"display: none;\"><div style=\"display: table-cell;\"></div><div style=\"display: table-cell;\">css_classes&nbsp;=&nbsp;[],</div></div><div class=\"1220\" style=\"display: none;\"><div style=\"display: table-cell;\"></div><div style=\"display: table-cell;\">disabled&nbsp;=&nbsp;False,</div></div><div class=\"1220\" style=\"display: none;\"><div style=\"display: table-cell;\"></div><div style=\"display: table-cell;\">extra_x_ranges&nbsp;=&nbsp;{},</div></div><div class=\"1220\" style=\"display: none;\"><div style=\"display: table-cell;\"></div><div style=\"display: table-cell;\">extra_y_ranges&nbsp;=&nbsp;{},</div></div><div class=\"1220\" style=\"display: none;\"><div style=\"display: table-cell;\"></div><div style=\"display: table-cell;\">frame_height&nbsp;=&nbsp;None,</div></div><div class=\"1220\" style=\"display: none;\"><div style=\"display: table-cell;\"></div><div style=\"display: table-cell;\">frame_width&nbsp;=&nbsp;None,</div></div><div class=\"1220\" style=\"display: none;\"><div style=\"display: table-cell;\"></div><div style=\"display: table-cell;\">height&nbsp;=&nbsp;None,</div></div><div class=\"1220\" style=\"display: none;\"><div style=\"display: table-cell;\"></div><div style=\"display: table-cell;\">height_policy&nbsp;=&nbsp;'auto',</div></div><div class=\"1220\" style=\"display: none;\"><div style=\"display: table-cell;\"></div><div style=\"display: table-cell;\">hidpi&nbsp;=&nbsp;True,</div></div><div class=\"1220\" style=\"display: none;\"><div style=\"display: table-cell;\"></div><div style=\"display: table-cell;\">js_event_callbacks&nbsp;=&nbsp;{},</div></div><div class=\"1220\" style=\"display: none;\"><div style=\"display: table-cell;\"></div><div style=\"display: table-cell;\">js_property_callbacks&nbsp;=&nbsp;{},</div></div><div class=\"1220\" style=\"display: none;\"><div style=\"display: table-cell;\"></div><div style=\"display: table-cell;\">left&nbsp;=&nbsp;[LinearAxis(id='1123', ...)],</div></div><div class=\"1220\" style=\"display: none;\"><div style=\"display: table-cell;\"></div><div style=\"display: table-cell;\">lod_factor&nbsp;=&nbsp;10,</div></div><div class=\"1220\" style=\"display: none;\"><div style=\"display: table-cell;\"></div><div style=\"display: table-cell;\">lod_interval&nbsp;=&nbsp;300,</div></div><div class=\"1220\" style=\"display: none;\"><div style=\"display: table-cell;\"></div><div style=\"display: table-cell;\">lod_threshold&nbsp;=&nbsp;2000,</div></div><div class=\"1220\" style=\"display: none;\"><div style=\"display: table-cell;\"></div><div style=\"display: table-cell;\">lod_timeout&nbsp;=&nbsp;500,</div></div><div class=\"1220\" style=\"display: none;\"><div style=\"display: table-cell;\"></div><div style=\"display: table-cell;\">margin&nbsp;=&nbsp;(0, 0, 0, 0),</div></div><div class=\"1220\" style=\"display: none;\"><div style=\"display: table-cell;\"></div><div style=\"display: table-cell;\">match_aspect&nbsp;=&nbsp;False,</div></div><div class=\"1220\" style=\"display: none;\"><div style=\"display: table-cell;\"></div><div style=\"display: table-cell;\">max_height&nbsp;=&nbsp;None,</div></div><div class=\"1220\" style=\"display: none;\"><div style=\"display: table-cell;\"></div><div style=\"display: table-cell;\">max_width&nbsp;=&nbsp;None,</div></div><div class=\"1220\" style=\"display: none;\"><div style=\"display: table-cell;\"></div><div style=\"display: table-cell;\">min_border&nbsp;=&nbsp;5,</div></div><div class=\"1220\" style=\"display: none;\"><div style=\"display: table-cell;\"></div><div style=\"display: table-cell;\">min_border_bottom&nbsp;=&nbsp;None,</div></div><div class=\"1220\" style=\"display: none;\"><div style=\"display: table-cell;\"></div><div style=\"display: table-cell;\">min_border_left&nbsp;=&nbsp;None,</div></div><div class=\"1220\" style=\"display: none;\"><div style=\"display: table-cell;\"></div><div style=\"display: table-cell;\">min_border_right&nbsp;=&nbsp;None,</div></div><div class=\"1220\" style=\"display: none;\"><div style=\"display: table-cell;\"></div><div style=\"display: table-cell;\">min_border_top&nbsp;=&nbsp;None,</div></div><div class=\"1220\" style=\"display: none;\"><div style=\"display: table-cell;\"></div><div style=\"display: table-cell;\">min_height&nbsp;=&nbsp;None,</div></div><div class=\"1220\" style=\"display: none;\"><div style=\"display: table-cell;\"></div><div style=\"display: table-cell;\">min_width&nbsp;=&nbsp;None,</div></div><div class=\"1220\" style=\"display: none;\"><div style=\"display: table-cell;\"></div><div style=\"display: table-cell;\">name&nbsp;=&nbsp;None,</div></div><div class=\"1220\" style=\"display: none;\"><div style=\"display: table-cell;\"></div><div style=\"display: table-cell;\">outline_line_alpha&nbsp;=&nbsp;{'value': 1.0},</div></div><div class=\"1220\" style=\"display: none;\"><div style=\"display: table-cell;\"></div><div style=\"display: table-cell;\">outline_line_cap&nbsp;=&nbsp;'butt',</div></div><div class=\"1220\" style=\"display: none;\"><div style=\"display: table-cell;\"></div><div style=\"display: table-cell;\">outline_line_color&nbsp;=&nbsp;{'value': '#e5e5e5'},</div></div><div class=\"1220\" style=\"display: none;\"><div style=\"display: table-cell;\"></div><div style=\"display: table-cell;\">outline_line_dash&nbsp;=&nbsp;[],</div></div><div class=\"1220\" style=\"display: none;\"><div style=\"display: table-cell;\"></div><div style=\"display: table-cell;\">outline_line_dash_offset&nbsp;=&nbsp;0,</div></div><div class=\"1220\" style=\"display: none;\"><div style=\"display: table-cell;\"></div><div style=\"display: table-cell;\">outline_line_join&nbsp;=&nbsp;'bevel',</div></div><div class=\"1220\" style=\"display: none;\"><div style=\"display: table-cell;\"></div><div style=\"display: table-cell;\">outline_line_width&nbsp;=&nbsp;{'value': 1},</div></div><div class=\"1220\" style=\"display: none;\"><div style=\"display: table-cell;\"></div><div style=\"display: table-cell;\">output_backend&nbsp;=&nbsp;'canvas',</div></div><div class=\"1220\" style=\"display: none;\"><div style=\"display: table-cell;\"></div><div style=\"display: table-cell;\">plot_height&nbsp;=&nbsp;400,</div></div><div class=\"1220\" style=\"display: none;\"><div style=\"display: table-cell;\"></div><div style=\"display: table-cell;\">plot_width&nbsp;=&nbsp;600,</div></div><div class=\"1220\" style=\"display: none;\"><div style=\"display: table-cell;\"></div><div style=\"display: table-cell;\">renderers&nbsp;=&nbsp;[GlyphRenderer(id='1144', ...)],</div></div><div class=\"1220\" style=\"display: none;\"><div style=\"display: table-cell;\"></div><div style=\"display: table-cell;\">reset_policy&nbsp;=&nbsp;'standard',</div></div><div class=\"1220\" style=\"display: none;\"><div style=\"display: table-cell;\"></div><div style=\"display: table-cell;\">right&nbsp;=&nbsp;[],</div></div><div class=\"1220\" style=\"display: none;\"><div style=\"display: table-cell;\"></div><div style=\"display: table-cell;\">sizing_mode&nbsp;=&nbsp;None,</div></div><div class=\"1220\" style=\"display: none;\"><div style=\"display: table-cell;\"></div><div style=\"display: table-cell;\">subscribed_events&nbsp;=&nbsp;[],</div></div><div class=\"1220\" style=\"display: none;\"><div style=\"display: table-cell;\"></div><div style=\"display: table-cell;\">tags&nbsp;=&nbsp;[],</div></div><div class=\"1220\" style=\"display: none;\"><div style=\"display: table-cell;\"></div><div style=\"display: table-cell;\">title&nbsp;=&nbsp;Title(id='1158', ...),</div></div><div class=\"1220\" style=\"display: none;\"><div style=\"display: table-cell;\"></div><div style=\"display: table-cell;\">title_location&nbsp;=&nbsp;'above',</div></div><div class=\"1220\" style=\"display: none;\"><div style=\"display: table-cell;\"></div><div style=\"display: table-cell;\">toolbar&nbsp;=&nbsp;Toolbar(id='1134', ...),</div></div><div class=\"1220\" style=\"display: none;\"><div style=\"display: table-cell;\"></div><div style=\"display: table-cell;\">toolbar_location&nbsp;=&nbsp;'right',</div></div><div class=\"1220\" style=\"display: none;\"><div style=\"display: table-cell;\"></div><div style=\"display: table-cell;\">toolbar_sticky&nbsp;=&nbsp;True,</div></div><div class=\"1220\" style=\"display: none;\"><div style=\"display: table-cell;\"></div><div style=\"display: table-cell;\">visible&nbsp;=&nbsp;True,</div></div><div class=\"1220\" style=\"display: none;\"><div style=\"display: table-cell;\"></div><div style=\"display: table-cell;\">width&nbsp;=&nbsp;None,</div></div><div class=\"1220\" style=\"display: none;\"><div style=\"display: table-cell;\"></div><div style=\"display: table-cell;\">width_policy&nbsp;=&nbsp;'auto',</div></div><div class=\"1220\" style=\"display: none;\"><div style=\"display: table-cell;\"></div><div style=\"display: table-cell;\">x_range&nbsp;=&nbsp;DataRange1d(id='1110', ...),</div></div><div class=\"1220\" style=\"display: none;\"><div style=\"display: table-cell;\"></div><div style=\"display: table-cell;\">x_scale&nbsp;=&nbsp;LinearScale(id='1114', ...),</div></div><div class=\"1220\" style=\"display: none;\"><div style=\"display: table-cell;\"></div><div style=\"display: table-cell;\">y_range&nbsp;=&nbsp;DataRange1d(id='1112', ...),</div></div><div class=\"1220\" style=\"display: none;\"><div style=\"display: table-cell;\"></div><div style=\"display: table-cell;\">y_scale&nbsp;=&nbsp;LinearScale(id='1116', ...))</div></div></div>\n",
              "<script>\n",
              "(function() {\n",
              "  var expanded = false;\n",
              "  var ellipsis = document.getElementById(\"1221\");\n",
              "  ellipsis.addEventListener(\"click\", function() {\n",
              "    var rows = document.getElementsByClassName(\"1220\");\n",
              "    for (var i = 0; i < rows.length; i++) {\n",
              "      var el = rows[i];\n",
              "      el.style.display = expanded ? \"none\" : \"table-row\";\n",
              "    }\n",
              "    ellipsis.innerHTML = expanded ? \"&hellip;)\" : \"&lsaquo;&lsaquo;&lsaquo;\";\n",
              "    expanded = !expanded;\n",
              "  });\n",
              "})();\n",
              "</script>\n"
            ],
            "text/plain": [
              "Figure(id='1109', ...)"
            ]
          },
          "metadata": {
            "tags": []
          },
          "execution_count": 27
        }
      ]
    },
    {
      "cell_type": "markdown",
      "metadata": {
        "id": "D40Hlt0hwTYA",
        "colab_type": "text"
      },
      "source": [
        "## 3. POS tagging task"
      ]
    },
    {
      "cell_type": "markdown",
      "metadata": {
        "id": "yUmWMAxmwTYB",
        "colab_type": "text"
      },
      "source": [
        "The embeddings by themselves are nice to have, but the main objective of course is to solve a particular (NLP) task. Further, so far we have trained our own embedding from a given corpus, but often it is beneficial to use existing word embeddings.\n",
        "\n",
        "Now, let's use embeddings to train a simple Part of Speech (PoS) tagging model, using pretrained word embeddings. We shall use [50d glove word vectors](https://nlp.stanford.edu/projects/glove/) for the rest of this section."
      ]
    },
    {
      "cell_type": "markdown",
      "metadata": {
        "id": "COSLumFowTYC",
        "colab_type": "text"
      },
      "source": [
        "Before jumping into our neural POS tagger, it is better to set up a baseline to give us an intuition how the neural model performs compared to other models. The baseline model is the [Conditional-Random-Field (CRF)](https://en.wikipedia.org/wiki/Conditional_random_field, also discussed in lecture `NLP_03_PoS_tagging_and_NER_20201`) which is a discriminative sequence labelling model. The evaluation is done on a 10\\% sample of the Penn Treebank (which is offered through NLTK)."
      ]
    },
    {
      "cell_type": "markdown",
      "metadata": {
        "id": "2xUwoCtVwTYD",
        "colab_type": "text"
      },
      "source": [
        "Download data from `nltk` repository and split it into test (20%) and training (80%) sets:"
      ]
    },
    {
      "cell_type": "code",
      "metadata": {
        "pycharm": {
          "is_executing": true
        },
        "id": "Ft6Yl1X6wTYD",
        "colab_type": "code",
        "outputId": "097aaa97-689a-4ea6-9e44-194a97fb53c1",
        "colab": {
          "base_uri": "https://localhost:8080/",
          "height": 175
        }
      },
      "source": [
        "import nltk\n",
        "from nltk.corpus import stopwords\n",
        "nltk.download('stopwords')\n",
        "stopwords = set(stopwords.words('english'))\n",
        "\n",
        "# download necessary packages from nltk\n",
        "nltk.download('treebank')\n",
        "nltk.download('universal_tagset')\n",
        "\n",
        "tagged_sentence = nltk.corpus.treebank.tagged_sents(tagset='universal')\n",
        "print(\"Number of Tagged Sentences \", len(tagged_sentence))\n",
        "print(tagged_sentence[0])"
      ],
      "execution_count": 28,
      "outputs": [
        {
          "output_type": "stream",
          "text": [
            "[nltk_data] Downloading package stopwords to /root/nltk_data...\n",
            "[nltk_data]   Unzipping corpora/stopwords.zip.\n",
            "[nltk_data] Downloading package treebank to /root/nltk_data...\n",
            "[nltk_data]   Unzipping corpora/treebank.zip.\n",
            "[nltk_data] Downloading package universal_tagset to /root/nltk_data...\n",
            "[nltk_data]   Unzipping taggers/universal_tagset.zip.\n",
            "Number of Tagged Sentences  3914\n",
            "[('Pierre', 'NOUN'), ('Vinken', 'NOUN'), (',', '.'), ('61', 'NUM'), ('years', 'NOUN'), ('old', 'ADJ'), (',', '.'), ('will', 'VERB'), ('join', 'VERB'), ('the', 'DET'), ('board', 'NOUN'), ('as', 'ADP'), ('a', 'DET'), ('nonexecutive', 'ADJ'), ('director', 'NOUN'), ('Nov.', 'NOUN'), ('29', 'NUM'), ('.', '.')]\n"
          ],
          "name": "stdout"
        }
      ]
    },
    {
      "cell_type": "code",
      "metadata": {
        "pycharm": {
          "is_executing": true
        },
        "id": "UwkwLEKewTYI",
        "colab_type": "code",
        "outputId": "1c9003b9-4e94-44cf-c342-187d08c0fa70",
        "colab": {
          "base_uri": "https://localhost:8080/",
          "height": 51
        }
      },
      "source": [
        "from sklearn.model_selection import train_test_split\n",
        "\n",
        "train, test = train_test_split(tagged_sentence, test_size=0.20, random_state=42)\n",
        "\n",
        "print(\"Train size: {}\".format(len(train)))\n",
        "print(\"Test size: {}\".format(len(test)))"
      ],
      "execution_count": 29,
      "outputs": [
        {
          "output_type": "stream",
          "text": [
            "Train size: 3131\n",
            "Test size: 783\n"
          ],
          "name": "stdout"
        }
      ]
    },
    {
      "cell_type": "markdown",
      "metadata": {
        "id": "X4zgbDquwTYO",
        "colab_type": "text"
      },
      "source": [
        "### Setup a baseline"
      ]
    },
    {
      "cell_type": "code",
      "metadata": {
        "pycharm": {
          "is_executing": true
        },
        "id": "JXPwcUfQwTYP",
        "colab_type": "code",
        "colab": {}
      },
      "source": [
        "def features(sentence, index):\n",
        "    \"\"\"\n",
        "    Return hand designed features for a given word\n",
        "    :argument:\n",
        "        sentence: tokenized sentence [w1, w2, ...] \n",
        "        index: index of the word    \n",
        "    :return:\n",
        "        a feature set for given word\n",
        "    \"\"\"\n",
        "\n",
        "    return {\n",
        "        'word': sentence[index],\n",
        "        'is_first': index == 0,\n",
        "        'is_last': index == len(sentence) - 1,\n",
        "        'is_capitalized': sentence[index][0].upper() == sentence[index][0],\n",
        "        'prev_word': '' if index == 0 else sentence[index - 1],\n",
        "        'next_word': '' if index == len(sentence) - 1 else sentence[index + 1],\n",
        "        ############### for student ################\n",
        "        'length': len(sentence[index]),\n",
        "        # 'sentence_length':len(sentence),\n",
        "        # 'index': index,\n",
        "        'is_number': sentence[index].isdigit(),\n",
        "        # 'is_stopword': sentence[index] in stopwords,\n",
        "        # 'prev_prev_word': '' if index <= 1 else sentence[index - 2],\n",
        "        ############################################\n",
        "    }"
      ],
      "execution_count": 0,
      "outputs": []
    },
    {
      "cell_type": "markdown",
      "metadata": {
        "id": "LrsI4fEPwTYT",
        "colab_type": "text"
      },
      "source": [
        "### Question-2\n",
        "\n",
        "- Suggest about 6 more features that you could improve the above feature-set and add them to the code above. After running the model with these features: which features worked best, and how much did your new features help in improving the model?   \n",
        "\n",
        "**<font color=blue>results:</font>**\n",
        "\n",
        "* none: 93.76 %\n",
        "* length: 93.92 %\n",
        "* sentense_length: 93.41 %\n",
        "* index: 93.69 %\n",
        "* is_number: 94.09 %\n",
        "* is_stopword: 93.66 %\n",
        "* prev_prev_word: 93.77 %\n",
        "* all: 93.98 %\n",
        "* is_number and length: 94.17 %\n",
        "\n",
        "**<font color=blue>\n",
        "The new features do not have a big influence on the accuracy of the model.\n",
        "sentence_length, index, and is_stopword even makes the model perform worse.\n",
        "The best features are is_number and length.\n",
        "Using those together results in the best model.\n",
        "</font>**"
      ]
    },
    {
      "cell_type": "code",
      "metadata": {
        "pycharm": {
          "is_executing": true
        },
        "id": "aeWYjEWJwTYU",
        "colab_type": "code",
        "colab": {}
      },
      "source": [
        "def transform2feature_label(tagged_sentence):\n",
        "    X, y = [], []\n",
        " \n",
        "    for tagged in tagged_sentence:\n",
        "        X.append([features([w for w, t in tagged], i) for i in range(len(tagged))])\n",
        "        y.append([tagged[i][1] for i in range(len(tagged))])\n",
        "    \n",
        "    return X,y"
      ],
      "execution_count": 0,
      "outputs": []
    },
    {
      "cell_type": "code",
      "metadata": {
        "pycharm": {
          "is_executing": true
        },
        "id": "aobFjBSowTYX",
        "colab_type": "code",
        "colab": {}
      },
      "source": [
        "X_train, y_train = transform2feature_label(train)\n",
        "X_test, y_test = transform2feature_label(test)"
      ],
      "execution_count": 0,
      "outputs": []
    },
    {
      "cell_type": "code",
      "metadata": {
        "pycharm": {
          "is_executing": true
        },
        "id": "VYewLrQhwTYb",
        "colab_type": "code",
        "outputId": "f961f372-8854-438c-9277-5191fdbc46bf",
        "colab": {
          "base_uri": "https://localhost:8080/",
          "height": 155
        }
      },
      "source": [
        "X_train[0][0]"
      ],
      "execution_count": 33,
      "outputs": [
        {
          "output_type": "execute_result",
          "data": {
            "text/plain": [
              "{'is_capitalized': True,\n",
              " 'is_first': True,\n",
              " 'is_last': False,\n",
              " 'is_number': False,\n",
              " 'length': 6,\n",
              " 'next_word': 'Vinken',\n",
              " 'prev_word': '',\n",
              " 'word': 'Pierre'}"
            ]
          },
          "metadata": {
            "tags": []
          },
          "execution_count": 33
        }
      ]
    },
    {
      "cell_type": "code",
      "metadata": {
        "pycharm": {
          "is_executing": true
        },
        "id": "h-8x-alowTYi",
        "colab_type": "code",
        "outputId": "37698ad2-2ce3-47a5-cf29-81dd06abbc6f",
        "colab": {
          "base_uri": "https://localhost:8080/",
          "height": 209
        }
      },
      "source": [
        "# install crf-classifier\n",
        "!pip install sklearn-crfsuite"
      ],
      "execution_count": 34,
      "outputs": [
        {
          "output_type": "stream",
          "text": [
            "Collecting sklearn-crfsuite\n",
            "  Downloading https://files.pythonhosted.org/packages/25/74/5b7befa513482e6dee1f3dd68171a6c9dfc14c0eaa00f885ffeba54fe9b0/sklearn_crfsuite-0.3.6-py2.py3-none-any.whl\n",
            "Requirement already satisfied: tqdm>=2.0 in /usr/local/lib/python3.6/dist-packages (from sklearn-crfsuite) (4.38.0)\n",
            "Collecting python-crfsuite>=0.8.3\n",
            "\u001b[?25l  Downloading https://files.pythonhosted.org/packages/95/99/869dde6dbf3e0d07a013c8eebfb0a3d30776334e0097f8432b631a9a3a19/python_crfsuite-0.9.7-cp36-cp36m-manylinux1_x86_64.whl (743kB)\n",
            "\u001b[K     |████████████████████████████████| 747kB 6.6MB/s \n",
            "\u001b[?25hRequirement already satisfied: tabulate in /usr/local/lib/python3.6/dist-packages (from sklearn-crfsuite) (0.8.7)\n",
            "Requirement already satisfied: six in /usr/local/lib/python3.6/dist-packages (from sklearn-crfsuite) (1.12.0)\n",
            "Installing collected packages: python-crfsuite, sklearn-crfsuite\n",
            "Successfully installed python-crfsuite-0.9.7 sklearn-crfsuite-0.3.6\n"
          ],
          "name": "stdout"
        }
      ]
    },
    {
      "cell_type": "code",
      "metadata": {
        "pycharm": {
          "is_executing": true
        },
        "id": "Bk-j-84lwTYm",
        "colab_type": "code",
        "outputId": "b602f5b1-68c5-4fdf-ad72-3dfaa2bdbc49",
        "colab": {
          "base_uri": "https://localhost:8080/",
          "height": 34
        }
      },
      "source": [
        "import sklearn_crfsuite\n",
        "\n",
        "# fit crfsuite classifier on train data\n",
        "############### for student ################\n",
        "crf = sklearn_crfsuite.CRF()\n",
        "crf.fit(X_train, y_train)\n",
        "############################################\n",
        "\n",
        "print (\"Accuracy:\", crf.score(X_test, y_test))"
      ],
      "execution_count": 35,
      "outputs": [
        {
          "output_type": "stream",
          "text": [
            "Accuracy: 0.9417003260499295\n"
          ],
          "name": "stdout"
        }
      ]
    },
    {
      "cell_type": "markdown",
      "metadata": {
        "id": "h1v0yilSwTYu",
        "colab_type": "text"
      },
      "source": [
        "### Build neural model "
      ]
    },
    {
      "cell_type": "markdown",
      "metadata": {
        "id": "EKtchclPwTYv",
        "colab_type": "text"
      },
      "source": [
        "Now it's time to build our Neural PoS-tagger. The model we want to play with is a bi-directional LSTM on top of pretrained word embeddings. First, we prepare the embedding part and then go into the model itself:"
      ]
    },
    {
      "cell_type": "code",
      "metadata": {
        "pycharm": {
          "is_executing": true
        },
        "id": "GIpDRhWgwTYw",
        "colab_type": "code",
        "outputId": "e9b28749-5f41-42a2-9fa1-b7319ce3ddad",
        "colab": {
          "base_uri": "https://localhost:8080/",
          "height": 415
        }
      },
      "source": [
        "# download glove 50d\n",
        "!wget \"https://www.dropbox.com/s/lc3yjhmovq7nyp5/glove6b50dtxt.zip?dl=1\" -O glove6b50dtxt.zip\n",
        "!unzip -o glove6b50dtxt.zip\n",
        "!rm glove6b50dtxt.zip"
      ],
      "execution_count": 36,
      "outputs": [
        {
          "output_type": "stream",
          "text": [
            "--2020-04-28 15:00:15--  https://www.dropbox.com/s/lc3yjhmovq7nyp5/glove6b50dtxt.zip?dl=1\n",
            "Resolving www.dropbox.com (www.dropbox.com)... 162.125.1.1, 2620:100:601b:1::a27d:801\n",
            "Connecting to www.dropbox.com (www.dropbox.com)|162.125.1.1|:443... connected.\n",
            "HTTP request sent, awaiting response... 301 Moved Permanently\n",
            "Location: /s/dl/lc3yjhmovq7nyp5/glove6b50dtxt.zip [following]\n",
            "--2020-04-28 15:00:15--  https://www.dropbox.com/s/dl/lc3yjhmovq7nyp5/glove6b50dtxt.zip\n",
            "Reusing existing connection to www.dropbox.com:443.\n",
            "HTTP request sent, awaiting response... 302 Found\n",
            "Location: https://uce8e2bab1bcb0c1e081ebfa5ae5.dl.dropboxusercontent.com/cd/0/get/A2uEQEbAaGLBVmsjN2eYewGO8yQneTKHb4oiOLXfrBVeOFkIzGRzgCSmQIkGqUm3EalRyxAQQkoJyT6IWmOo-hea84X-tugFfYbcO7U__9d8keol9X7nkGDYF87_i2foxfI/file?dl=1# [following]\n",
            "--2020-04-28 15:00:15--  https://uce8e2bab1bcb0c1e081ebfa5ae5.dl.dropboxusercontent.com/cd/0/get/A2uEQEbAaGLBVmsjN2eYewGO8yQneTKHb4oiOLXfrBVeOFkIzGRzgCSmQIkGqUm3EalRyxAQQkoJyT6IWmOo-hea84X-tugFfYbcO7U__9d8keol9X7nkGDYF87_i2foxfI/file?dl=1\n",
            "Resolving uce8e2bab1bcb0c1e081ebfa5ae5.dl.dropboxusercontent.com (uce8e2bab1bcb0c1e081ebfa5ae5.dl.dropboxusercontent.com)... 162.125.8.6, 2620:100:6016:6::a27d:106\n",
            "Connecting to uce8e2bab1bcb0c1e081ebfa5ae5.dl.dropboxusercontent.com (uce8e2bab1bcb0c1e081ebfa5ae5.dl.dropboxusercontent.com)|162.125.8.6|:443... connected.\n",
            "HTTP request sent, awaiting response... 200 OK\n",
            "Length: 70948798 (68M) [application/binary]\n",
            "Saving to: ‘glove6b50dtxt.zip’\n",
            "\n",
            "glove6b50dtxt.zip   100%[===================>]  67.66M  56.3MB/s    in 1.2s    \n",
            "\n",
            "2020-04-28 15:00:17 (56.3 MB/s) - ‘glove6b50dtxt.zip’ saved [70948798/70948798]\n",
            "\n",
            "Archive:  glove6b50dtxt.zip\n",
            "  inflating: glove.6B.50d.txt        \n"
          ],
          "name": "stdout"
        }
      ]
    },
    {
      "cell_type": "code",
      "metadata": {
        "pycharm": {
          "is_executing": true
        },
        "id": "7Ty5ey-ZwTY0",
        "colab_type": "code",
        "colab": {}
      },
      "source": [
        "GLOVE_PATH = 'glove.6B.50d.txt'"
      ],
      "execution_count": 0,
      "outputs": []
    },
    {
      "cell_type": "markdown",
      "metadata": {
        "id": "KgzRHZbgwTY5",
        "colab_type": "text"
      },
      "source": [
        "We build two dictionaries for mapping words and tags to uniqe ids, which we need later on:"
      ]
    },
    {
      "cell_type": "code",
      "metadata": {
        "pycharm": {
          "is_executing": true
        },
        "id": "Lvwv4-0wwTY5",
        "colab_type": "code",
        "outputId": "2264b634-9f67-4507-e5db-41479793553e",
        "colab": {
          "base_uri": "https://localhost:8080/",
          "height": 51
        }
      },
      "source": [
        "word_to_id = {}\n",
        "tag_to_id = {}\n",
        "\n",
        "for sentence in tagged_sentence:\n",
        "    for word, pos_tag in sentence:\n",
        "        if word not in word_to_id.keys():\n",
        "            word_to_id[word] = len(word_to_id)\n",
        "        if pos_tag not in tag_to_id.keys():\n",
        "            tag_to_id[pos_tag] = len(tag_to_id)\n",
        "            \n",
        "word_vocab_size = len(word_to_id)\n",
        "tag_vocab_size = len(tag_to_id)\n",
        "\n",
        "print(\"Unique words: {}\".format(word_vocab_size))\n",
        "print(\"Unique tags: {}\".format(tag_vocab_size))"
      ],
      "execution_count": 38,
      "outputs": [
        {
          "output_type": "stream",
          "text": [
            "Unique words: 12408\n",
            "Unique tags: 12\n"
          ],
          "name": "stdout"
        }
      ]
    },
    {
      "cell_type": "markdown",
      "metadata": {
        "id": "nuM8a6ddwTY_",
        "colab_type": "text"
      },
      "source": [
        "We created a wrapper for the embedding module to encapsulate it from the other parts. This module aims to load word vectors from file and assign the weights into the corresponding embedding.\n",
        "\n",
        "Create an embedding layer (this time use `nn.Embedding`), and assign the pretrained embeddings to its `weight` field. In this exercise, you can continue to finetune the embeddings while training the end task; no need to freeze them: this means the pre-trained embeddings serve as a smart initialization of the embedding layer."
      ]
    },
    {
      "cell_type": "code",
      "metadata": {
        "pycharm": {
          "is_executing": true
        },
        "id": "YsUXHWAJwTZA",
        "colab_type": "code",
        "colab": {}
      },
      "source": [
        "class PretrainedEmbeddings(nn.Module):\n",
        "    def __init__(self, filename, word_to_id, dim_embedding):\n",
        "        super(PretrainedEmbeddings, self).__init__()\n",
        "        \n",
        "        wordvectors = self.load_word_vectors(filename, word_to_id, dim_embedding)\n",
        "        ############### for student ################\n",
        "        self.embed = nn.Embedding(num_embeddings=len(word_to_id), embedding_dim=dim_embedding)\n",
        "        self.embed.weight = nn.Parameter(wordvectors)\n",
        "        ############################################\n",
        "\n",
        "    def forward(self, inputs):\n",
        "        return self.embed(inputs)\n",
        "    \n",
        "    def load_word_vectors(self, filename, word_to_id, dim_embedding):\n",
        "        wordvectors = torch.zeros(len(word_to_id), dim_embedding)\n",
        "        with open(filename, 'r') as file:\n",
        "            for line in file.readlines():\n",
        "                data = line.split(' ')\n",
        "                word = data[0]\n",
        "                vector = data[1:]\n",
        "                if word in word_to_id.keys():\n",
        "                    wordvectors[word_to_id[word],:] = torch.Tensor([float(x) for x in vector])\n",
        "        \n",
        "        return wordvectors"
      ],
      "execution_count": 0,
      "outputs": []
    },
    {
      "cell_type": "code",
      "metadata": {
        "pycharm": {
          "is_executing": true
        },
        "id": "XsqQJY-YwTZF",
        "colab_type": "code",
        "outputId": "088293ee-30c7-4313-b4b1-e1d70ea717c1",
        "colab": {
          "base_uri": "https://localhost:8080/",
          "height": 34
        }
      },
      "source": [
        "## evaluation\n",
        "## DON'T CHANGE THIS CELL IN ANY WAY\n",
        "\n",
        "dummy_model = PretrainedEmbeddings(GLOVE_PATH, word_to_id, 50)\n",
        "dummy_inps = torch.tensor([0, 4, 3, 5, 9], dtype=torch.long)\n",
        "\n",
        "assert dummy_model.embed.weight.shape == torch.Size([word_vocab_size, 50]), \"embedding shape is not correct\"\n",
        "assert dummy_model(dummy_inps).shape == torch.Size([5, 50]), \"word embedding shape is not correct\"\n",
        "assert np.allclose(dummy_model.embed.weight.detach().numpy()[0], [0] * 50), \"Load weights from glove?\"\n",
        "assert np.allclose(dummy_model.embed.weight.detach().numpy()[714], [0] * 50), \"Are you sure you load from glove correctly?\"\n",
        "\n",
        "print('Well done')"
      ],
      "execution_count": 40,
      "outputs": [
        {
          "output_type": "stream",
          "text": [
            "Well done\n"
          ],
          "name": "stdout"
        }
      ]
    },
    {
      "cell_type": "markdown",
      "metadata": {
        "id": "Yi0UvnivwTZI",
        "colab_type": "text"
      },
      "source": [
        "Let’s now define the model. Here’s what we need:\n",
        "\n",
        "- We’ll need an embedding layer that computes a word vector for each word in a given sentence\n",
        "- We’ll need a bidirectional-LSTM layer to incorporate context from both directions  (reshape the embedding since `nn.LSTM` needs 3-dimensional inputs)\n",
        "- After the LSTM Layer we need a Linear layer that picks the appropriate POS tag (note that this layer is applied to each element of the sequence).\n",
        "- Apply the LogSoftmax to calculate the log probabilities from the resulting scores.\n",
        "\n",
        "Complete the forward path of the POSTagger model: "
      ]
    },
    {
      "cell_type": "code",
      "metadata": {
        "pycharm": {
          "is_executing": true
        },
        "id": "SV84f5ECwTZJ",
        "colab_type": "code",
        "colab": {}
      },
      "source": [
        "class POSTagger(nn.Module):\n",
        "    def __init__(self, embedding_dim, hidden_dim, word_to_id, tag_to_id, embedding_file_path):\n",
        "        super(POSTagger, self).__init__()\n",
        "        \n",
        "        self.embed = PretrainedEmbeddings(embedding_file_path, word_to_id, embedding_dim)\n",
        "        self.lstm = nn.LSTM(embedding_dim, hidden_dim, bidirectional=True)\n",
        "        self.hidden2tag = nn.Linear(hidden_dim * 2, len(tag_to_id))\n",
        "        self.logsoftmax = nn.LogSoftmax()\n",
        "        \n",
        "    def forward(self, sentence):\n",
        "        ############### for student ################\n",
        "        embeddings = self.embed(sentence)\n",
        "        hidden, _ = self.lstm(embeddings.unsqueeze(1))\n",
        "        tag = self.hidden2tag(hidden).squeeze(1)\n",
        "        tag_scores = self.logsoftmax(tag)\n",
        "        ############################################\n",
        "        return tag_scores"
      ],
      "execution_count": 0,
      "outputs": []
    },
    {
      "cell_type": "code",
      "metadata": {
        "pycharm": {
          "is_executing": true
        },
        "id": "K7loUbh1wTZO",
        "colab_type": "code",
        "outputId": "80fb8ad1-d8f6-474d-b520-a23b5a601e6e",
        "colab": {
          "base_uri": "https://localhost:8080/",
          "height": 89
        }
      },
      "source": [
        "## evaluation\n",
        "## DON'T CHANGE THIS CELL IN ANY WAY\n",
        "\n",
        "dummy_model = POSTagger(50, 50, word_to_id, tag_to_id, GLOVE_PATH)\n",
        "dummy_inps = torch.tensor([0, 4, 3, 5, 9], dtype=torch.long)\n",
        "\n",
        "assert dummy_model(dummy_inps).grad_fn.__class__.__name__ == 'LogSoftmaxBackward', \"softmax layer?\"\n",
        "assert dummy_model(dummy_inps).shape == torch.Size([5, len(tag_to_id)]), \"The output has wrong shape! Probably you need some reshaping!\"\n",
        "\n",
        "print(\"Well done!\")"
      ],
      "execution_count": 42,
      "outputs": [
        {
          "output_type": "stream",
          "text": [
            "Well done!\n"
          ],
          "name": "stdout"
        },
        {
          "output_type": "stream",
          "text": [
            "/usr/local/lib/python3.6/dist-packages/ipykernel_launcher.py:15: UserWarning: Implicit dimension choice for log_softmax has been deprecated. Change the call to include dim=X as an argument.\n",
            "  from ipykernel import kernelapp as app\n"
          ],
          "name": "stderr"
        }
      ]
    },
    {
      "cell_type": "markdown",
      "metadata": {
        "id": "yhRJK5gMwTZS",
        "colab_type": "text"
      },
      "source": [
        "Perfect! Now train your model:"
      ]
    },
    {
      "cell_type": "code",
      "metadata": {
        "pycharm": {
          "is_executing": true
        },
        "id": "lkKHUi_rwTZS",
        "colab_type": "code",
        "outputId": "dddeac8c-74cf-4184-f0e6-c169e181e807",
        "colab": {
          "base_uri": "https://localhost:8080/",
          "height": 175
        }
      },
      "source": [
        "# Training start\n",
        "model = POSTagger(50, 64, word_to_id, tag_to_id, GLOVE_PATH)\n",
        "model = model.to(device)\n",
        "criterion = nn.NLLLoss()\n",
        "optimizer = optim.AdamW(model.parameters())\n",
        "\n",
        "accuracy_list = []\n",
        "loss_list = []\n",
        "\n",
        "interval = round(len(train) / 100.)\n",
        "EPOCHS = 6\n",
        "e_interval = round(EPOCHS / 10.)\n",
        "\n",
        "for e in range(EPOCHS):\n",
        "    acc = 0 \n",
        "    loss = 0\n",
        "    \n",
        "    model.train()\n",
        "    \n",
        "    for i, sentence_tag in enumerate(train):\n",
        "        \n",
        "        sentence = [word_to_id[s[0]] for s in sentence_tag]\n",
        "        sentence = torch.tensor(sentence, dtype=torch.long)\n",
        "        sentence = sentence.to(device)\n",
        "        targets = [tag_to_id[s[1]] for s in sentence_tag]\n",
        "        targets = torch.tensor(targets, dtype=torch.long)\n",
        "        targets = targets.to(device)\n",
        "        \n",
        "        model.zero_grad()\n",
        "        \n",
        "        tag_scores = model(sentence)\n",
        "        \n",
        "        loss = criterion(tag_scores, targets)\n",
        "        \n",
        "        loss.backward()\n",
        "        \n",
        "        optimizer.step()\n",
        "        \n",
        "        loss += loss.item()\n",
        "        \n",
        "        _, indices = torch.max(tag_scores, 1)\n",
        "\n",
        "        acc += torch.mean((targets == indices).float())\n",
        "        \n",
        "        if i % interval == 0:\n",
        "            print(\"Epoch {} Running;\\t{}% Complete\".format(e + 1, i / interval), end = \"\\r\", flush = True)\n",
        "    \n",
        "    loss = loss / len(train)\n",
        "    acc = acc / len(train)\n",
        "    loss_list.append(float(loss))\n",
        "    accuracy_list.append(float(acc))\n",
        "    \n",
        "    if (e + 1) % e_interval == 0:\n",
        "        print(\"Epoch {} Completed,\\tLoss {}\\tAccuracy: {}\".format(e + 1, np.mean(loss_list[-e_interval:]), np.mean(accuracy_list[-e_interval:])))"
      ],
      "execution_count": 43,
      "outputs": [
        {
          "output_type": "stream",
          "text": [
            ""
          ],
          "name": "stdout"
        },
        {
          "output_type": "stream",
          "text": [
            "/usr/local/lib/python3.6/dist-packages/ipykernel_launcher.py:15: UserWarning: Implicit dimension choice for log_softmax has been deprecated. Change the call to include dim=X as an argument.\n",
            "  from ipykernel import kernelapp as app\n"
          ],
          "name": "stderr"
        },
        {
          "output_type": "stream",
          "text": [
            "Epoch 1 Completed,\tLoss 3.27258967445232e-05\tAccuracy: 0.8677334785461426\n",
            "Epoch 2 Completed,\tLoss 1.4633681530540343e-05\tAccuracy: 0.9653012156486511\n",
            "Epoch 3 Completed,\tLoss 1.3041941201663576e-05\tAccuracy: 0.9827902913093567\n",
            "Epoch 4 Completed,\tLoss 1.2006984434265178e-05\tAccuracy: 0.9901929497718811\n",
            "Epoch 5 Completed,\tLoss 4.038249244331382e-06\tAccuracy: 0.994438648223877\n",
            "Epoch 6 Completed,\tLoss 3.2298216865456197e-06\tAccuracy: 0.996758222579956\n"
          ],
          "name": "stdout"
        }
      ]
    },
    {
      "cell_type": "markdown",
      "metadata": {
        "id": "SAAhKtAzwTZZ",
        "colab_type": "text"
      },
      "source": [
        "So far, so good! It's time to test our classifier. Complete the evaluation part. Compute accuracy on the test data:"
      ]
    },
    {
      "cell_type": "code",
      "metadata": {
        "pycharm": {
          "is_executing": true
        },
        "id": "nFL637iqwTZa",
        "colab_type": "code",
        "colab": {}
      },
      "source": [
        "def evaluate(model, data):\n",
        "\n",
        "    model.eval()\n",
        "    \n",
        "    acc = 0.0\n",
        "    \n",
        "    # calculate accuracy based on predictions\n",
        "    ############### for student ################\n",
        "    for i, sentence_tag in enumerate(data):\n",
        "        sentence = [word_to_id[s[0]] for s in sentence_tag]\n",
        "        sentence = torch.LongTensor(sentence).to(device)\n",
        "        targets = [tag_to_id[s[1]] for s in sentence_tag]\n",
        "        targets = torch.LongTensor(targets).to(device)\n",
        "\n",
        "        tag_scores = model(sentence)\n",
        "        _, indices = torch.max(tag_scores, 1)\n",
        "        acc += torch.mean((targets == indices).float())\n",
        "    \n",
        "    score = acc.item() / len(data)\n",
        "    ############################################   \n",
        "    return score"
      ],
      "execution_count": 0,
      "outputs": []
    },
    {
      "cell_type": "code",
      "metadata": {
        "pycharm": {
          "is_executing": true
        },
        "id": "1-KaBBllwTZd",
        "colab_type": "code",
        "outputId": "5776638e-9d26-47a7-afac-c1f19b10d98f",
        "colab": {
          "base_uri": "https://localhost:8080/",
          "height": 306
        }
      },
      "source": [
        "score = evaluate(model, test)\n",
        "print(\"Accuracy:\", score)\n",
        "\n",
        "assert score > 0.96, \"accuracy should be above 96%\"\n",
        "assert score < 1.00, \"accuracy should be less than 100!%\"\n",
        "\n",
        "print('Well done!')"
      ],
      "execution_count": 47,
      "outputs": [
        {
          "output_type": "stream",
          "text": [
            "/usr/local/lib/python3.6/dist-packages/ipykernel_launcher.py:15: UserWarning: Implicit dimension choice for log_softmax has been deprecated. Change the call to include dim=X as an argument.\n",
            "  from ipykernel import kernelapp as app\n"
          ],
          "name": "stderr"
        },
        {
          "output_type": "stream",
          "text": [
            "Accuracy: 0.9592359209121568\n"
          ],
          "name": "stdout"
        },
        {
          "output_type": "error",
          "ename": "AssertionError",
          "evalue": "ignored",
          "traceback": [
            "\u001b[0;31m---------------------------------------------------------------------------\u001b[0m",
            "\u001b[0;31mAssertionError\u001b[0m                            Traceback (most recent call last)",
            "\u001b[0;32m<ipython-input-47-8c593e1c810a>\u001b[0m in \u001b[0;36m<module>\u001b[0;34m()\u001b[0m\n\u001b[1;32m      2\u001b[0m \u001b[0mprint\u001b[0m\u001b[0;34m(\u001b[0m\u001b[0;34m\"Accuracy:\"\u001b[0m\u001b[0;34m,\u001b[0m \u001b[0mscore\u001b[0m\u001b[0;34m)\u001b[0m\u001b[0;34m\u001b[0m\u001b[0;34m\u001b[0m\u001b[0m\n\u001b[1;32m      3\u001b[0m \u001b[0;34m\u001b[0m\u001b[0m\n\u001b[0;32m----> 4\u001b[0;31m \u001b[0;32massert\u001b[0m \u001b[0mscore\u001b[0m \u001b[0;34m>\u001b[0m \u001b[0;36m0.96\u001b[0m\u001b[0;34m,\u001b[0m \u001b[0;34m\"accuracy should be above 96%\"\u001b[0m\u001b[0;34m\u001b[0m\u001b[0;34m\u001b[0m\u001b[0m\n\u001b[0m\u001b[1;32m      5\u001b[0m \u001b[0;32massert\u001b[0m \u001b[0mscore\u001b[0m \u001b[0;34m<\u001b[0m \u001b[0;36m1.00\u001b[0m\u001b[0;34m,\u001b[0m \u001b[0;34m\"accuracy should be less than 100!%\"\u001b[0m\u001b[0;34m\u001b[0m\u001b[0;34m\u001b[0m\u001b[0m\n\u001b[1;32m      6\u001b[0m \u001b[0;34m\u001b[0m\u001b[0m\n",
            "\u001b[0;31mAssertionError\u001b[0m: accuracy should be above 96%"
          ]
        }
      ]
    },
    {
      "cell_type": "markdown",
      "metadata": {
        "id": "-bIv9nawwTZg",
        "colab_type": "text"
      },
      "source": [
        "### Question-3\n",
        "\n",
        "- Whether or not to fine-tune the pre-trained embeddings, the number of epochs you need (whether or not to use 'early stopping'), to apply regularization... are hyperparameters that should be properly tuned on a validation set. We did not do this here. It is therefore hard to make strong claims about the model at this point. However, as a quick test, please train the POS model with the same settings, but with a standard randomly initialized embedding layer instead of the pretrained embeddings. What do you observe compared to the CRF baseline / compared to the GloVe initialization? (Note: for your final code in `POSTagger`, please make sure it again loads the pretrained embeddings).\n",
        "\n",
        "**<font color=blue>Results:</font>**\n",
        "\n",
        "* CRF baseline: 94.17 %\n",
        "* POSTagger random: 91.05 %\n",
        "* POSTagger GloVe: 95.68 %\n",
        "\n",
        "**<font color=blue>Without the pre-trained GloVe embeddings, the model clearly performs worse than with pre-trained weights. The model with pre-trained GloVe embeddings performs better than the CRF baseline. After tuning some hyperparameters, it should be possible to outperform CRF.</font>**"
      ]
    },
    {
      "cell_type": "markdown",
      "metadata": {
        "id": "n7dNphpWwTZg",
        "colab_type": "text"
      },
      "source": [
        "### Acknowledgment\n",
        "\n",
        "If you received help or feedback from fellow students, please acknowledge that here. We count on your academic honesty:\n",
        "\n",
        "I did not receive any help from fellow students, besides Jarne Verhaeghe, who found a small bug in reshaping the inputs of the LSTM.\n",
        "This is explained into more detail on the forum on Ufora."
      ]
    }
  ]
}